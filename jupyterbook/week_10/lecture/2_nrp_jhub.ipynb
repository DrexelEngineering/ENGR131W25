{
 "cells": [
  {
   "cell_type": "markdown",
   "metadata": {},
   "source": [
    "# National Research Platform (NRP) - JupyterHub\n",
    "\n",
    "The National Research Platform (NRP) is a cloud-based platform that provides a secure and scalable environment for research computing. It offers a JupyterHub service that allows users to create and manage Jupyter notebooks, which are interactive computing environments that support many programming languages.\n",
    "\n",
    "It is a federation of university research computing resources, and is operated primarily by the University of California, San Diego.\n",
    "\n",
    "## Accessing NRP\n",
    "\n",
    "To access NRP, you can use the following URL:\n",
    "\n",
    "[NRP JupyterHub](https://jupyterhub-west.nrp-nautilus.io/)"
   ]
  },
  {
   "cell_type": "markdown",
   "metadata": {},
   "source": [
    "## Login\n",
    "\n",
    "To login to NRP you need to use your Drexel account."
   ]
  },
  {
   "cell_type": "markdown",
   "metadata": {
    "vscode": {
     "languageId": "plaintext"
    }
   },
   "source": [
    "![](./assets/figures/nrp-1.png)"
   ]
  },
  {
   "cell_type": "markdown",
   "metadata": {},
   "source": [
    "![](./assets/figures/nrp-2.png)"
   ]
  },
  {
   "cell_type": "markdown",
   "metadata": {},
   "source": [
    "You will need to continue with your Drexel login. "
   ]
  },
  {
   "cell_type": "code",
   "execution_count": null,
   "metadata": {
    "vscode": {
     "languageId": "plaintext"
    }
   },
   "outputs": [],
   "source": [
    "## Selecting your resources\n",
    "\n",
    "NRP gives you fine grained control over access"
   ]
  },
  {
   "cell_type": "markdown",
   "metadata": {},
   "source": [
    "![](./assets/figures/nrp-3.png)"
   ]
  },
  {
   "cell_type": "markdown",
   "metadata": {},
   "source": [
    "## Accessing JupyterHub\n",
    "\n",
    "![](./assets/figures/nrp-4.png)"
   ]
  },
  {
   "cell_type": "markdown",
   "metadata": {},
   "source": [
    "## Your JupyterHub\n",
    "\n",
    "![](./assets/figures/nrp-5.png)\n"
   ]
  },
  {
   "cell_type": "markdown",
   "metadata": {},
   "source": []
  }
 ],
 "metadata": {
  "language_info": {
   "name": "python"
  }
 },
 "nbformat": 4,
 "nbformat_minor": 2
}
