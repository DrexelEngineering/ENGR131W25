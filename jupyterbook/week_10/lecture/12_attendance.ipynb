{
  "cells": [
    {
      "cell_type": "code",
      "execution_count": null,
      "id": "010d34dd",
      "metadata": {
        "tags": [
          "skip-execution"
        ]
      },
      "outputs": [],
      "source": [
        "from pykubegrader.tokens.validate_token import validate_token\n",
        "validate_token('type the key provided by your instructor here', assignment = 'week10-lecture')\n"
      ]
    },
    {
      "cell_type": "code",
      "execution_count": null,
      "id": "85eed7e1",
      "metadata": {
        "deletable": false,
        "editable": false,
        "tags": [
          "skip-execution"
        ]
      },
      "outputs": [],
      "source": [
        "validate_token(assignment = 'week10-lecture')\n",
        "\n",
        "# You must make sure to run all cells in sequence using shift + enter or you might encounter errors\n",
        "from pykubegrader.initialize import initialize_assignment\n",
        "\n",
        "responses = initialize_assignment(\"12_attendance\", \"week_10\", \"lecture\", assignment_points = 25.0, assignment_tag = 'week10-lecture')\n",
        "\n",
        "# Initialize Otter\n",
        "import otter\n",
        "grader = otter.Notebook(\"12_attendance.ipynb\")"
      ]
    },
    {
      "cell_type": "markdown",
      "id": "2",
      "metadata": {
        "deletable": false,
        "editable": false
      },
      "source": [
        "# \ud83d\uddd3\ufe0f\ud83d\udcda Week 10: Attendance \u2705\n",
        "\n",
        "![](./assets/figures/graduated-cb-shootn.gif)\n",
        "\n",
        "To get credit for attendance make sure you run all blocks of code. "
      ]
    },
    {
      "cell_type": "code",
      "execution_count": null,
      "id": "4",
      "metadata": {
        "tags": [
          "otter_answer_cell",
          "skip-execution"
        ]
      },
      "outputs": [],
      "source": [
        "I_attended_lecture = True"
      ]
    },
    {
      "cell_type": "code",
      "execution_count": null,
      "id": "6989ad61",
      "metadata": {
        "deletable": false,
        "editable": false,
        "tags": [
          "skip-execution"
        ]
      },
      "outputs": [],
      "source": [
        "grader.check(\"week-10-lecture-attendance\")"
      ]
    },
    {
      "cell_type": "markdown",
      "id": "10",
      "metadata": {
        "deletable": false,
        "editable": false
      },
      "source": [
        "## \ud83c\udf89 Well Done!\n",
        "\n",
        "Keep up the good work."
      ]
    },
    {
      "cell_type": "markdown",
      "id": "2ac94924",
      "metadata": {},
      "source": [
        "## Submitting Assignment\n",
        "\n",
        "Please run the following block of code using `shift + enter` to submit your assignment, you should see your score."
      ]
    },
    {
      "cell_type": "code",
      "execution_count": null,
      "id": "e664ecc6",
      "metadata": {
        "deletable": false,
        "editable": true,
        "tags": [
          "skip-execution"
        ]
      },
      "outputs": [],
      "source": [
        "from pykubegrader.tokens.validate_token import validate_token\n",
        "validate_token(assignment = 'week10-lecture')\n",
        "\n",
        "\n",
        "from pykubegrader.submit.submit_assignment import submit_assignment\n",
        "\n",
        "submit_assignment(\"week10-lecture\", \"12_attendance\")"
      ]
    }
  ],
  "metadata": {
    "kernelspec": {
      "display_name": "engr131_dev",
      "language": "python",
      "name": "python3"
    },
    "language_info": {
      "codemirror_mode": {
        "name": "ipython",
        "version": 3
      },
      "file_extension": ".py",
      "mimetype": "text/x-python",
      "name": "python",
      "nbconvert_exporter": "python",
      "pygments_lexer": "ipython3",
      "version": "3.12.7"
    },
    "otter": {
      "OK_FORMAT": true,
      "tests": {
        "week-10-lecture-attendance": {
          "name": "week-10-lecture-attendance",
          "points": null,
          "suites": [
            {
              "cases": [
                {
                  "code": ">>> from pykubegrader.telemetry import ensure_responses, log_variable, score_question, submit_question, telemetry, update_responses\n>>> import os\n>>> import base64\n>>> import matplotlib\n>>> from pykubegrader.tokens.validate_token import validate_token\n>>> validate_token(assignment='week10-lecture')\n>>> import matplotlib\n>>> matplotlib.use('Agg')\n>>> max_question_points = str(25.0)\n>>> earned_points = 0\n>>> os.environ['EARNED_POINTS'] = str(earned_points)\n>>> os.environ['TOTAL_POINTS_FREE_RESPONSE'] = str(25.0)\n>>> from pykubegrader.tokens.validate_token import validate_token\n>>> validate_token(assignment='week10-lecture')\n>>> log_variable('total-points', f'week10-lecture, 12_attendance', 25.0)\n>>> question_id = 'week-10-lecture-attendance-1'\n>>> max_score = 25.0\n>>> score = 0\n>>> assert I_attended_lecture, 'You must attend the lecture to get credit for this assignment.'\n>>> if I_attended_lecture:\n...     score = 25.0\n>>> earned_points = float(os.environ.get('EARNED_POINTS', 0))\n>>> earned_points += score\n>>> log_variable('12_attendance', f'{score}, {max_score}', question_id)\n>>> os.environ['EARNED_POINTS'] = str(earned_points)\n",
                  "failure_message": "Output does not include 'I attended the lecture'.",
                  "hidden": false,
                  "locked": false,
                  "points": 25,
                  "success_message": "Correctly included the phrase 'I attended the lecture'."
                }
              ],
              "scored": true,
              "setup": "",
              "teardown": "",
              "type": "doctest"
            }
          ]
        }
      }
    }
  },
  "nbformat": 4,
  "nbformat_minor": 5
}