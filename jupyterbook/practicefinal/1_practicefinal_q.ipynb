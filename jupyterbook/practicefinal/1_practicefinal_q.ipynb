{
  "cells": [
    {
      "cell_type": "code",
      "execution_count": null,
      "metadata": {
        "deletable": false,
        "editable": false,
        "tags": [
          "skip-execution"
        ]
      },
      "outputs": [],
      "source": [
        "# You must make sure to run all cells in sequence using shift + enter or you might encounter errors\n",
        "from pykubegrader.initialize import initialize_assignment\n",
        "\n",
        "responses = initialize_assignment(\"1_practicefinal_q\", \"week_10\", \"practicefinal\", assignment_points = 460.0, assignment_tag = 'week10-practicefinal')\n",
        "\n",
        "# Initialize Otter\n",
        "import otter\n",
        "grader = otter.Notebook(\"1_practicefinal_q.ipynb\")"
      ]
    },
    {
      "cell_type": "markdown",
      "metadata": {
        "deletable": false,
        "editable": false
      },
      "source": [
        "# \u2753 ENGR131: Introduction to Programming for Engineers\n",
        "\n",
        "## Practice Final\n",
        "\n",
        "The practice final is designed to help you prepare for the actual final exam. It is designed to be similar in format and difficulty to the actual exam. The practice final is graded and counts as 2% bonus points towards your final course grade.\n",
        "\n",
        "## Time Limit\n",
        "\n",
        "You will have 2 hours to complete the Final Exam. The actual final exam will be similar in format, difficulty, and scope as this practice final."
      ]
    },
    {
      "cell_type": "code",
      "execution_count": null,
      "metadata": {
        "tags": [
          "skip-execution"
        ]
      },
      "outputs": [],
      "source": [
        "# Run this block of code by pressing Shift + Enter to display the question\n",
        "from questions._1_practicefinal_q import Question1\n",
        "Question1().show()\n"
      ]
    },
    {
      "cell_type": "code",
      "execution_count": null,
      "metadata": {
        "tags": [
          "skip-execution"
        ]
      },
      "outputs": [],
      "source": [
        "# Run this block of code by pressing Shift + Enter to display the question\n",
        "from questions._1_practicefinal_q import Question2\n",
        "Question2().show()\n"
      ]
    },
    {
      "cell_type": "markdown",
      "metadata": {
        "deletable": false,
        "editable": false
      },
      "source": [
        "## Question 3 (Points: 110.0): Introduction to Shape Analysis\n",
        "\n",
        "Shape analysis is a critical component in various fields such as manufacturing, engineering, and design. It involves examining the geometric properties of objects to understand their structure, function, and performance.In this problem, we will develop a package that can analyze different shapes, providing insights that can be used \n",
        "to optimize designs, improve manufacturing processes, and ensure quality control."
      ]
    },
    {
      "cell_type": "markdown",
      "metadata": {
        "deletable": false,
        "editable": false
      },
      "source": [
        "### Question 3-Part 1 (Points: 3.0): Importing Functions\n",
        "\n",
        "Before you start, you need to import the necessary functions.\n",
        "\n",
        "You need to import the following functions:\n",
        "\n",
        "- `numpy`\n",
        "- `matplotlib.pyplot` as `plt`\n",
        "- `mpl_toolkits.mplot3d` as `Axes3D`"
      ]
    },
    {
      "cell_type": "code",
      "execution_count": null,
      "metadata": {
        "tags": [
          "otter_answer_cell",
          "skip-execution"
        ]
      },
      "outputs": [],
      "source": [
        "..."
      ]
    },
    {
      "cell_type": "code",
      "execution_count": null,
      "metadata": {
        "deletable": false,
        "editable": false,
        "tags": [
          "skip-execution"
        ]
      },
      "outputs": [],
      "source": [
        "grader.check(\"importing-functions\")"
      ]
    },
    {
      "cell_type": "markdown",
      "metadata": {
        "deletable": false,
        "editable": false
      },
      "source": [
        "### Question 3-Part 2 (Points: 9.0): Building a Modular Function to Compute the Perimeter of a Shape\n",
        "\n",
        "We now want to build a modular function to compute the perimeter of a shape.The function should take a 2D array of shape (n, 2) as input, where n is the number of edge points of the shape. The function should return the perimeter of the shape as a float."
      ]
    },
    {
      "cell_type": "code",
      "execution_count": null,
      "metadata": {
        "tags": [
          "otter_answer_cell",
          "skip-execution"
        ]
      },
      "outputs": [],
      "source": [
        "# define the function compute_perimeter\n",
        "...\n",
        "    \"\"\"\n",
        "    Compute the perimeter or total edge length of the shape.\n",
        "\n",
        "    Parameters:\n",
        "    edge_points (numpy.ndarray): A 2D array of shape (n, 2) representing the coordinates of the edge points of the shape.\n",
        "\n",
        "    Returns:\n",
        "    float: The perimeter or total edge length of the shape.\n",
        "\n",
        "    The function calculates the differences between consecutive edge points, computes the Euclidean distance for each segment,\n",
        "    and then sums these distances to obtain the total perimeter.\n",
        "    \"\"\"\n",
        "    \n",
        "    # use the np.diff function to calculate the differences between consecutive edge points, set the optional parameter axis to 0\n",
        "    ...\n",
        "    \n",
        "    # use the np.linalg.norm function to calculate the Euclidean distance for each segment, and set the optional parameter axis to 1\n",
        "    ...\n",
        "    \n",
        "    # return the sum of the segment lengths\n",
        "    ..."
      ]
    },
    {
      "cell_type": "code",
      "execution_count": null,
      "metadata": {
        "deletable": false,
        "editable": false,
        "tags": [
          "skip-execution"
        ]
      },
      "outputs": [],
      "source": [
        "grader.check(\"compute_perimeter-function\")"
      ]
    },
    {
      "cell_type": "markdown",
      "metadata": {
        "deletable": false,
        "editable": false
      },
      "source": [
        "### Question 3-Part 3 (Points: 11.0): Building a Modular Function to Compute the Area of a Shape\n",
        "\n",
        "We now want to build a modular function to compute the area of a shape.\n",
        "\n",
        "The function should take a 2D array of shape (n, 2) as input, where n is the number of edge points of the shape.\n",
        "\n",
        "The function should return the area of the shape as a float.\n",
        "\n",
        "\n",
        "$$\n",
        "\\text{Area} = 0.5 \\times \\left| \\sum_{i=0}^{n-1} (x_i \\cdot y_{i+1} - y_i \\cdot x_{i+1}) \\right|\n",
        "$$\n",
        "\n",
        "\n"
      ]
    },
    {
      "cell_type": "code",
      "execution_count": null,
      "metadata": {
        "tags": [
          "otter_answer_cell",
          "skip-execution"
        ]
      },
      "outputs": [],
      "source": [
        "# define the compute_area_2d function\n",
        "...\n",
        "    \"\"\"\n",
        "    Compute the area enclosed by a 2D shape using the Shoelace theorem.\n",
        "\n",
        "    Parameters:\n",
        "    edge_points (numpy.ndarray): A 2D array of shape (n, 2) representing the coordinates of the edge points of the shape.\n",
        "                                 The first and last points must be the same to ensure the shape is closed.\n",
        "\n",
        "    Returns:\n",
        "    float: The area of the shape. If the shape is not closed, returns 0.0.\n",
        "\n",
        "    The Shoelace theorem (or Gauss's area formula) is used to compute the area of a simple polygon whose vertices are described by their Cartesian coordinates in the plane.\n",
        "    The formula is given by:\n",
        "    \n",
        "    Area = 0.5 * |\u03a3 (x_i * y_(i+1) - y_i * x_(i+1))| for i = 0 to n-1\n",
        "\n",
        "    where (x_i, y_i) are the coordinates of the vertices of the polygon, and (x_(n+1), y_(n+1)) is the same as (x_0, y_0) to close the polygon.\n",
        "    \"\"\"\n",
        "    # Check if the first and last points of the edge_points array are the same\n",
        "    # This ensures that the shape is closed\n",
        "    # if the shape is not closed, return an area of 0.0\n",
        "    ...\n",
        "    \n",
        "    # Calculate the area using the Shoelace theorem\n",
        "    # extract the x and y coordinates from the edge_points array, the first column is the x coordinates and the second column is the y coordinates\n",
        "    ...\n",
        "    \n",
        "    # calculate the area using the Shoelace theorem\n",
        "    # use the np.roll function to shift the x, y coordinates by one position to the left, this is how you get x_(i+1) and y_(i+1)\n",
        "    # use the np.dot function to calculate the dot product of the x and y coordinates, this avoids the need to explicitly loop through the coordinates, or call the np.sum function\n",
        "    # use the np.abs function to take the absolute value of the result\n",
        "    # use the 0.5 * function to multiply the result by 0.5\n",
        "    # store the result in the `shoelace_formula` variable\n",
        "    ...\n",
        "    \n",
        "    # return the result\n",
        "    ..."
      ]
    },
    {
      "cell_type": "code",
      "execution_count": null,
      "metadata": {
        "deletable": false,
        "editable": false,
        "tags": [
          "skip-execution"
        ]
      },
      "outputs": [],
      "source": [
        "grader.check(\"compute-area-2d-function\")"
      ]
    },
    {
      "cell_type": "markdown",
      "metadata": {
        "deletable": false,
        "editable": false
      },
      "source": [
        "### Question 3-Part 4 (Points: 12.0): Computing the Centroid of a Shape\n",
        "\n",
        "The centroid of a shape is the average of all the points in the shape.\n",
        "\n",
        "The function should take a 2D array of shape (n, 2) as input, where n is the number of edge points of the shape.\n",
        "\n",
        "The function should return the centroid of the shape as a numpy array of shape (2,).\n",
        "\n",
        "$$\n",
        "C_x = \\frac{1}{6A} \\sum_{i=0}^{n} \\left( (x + x_{i+1}) \\cdot (x \\cdot y_{i+1} - x_{i+1} \\cdot y) \\right)\n",
        "$$\n",
        "$$\n",
        "C_y = \\frac{1}{6A} \\sum_{i=0}^{n} \\left( (y + y_{i+1}) \\cdot (x \\cdot y_{i+1} - x_{i+1} \\cdot y) \\right)\n",
        "$$\n",
        "\n",
        "Hint: make sure to notice the difference in the n value for the summation, and consider its influence on the rolling of the coordinates.\n"
      ]
    },
    {
      "cell_type": "code",
      "execution_count": null,
      "metadata": {
        "tags": [
          "otter_answer_cell",
          "skip-execution"
        ]
      },
      "outputs": [],
      "source": [
        "# define the compute_centroid function\n",
        "...\n",
        "    \"\"\"\n",
        "    Compute the centroid of a closed polygon considering the enclosed area, works in both 2D and 3D.\n",
        "\n",
        "    Parameters:\n",
        "    edge_points (array-like): A 2D array of shape (n, d) representing the coordinates of the polygon's vertices,\n",
        "                            where d is 2 or 3 for 2D or 3D points respectively.\n",
        "                            The first and last points must be the same to ensure the polygon is closed.\n",
        "\n",
        "    Returns:\n",
        "    numpy.ndarray: A 1D array of shape (d,) representing the coordinates of the centroid.\n",
        "\n",
        "    Raises:\n",
        "    ValueError: If the polygon is not closed (i.e., the first and last points are not the same).\n",
        "               If the input points are not 2D or 3D.\n",
        "\n",
        "    Notes:\n",
        "    - The function uses different formulas for 2D and 3D centroids\n",
        "    - If the area/volume is close to zero, the function falls back to computing the simple mean of the points.\n",
        "    \"\"\"\n",
        "    \n",
        "    # ensure the edge_points is a numpy array\n",
        "    ...\n",
        "    \n",
        "    # Check dimensionality\n",
        "    # ensure the edge_points is a 2D or 3D array, if not raise a ValueError\n",
        "    ...\n",
        "        \n",
        "    # check if the edge_points is a closed polygon, if not raise a ValueError\n",
        "    # a closed polygon is when the first and last points are the same\n",
        "    ...\n",
        "    \n",
        "    # If points are 2D, use the 2D method\n",
        "    ...\n",
        "    \n",
        "        # extract coordinates\n",
        "        ...\n",
        "        \n",
        "        # compute area using shoelace theorem\n",
        "        ...\n",
        "        \n",
        "        # if area is close to zero, return mean of points, setting the axis to 0 ensures that the mean is computed along the first dimension\n",
        "        ...\n",
        "            \n",
        "        # compute 2D centroid\n",
        "        # use the np.roll function to shift the x, y coordinates by one position to the left, this is how you get x_(i-1) and y_(i-1)\n",
        "        # use the np.dot function to calculate the dot product of the x and y coordinates, this avoids the need to explicitly loop through the coordinates, or call the np.sum function\n",
        "        # use the 1 / (6 * A) * function to multiply the result by 1 / (6 * A)\n",
        "        # store the result in the `Cx` and `Cy` variables\n",
        "        ...\n",
        "        \n",
        "        # return the result as a numpy array, the first element is the x coordinate and the second element is the y coordinate\n",
        "        ...\n",
        "        \n",
        "    # For 3D points\n",
        "    else:\n",
        "        # For 3D points, compute centroid without duplicate points\n",
        "        # Get unique points by removing duplicates use the np.unique function, the axis=0 argument ensures that the unique points are along the first dimension\n",
        "        ...\n",
        "        \n",
        "        # compute the centroid of the unique points\n",
        "        # use the np.mean function to compute the mean of the unique points, this is the centroid\n",
        "        # make sure to set the axis to 0 to ensure that the mean is computed along the first dimension\n",
        "        ...\n",
        "        \n",
        "        # return the result\n",
        "        ...\n",
        "        \n"
      ]
    },
    {
      "cell_type": "code",
      "execution_count": null,
      "metadata": {
        "deletable": false,
        "editable": false,
        "tags": [
          "skip-execution"
        ]
      },
      "outputs": [],
      "source": [
        "grader.check(\"compute-centroid-2d-function\")"
      ]
    },
    {
      "cell_type": "markdown",
      "metadata": {
        "deletable": false,
        "editable": false
      },
      "source": [
        "### Question 3-Part 5 (Points: 16.0): Compute the bounding box of a 2D shape.\n",
        "\n",
        "The bounding box of a 2D shape is the smallest rectangle that can contain the shape. The function should take a 2D array of shape (n, 2) as input, where n is the number of edge points of the shape. This is commonly used in machine learning tasks to identify the extent of the shape, and mark a detected object.\n",
        "\n"
      ]
    },
    {
      "cell_type": "code",
      "execution_count": null,
      "metadata": {
        "tags": [
          "otter_answer_cell",
          "skip-execution"
        ]
      },
      "outputs": [],
      "source": [
        "# define the compute_bounding_box function\n",
        "...\n",
        "    \"\"\"Compute the bounding box of the shape.\"\"\"\n",
        "    # compute the bounding box of the shape and return the minimum and maximum values of the x and y coordinates\n",
        "    # the return should be a tuple of two numpy arrays, the first array should contain the minimum values and the second array should contain the maximum values\n",
        "    ..."
      ]
    },
    {
      "cell_type": "code",
      "execution_count": null,
      "metadata": {
        "deletable": false,
        "editable": false,
        "tags": [
          "skip-execution"
        ]
      },
      "outputs": [],
      "source": [
        "grader.check(\"compute-bounding-box-function\")"
      ]
    },
    {
      "cell_type": "markdown",
      "metadata": {
        "deletable": false,
        "editable": false
      },
      "source": [
        "### Question 3-Part 6 (Points: 14.0): Compute the curvature of a 2D shape at each edge point.\n",
        "\n",
        "It is helpful to compute the curvature of a 2D shape at each edge point, as this can be used to identify sharp corners and other features for subsequent machine learning tasks.\n",
        "\n",
        "The curvature of a 2D shape at each edge point can be computed using the following formula:\n",
        "\n",
        "$$\n",
        "dx = \\frac{d}{dx}x\n",
        "$$\n",
        "\n",
        "$$\n",
        "dy = \\frac{d}{dy}y\n",
        "$$\n",
        "\n",
        "$$\n",
        "ddx = \\frac{d}{dx}dx\n",
        "$$\n",
        "\n",
        "$$\n",
        "ddy = \\frac{d}{dy}dy\n",
        "$$\n",
        "\n",
        "\n",
        "$$\n",
        "\\kappa = \\frac{\\left| \\frac{d^2 x}{dx^2} \\cdot \\frac{dy}{dx} - \\frac{d^2 y}{dx^2} \\cdot \\frac{dx}{dx} \\right|}\n",
        "{\\left( \\left(\\frac{dx}{dx}\\right)^2 + \\left(\\frac{dy}{dx}\\right)^2 \\right)^{\\frac{3}{2}}}\n",
        "$$\n",
        "\n",
        "This equation represents the **curvature** $( \\kappa )$ of a 2D parametric curve $(x(t), y(t))$, where:\n",
        "- $( \\frac{dx}{dx} )$ and $( \\frac{dy}{dx} )$ are the **first derivatives** (approximated using `np.gradient`).\n",
        "- $( \\frac{d^2 x}{dx^2} )$ and $( \\frac{d^2 y}{dy^2} )$ are the **second derivatives**.\n",
        "- The denominator normalizes the curvature by the squared first derivatives raised to \\( 3/2 \\)."
      ]
    },
    {
      "cell_type": "code",
      "execution_count": null,
      "metadata": {
        "tags": [
          "otter_answer_cell",
          "skip-execution"
        ]
      },
      "outputs": [],
      "source": [
        "# Write the compute_curvature_2d function\n",
        "...\n",
        "    \"\"\"\n",
        "    Approximate the curvature of a 2D shape at each edge point.\n",
        "\n",
        "    Parameters\n",
        "    ----------\n",
        "    edge_points : numpy.ndarray\n",
        "        A 2D array of shape (n, 2) representing edge points (x, y).\n",
        "        \n",
        "    Returns\n",
        "    -------\n",
        "    numpy.ndarray\n",
        "        A 1D array of length n containing the curvature values at each edge point.\n",
        "\n",
        "    Notes\n",
        "    -----\n",
        "    - The curvature is computed using:\n",
        "      \u03ba = |x'' y' - y'' x'| / ((x'^2 + y'^2)^(3/2) + \u03b5)\n",
        "    - np.gradient() is used to approximate first and second derivatives.\n",
        "    - A small epsilon (\u03b5) is added to avoid division errors when the denominator is small.\n",
        "    \"\"\"\n",
        "\n",
        "\n",
        "    # if the length of the edge points is less than 3, return an array of zeros, it is not possible to compute curvature\n",
        "    # because there are not enough points to compute the derivatives\n",
        "    ...\n",
        "\n",
        "    # Extract x and y coordinates\n",
        "    ...\n",
        "\n",
        "    # Compute first derivatives\n",
        "    # use the np.gradient function to compute the first derivatives\n",
        "    ...\n",
        "\n",
        "    # Compute second derivatives\n",
        "    ...\n",
        "\n",
        "    # Compute curvature based on the formula provided\n",
        "    # add a small epsilon to the denominator to prevent division by zero this value should be 1e-8\n",
        "    ...\n",
        "\n",
        "    # return the curvature\n",
        "    ...\n"
      ]
    },
    {
      "cell_type": "code",
      "execution_count": null,
      "metadata": {
        "deletable": false,
        "editable": false,
        "tags": [
          "skip-execution"
        ]
      },
      "outputs": [],
      "source": [
        "grader.check(\"compute-curvature-function-2d\")"
      ]
    },
    {
      "cell_type": "markdown",
      "metadata": {
        "deletable": false,
        "editable": false
      },
      "source": [
        "### Question 3-Part 7 (Points: 9.0): Compute key properties of a shape given its edge points.\n",
        "\n",
        "The shape properties are computed using the following functions:\n",
        "- `compute_perimeter`\n",
        "- `compute_centroid`\n",
        "- `compute_bounding_box`"
      ]
    },
    {
      "cell_type": "code",
      "execution_count": null,
      "metadata": {
        "tags": [
          "otter_answer_cell",
          "skip-execution"
        ]
      },
      "outputs": [],
      "source": [
        "# Write the compute_shape_properties function\n",
        "...\n",
        "\n",
        "    # compute the properties of the shape and store them in the `properties` dictionary\n",
        "    # the keys for the base properties are \"perimeter\", \"centroid\", and \"bounding_box\", these are computed for all shapes\n",
        "    ...\n",
        "    \n",
        "    # if the shape is 2D, compute the area and curvature\n",
        "    ...\n",
        "        # compute the area and curvature\n",
        "        # store the results in the properties dictionary, with the keys \"area\" and \"curvature\"\n",
        "        ...\n",
        "\n",
        "    # return the properties dictionary\n",
        "    ..."
      ]
    },
    {
      "cell_type": "code",
      "execution_count": null,
      "metadata": {
        "deletable": false,
        "editable": false,
        "tags": [
          "skip-execution"
        ]
      },
      "outputs": [],
      "source": [
        "grader.check(\"compute-shape-properties-function\")"
      ]
    },
    {
      "cell_type": "markdown",
      "metadata": {
        "deletable": false,
        "editable": false
      },
      "source": [
        "### Question 3-Part 8 (Points: 16.0): Plot a 2D shape and its centroid\n",
        "\n",
        "With any calculation, it is important to plot the results to check if they are correct. Plotting the results can provide you with a visual representation of the data, and help you identify any errors in the calculation.\n",
        "\n",
        "In this question, you will write a function that plots a 2D shape and its centroid. The function should take a 2D array of shape (n, 2) as input, where n is the number of edge points of the shape. The function should also take an optional title argument, which is a string that will be used as the title of the plot.\n",
        "\n",
        "The function should return the figure and axis object, which can be used to display the plot."
      ]
    },
    {
      "cell_type": "code",
      "execution_count": null,
      "metadata": {
        "tags": [
          "otter_answer_cell",
          "skip-execution"
        ]
      },
      "outputs": [],
      "source": [
        "# Define a function plot_2d_shape_with_centroid that takes points and title as arguments\n",
        "...\n",
        "    \"\"\"\n",
        "    Plot a 2D shape and its centroid.\n",
        "\n",
        "    Parameters:\n",
        "    points (array-like): An array of shape (n, 2) representing the coordinates of the points that form the 2D shape.\n",
        "    title (str): The title of the plot. Default is \"2D Shape with Centroid\".\n",
        "\n",
        "    Returns:\n",
        "    fig (matplotlib.figure.Figure): The figure object containing the plot.\n",
        "    ax (matplotlib.axes._subplots.AxesSubplot): The axes object containing the plot.\n",
        "\n",
        "    The function converts the input points to a NumPy array, computes the centroid of the shape,\n",
        "    and then plots the shape and its centroid using Matplotlib. The centroid is marked with a red dot.\n",
        "    The plot includes labels for the X and Y axes, a legend, a grid, and an equal aspect ratio.\n",
        "    \"\"\"\n",
        "    \n",
        "    # make sure the points are a numpy array\n",
        "    ...\n",
        "    \n",
        "    # compute the centroid of the shape, using the compute_centroid function\n",
        "    ...\n",
        "    \n",
        "    # plot the shape and its centroid\n",
        "    # build a figure and axis object `fig` and `ax`, using the subplots module in matplotlib\n",
        "    # make the figuresize (5, 5)\n",
        "    ...\n",
        "    \n",
        "    # plot the shape and its centroid on the axis object `ax`, \n",
        "    # recall the shape of the points is (n, 2), where n is the number of points, and the first column is the x-coordinates and the second column is the y-coordinates\n",
        "    # use the `plot` method to plot the shape, with 'o-' markers, with a marker size of 5, and a label of \"Edge\"\n",
        "    # The `scatter` method to plot the centroid, with a marker size of 100, a label of \"Centroid\", and a zorder of 3 (zorder is the order of the elements in the plot, the higher the zorder, the closer to the front), and a color of 'red'\n",
        "    # make sure to use the `*` operator to unpack the centroid coordinates\n",
        "    ...\n",
        "    \n",
        "    # add a title to the plot from the optional title argument\n",
        "    ...\n",
        "    \n",
        "    # add labels to the x and y axes, the labels should be \"X\" and \"Y\"\n",
        "    ...\n",
        "    \n",
        "    # add a grid to the plot, using the `grid` method of the axis object `ax`\n",
        "    ...\n",
        "    \n",
        "    # set the aspect ratio of the plot to be equal, using the `axis` method of the axis object `ax`\n",
        "    ...\n",
        "    \n",
        "    # return the figure and axis object\n",
        "    ..."
      ]
    },
    {
      "cell_type": "code",
      "execution_count": null,
      "metadata": {
        "deletable": false,
        "editable": false,
        "tags": [
          "skip-execution"
        ]
      },
      "outputs": [],
      "source": [
        "grader.check(\"plotting-2d-shape-with-centroid\")"
      ]
    },
    {
      "cell_type": "markdown",
      "metadata": {
        "deletable": false,
        "editable": false
      },
      "source": [
        "### Question 3-Part 9 (Points: 20.0): Plot a 3D shape\n",
        "\n",
        "Since we are not confined to 2D, we also need to be able to plot 3D shapes. In this question, you will write a function that plots a 3D shape. The function should take a 3D array of shape (n, 3) as input, where n is the number of edge points of the shape. The function should also take an optional title argument, which is a string that will be used as the title of the plot.\n",
        "\n",
        "The function should return the figure and axis object, which can be used to display the plot.\n"
      ]
    },
    {
      "cell_type": "code",
      "execution_count": null,
      "metadata": {
        "tags": [
          "otter_answer_cell",
          "skip-execution"
        ]
      },
      "outputs": [],
      "source": [
        "# Define a function plot_3d_shape that takes points and title as arguments\n",
        "...\n",
        "    \"\"\"Plot a 3D shape given its edge points.\n",
        "    \n",
        "    This function creates a 3D visualization of a shape by plotting its edges and centroid.\n",
        "    The edges are connected in order of the provided points, so the points should form\n",
        "    a continuous path that defines the shape's edges.\n",
        "    \n",
        "    Args:\n",
        "        points (array-like): Array of shape (n, 3) containing the x, y, z coordinates \n",
        "            of n points that define the edges of the 3D shape. Points should be ordered\n",
        "            to form continuous edges when connected sequentially.\n",
        "        title (str, optional): Title for the plot. Defaults to \"3D Edge Shape\".\n",
        "            \n",
        "    Returns:\n",
        "        tuple: A tuple containing:\n",
        "            - fig (matplotlib.figure.Figure): The figure object containing the plot\n",
        "            - ax (matplotlib.axes.Axes): The 3D axes object containing the plotted shape\n",
        "            \n",
        "    The plot includes:\n",
        "        - Blue lines and markers connecting the edge points\n",
        "        - A red marker showing the centroid\n",
        "        - Axis labels for X, Y, and Z dimensions\n",
        "        - A legend identifying the edges and centroid\n",
        "        - The specified title\n",
        "    \"\"\"\n",
        "    \n",
        "    # Create 3D plot\n",
        "    \n",
        "    # create a figure and axis object, using the subplots module in matplotlib\n",
        "    # use the subplot_kw argument to set the projection to 3d, this is done by passing a dictionary to the subplots function\n",
        "    # set the figure size to 6 inches by 6 inches\n",
        "    ...\n",
        "    \n",
        "    # Convert points to numpy array if not already\n",
        "    ...\n",
        "    \n",
        "    # Plot the edges\n",
        "    # use the plot method of the axis object `ax` to plot the edges of the shape, you need to pass the x, y, z coordinates to the plot method\n",
        "    # use the `o-` marker to plot the edges, this is a blue line with blue markers at the vertices\n",
        "    # use the `markersize` argument to set the size of the markers to 5\n",
        "    # use the `label` argument to label the edges as \"Edge\"\n",
        "    ...\n",
        "        \n",
        "    # Calculate and plot centroid\n",
        "    # use the compute_centroid function to compute the centroid of the shape\n",
        "    # use the scatter method of the axis object `ax` to plot the centroid, use the `color` argument to set the color of the centroid to red\n",
        "    # use the `s` argument to set the size of the centroid to 100\n",
        "    # use the `label` argument to label the centroid as \"Centroid\"\n",
        "    # use the `zorder` argument to set the zorder of the centroid to 3\n",
        "    # make sure to unpack the centroid tuple using the `*` operator so that you can plot multiple centroids if needed\n",
        "    ...\n",
        "    \n",
        "    # Set labels and title\n",
        "    # use the set_title method of the axis object `ax` to set the title of the plot\n",
        "    # use the set_xlabel method of the axis object `ax` to set the label of the x axis to \"X\"\n",
        "    # use the set_ylabel method of the axis object `ax` to set the label of the y axis to \"Y\"\n",
        "    # use the set_zlabel method of the axis object `ax` to set the label of the z axis to \"Z\"\n",
        "    ...\n",
        "    \n",
        "    # Only show one legend entry for edges\n",
        "    # use the get_legend_handles_labels method of the axis object `ax` to get the handles and labels\n",
        "    # use the zip function to pair the labels and handles together\n",
        "    # use the dict function to create a dictionary from the paired labels and handles store this in a variable called `unique_labels`\n",
        "    # use the legend method of the axis object `ax` to plot the legend, use the `unique_labels.values()` and `unique_labels.keys()` to plot the legend\n",
        "    ...\n",
        "    \n",
        "    # return the figure and axis object\n",
        "    ...\n",
        "\n"
      ]
    },
    {
      "cell_type": "code",
      "execution_count": null,
      "metadata": {
        "deletable": false,
        "editable": false,
        "tags": [
          "skip-execution"
        ]
      },
      "outputs": [],
      "source": [
        "grader.check(\"plotting-3d-shape\")"
      ]
    },
    {
      "cell_type": "markdown",
      "metadata": {
        "deletable": false,
        "editable": false
      },
      "source": [
        "### Examples to test the built functions\n",
        "\n",
        "Note you do not need to change the following code, it is provided for you."
      ]
    },
    {
      "cell_type": "code",
      "execution_count": null,
      "metadata": {
        "tags": [
          "skip-execution"
        ]
      },
      "outputs": [],
      "source": [
        "import matplotlib\n",
        "matplotlib.pyplot.close('all')\n",
        "%matplotlib inline\n",
        "\n",
        "# Define example 2D shapes\n",
        "square = np.array([\n",
        "    [0, 0], [1, 0], [1, 1], [0, 1], [0, 0]  # Closed loop\n",
        "])\n",
        "\n",
        "triangle = np.array([\n",
        "    [0, 0], [2, 0], [1, 2], [0, 0]  # Closed loop\n",
        "])\n",
        "\n",
        "circle = np.array([\n",
        "    [np.cos(theta), np.sin(theta)] for theta in np.linspace(0, 2*np.pi, 100)\n",
        "])\n",
        "# Example: Tetrahedron (can be any closed shape)\n",
        "faces = np.array([\n",
        "    [-0.5, -0.5, 0],  # Base square vertices\n",
        "    [0.5, -0.5, 0],\n",
        "    [0.5, 0.5, 0],\n",
        "    [-0.5, 0.5, 0],\n",
        "    [-0.5, -0.5, 0],  # Front triangle vertices \n",
        "    [0.5, -0.5, 0],\n",
        "    [0, 0, 1],\n",
        "    [0.5, -0.5, 0],   # Right triangle vertices\n",
        "    [0.5, 0.5, 0], \n",
        "    [0, 0, 1],\n",
        "    [0.5, 0.5, 0],    # Back triangle vertices\n",
        "    [-0.5, 0.5, 0],\n",
        "    [0, 0, 1],\n",
        "    [-0.5, 0.5, 0],   # Left triangle vertices\n",
        "    [-0.5, -0.5, 0],\n",
        "    [0, 0, 1], \n",
        "    [-0.5, -0.5, 0],\n",
        "])\n",
        "\n",
        "\n",
        "\n",
        "\n",
        "# Compute shape properties\n",
        "square_props = compute_shape_properties(square)\n",
        "triangle_props = compute_shape_properties(triangle)\n",
        "circle_props = compute_shape_properties(circle)\n",
        "\n",
        "# Plot the shapes with centroids\n",
        "plot_2d_shape_with_centroid(square, \"Square\")\n",
        "print(square_props)\n",
        "plot_2d_shape_with_centroid(triangle, \"Triangle\")\n",
        "print(triangle_props)\n",
        "plot_2d_shape_with_centroid(circle, \"Circle Approximation\")\n",
        "print(circle_props)\n",
        "\n",
        "# call the plot_3d_shape function with the faces array and the title \"Pyramid\"\n",
        "plot_3d_shape(faces, \"Pyramid\")\n"
      ]
    },
    {
      "cell_type": "markdown",
      "metadata": {
        "deletable": false,
        "editable": false
      },
      "source": [
        "## Question 4 (Points: 84.0): Peano Curve Visualization Using Recursive Fractals\n",
        "\n",
        "### Problem Statement\n",
        "\n",
        "The Peano curve is a self-similar fractal that recursively subdivides a space into a dense, space-filling pattern. Your task is to analyze and modify the given implementation of the Peano curve, which:\n",
        "\n",
        "- Uses recursion to generate the Peano curve of a given order.\n",
        "- Implements matplotlib.animation to dynamically visualize how the fractal is constructed.\n",
        "- Adjusts color dynamically based on the drawing progression."
      ]
    },
    {
      "cell_type": "markdown",
      "metadata": {
        "deletable": false,
        "editable": false
      },
      "source": [
        "### Question 4-Part 1 (Points: 6.0): Importing Statements\n",
        "\n",
        "The first step in any python program is to import the necessary modules. In this question, you will import the necessary modules for the rest of the question.\n"
      ]
    },
    {
      "cell_type": "code",
      "execution_count": null,
      "metadata": {
        "tags": [
          "otter_answer_cell",
          "skip-execution"
        ]
      },
      "outputs": [],
      "source": [
        "# Import the necessary modules\n",
        "# numpy as np\n",
        "# matplotlib.pyplot as plt\n",
        "# matplotlib.animation as animation\n",
        "# from IPython.display import HTML\n",
        "..."
      ]
    },
    {
      "cell_type": "code",
      "execution_count": null,
      "metadata": {
        "deletable": false,
        "editable": false,
        "tags": [
          "skip-execution"
        ]
      },
      "outputs": [],
      "source": [
        "grader.check(\"import-statement\")"
      ]
    },
    {
      "cell_type": "markdown",
      "metadata": {
        "deletable": false,
        "editable": false
      },
      "source": [
        "### Question 4-Part 2 (Points: 20.0): Peano Curve Function\n",
        "\n",
        "The Peano curve is one of the earliest examples of a space-filling curve, first described by Giuseppe Peano in 1890. It is a fractal curve that continuously maps a one-dimensional interval onto a two-dimensional space in such a way that, as its recursion depth increases, it completely fills a given area.\n",
        "\n",
        "#### Algorithm\n",
        "\n",
        "##### **1. Base Case**\n",
        "If the recursion depth `order` is **0**, return a single point `(x, y)`.\n",
        "\n",
        "##### **2. Recursive Step**\n",
        "- Divide the square into **9 equal sub-squares**.\n",
        "- Define the movement pattern to traverse the sub-squares in a **continuous** manner.\n",
        "- Recursively compute the Peano curve for each sub-square.\n",
        "\n",
        "##### **3. Movement Pattern**\n",
        "The traversal follows this 3\u00d73 order:\n",
        "1 \u2192 2 \u2192 3 \u2193 \u2191 \u2193 6 \u2190 5 \u2190 4 \u2193 \u2191 \u2193 7 \u2192 8 \u2192 9\n",
        "\n",
        "We will walk you through the implementation step by step."
      ]
    },
    {
      "cell_type": "code",
      "execution_count": null,
      "metadata": {
        "tags": [
          "otter_answer_cell",
          "skip-execution"
        ]
      },
      "outputs": [],
      "source": [
        "# create the peano_curve function\n",
        "# it accepts an order, and optional parameters x, y, and size, with defaults 0, 0, and 1 respectively.\n",
        "...\n",
        "    \"\"\"\n",
        "    Generates the Peano curve using recursion, a space-filling curve that maps a one-dimensional interval\n",
        "    onto a two-dimensional space. The function recursively divides a square into 9 equal sub-squares and \n",
        "    traverses them in a specific order to form the Peano curve.\n",
        "\n",
        "    Parameters:\n",
        "        order (int): The recursion depth of the Peano curve. A higher order results in a more detailed curve.\n",
        "        x (float): The x-coordinate of the starting point of the curve. Defaults to 0.\n",
        "        y (float): The y-coordinate of the starting point of the curve. Defaults to 0.\n",
        "        size (float): The length of one segment of the curve. This determines the size of the entire curve. \n",
        "                      Defaults to 1.\n",
        "\n",
        "    Returns:\n",
        "        List[Tuple[float, float]]: A list of (x, y) coordinates representing the points of the Peano curve.\n",
        "                                   The list is ordered according to the traversal of the curve.\n",
        "\n",
        "    The function works as follows:\n",
        "    - If the order is 0, it returns a single point, which is a list containing the tuple (x, y).\n",
        "    - For higher orders, it calculates the step size as the current size divided by 3.\n",
        "    - It then iterates over a predefined movement pattern for a 3x3 grid, recursively calling itself to \n",
        "      generate sub-curves for each sub-square.\n",
        "    - The results from each recursive call are combined into a single list of points, which is returned as \n",
        "      the final Peano curve.\n",
        "    \"\"\"\n",
        "    # if the order is 0, return a single point, a list that contains the tuple (x, y)\n",
        "    ...\n",
        "    \n",
        "    # Peano curve movement pattern (3x3 grid)\n",
        "    moves = [\n",
        "        (0, 0), (0, 1), (0, 2), \n",
        "        (1, 2), (1, 1), (1, 0), \n",
        "        (2, 0), (2, 1), (2, 2)\n",
        "    ]\n",
        "    \n",
        "    # initialize an empty list to store the new points\n",
        "    ...\n",
        "    \n",
        "    # calculate the step size, which is the size of the square divided by 3, you can save this to a variable called step\n",
        "    ...\n",
        "    \n",
        "    # iterate over the moves, extract the dx and dy values\n",
        "    ...\n",
        "        # call the peano_curve function recursively to get the sub-curve\n",
        "        # each time you call the peano_curve function, you should pass in the order - 1, \n",
        "        # the new x and y coordinates which is the current x + dx * step and the current y + dy * step\n",
        "        # and the new size which is the step size\n",
        "        ...\n",
        "        \n",
        "        # extend the list of new points with the sub-curve, use the extend method\n",
        "        ...\n",
        "    \n",
        "    # return the list of new points\n",
        "    ..."
      ]
    },
    {
      "cell_type": "code",
      "execution_count": null,
      "metadata": {
        "deletable": false,
        "editable": false,
        "tags": [
          "skip-execution"
        ]
      },
      "outputs": [],
      "source": [
        "grader.check(\"peano-curve-function\")"
      ]
    },
    {
      "cell_type": "markdown",
      "metadata": {
        "deletable": false,
        "editable": false
      },
      "source": [
        "### Question 4-Part 3 (Points: 18.0): Update Function\n",
        "\n",
        "We want to create an update function that will update the line plot of the Peano curve such that the color of the line changes as the animation progresses.\n",
        "\n",
        "The update function should:\n",
        "- Update the line plot of the Peano curve\n",
        "- Change the color of the line based on the frame index\n",
        "- Return the line plot and the color\n"
      ]
    },
    {
      "cell_type": "code",
      "execution_count": null,
      "metadata": {
        "tags": [
          "otter_answer_cell",
          "skip-execution"
        ]
      },
      "outputs": [],
      "source": [
        "# create a function `update`l that accepts a frame, line, x_vals, and y_vals\n",
        "...\n",
        "    \"\"\"Draw the Peano curve dynamically and change line color.\"\"\"\n",
        "    \n",
        "    # Add error handling for the frame index\n",
        "    # if the frame is less than 0, raise an IndexError\n",
        "    # if the frame is greater than or equal to the length of the x and y values, raise an IndexError\n",
        "    ...\n",
        "    \n",
        "    # update the line plot of the Peano curve\n",
        "    # this is done by using the set_data method of the line plot\n",
        "    # the first argument is the x values of the Peano curve\n",
        "    # the second argument is the y values of the Peano curve\n",
        "    # these use the global variables x_vals and y_vals\n",
        "    # We want to index the x and y values from the start of the list to the frame index\n",
        "    # frame should not be less than 0 or greater than the length of the x and y values\n",
        "    ...\n",
        "    \n",
        "    # Change color based on frame index\n",
        "    # we want to use the colormap viridis\n",
        "    # you can import the colormap from plt.cm.viridis module\n",
        "    # and index it with the frame index divided by the total number of frames\n",
        "    # the color of the line can be set with the set_color method of the line object\n",
        "    ...\n",
        "    \n",
        "    # return a tuple containing the line object -- make sure not to delete the , after line.\n",
        "    return line,"
      ]
    },
    {
      "cell_type": "code",
      "execution_count": null,
      "metadata": {
        "deletable": false,
        "editable": false,
        "tags": [
          "skip-execution"
        ]
      },
      "outputs": [],
      "source": [
        "grader.check(\"update-function\")"
      ]
    },
    {
      "cell_type": "markdown",
      "metadata": {
        "deletable": false,
        "editable": false
      },
      "source": [
        "### Question 4-Part 4 (Points: 40.0): Parameters and Animation\n",
        "\n",
        "Now that we have the update function, we can create an animation of the Peano curve. We will guide you through the process."
      ]
    },
    {
      "cell_type": "code",
      "execution_count": null,
      "metadata": {
        "tags": [
          "otter_answer_cell",
          "skip-execution"
        ]
      },
      "outputs": [],
      "source": [
        "out = plt.ioff()\n",
        "\n",
        "# set the variable order equal to 3\n",
        "...\n",
        "\n",
        "# Call peano_cure with the order\n",
        "# you can save the output to a variable called `points`\n",
        "...\n",
        "\n",
        "# unpacks and restructures the values list\n",
        "x_vals, y_vals = zip(*points)\n",
        "\n",
        "# Reduce the number of frames by rendering every other frame.\n",
        "# Compute `reduced_frames` which is 1/2 the number of frames. Think what the requirements of a frame number are.\n",
        "...\n",
        "\n",
        "# use the range method to create a range which has the index of the frames to plot\n",
        "# the range should start at 0 and end at the length of the x and y values\n",
        "# the step should be 2\n",
        "# save the output to a variable frames_to_render\n",
        "...\n",
        "\n",
        "# Create figure for animation\n",
        "# create a figure and axis object, set the figsize to 6, 6\n",
        "# use the subplots method to create the figure and axis object\n",
        "...\n",
        "\n",
        "# set the limits of the axis, set the x and y limits to -0.1 and 1.1\n",
        "...\n",
        "\n",
        "# set the ticks of the axis to be empty\n",
        "# you can use the set_xticks and set_yticks methods to set the ticks to an empty list\n",
        "...\n",
        "\n",
        "# set the title of the axis, use an f-string to insert the order variable\n",
        "# the title should be \"Peano Curve (Order {order})\", where order is the value of the order variable\n",
        "# the fontsize should be 14 and the fontweight should be bold\n",
        "...\n",
        "\n",
        "# create a line object, set the line width using the optional parameter `lw` to 2, initially the line is empty\n",
        "# you can use the plot method to create the line object\n",
        "# the first argument is the x values of the Peano curve\n",
        "# the second argument is the y values of the Peano curve\n",
        "# This starts as an empty values\n",
        "# save the output to a variable called line\n",
        "# make sure to add a comma after line, the comma ensures that the line object is returned\n",
        "...\n",
        "\n",
        "# Create animation\n",
        "# use the animation.FuncAnimation method to create an animation\n",
        "# the first argument is the figure object\n",
        "# the second argument is the update function\n",
        "# the third argument is the frames to render\n",
        "# the fourth argument is the interval, which is 10\n",
        "# the fifth argument is the blit, which is True\n",
        "# the sixth argument is the fargs, which is a tuple of the line, x_vals, and y_vals\n",
        "# save the output to a variable ani \n",
        "...\n",
        "\n",
        "# Display the animation in Jupyter Notebook\n",
        "# use the HTML method to display the animation\n",
        "# extract the HTML from the animation object, using the to_jshtml method.\n",
        "# save the output to a variable html\n",
        "...\n",
        "\n",
        "out = plt.ion()\n",
        "\n",
        "# uncomment it to display the animation\n",
        "html\n",
        "\n"
      ]
    },
    {
      "cell_type": "code",
      "execution_count": null,
      "metadata": {
        "deletable": false,
        "editable": false,
        "tags": [
          "skip-execution"
        ]
      },
      "outputs": [],
      "source": [
        "grader.check(\"parameters-and-animation\")"
      ]
    },
    {
      "cell_type": "markdown",
      "metadata": {
        "deletable": false,
        "editable": false
      },
      "source": [
        "## Question 5 (Points: 63.0): \ud83d\udd25Battle of the Code Realms! \ud83c\udff0\u2694\ufe0f\n",
        "\n",
        "Deep in the mystical land of **Pythonia**, where logic and randomness collide, two mighty champions prepare for an epic showdown! \ud83c\udfc6\n",
        "\n",
        "\ud83d\udc4a **The Warrior** - A fearless brute with unshakable resolve, this battle-hardened fighter relies on **consistent, crushing blows** to vanquish foes. With **10 damage per swing**, they believe in **raw strength over fancy tricks**. No magic, no luck\u2014just *pure, unrelenting steel*! \u2694\ufe0f\ud83d\udca5\n",
        "\n",
        "\ud83d\udd25 **The Mage** - A cunning spellcaster who **harnesses the elements** to rain destruction on their enemies! Their attacks are **slightly weaker (8 damage)**, but watch out! There's a **30% chance** they'll unleash a devastating **Fireball** for an **extra 5 damage!** \ud83c\udf86 Will strategy and unpredictability triumph over brute force? \ud83e\uddd9\u200d\u2642\ufe0f\ud83d\udd25\n",
        "\n",
        "The **rules are simple**: **They fight until one drops!** Who will emerge victorious? The methodical Warrior? Or the chaotic, fireball-flinging Mage? \n",
        "\n",
        "\ud83d\udc80 **One shall stand. One shall fall.** \n",
        "\n",
        "\u26a1 **Let the battle begin!** \u26a1"
      ]
    },
    {
      "cell_type": "markdown",
      "metadata": {
        "deletable": false,
        "editable": false
      },
      "source": [
        "### Question 5-Part 1 (Points: 2.0): Importing Functions\n",
        "\n",
        "The first step in any python program is to import the necessary modules. In this question, you will import the necessary modules for the rest of the question.\n"
      ]
    },
    {
      "cell_type": "code",
      "execution_count": null,
      "metadata": {
        "tags": [
          "otter_answer_cell",
          "skip-execution"
        ]
      },
      "outputs": [],
      "source": [
        "# Import from the abc module, the ABC and abstractmethod classes\n",
        "...\n",
        "\n",
        "\n",
        "# Import the random module\n",
        "..."
      ]
    },
    {
      "cell_type": "code",
      "execution_count": null,
      "metadata": {
        "deletable": false,
        "editable": false,
        "tags": [
          "skip-execution"
        ]
      },
      "outputs": [],
      "source": [
        "grader.check(\"Importing-Functions\")"
      ]
    },
    {
      "cell_type": "markdown",
      "metadata": {
        "deletable": false,
        "editable": false
      },
      "source": [
        "### Question 5-Part 2 (Points: 12.0): Implementing the Character Class\n",
        "\n",
        "The character class is an abstract base class that defines the structure of a character in a role-playing game. It is a blueprint for creating specific character classes, such as Warrior and Mage."
      ]
    },
    {
      "cell_type": "code",
      "execution_count": null,
      "metadata": {
        "tags": [
          "otter_answer_cell",
          "skip-execution"
        ]
      },
      "outputs": [],
      "source": [
        "# create a character class that inherits from the ABC class - the abstract base class\n",
        "...\n",
        "    \"\"\"\n",
        "    The Character class is an abstract base class (ABC) that represents a character in a role-playing game (RPG).\n",
        "    This class cannot be instantiated directly and must be inherited by subclasses that implement the abstract methods.\n",
        "\n",
        "    Attributes:\n",
        "        name (str): The name of the character.\n",
        "        hp (int): The hit points (health points) of the character.\n",
        "\n",
        "    Methods:\n",
        "        __init__(self, name, hp):\n",
        "            Initializes a new character with the given name and hit points.\n",
        "        \n",
        "        take_damage(self, amount):\n",
        "            Reduces the character's hit points by the specified amount. If the hit points drop below zero, they are set to zero.\n",
        "        \n",
        "        attack(self, target):\n",
        "            Abstract method that must be implemented by subclasses. Represents an attack on a target character.\n",
        "    \"\"\"\n",
        "    ...\n",
        "        \"\"\"\n",
        "        Initializes a new character with the given name and hit points.\n",
        "\n",
        "        Args:\n",
        "            name (str): The name of the character.\n",
        "            hp (int): The hit points (health points) of the character.\n",
        "        \"\"\"\n",
        "        ...\n",
        "\n",
        "    ...\n",
        "    \n",
        "        \"\"\"\n",
        "        Reduces the character's hit points by the specified amount. If the hit points drop below zero, they are set to zero.\n",
        "\n",
        "        Args:\n",
        "            amount (int): The amount of damage to inflict on the character.\n",
        "        \"\"\"\n",
        "        ...\n",
        "\n",
        "    ...\n",
        "    \n",
        "        \"\"\"\n",
        "        Abstract method that must be implemented by subclasses. Represents an attack on a target character.\n",
        "\n",
        "        Args:\n",
        "            target (Character): The target character to attack.\n",
        "        \"\"\"\n",
        "        ..."
      ]
    },
    {
      "cell_type": "code",
      "execution_count": null,
      "metadata": {
        "deletable": false,
        "editable": false,
        "tags": [
          "skip-execution"
        ]
      },
      "outputs": [],
      "source": [
        "grader.check(\"Character-class\")"
      ]
    },
    {
      "cell_type": "markdown",
      "metadata": {
        "deletable": false,
        "editable": false
      },
      "source": [
        "### Question 5-Part 3 (Points: 11.0): Implementing the Warrior Class\n",
        "\n",
        "The Warrior class is a subclass of the Character class. It inherits the name and hp attributes from the Character class and implements the attack method.\n"
      ]
    },
    {
      "cell_type": "code",
      "execution_count": null,
      "metadata": {
        "tags": [
          "otter_answer_cell",
          "skip-execution"
        ]
      },
      "outputs": [],
      "source": [
        "...\n",
        "    \"\"\"\n",
        "    Warrior class that inherits from Character. Represents a warrior character in the RPG game.\n",
        "\n",
        "    Methods:\n",
        "        attack(target):\n",
        "            Attacks the target character, dealing a fixed amount of damage.\n",
        "\n",
        "    Attributes:\n",
        "        name (str): The name of the warrior.\n",
        "        hp (int): The hit points (health) of the warrior.\n",
        "    \"\"\"\n",
        "    ...\n",
        "        \"\"\"\n",
        "        Attacks the target character, dealing a fixed amount of damage.\n",
        "\n",
        "        Args:\n",
        "            target (Character): The target character to attack. The target must have a take_damage method and a name attribute.\n",
        "\n",
        "        The attack method performs the following steps:\n",
        "        1. Sets a fixed `damage` value of 10.\n",
        "        2. Calls the `take_damage` method on the target character, passing the `damage` value as an argument.\n",
        "        3. Prints a message indicating the attack, the damage dealt, and the target's remaining HP.\n",
        "\n",
        "        Example:\n",
        "            warrior = Warrior(name=\"Conan\", hp=100)\n",
        "            enemy = Character(name=\"Goblin\", hp=30)\n",
        "            warrior.attack(enemy)\n",
        "            # Output: \"Conan attacks Goblin for 10 damage! Goblin HP: 20\"\n",
        "        \"\"\"\n",
        "        ..."
      ]
    },
    {
      "cell_type": "code",
      "execution_count": null,
      "metadata": {
        "deletable": false,
        "editable": false,
        "tags": [
          "skip-execution"
        ]
      },
      "outputs": [],
      "source": [
        "grader.check(\"Implement-the-warrior-class\")"
      ]
    },
    {
      "cell_type": "markdown",
      "metadata": {
        "deletable": false,
        "editable": false
      },
      "source": [
        "### Question 5-Part 4 (Points: 14.0): Implementing the Mage Class\n",
        "\n",
        "The Mage class is a subclass of the Character class. It inherits the name and hp attributes from the Character class and implements the attack method."
      ]
    },
    {
      "cell_type": "code",
      "execution_count": null,
      "metadata": {
        "tags": [
          "otter_answer_cell",
          "skip-execution"
        ]
      },
      "outputs": [],
      "source": [
        "# implement the Mage class\n",
        "...\n",
        "    \"\"\"\n",
        "    Mage class inherits from Character and represents a mage character in the RPG game.\n",
        "\n",
        "    Methods:\n",
        "    - attack(target): Attacks the target character with a base damage and has a chance to deal extra fireball damage.\n",
        "\n",
        "    attack(target):\n",
        "        This method performs an attack on the target character. The attack consists of a base damage and a chance to deal extra fireball damage.\n",
        "        \n",
        "        Parameters:\n",
        "        - target (Character): The character that is being attacked.\n",
        "\n",
        "        The attack method works as follows:\n",
        "        1. Sets a fixed `base_damage` value of 8.\n",
        "        2. Calculates `fireball_extra` damage, which is an additional 5 damage with a 30% chance. You can use the `random.random()` function to generate a random number between 0 and 1.\n",
        "            - If the random number is less than 0.3, `fireball_extra` is set to 5.\n",
        "            - Otherwise, `fireball_extra` is set to 0.\n",
        "        3. Computes the `total_damage` as the sum of `base_damage` and `fireball_extra`.\n",
        "        4. Calls the `take_damage` method on the target character, passing the `total_damage` value as an argument.\n",
        "        5. If `fireball_extra` damage is applied, prints a message indicating that the mage casts Fireball.\n",
        "        6. Prints a message indicating the attack, the total damage dealt, and the target's remaining HP.\n",
        "\n",
        "        Example:\n",
        "            mage = Mage(name=\"Gandalf\", hp=80)\n",
        "            enemy = Character(name=\"Orc\", hp=50)\n",
        "            mage.attack(enemy)\n",
        "            # Output: \"Gandalf casts Fireball!\" (if fireball_extra damage is applied)\n",
        "            # Output: \"Gandalf attacks Orc for 13 damage! Orc HP: 37\" (example with fireball_extra damage)\n",
        "    \"\"\"\n",
        "    ..."
      ]
    },
    {
      "cell_type": "code",
      "execution_count": null,
      "metadata": {
        "deletable": false,
        "editable": false,
        "tags": [
          "skip-execution"
        ]
      },
      "outputs": [],
      "source": [
        "grader.check(\"Mage-class\")"
      ]
    },
    {
      "cell_type": "markdown",
      "metadata": {
        "deletable": false,
        "editable": false
      },
      "source": [
        "### Question 5-Part 5 (Points: 17.0): Battle Simulation\n",
        "\n",
        "This function simulates a battle between two characters until one of them is defeated. It prints the progress of the battle, including each attack made by the characters, the remaining HP of the characters after each attack, and the outcome of the battle."
      ]
    },
    {
      "cell_type": "code",
      "execution_count": null,
      "metadata": {
        "tags": [
          "otter_answer_cell",
          "skip-execution"
        ]
      },
      "outputs": [],
      "source": [
        "# define a function called battle that takes two parameters, character1 and character2\n",
        "...\n",
        "    \"\"\"\n",
        "    Simulates a battle between two characters until one of them is defeated.\n",
        "\n",
        "    Parameters:\n",
        "    character1 (Character): The first character participating in the battle. They deal damage first.\n",
        "    character2 (Character): The second character participating in the battle. They deal damage second.\n",
        "    \n",
        "    Note: if a character has 0 HP or less, they are considered defeated and the battle ends, immediately printing the outcome of the battle.\n",
        "\n",
        "    The function will print the progress of the battle, including:\n",
        "    - The start of the battle with the message \"Battle Start!\".\n",
        "    - Each attack made by the characters, including the attacker's name, the target's name, the damage dealt, and the target's remaining HP.\n",
        "    - The remaining HP of the characters after each attack.\n",
        "    - The outcome of the battle, indicating which character has been defeated and which one is the winner, with messages like \"{character_name} has been defeated! {winner_name} wins!\".\n",
        "\n",
        "    Example Outputs:\n",
        "    - \"Battle Start!\"\n",
        "    - \"Gandalf attacks Orc for 13 damage! Orc HP: 37\"\n",
        "    - \"Orc attacks Gandalf for 10 damage! Gandalf HP: 40\"\n",
        "    - \"Gandalf casts Fireball!\"\n",
        "    - \"Gandalf attacks Orc for 18 damage! Orc HP: 19\"\n",
        "    - \"Orc attacks Gandalf for 12 damage! Gandalf HP: 28\"\n",
        "    - \"Orc has been defeated! Gandalf wins!\"\n",
        "\n",
        "    The battle continues in a loop until one of the characters' HP reaches 0.\n",
        "    \"\"\"\n",
        "    ..."
      ]
    },
    {
      "cell_type": "code",
      "execution_count": null,
      "metadata": {
        "deletable": false,
        "editable": false,
        "tags": [
          "skip-execution"
        ]
      },
      "outputs": [],
      "source": [
        "grader.check(\"battle-function\")"
      ]
    },
    {
      "cell_type": "markdown",
      "metadata": {
        "deletable": false,
        "editable": false
      },
      "source": [
        "### Question 5-Part 6 (Points: 2.0): Calling the Function"
      ]
    },
    {
      "cell_type": "code",
      "execution_count": null,
      "metadata": {
        "tags": [
          "otter_answer_cell",
          "skip-execution"
        ]
      },
      "outputs": [],
      "source": [
        "# Create characters\n",
        "# instantiate the Warrior and Mage classes with the warrior name \"Conan\" and the mage name \"Gandalf\", \n",
        "# and 100 and 90 hit points respectively\n",
        "..."
      ]
    },
    {
      "cell_type": "code",
      "execution_count": null,
      "metadata": {
        "deletable": false,
        "editable": false,
        "tags": [
          "skip-execution"
        ]
      },
      "outputs": [],
      "source": [
        "grader.check(\"calling-the-function\")"
      ]
    },
    {
      "cell_type": "markdown",
      "metadata": {
        "deletable": false,
        "editable": false
      },
      "source": [
        "### Question 5-Part 7 (Points: 5.0): Battle Simulation\n",
        "\n",
        "Makes the characters battle each other."
      ]
    },
    {
      "cell_type": "code",
      "execution_count": null,
      "metadata": {
        "tags": [
          "otter_answer_cell",
          "skip-execution"
        ]
      },
      "outputs": [],
      "source": [
        "# Start the battle between the warrior and the mage, where the warrior deals damage first and the mage deals damage second\n",
        "..."
      ]
    },
    {
      "cell_type": "code",
      "execution_count": null,
      "metadata": {
        "deletable": false,
        "editable": false,
        "tags": [
          "skip-execution"
        ]
      },
      "outputs": [],
      "source": [
        "grader.check(\"battle-simulation-test\")"
      ]
    },
    {
      "cell_type": "markdown",
      "metadata": {
        "deletable": false,
        "editable": false
      },
      "source": [
        "## Question 6 (Points: 59.0): Image Classification Using Random Forests\n",
        "\n",
        "### Overview\n",
        "\n",
        "This question focuses on building an image classification model using **Scikit-Image** and **Scikit-Learn**. The task involves loading grayscale images, extracting edge-based features, and training a **Random Forest classifier** to distinguish between two classes: **cats and dogs**.\n",
        "\n",
        "#### 1. **Loading Images**\n",
        "The function `load_images_from_folder(folder, label, size=(128, 128))` reads all images from a given folder, converts them to grayscale, applies transformations, and stores them as feature vectors.\n",
        "\n",
        "#### 2. **Image Preprocessing**\n",
        "The `image_transformation(size, img)` function:\n",
        "- **Resizes** images to a standard shape (128x128 pixels).\n",
        "- Applies **Canny edge detection** to capture contour-based features.\n",
        "- Flattens the resulting image into a **1D feature vector** for model training.\n",
        "\n",
        "#### 3. **Dataset Construction**\n",
        "Images of **cats** (label = 0) and **dogs** (label = 1) are loaded from respective directories, combined into `X` (features) and `y` (labels).\n",
        "\n",
        "#### 4. **Splitting Data**\n",
        "A **train-test split** (80% training, 20% testing) is performed using `train_test_split`.\n",
        "\n",
        "#### 5. **Training a Random Forest Model**\n",
        "A **Random Forest classifier** with 100 trees is trained using the extracted features.\n",
        "\n",
        "#### 6. **Evaluating Performance**\n",
        "The accuracy of the model is printed for both **training and test sets** to assess generalization.\n"
      ]
    },
    {
      "cell_type": "markdown",
      "metadata": {
        "deletable": false,
        "editable": false
      },
      "source": [
        "### Question 6-Part 1 (Points: 4.0): Import Statements\n",
        "\n",
        "The first step of any data science project is to import the necessary libraries.\n",
        "\n",
        "Import the following libraries:\n",
        "- `os`\n",
        "- `numpy` as `np`\n",
        "- `matplotlib.pyplot` as `plt`\n",
        "- from `skimage` import `io`, `color`, `transform`, `feature`\n",
        "- from `sklearn.ensemble` import `RandomForestClassifier`\n",
        "- from `sklearn.model_selection` import `train_test_split`\n"
      ]
    },
    {
      "cell_type": "code",
      "execution_count": null,
      "metadata": {
        "tags": [
          "otter_answer_cell",
          "skip-execution"
        ]
      },
      "outputs": [],
      "source": [
        "...\n",
        "\n",
        "import shutil\n",
        "\n",
        "# this unzips the datasets.zip file into the datasets folder\n",
        "# do not modify this code\n",
        "shutil.unpack_archive('datasets.zip', 'datasets')"
      ]
    },
    {
      "cell_type": "code",
      "execution_count": null,
      "metadata": {
        "deletable": false,
        "editable": false,
        "tags": [
          "skip-execution"
        ]
      },
      "outputs": [],
      "source": [
        "grader.check(\"import-statements\")"
      ]
    },
    {
      "cell_type": "markdown",
      "metadata": {
        "deletable": false,
        "editable": false
      },
      "source": [
        "### Question 6-Part 2 (Points: 14.0): Image Transformation\n",
        "\n",
        "Machine learning models expect that data has a certain shape, however sometimes images have a different shape. They need to be transformed to match the shape of the model. In this case we are going to use a random forest classifier, which expects a 1D feature vector.\n",
        "\n",
        "Define the `image_transformation(size, img)` function that:\n",
        "- Resizes the image to the given size.\n",
        "- Applies Canny edge detection to the image.\n",
        "- Flattens the resulting image into a 1D feature vector."
      ]
    },
    {
      "cell_type": "code",
      "execution_count": null,
      "metadata": {
        "tags": [
          "otter_answer_cell",
          "skip-execution"
        ]
      },
      "outputs": [],
      "source": [
        "# Define the image_transformation function\n",
        "# it should take a size and an image\n",
        "...\n",
        "\n",
        "    # use the transform.resize function to resize the image to the given size\n",
        "    # set the anti_aliasing parameter to True\n",
        "    ...\n",
        "    \n",
        "    # use the feature.canny function to apply canny edge detection to the image\n",
        "    ...\n",
        "    \n",
        "    # flatten the resulting image into a 1D feature vector\n",
        "    ...\n",
        "    \n",
        "    # return the flattened image\n",
        "    ..."
      ]
    },
    {
      "cell_type": "code",
      "execution_count": null,
      "metadata": {
        "deletable": false,
        "editable": false,
        "tags": [
          "skip-execution"
        ]
      },
      "outputs": [],
      "source": [
        "grader.check(\"image-transformation\")"
      ]
    },
    {
      "cell_type": "markdown",
      "metadata": {
        "deletable": false,
        "editable": false
      },
      "source": [
        "### Question 6-Part 3 (Points: 11.0): Loading Images from Folder\n",
        "\n",
        "It is important to build a utility function that can load images from a folder and return a list of images and their corresponding labels.\n",
        "\n",
        "Define the `load_images_from_folder(folder, label, size=(128, 128))` function that:\n",
        "- Takes a folder path, a label, and an optional size parameter (default is (128, 128)).\n",
        "- Reads all images from the folder and converts them to grayscale.\n",
        "- Applies the `image_transformation` function to each image.\n",
        "- Returns a list of images and their corresponding labels."
      ]
    },
    {
      "cell_type": "code",
      "execution_count": null,
      "metadata": {
        "tags": [
          "otter_answer_cell",
          "skip-execution"
        ]
      },
      "outputs": [],
      "source": [
        "# Define the load_images_from_folder function\n",
        "# it should take a folder path, a label, and an optional size parameter (default is (128, 128))\n",
        "...\n",
        "    \"\"\"\n",
        "    Load images from a folder, convert them to grayscale, apply image transformation, and return a list of images and their corresponding labels.\n",
        "\n",
        "    Parameters:\n",
        "    folder (str): The path to the folder containing images.\n",
        "    label (str): The label to assign to each image.\n",
        "    size (tuple): The size to which each image will be resized (default is (128, 128)).\n",
        "\n",
        "    Returns:\n",
        "    list: A list of transformed images.\n",
        "    list: A list of labels corresponding to each image.\n",
        "    \"\"\"\n",
        "    # build an empty list to store the images and labels\n",
        "    ...\n",
        "    # loop through the images in the folder\n",
        "    # you can use os.listdir(folder) to get the list of images\n",
        "   \n",
        "    ...\n",
        "    \n",
        "        # you can use os.path.join(folder, filename) to get the path to the image\n",
        "        ...\n",
        "        \n",
        "        # read the image using the io.imread function, set the optional argument as_gray to True\n",
        "        ...\n",
        "        \n",
        "        # check if the image is not None\n",
        "        ...\n",
        "            \n",
        "            # apply the image_transformation function to the image\n",
        "            # image_transformation is defined in the previous cell, as a global function\n",
        "            ...\n",
        "            \n",
        "            # append the transformed image and the label to the lists\n",
        "            ...\n",
        "    \n",
        "    # return the lists of images and labels\n",
        "    ...\n"
      ]
    },
    {
      "cell_type": "code",
      "execution_count": null,
      "metadata": {
        "deletable": false,
        "editable": false,
        "tags": [
          "skip-execution"
        ]
      },
      "outputs": [],
      "source": [
        "grader.check(\"load-images-from-folder\")"
      ]
    },
    {
      "cell_type": "markdown",
      "metadata": {
        "deletable": false,
        "editable": false
      },
      "source": [
        "### Question 6-Part 4 (Points: 30.0): Training and Evaluating the Model\n",
        "\n",
        "In this section we will train a random forest classifier and evaluate its performance.\n",
        "\n",
        "We will use the `load_images_from_folder` function to load the images and the `image_transformation` function to transform the images.\n",
        "\n",
        "Note: You will need to analyze the results of your model given the hyperparameters provided. It is helpful to first train your model and then build a seperate cell to analyze the results. In this way you do not need to retrain the model every time you want to change the analysis of the results."
      ]
    },
    {
      "cell_type": "code",
      "execution_count": null,
      "metadata": {
        "tags": [
          "otter_answer_cell",
          "skip-execution"
        ]
      },
      "outputs": [],
      "source": [
        "np.random.seed(42)\n",
        "\n",
        "# Load cats and dogs data\n",
        "# use the load_images_from_folder function to load the images and the image_transformation function to transform the images\n",
        "# the data is stored in the datasets/train/cats and datasets/train/dogs folders\n",
        "# the labels are 0 for cats and 1 for dogs\n",
        "# the size of the images is 128x128\n",
        "# you need to save the results to the variables cat_images, cat_labels, dog_images, and dog_labels\n",
        "...\n",
        "\n",
        "# Combine data\n",
        "# you need to combine the cat_images and dog_images into a single variable X\n",
        "# you need to combine the cat_labels and dog_labels into a single variable y\n",
        "# you can use the + operator to combine the lists\n",
        "...\n",
        "\n",
        "# Train-test split\n",
        "# you need to split the data into training and testing sets\n",
        "# you can use the train_test_split function to do this\n",
        "# the test size is 0.2 and the random state is 42\n",
        "# you should save the results to the variables X_train, X_test, y_train, and y_test\n",
        "...\n",
        "\n",
        "# Train Random Forest model\n",
        "# you need to train a random forest classifier\n",
        "# you can use the RandomForestClassifier function to do this\n",
        "# the number of estimators is 100 and the random state is 42\n",
        "# you should save the results to the variable rf_model\n",
        "...\n"
      ]
    },
    {
      "cell_type": "code",
      "execution_count": null,
      "metadata": {
        "tags": [
          "otter_answer_cell",
          "skip-execution"
        ]
      },
      "outputs": [],
      "source": [
        "# This is a place where you can analyze the results of your model\n",
        "\n",
        "..."
      ]
    },
    {
      "cell_type": "code",
      "execution_count": null,
      "metadata": {
        "deletable": false,
        "editable": false,
        "tags": [
          "skip-execution"
        ]
      },
      "outputs": [],
      "source": [
        "grader.check(\"Train-and-evaluate-model\")"
      ]
    },
    {
      "cell_type": "code",
      "execution_count": null,
      "metadata": {
        "tags": [
          "skip-execution"
        ]
      },
      "outputs": [],
      "source": [
        "# Run this block of code by pressing Shift + Enter to display the question\n",
        "from questions._1_practicefinal_q import Question7\n",
        "Question7().show()\n"
      ]
    },
    {
      "cell_type": "markdown",
      "metadata": {
        "deletable": false,
        "editable": false
      },
      "source": [
        "## Question 8 (Points: 60.0): \ud83c\udfaf BONUS: Sudoku Solver \u2013 A Fun & Friendly Guide \u2728\n",
        "\n",
        "### \ud83d\udccc **How Does It Work?**\n",
        "A Sudoku puzzle consists of a **9\u00d79 grid** where each row, column, and **3\u00d73 box** must contain the numbers **1 to 9** exactly **once**. Empty spaces are marked with `'.'`, and our goal is to fill them correctly!\n",
        "\n",
        "### \ud83d\udd22 **Steps to Solve Sudoku**\n",
        "1. **Find an Empty Spot**  \n",
        "   - Look for a cell with `'.'` (empty space). \ud83d\udd75\ufe0f\n",
        "\n",
        "2. **Try a Digit**  \n",
        "   - Place a number from **1 to 9** and check:\n",
        "     \u2705 No duplicates in the **row**  \n",
        "     \u2705 No duplicates in the **column**  \n",
        "     \u2705 No duplicates in the **3\u00d73 box**  \n",
        "\n",
        "3. **Validate the Choice**  \n",
        "   - If the digit **follows the rules**, keep it!  \n",
        "   - If **not**, remove it and try the next number.  \n",
        "\n",
        "4. **Backtrack if Stuck**  \n",
        "   - If no valid digit fits, **go back to the last step** and try a different number. \ud83d\udd04  \n",
        "\n",
        "5. **Repeat Until Solved**  \n",
        "   - Continue the process until the board is completely filled. \ud83c\udf89  \n",
        "\n",
        "\n",
        "### \ud83e\udde9 **Example Input & Output**\n",
        "\n",
        "#### \u2705 **Input Puzzle:**\n",
        "### Example 1\n",
        " \n",
        " **Input:** \n",
        " \n",
        "```py\n",
        "board = [\n",
        "    [\"5\",\"3\",\".\",\".\",\"7\",\".\",\".\",\".\",\".\"],\n",
        "    [\"6\",\".\",\".\",\"1\",\"9\",\"5\",\".\",\".\",\".\"],\n",
        "    [\".\",\"9\",\"8\",\".\",\".\",\".\",\".\",\"6\",\".\"],\n",
        "    [\"8\",\".\",\".\",\".\",\"6\",\".\",\".\",\".\",\"3\"],\n",
        "    [\"4\",\".\",\".\",\"8\",\".\",\"3\",\".\",\".\",\"1\"],\n",
        "    [\"7\",\".\",\".\",\".\",\"2\",\".\",\".\",\".\",\"6\"],\n",
        "    [\".\",\"6\",\".\",\".\",\".\",\".\",\"2\",\"8\",\".\"],\n",
        "    [\".\",\".\",\".\",\"4\",\"1\",\"9\",\".\",\".\",\"5\"],\n",
        "    [\".\",\".\",\".\",\".\",\"8\",\".\",\".\",\"7\",\"9\"]\n",
        "]\n",
        "```\n",
        "\n",
        "**Output:**\n",
        "\n",
        "```bash\n",
        "[\n",
        "    [\"5\",\"3\",\"4\",\"6\",\"7\",\"8\",\"9\",\"1\",\"2\"],\n",
        "    [\"6\",\"7\",\"2\",\"1\",\"9\",\"5\",\"3\",\"4\",\"8\"],\n",
        "    [\"1\",\"9\",\"8\",\"3\",\"4\",\"2\",\"5\",\"6\",\"7\"],\n",
        "    [\"8\",\"5\",\"9\",\"7\",\"6\",\"1\",\"4\",\"2\",\"3\"],\n",
        "    [\"4\",\"2\",\"6\",\"8\",\"5\",\"3\",\"7\",\"9\",\"1\"],\n",
        "    [\"7\",\"1\",\"3\",\"9\",\"2\",\"4\",\"8\",\"5\",\"6\"],\n",
        "    [\"9\",\"6\",\"1\",\"5\",\"3\",\"7\",\"2\",\"8\",\"4\"],\n",
        "    [\"2\",\"8\",\"7\",\"4\",\"1\",\"9\",\"6\",\"3\",\"5\"],\n",
        "    [\"3\",\"4\",\"5\",\"2\",\"8\",\"6\",\"1\",\"7\",\"9\"]\n",
        "]\n",
        "```\n",
        "\n",
        "**Explanation:** The input board is shown above and the only valid solution is shown below.\n",
        "\n",
        "### Constraints\n",
        "\n",
        "- `board.length == 9`\n",
        "- `board[i].length == 9`\n",
        "- `board[i][j]` is a digit or `'.'`.\n",
        "- It is guaranteed that the input board has only one solution.\n",
        "\n",
        "Your code should implement a class `Solution` with a method `solveSudoku` that takes a 2D list of strings as input and returns a 2D list of strings as output. The output should be the solved sudoku board."
      ]
    },
    {
      "cell_type": "code",
      "execution_count": null,
      "metadata": {
        "tags": [
          "otter_answer_cell",
          "skip-execution"
        ]
      },
      "outputs": [],
      "source": [
        "# import required libraries\n",
        "from typing import List\n",
        "# define the Solution class\n",
        "class Solution:\n",
        "    # Function to solve the Sudoku puzzle\n",
        "    def solveSudoku(self, board: List[List[str]]) -> None:\n",
        "..."
      ]
    },
    {
      "cell_type": "code",
      "execution_count": null,
      "metadata": {
        "deletable": false,
        "editable": false,
        "tags": [
          "skip-execution"
        ]
      },
      "outputs": [],
      "source": [
        "grader.check(\"sudoku_solver\")"
      ]
    },
    {
      "cell_type": "markdown",
      "id": "65ed4b0e",
      "metadata": {},
      "source": [
        "## Submitting Assignment\n",
        "\n",
        "Please run the following block of code using `shift + enter` to submit your assignment, you should see your score."
      ]
    },
    {
      "cell_type": "code",
      "execution_count": null,
      "id": "adce6e54",
      "metadata": {
        "deletable": false,
        "editable": true,
        "tags": [
          "skip-execution"
        ]
      },
      "outputs": [],
      "source": [
        "from pykubegrader.submit.submit_assignment import submit_assignment\n",
        "\n",
        "submit_assignment(\"week10-practicefinal\", \"1_practicefinal_q\")"
      ]
    }
  ],
  "metadata": {
    "kernelspec": {
      "display_name": "Python 3",
      "language": "python",
      "name": "python3"
    },
    "language_info": {
      "codemirror_mode": {
        "name": "ipython",
        "version": 3
      },
      "file_extension": ".py",
      "mimetype": "text/x-python",
      "name": "python",
      "nbconvert_exporter": "python",
      "pygments_lexer": "ipython3",
      "version": "3.12.9"
    },
    "otter": {
      "OK_FORMAT": true,
      "tests": {
        "Character-class": {
          "name": "Character-class",
          "points": null,
          "suites": [
            {
              "cases": [
                {
                  "code": ">>> from pykubegrader.telemetry import ensure_responses, log_variable, score_question, submit_question, telemetry, update_responses\n>>> import os\n>>> import base64\n>>> import matplotlib\n>>> import matplotlib\n>>> max_question_points = str(12.0)\n>>> earned_points = 0\n>>> os.environ['EARNED_POINTS'] = str(earned_points)\n>>> os.environ['TOTAL_POINTS_FREE_RESPONSE'] = str(376.0)\n>>> log_variable('total-points', f'week10-practicefinal, 1_practicefinal_q', 376.0)\n>>> question_id = 'Character-class-1'\n>>> max_score = 1.0\n>>> score = 0\n>>> matplotlib.use('Agg')\n>>> condition = 'Character' in globals()\n>>> assert condition, 'Character class is not defined.'\n>>> if condition:\n...     score = 1.0\n>>> earned_points = float(os.environ.get('EARNED_POINTS', 0))\n>>> earned_points += score\n>>> log_variable('1_practicefinal_q', f'{score}, {max_score}', question_id)\n>>> os.environ['EARNED_POINTS'] = str(earned_points)\n",
                  "failure_message": "Character class is not defined or incorrect.",
                  "hidden": false,
                  "locked": false,
                  "points": 1,
                  "success_message": "Success: Character class is defined correctly."
                },
                {
                  "code": ">>> from pykubegrader.telemetry import ensure_responses, log_variable, score_question, submit_question, telemetry, update_responses\n>>> import os\n>>> import base64\n>>> import matplotlib\n>>> import matplotlib\n>>> question_id = 'Character-class-2'\n>>> max_score = 1.0\n>>> score = 0\n>>> matplotlib.use('Agg')\n>>> condition = issubclass(Character, ABC)\n>>> assert condition, 'Character does not inherit from ABC.'\n>>> if condition:\n...     score = 1.0\n>>> earned_points = float(os.environ.get('EARNED_POINTS', 0))\n>>> earned_points += score\n>>> log_variable('1_practicefinal_q', f'{score}, {max_score}', question_id)\n>>> os.environ['EARNED_POINTS'] = str(earned_points)\n",
                  "failure_message": "Character class does not inherit from ABC.",
                  "hidden": false,
                  "locked": false,
                  "points": 1,
                  "success_message": "Success: Character class inherits from ABC."
                },
                {
                  "code": ">>> from pykubegrader.telemetry import ensure_responses, log_variable, score_question, submit_question, telemetry, update_responses\n>>> import os\n>>> import base64\n>>> import matplotlib\n>>> import matplotlib\n>>> question_id = 'Character-class-3'\n>>> max_score = 1.0\n>>> score = 0\n>>> matplotlib.use('Agg')\n>>> condition = hasattr(Character, '__init__')\n>>> assert condition, 'Character class is missing __init__ method.'\n>>> if condition:\n...     score = 1.0\n>>> earned_points = float(os.environ.get('EARNED_POINTS', 0))\n>>> earned_points += score\n>>> log_variable('1_practicefinal_q', f'{score}, {max_score}', question_id)\n>>> os.environ['EARNED_POINTS'] = str(earned_points)\n",
                  "failure_message": "Character class is missing __init__ method.",
                  "hidden": false,
                  "locked": false,
                  "points": 1,
                  "success_message": "Success: Character class has an __init__ method."
                },
                {
                  "code": ">>> from pykubegrader.telemetry import ensure_responses, log_variable, score_question, submit_question, telemetry, update_responses\n>>> import os\n>>> import base64\n>>> import matplotlib\n>>> import matplotlib\n>>> question_id = 'Character-class-4'\n>>> max_score = 1.0\n>>> score = 0\n>>> matplotlib.use('Agg')\n>>> condition = 'name' in Character.__init__.__code__.co_varnames\n>>> assert condition, \"__init__ method does not accept 'name' argument.\"\n>>> if condition:\n...     score = 1.0\n>>> earned_points = float(os.environ.get('EARNED_POINTS', 0))\n>>> earned_points += score\n>>> log_variable('1_practicefinal_q', f'{score}, {max_score}', question_id)\n>>> os.environ['EARNED_POINTS'] = str(earned_points)\n",
                  "failure_message": "__init__ method does not accept 'name' argument.",
                  "hidden": false,
                  "locked": false,
                  "points": 1,
                  "success_message": "Success: __init__ method correctly accepts 'name' argument."
                },
                {
                  "code": ">>> from pykubegrader.telemetry import ensure_responses, log_variable, score_question, submit_question, telemetry, update_responses\n>>> import os\n>>> import base64\n>>> import matplotlib\n>>> import matplotlib\n>>> question_id = 'Character-class-5'\n>>> max_score = 1.0\n>>> score = 0\n>>> matplotlib.use('Agg')\n>>> condition = 'hp' in Character.__init__.__code__.co_varnames\n>>> assert condition, \"__init__ method does not accept 'hp' argument.\"\n>>> if condition:\n...     score = 1.0\n>>> earned_points = float(os.environ.get('EARNED_POINTS', 0))\n>>> earned_points += score\n>>> log_variable('1_practicefinal_q', f'{score}, {max_score}', question_id)\n>>> os.environ['EARNED_POINTS'] = str(earned_points)\n",
                  "failure_message": "__init__ method does not accept 'hp' argument.",
                  "hidden": false,
                  "locked": false,
                  "points": 1,
                  "success_message": "Success: __init__ method correctly accepts 'hp' argument."
                },
                {
                  "code": ">>> from pykubegrader.telemetry import ensure_responses, log_variable, score_question, submit_question, telemetry, update_responses\n>>> import os\n>>> import base64\n>>> import matplotlib\n>>> import matplotlib\n>>> question_id = 'Character-class-6'\n>>> max_score = 1.0\n>>> score = 0\n>>> matplotlib.use('Agg')\n>>> condition = hasattr(Character, 'take_damage')\n>>> assert condition, 'Character class is missing take_damage method.'\n>>> if condition:\n...     score = 1.0\n>>> earned_points = float(os.environ.get('EARNED_POINTS', 0))\n>>> earned_points += score\n>>> log_variable('1_practicefinal_q', f'{score}, {max_score}', question_id)\n>>> os.environ['EARNED_POINTS'] = str(earned_points)\n",
                  "failure_message": "Character class is missing take_damage method.",
                  "hidden": false,
                  "locked": false,
                  "points": 1,
                  "success_message": "Success: take_damage method exists."
                },
                {
                  "code": ">>> from pykubegrader.telemetry import ensure_responses, log_variable, score_question, submit_question, telemetry, update_responses\n>>> import os\n>>> import base64\n>>> import matplotlib\n>>> import matplotlib\n>>> question_id = 'Character-class-7'\n>>> max_score = 1.0\n>>> score = 0\n>>> matplotlib.use('Agg')\n>>> condition = callable(getattr(Character, 'take_damage'))\n>>> assert condition, 'take_damage is not a method.'\n>>> if condition:\n...     score = 1.0\n>>> earned_points = float(os.environ.get('EARNED_POINTS', 0))\n>>> earned_points += score\n>>> log_variable('1_practicefinal_q', f'{score}, {max_score}', question_id)\n>>> os.environ['EARNED_POINTS'] = str(earned_points)\n",
                  "failure_message": "take_damage is not a method.",
                  "hidden": false,
                  "locked": false,
                  "points": 1,
                  "success_message": "Success: take_damage method is callable."
                },
                {
                  "code": ">>> from pykubegrader.telemetry import ensure_responses, log_variable, score_question, submit_question, telemetry, update_responses\n>>> import os\n>>> import base64\n>>> import matplotlib\n>>> import matplotlib\n>>> question_id = 'Character-class-8'\n>>> max_score = 1.0\n>>> score = 0\n>>> matplotlib.use('Agg')\n>>> class TestCharacter(Character):\n...     def attack(self):\n...         pass\n>>> char = TestCharacter('Test', 10)\n>>> char.hp = 10\n>>> char.take_damage(3)\n>>> condition = char.hp == 7\n>>> assert condition, 'take_damage did not reduce hp correctly.'\n>>> if condition:\n...     score = 1.0\n>>> earned_points = float(os.environ.get('EARNED_POINTS', 0))\n>>> earned_points += score\n>>> log_variable('1_practicefinal_q', f'{score}, {max_score}', question_id)\n>>> os.environ['EARNED_POINTS'] = str(earned_points)\n",
                  "failure_message": "take_damage does not reduce hp correctly.",
                  "hidden": false,
                  "locked": false,
                  "points": 1,
                  "success_message": "Success: take_damage correctly reduces hp."
                },
                {
                  "code": ">>> from pykubegrader.telemetry import ensure_responses, log_variable, score_question, submit_question, telemetry, update_responses\n>>> import os\n>>> import base64\n>>> import matplotlib\n>>> import matplotlib\n>>> question_id = 'Character-class-9'\n>>> max_score = 1.0\n>>> score = 0\n>>> matplotlib.use('Agg')\n>>> class TestCharacter(Character):\n...     def attack(self):\n...         pass\n>>> char = TestCharacter('Test', 10)\n>>> char.hp = 10\n>>> char.take_damage(10)\n>>> condition = char.hp == 0\n>>> assert condition, 'take_damage did not prevent hp from going below zero.'\n>>> if condition:\n...     score = 1.0\n>>> earned_points = float(os.environ.get('EARNED_POINTS', 0))\n>>> earned_points += score\n>>> log_variable('1_practicefinal_q', f'{score}, {max_score}', question_id)\n>>> os.environ['EARNED_POINTS'] = str(earned_points)\n",
                  "failure_message": "take_damage does not prevent hp from going below zero.",
                  "hidden": false,
                  "locked": false,
                  "points": 1,
                  "success_message": "Success: take_damage prevents hp from going below zero."
                },
                {
                  "code": ">>> from pykubegrader.telemetry import ensure_responses, log_variable, score_question, submit_question, telemetry, update_responses\n>>> import os\n>>> import base64\n>>> import matplotlib\n>>> import matplotlib\n>>> question_id = 'Character-class-10'\n>>> max_score = 1.0\n>>> score = 0\n>>> matplotlib.use('Agg')\n>>> condition = hasattr(Character, 'attack')\n>>> assert condition, 'Character class is missing attack method.'\n>>> if condition:\n...     score = 1.0\n>>> earned_points = float(os.environ.get('EARNED_POINTS', 0))\n>>> earned_points += score\n>>> log_variable('1_practicefinal_q', f'{score}, {max_score}', question_id)\n>>> os.environ['EARNED_POINTS'] = str(earned_points)\n",
                  "failure_message": "Character class is missing attack method.",
                  "hidden": false,
                  "locked": false,
                  "points": 1,
                  "success_message": "Success: attack method exists."
                },
                {
                  "code": ">>> from pykubegrader.telemetry import ensure_responses, log_variable, score_question, submit_question, telemetry, update_responses\n>>> import os\n>>> import base64\n>>> import matplotlib\n>>> import matplotlib\n>>> question_id = 'Character-class-11'\n>>> max_score = 1.0\n>>> score = 0\n>>> matplotlib.use('Agg')\n>>> condition = callable(getattr(Character, 'attack'))\n>>> assert condition, 'attack is not a method.'\n>>> if condition:\n...     score = 1.0\n>>> earned_points = float(os.environ.get('EARNED_POINTS', 0))\n>>> earned_points += score\n>>> log_variable('1_practicefinal_q', f'{score}, {max_score}', question_id)\n>>> os.environ['EARNED_POINTS'] = str(earned_points)\n",
                  "failure_message": "attack is not a method.",
                  "hidden": false,
                  "locked": false,
                  "points": 1,
                  "success_message": "Success: attack method is callable."
                },
                {
                  "code": ">>> from pykubegrader.telemetry import ensure_responses, log_variable, score_question, submit_question, telemetry, update_responses\n>>> import os\n>>> import base64\n>>> import matplotlib\n>>> import matplotlib\n>>> question_id = 'Character-class-12'\n>>> max_score = 1.0\n>>> score = 0\n>>> matplotlib.use('Agg')\n>>> condition = 'attack' in Character.__abstractmethods__\n>>> assert condition, 'attack method is not abstract.'\n>>> if condition:\n...     score = 1.0\n>>> earned_points = float(os.environ.get('EARNED_POINTS', 0))\n>>> earned_points += score\n>>> log_variable('1_practicefinal_q', f'{score}, {max_score}', question_id)\n>>> os.environ['EARNED_POINTS'] = str(earned_points)\n",
                  "failure_message": "attack method is not abstract.",
                  "hidden": false,
                  "locked": false,
                  "points": 1,
                  "success_message": "Success: attack method is abstract."
                }
              ],
              "scored": true,
              "setup": "",
              "teardown": "",
              "type": "doctest"
            }
          ]
        },
        "Implement-the-warrior-class": {
          "name": "Implement-the-warrior-class",
          "points": null,
          "suites": [
            {
              "cases": [
                {
                  "code": ">>> from pykubegrader.telemetry import ensure_responses, log_variable, score_question, submit_question, telemetry, update_responses\n>>> import os\n>>> import base64\n>>> import matplotlib\n>>> import matplotlib\n>>> max_question_points = str(11.0)\n>>> earned_points = 0\n>>> os.environ['EARNED_POINTS'] = str(earned_points)\n>>> os.environ['TOTAL_POINTS_FREE_RESPONSE'] = str(376.0)\n>>> log_variable('total-points', f'week10-practicefinal, 1_practicefinal_q', 376.0)\n>>> question_id = 'Implement-the-warrior-class-1'\n>>> max_score = 1.0\n>>> score = 0\n>>> matplotlib.use('Agg')\n>>> condition = 'Warrior' in globals()\n>>> assert condition, 'Warrior class is not defined.'\n>>> if condition:\n...     score = 1.0\n>>> earned_points = float(os.environ.get('EARNED_POINTS', 0))\n>>> earned_points += score\n>>> log_variable('1_practicefinal_q', f'{score}, {max_score}', question_id)\n>>> os.environ['EARNED_POINTS'] = str(earned_points)\n",
                  "failure_message": "Warrior class is not defined or incorrect.",
                  "hidden": false,
                  "locked": false,
                  "points": 1,
                  "success_message": "Success: Warrior class is defined correctly."
                },
                {
                  "code": ">>> from pykubegrader.telemetry import ensure_responses, log_variable, score_question, submit_question, telemetry, update_responses\n>>> import os\n>>> import base64\n>>> import matplotlib\n>>> import matplotlib\n>>> question_id = 'Implement-the-warrior-class-2'\n>>> max_score = 1.0\n>>> score = 0\n>>> matplotlib.use('Agg')\n>>> condition = issubclass(Warrior, Character)\n>>> assert condition, 'Warrior does not inherit from Character.'\n>>> if condition:\n...     score = 1.0\n>>> earned_points = float(os.environ.get('EARNED_POINTS', 0))\n>>> earned_points += score\n>>> log_variable('1_practicefinal_q', f'{score}, {max_score}', question_id)\n>>> os.environ['EARNED_POINTS'] = str(earned_points)\n",
                  "failure_message": "Warrior class does not inherit from Character.",
                  "hidden": false,
                  "locked": false,
                  "points": 1,
                  "success_message": "Success: Warrior class inherits from Character."
                },
                {
                  "code": ">>> from pykubegrader.telemetry import ensure_responses, log_variable, score_question, submit_question, telemetry, update_responses\n>>> import os\n>>> import base64\n>>> import matplotlib\n>>> import matplotlib\n>>> question_id = 'Implement-the-warrior-class-3'\n>>> max_score = 1.0\n>>> score = 0\n>>> matplotlib.use('Agg')\n>>> condition = hasattr(Warrior, 'attack')\n>>> assert condition, 'Warrior class is missing attack method.'\n>>> if condition:\n...     score = 1.0\n>>> earned_points = float(os.environ.get('EARNED_POINTS', 0))\n>>> earned_points += score\n>>> log_variable('1_practicefinal_q', f'{score}, {max_score}', question_id)\n>>> os.environ['EARNED_POINTS'] = str(earned_points)\n",
                  "failure_message": "Warrior class is missing attack method.",
                  "hidden": false,
                  "locked": false,
                  "points": 1,
                  "success_message": "Success: Warrior class has an attack method."
                },
                {
                  "code": ">>> from pykubegrader.telemetry import ensure_responses, log_variable, score_question, submit_question, telemetry, update_responses\n>>> import os\n>>> import base64\n>>> import matplotlib\n>>> import matplotlib\n>>> question_id = 'Implement-the-warrior-class-4'\n>>> max_score = 1.0\n>>> score = 0\n>>> matplotlib.use('Agg')\n>>> condition = callable(getattr(Warrior, 'attack'))\n>>> assert condition, 'attack is not a method.'\n>>> if condition:\n...     score = 1.0\n>>> earned_points = float(os.environ.get('EARNED_POINTS', 0))\n>>> earned_points += score\n>>> log_variable('1_practicefinal_q', f'{score}, {max_score}', question_id)\n>>> os.environ['EARNED_POINTS'] = str(earned_points)\n",
                  "failure_message": "attack is not a method.",
                  "hidden": false,
                  "locked": false,
                  "points": 1,
                  "success_message": "Success: attack method is callable."
                },
                {
                  "code": ">>> from pykubegrader.telemetry import ensure_responses, log_variable, score_question, submit_question, telemetry, update_responses\n>>> import os\n>>> import base64\n>>> import matplotlib\n>>> import matplotlib\n>>> matplotlib.use('Agg')\n>>> import io\n>>> import sys\n>>> import re\n>>> question_id = 'Implement-the-warrior-class-5'\n>>> max_score = 5.0\n>>> score = 0\n>>> class MockCharacter(Character):\n...     def __init__(self, name, hp):\n...         self.name = name\n...         self.hp = hp\n...     def take_damage(self, amount):\n...         self.hp -= amount\n...     def attack(self, target):\n...         pass\n>>> warrior = Warrior(name='Conan', hp=100)\n>>> enemy = MockCharacter(name='Goblin', hp=30)\n>>> original_stdout = sys.stdout\n>>> sys.stdout = io.StringIO()\n>>> warrior.attack(enemy)\n>>> attack_output = sys.stdout.getvalue()\n>>> sys.stdout = original_stdout\n>>> def normalize_string(s):\n...     return re.sub('\\\\W+', '', s).lower()\n>>> assert enemy.hp == 20, 'attack method did not deal 10 damage correctly.'\n>>> expected_message = 'Conan attacks Goblin for 10 damage!'\n>>> condition = normalize_string(expected_message) in normalize_string(attack_output)\n>>> assert condition, 'attack method does not print the expected attack message.'\n>>> if enemy.hp == 20 and condition:\n...     score = 5.0\n>>> earned_points = float(os.environ.get('EARNED_POINTS', 0))\n>>> earned_points += score\n>>> log_variable('1_practicefinal_q', f'{score}, {max_score}', question_id)\n>>> os.environ['EARNED_POINTS'] = str(earned_points)\n",
                  "failure_message": "attack method does not deal the correct damage value.",
                  "hidden": false,
                  "locked": false,
                  "points": 5,
                  "success_message": "Success: attack method deals a fixed damage of 10."
                },
                {
                  "code": ">>> from pykubegrader.telemetry import ensure_responses, log_variable, score_question, submit_question, telemetry, update_responses\n>>> import os\n>>> import base64\n>>> import matplotlib\n>>> import matplotlib\n>>> matplotlib.use('Agg')\n>>> import io\n>>> import sys\n>>> import re\n>>> class MockCharacter(Character):\n...     def __init__(self, name, hp):\n...         self.name = name\n...         self.hp = hp\n...     def take_damage(self, amount):\n...         self.hp -= amount\n...     def attack(self, target):\n...         pass\n>>> warrior = Warrior(name='Conan', hp=100)\n>>> enemy = MockCharacter(name='Goblin', hp=30)\n>>> original_stdout = sys.stdout\n>>> sys.stdout = io.StringIO()\n>>> warrior.attack(enemy)\n>>> attack_output = sys.stdout.getvalue()\n>>> sys.stdout = original_stdout\n>>> import re\n>>> question_id = 'Implement-the-warrior-class-6'\n>>> max_score = 2.0\n>>> score = 0\n>>> def normalize_string(s):\n...     return re.sub('\\\\W+', '', s).lower()\n>>> expected_output = 'Conan attacks Goblin for 10 damage! Goblin HP: 20'\n>>> condition = normalize_string(expected_output) in normalize_string(attack_output)\n>>> assert condition, 'attack method output is incorrect.'\n>>> if condition:\n...     score = 2.0\n>>> earned_points = float(os.environ.get('EARNED_POINTS', 0))\n>>> earned_points += score\n>>> log_variable('1_practicefinal_q', f'{score}, {max_score}', question_id)\n>>> os.environ['EARNED_POINTS'] = str(earned_points)\n",
                  "failure_message": "attack method does not print the expected message.",
                  "hidden": false,
                  "locked": false,
                  "points": 2,
                  "success_message": "Success: attack method prints correct message."
                }
              ],
              "scored": true,
              "setup": "",
              "teardown": "",
              "type": "doctest"
            }
          ]
        },
        "Importing-Functions": {
          "name": "Importing-Functions",
          "points": null,
          "suites": [
            {
              "cases": [
                {
                  "code": ">>> from pykubegrader.telemetry import ensure_responses, log_variable, score_question, submit_question, telemetry, update_responses\n>>> import os\n>>> import base64\n>>> import matplotlib\n>>> import matplotlib\n>>> matplotlib.use('Agg')\n>>> import sys\n>>> max_question_points = str(2.0)\n>>> earned_points = 0\n>>> os.environ['EARNED_POINTS'] = str(earned_points)\n>>> os.environ['TOTAL_POINTS_FREE_RESPONSE'] = str(376.0)\n>>> log_variable('total-points', f'week10-practicefinal, 1_practicefinal_q', 376.0)\n>>> question_id = 'Importing-Functions-1'\n>>> max_score = 2.0\n>>> score = 0\n>>> condition1 = 'abc' in sys.modules\n>>> assert condition1, \"Module 'abc' was not imported.\"\n>>> condition2 = hasattr(sys.modules['abc'], 'ABC')\n>>> assert condition2, 'ABC class was not imported correctly.'\n>>> condition3 = hasattr(sys.modules['abc'], 'abstractmethod')\n>>> assert condition3, 'abstractmethod was not imported correctly.'\n>>> condition4 = 'random' in sys.modules\n>>> assert condition4, \"Module 'random' was not imported.\"\n>>> if condition1 and condition2 and condition3 and condition4:\n...     score = 2.0\n>>> earned_points = float(os.environ.get('EARNED_POINTS', 0))\n>>> earned_points += score\n>>> log_variable('1_practicefinal_q', f'{score}, {max_score}', question_id)\n>>> os.environ['EARNED_POINTS'] = str(earned_points)\n",
                  "failure_message": "Import statement missing or incorrect.",
                  "hidden": false,
                  "locked": false,
                  "points": 2,
                  "success_message": "Success: Imports are correctly defined."
                }
              ],
              "scored": true,
              "setup": "",
              "teardown": "",
              "type": "doctest"
            }
          ]
        },
        "Mage-class": {
          "name": "Mage-class",
          "points": null,
          "suites": [
            {
              "cases": [
                {
                  "code": ">>> from pykubegrader.telemetry import ensure_responses, log_variable, score_question, submit_question, telemetry, update_responses\n>>> import os\n>>> import base64\n>>> import matplotlib\n>>> import matplotlib\n>>> max_question_points = str(14.0)\n>>> earned_points = 0\n>>> os.environ['EARNED_POINTS'] = str(earned_points)\n>>> os.environ['TOTAL_POINTS_FREE_RESPONSE'] = str(376.0)\n>>> log_variable('total-points', f'week10-practicefinal, 1_practicefinal_q', 376.0)\n>>> question_id = 'Mage-class-1'\n>>> max_score = 1.0\n>>> score = 0\n>>> matplotlib.use('Agg')\n>>> condition = 'Mage' in globals()\n>>> assert condition, 'Mage class is not defined.'\n>>> if condition:\n...     score = 1.0\n>>> earned_points = float(os.environ.get('EARNED_POINTS', 0))\n>>> earned_points += score\n>>> log_variable('1_practicefinal_q', f'{score}, {max_score}', question_id)\n>>> os.environ['EARNED_POINTS'] = str(earned_points)\n",
                  "failure_message": "Mage class is not defined or incorrect.",
                  "hidden": false,
                  "locked": false,
                  "points": 1,
                  "success_message": "Success: Mage class is defined correctly."
                },
                {
                  "code": ">>> from pykubegrader.telemetry import ensure_responses, log_variable, score_question, submit_question, telemetry, update_responses\n>>> import os\n>>> import base64\n>>> import matplotlib\n>>> import matplotlib\n>>> question_id = 'Mage-class-2'\n>>> max_score = 1.0\n>>> score = 0\n>>> matplotlib.use('Agg')\n>>> condition = issubclass(Mage, Character)\n>>> assert condition, 'Mage does not inherit from Character.'\n>>> if condition:\n...     score = 1.0\n>>> earned_points = float(os.environ.get('EARNED_POINTS', 0))\n>>> earned_points += score\n>>> log_variable('1_practicefinal_q', f'{score}, {max_score}', question_id)\n>>> os.environ['EARNED_POINTS'] = str(earned_points)\n",
                  "failure_message": "Mage class does not inherit from Character.",
                  "hidden": false,
                  "locked": false,
                  "points": 1,
                  "success_message": "Success: Mage class inherits from Character."
                },
                {
                  "code": ">>> from pykubegrader.telemetry import ensure_responses, log_variable, score_question, submit_question, telemetry, update_responses\n>>> import os\n>>> import base64\n>>> import matplotlib\n>>> import matplotlib\n>>> question_id = 'Mage-class-3'\n>>> max_score = 1.0\n>>> score = 0\n>>> matplotlib.use('Agg')\n>>> condition = hasattr(Mage, 'attack')\n>>> assert condition, 'Mage class is missing attack method.'\n>>> if condition:\n...     score = 1.0\n>>> earned_points = float(os.environ.get('EARNED_POINTS', 0))\n>>> earned_points += score\n>>> log_variable('1_practicefinal_q', f'{score}, {max_score}', question_id)\n>>> os.environ['EARNED_POINTS'] = str(earned_points)\n",
                  "failure_message": "Mage class is missing attack method.",
                  "hidden": false,
                  "locked": false,
                  "points": 1,
                  "success_message": "Success: Mage class has an attack method."
                },
                {
                  "code": ">>> from pykubegrader.telemetry import ensure_responses, log_variable, score_question, submit_question, telemetry, update_responses\n>>> import os\n>>> import base64\n>>> import matplotlib\n>>> import matplotlib\n>>> question_id = 'Mage-class-4'\n>>> max_score = 1.0\n>>> score = 0\n>>> matplotlib.use('Agg')\n>>> condition = callable(getattr(Mage, 'attack'))\n>>> assert condition, 'attack is not a method.'\n>>> if condition:\n...     score = 1.0\n>>> earned_points = float(os.environ.get('EARNED_POINTS', 0))\n>>> earned_points += score\n>>> log_variable('1_practicefinal_q', f'{score}, {max_score}', question_id)\n>>> os.environ['EARNED_POINTS'] = str(earned_points)\n",
                  "failure_message": "attack is not a method.",
                  "hidden": false,
                  "locked": false,
                  "points": 1,
                  "success_message": "Success: attack method is callable."
                },
                {
                  "code": ">>> from pykubegrader.telemetry import ensure_responses, log_variable, score_question, submit_question, telemetry, update_responses\n>>> import os\n>>> import base64\n>>> import matplotlib\n>>> import matplotlib\n>>> matplotlib.use('Agg')\n>>> import io\n>>> import sys\n>>> import random\n>>> question_id = 'Mage-class-5'\n>>> max_score = 5.0\n>>> score = 0\n>>> class MockCharacter(Character):\n...     def __init__(self, name, hp):\n...         self.name = name\n...         self.hp = hp\n...     def take_damage(self, amount):\n...         self.hp -= amount\n...     def attack(self, target):\n...         pass\n>>> mage = Mage(name='Gandalf', hp=80)\n>>> enemy = MockCharacter(name='Orc', hp=50)\n>>> original_stdout = sys.stdout\n>>> sys.stdout = io.StringIO()\n>>> random.seed(1)\n>>> mage.attack(enemy)\n>>> sys.stdout.seek(0)\n>>> attack_output = sys.stdout.read()\n>>> sys.stdout = original_stdout\n>>> condition = enemy.hp <= 42\n>>> assert condition, 'attack method did not deal at least 8 damage correctly.'\n>>> if condition:\n...     score = 5.0\n>>> earned_points = float(os.environ.get('EARNED_POINTS', 0))\n>>> earned_points += score\n>>> log_variable('1_practicefinal_q', f'{score}, {max_score}', question_id)\n>>> os.environ['EARNED_POINTS'] = str(earned_points)\n",
                  "failure_message": "attack method does not deal the minimum base damage of 8.",
                  "hidden": false,
                  "locked": false,
                  "points": 5,
                  "success_message": "Success: attack method deals at least the base damage of 8."
                },
                {
                  "code": ">>> from pykubegrader.telemetry import ensure_responses, log_variable, score_question, submit_question, telemetry, update_responses\n>>> import os\n>>> import base64\n>>> import matplotlib\n>>> import matplotlib\n>>> matplotlib.use('Agg')\n>>> import random\n>>> import sys\n>>> import io\n>>> random.seed(3)\n>>> import io\n>>> import sys\n>>> import random\n>>> question_id = 'Mage-class-6'\n>>> max_score = 4.0\n>>> score = 0\n>>> class MockCharacter(Character):\n...     def __init__(self, name, hp):\n...         self.name = name\n...         self.hp = hp\n...     def take_damage(self, amount):\n...         self.hp -= amount\n...     def attack(self, target):\n...         pass\n>>> mage = Mage(name='Gandalf', hp=80)\n>>> enemy = MockCharacter(name='Orc', hp=50)\n>>> original_stdout = sys.stdout\n>>> sys.stdout = io.StringIO()\n>>> mage.attack(enemy)\n>>> sys.stdout.seek(0)\n>>> attack_output = sys.stdout.read()\n>>> sys.stdout = original_stdout\n>>> condition = enemy.hp == 37\n>>> assert condition, 'attack method did not apply fireball extra damage correctly.'\n>>> if condition:\n...     score = 4.0\n>>> earned_points = float(os.environ.get('EARNED_POINTS', 0))\n>>> earned_points += score\n>>> log_variable('1_practicefinal_q', f'{score}, {max_score}', question_id)\n>>> os.environ['EARNED_POINTS'] = str(earned_points)\n",
                  "failure_message": "attack method does not include extra fireball damage correctly.",
                  "hidden": false,
                  "locked": false,
                  "points": 4,
                  "success_message": "Success: attack method correctly includes fireball damage (when triggered)."
                },
                {
                  "code": ">>> from pykubegrader.telemetry import ensure_responses, log_variable, score_question, submit_question, telemetry, update_responses\n>>> import os\n>>> import base64\n>>> import matplotlib\n>>> import matplotlib\n>>> matplotlib.use('Agg')\n>>> import random\n>>> import sys\n>>> import io\n>>> question_id = 'Mage-class-7'\n>>> max_score = 1.0\n>>> score = 0\n>>> class MockCharacter(Character):\n...     def __init__(self, name, hp):\n...         self.name = name\n...         self.hp = hp\n...     def take_damage(self, amount):\n...         self.hp -= amount\n...     def attack(self, target):\n...         pass\n>>> mage = Mage(name='Gandalf', hp=80)\n>>> enemy = MockCharacter(name='Orc', hp=50)\n>>> random.seed(3)\n>>> enemy.hp = 50\n>>> original_stdout = sys.stdout\n>>> sys.stdout = io.StringIO()\n>>> mage.attack(enemy)\n>>> attack_output = sys.stdout.getvalue()\n>>> sys.stdout = original_stdout\n>>> expected_message = f'Gandalf attacks Orc for'\n>>> condition = expected_message in attack_output\n>>> assert condition, 'attack method output is incorrect.'\n>>> if condition:\n...     score = 1.0\n>>> earned_points = float(os.environ.get('EARNED_POINTS', 0))\n>>> earned_points += score\n>>> log_variable('1_practicefinal_q', f'{score}, {max_score}', question_id)\n>>> os.environ['EARNED_POINTS'] = str(earned_points)\n",
                  "failure_message": "attack method does not print the expected attack messages.",
                  "hidden": false,
                  "locked": false,
                  "points": 1,
                  "success_message": "Success: attack method prints correct messages."
                }
              ],
              "scored": true,
              "setup": "",
              "teardown": "",
              "type": "doctest"
            }
          ]
        },
        "Train-and-evaluate-model": {
          "name": "Train-and-evaluate-model",
          "points": null,
          "suites": [
            {
              "cases": [
                {
                  "code": ">>> from pykubegrader.telemetry import ensure_responses, log_variable, score_question, submit_question, telemetry, update_responses\n>>> import os\n>>> import base64\n>>> import matplotlib\n>>> import matplotlib\n>>> matplotlib.use('Agg')\n>>> import numpy as np\n>>> max_question_points = str(30.0)\n>>> earned_points = 0\n>>> os.environ['EARNED_POINTS'] = str(earned_points)\n>>> os.environ['TOTAL_POINTS_FREE_RESPONSE'] = str(376.0)\n>>> log_variable('total-points', f'week10-practicefinal, 1_practicefinal_q', 376.0)\n>>> question_id = 'Train-and-evaluate-model-1'\n>>> max_score = 4.0\n>>> score = 0\n>>> shape_ = np.array(cat_images).shape\n>>> image_info = np.sum(cat_images)\n>>> cat_labels_shape = np.array(cat_labels).shape\n>>> condition = shape_ == (250, 16384)\n>>> assert condition, f'Shape is incorrect: {shape_}'\n>>> condition1 = image_info == 588592\n>>> assert condition1, f'Image info is incorrect: {image_info}'\n>>> condition2 = cat_labels_shape == (250,)\n>>> assert condition2, f'Cat labels shape is incorrect: {cat_labels_shape}'\n>>> condition3 = np.sum(cat_labels) == 0\n>>> assert condition3, f'Sum of cat labels is incorrect: {np.sum(cat_labels)}'\n>>> if condition and condition1 and condition2 and condition3:\n...     score = 4.0\n>>> earned_points = float(os.environ.get('EARNED_POINTS', 0))\n>>> earned_points += score\n>>> log_variable('1_practicefinal_q', f'{score}, {max_score}', question_id)\n>>> os.environ['EARNED_POINTS'] = str(earned_points)\n",
                  "failure_message": "Cat images are not loaded correctly.",
                  "hidden": false,
                  "locked": false,
                  "points": 4,
                  "success_message": "Success: Cat images are loaded correctly."
                },
                {
                  "code": ">>> from pykubegrader.telemetry import ensure_responses, log_variable, score_question, submit_question, telemetry, update_responses\n>>> import os\n>>> import base64\n>>> import matplotlib\n>>> import matplotlib\n>>> question_id = 'Train-and-evaluate-model-2'\n>>> max_score = 4.0\n>>> score = 0\n>>> matplotlib.use('Agg')\n>>> shape_ = np.array(dog_images).shape\n>>> image_info = np.sum(dog_images)\n>>> dog_labels_shape = np.array(dog_labels).shape\n>>> condition = shape_ == (250, 16384)\n>>> assert condition, f'Shape is incorrect: {shape_}'\n>>> condition1 = image_info == 663574\n>>> assert condition1, f'Image info is incorrect: {image_info}'\n>>> condition2 = dog_labels_shape == (250,)\n>>> assert condition2, f'Dog labels shape is incorrect: {dog_labels_shape}'\n>>> condition3 = np.sum(dog_labels) == 250\n>>> assert condition3, f'Sum of dog labels is incorrect: {np.sum(dog_labels)}'\n>>> if condition and condition1 and condition2 and condition3:\n...     score = 4.0\n>>> earned_points = float(os.environ.get('EARNED_POINTS', 0))\n>>> earned_points += score\n>>> log_variable('1_practicefinal_q', f'{score}, {max_score}', question_id)\n>>> os.environ['EARNED_POINTS'] = str(earned_points)\n",
                  "failure_message": "Dog images are not loaded correctly.",
                  "hidden": false,
                  "locked": false,
                  "points": 4,
                  "success_message": "Success: Dog images are loaded correctly."
                },
                {
                  "code": ">>> from pykubegrader.telemetry import ensure_responses, log_variable, score_question, submit_question, telemetry, update_responses\n>>> import os\n>>> import base64\n>>> import matplotlib\n>>> import matplotlib\n>>> question_id = 'Train-and-evaluate-model-3'\n>>> max_score = 4.0\n>>> score = 0\n>>> matplotlib.use('Agg')\n>>> shape_ = np.array(X).shape\n>>> image_info = np.sum(X)\n>>> all_labels_shape = np.array(y).shape\n>>> condition = shape_ == (500, 16384)\n>>> assert condition, f'Shape is incorrect: {shape_}'\n>>> condition2 = all_labels_shape == (500,)\n>>> assert condition2, f'All labels shape is incorrect: {all_labels_shape}'\n>>> condition3 = np.sum(y) == 250\n>>> assert condition3, f'Sum of y is incorrect: {np.sum(y)}'\n>>> if condition and condition2 and condition3:\n...     score = 4.0\n>>> earned_points = float(os.environ.get('EARNED_POINTS', 0))\n>>> earned_points += score\n>>> log_variable('1_practicefinal_q', f'{score}, {max_score}', question_id)\n>>> os.environ['EARNED_POINTS'] = str(earned_points)\n",
                  "failure_message": "X and y are not combined correctly.",
                  "hidden": false,
                  "locked": false,
                  "points": 4,
                  "success_message": "Success: X and y are combined correctly."
                },
                {
                  "code": ">>> from pykubegrader.telemetry import ensure_responses, log_variable, score_question, submit_question, telemetry, update_responses\n>>> import os\n>>> import base64\n>>> import matplotlib\n>>> import matplotlib\n>>> question_id = 'Train-and-evaluate-model-4'\n>>> max_score = 4.0\n>>> score = 0\n>>> matplotlib.use('Agg')\n>>> shape_ = np.array(X_train).shape\n>>> image_info = np.sum(X_train)\n>>> all_labels_shape = np.array(y_train).shape\n>>> condition = shape_ == (400, 16384)\n>>> assert condition, f'Shape is incorrect: {shape_}'\n>>> condition2 = all_labels_shape == (400,)\n>>> assert condition2, f'All labels shape is incorrect: {all_labels_shape}'\n>>> condition3 = np.sum(y_train) == 196\n>>> assert condition3, f'Sum of y_train is incorrect: {np.sum(y_train)}'\n>>> if condition and condition2 and condition3:\n...     score = 4.0\n>>> earned_points = float(os.environ.get('EARNED_POINTS', 0))\n>>> earned_points += score\n>>> log_variable('1_practicefinal_q', f'{score}, {max_score}', question_id)\n>>> os.environ['EARNED_POINTS'] = str(earned_points)\n",
                  "failure_message": "X_train and y_train are not combined correctly.",
                  "hidden": false,
                  "locked": false,
                  "points": 4,
                  "success_message": "Success: X_train and y_train are combined correctly."
                },
                {
                  "code": ">>> from pykubegrader.telemetry import ensure_responses, log_variable, score_question, submit_question, telemetry, update_responses\n>>> import os\n>>> import base64\n>>> import matplotlib\n>>> import matplotlib\n>>> question_id = 'Train-and-evaluate-model-5'\n>>> max_score = 4.0\n>>> score = 0\n>>> matplotlib.use('Agg')\n>>> shape_ = np.array(X_test).shape\n>>> image_info = np.sum(X_test)\n>>> all_labels_shape = np.array(y_test).shape\n>>> condition = shape_ == (100, 16384)\n>>> assert condition, f'Shape is incorrect: {shape_}'\n>>> condition2 = all_labels_shape == (100,)\n>>> assert condition2, f'All labels shape is incorrect: {all_labels_shape}'\n>>> condition3 = np.sum(y_test) == 54\n>>> assert condition3, f'Sum of y_test is incorrect: {np.sum(y_test)}'\n>>> if condition and condition2 and condition3:\n...     score = 4.0\n>>> earned_points = float(os.environ.get('EARNED_POINTS', 0))\n>>> earned_points += score\n>>> log_variable('1_practicefinal_q', f'{score}, {max_score}', question_id)\n>>> os.environ['EARNED_POINTS'] = str(earned_points)\n",
                  "failure_message": "X_test and y_test are not combined correctly.",
                  "hidden": false,
                  "locked": false,
                  "points": 4,
                  "success_message": "Success: X_test and y_test are combined correctly."
                },
                {
                  "code": ">>> from pykubegrader.telemetry import ensure_responses, log_variable, score_question, submit_question, telemetry, update_responses\n>>> import os\n>>> import base64\n>>> import matplotlib\n>>> import matplotlib\n>>> matplotlib.use('Agg')\n>>> import hashlib\n>>> import pickle\n>>> import joblib\n>>> out = joblib.dump(rf_model, 'rf_model_new.pkl')\n>>> import joblib\n>>> question_id = 'Train-and-evaluate-model-6'\n>>> max_score = 10.0\n>>> score = 0\n>>> def compare_model_structure(model1, model2):\n...     return model1.get_params() == model2.get_params()\n>>> model1 = joblib.load('rf_model.pkl')\n>>> model2 = joblib.load('rf_model_new.pkl')\n>>> assert compare_model_structure(model1, model2)\n>>> if compare_model_structure(model1, model2):\n...     score = 10.0\n>>> earned_points = float(os.environ.get('EARNED_POINTS', 0))\n>>> earned_points += score\n>>> log_variable('1_practicefinal_q', f'{score}, {max_score}', question_id)\n>>> os.environ['EARNED_POINTS'] = str(earned_points)\n",
                  "failure_message": "model is not trained correctly",
                  "hidden": false,
                  "locked": false,
                  "points": 10,
                  "success_message": "model is trained correctly"
                }
              ],
              "scored": true,
              "setup": "",
              "teardown": "",
              "type": "doctest"
            }
          ]
        },
        "battle-function": {
          "name": "battle-function",
          "points": null,
          "suites": [
            {
              "cases": [
                {
                  "code": ">>> from pykubegrader.telemetry import ensure_responses, log_variable, score_question, submit_question, telemetry, update_responses\n>>> import os\n>>> import base64\n>>> import matplotlib\n>>> import matplotlib\n>>> max_question_points = str(17.0)\n>>> earned_points = 0\n>>> os.environ['EARNED_POINTS'] = str(earned_points)\n>>> os.environ['TOTAL_POINTS_FREE_RESPONSE'] = str(376.0)\n>>> log_variable('total-points', f'week10-practicefinal, 1_practicefinal_q', 376.0)\n>>> question_id = 'battle-function-1'\n>>> max_score = 1.0\n>>> score = 0\n>>> matplotlib.use('Agg')\n>>> condition = 'battle' in globals()\n>>> assert condition, 'battle function is not defined.'\n>>> if condition:\n...     score = 1.0\n>>> earned_points = float(os.environ.get('EARNED_POINTS', 0))\n>>> earned_points += score\n>>> log_variable('1_practicefinal_q', f'{score}, {max_score}', question_id)\n>>> os.environ['EARNED_POINTS'] = str(earned_points)\n",
                  "failure_message": "battle function is not defined or incorrect.",
                  "hidden": false,
                  "locked": false,
                  "points": 1,
                  "success_message": "Success: battle function is defined correctly."
                },
                {
                  "code": ">>> from pykubegrader.telemetry import ensure_responses, log_variable, score_question, submit_question, telemetry, update_responses\n>>> import os\n>>> import base64\n>>> import matplotlib\n>>> import matplotlib\n>>> question_id = 'battle-function-2'\n>>> max_score = 1.0\n>>> score = 0\n>>> matplotlib.use('Agg')\n>>> condition = callable(battle)\n>>> assert condition, 'battle is not a function.'\n>>> if condition:\n...     score = 1.0\n>>> earned_points = float(os.environ.get('EARNED_POINTS', 0))\n>>> earned_points += score\n>>> log_variable('1_practicefinal_q', f'{score}, {max_score}', question_id)\n>>> os.environ['EARNED_POINTS'] = str(earned_points)\n",
                  "failure_message": "battle is not a function.",
                  "hidden": false,
                  "locked": false,
                  "points": 1,
                  "success_message": "Success: battle function is callable."
                },
                {
                  "code": ">>> from pykubegrader.telemetry import ensure_responses, log_variable, score_question, submit_question, telemetry, update_responses\n>>> import os\n>>> import base64\n>>> import matplotlib\n>>> import matplotlib\n>>> matplotlib.use('Agg')\n>>> import io\n>>> import sys\n>>> import re\n>>> question_id = 'battle-function-3'\n>>> max_score = 5.0\n>>> score = 0\n>>> class MockCharacter(Character):\n...     def __init__(self, name, hp, damage):\n...         self.name = name\n...         self.hp = hp\n...         self.damage = damage\n...     def attack(self, target):\n...         target.take_damage(self.damage)\n...     def take_damage(self, amount):\n...         self.hp -= amount\n...         if self.hp < 0:\n...             self.hp = 0\n>>> char1 = MockCharacter(name='Warrior', hp=30, damage=10)\n>>> char2 = MockCharacter(name='Mage', hp=30, damage=8)\n>>> original_stdout = sys.stdout\n>>> sys.stdout = io.StringIO()\n>>> battle(char1, char2)\n>>> battle_output = sys.stdout.getvalue()\n>>> sys.stdout = original_stdout\n>>> normalized_output = re.sub('\\\\W+', '', battle_output).lower()\n>>> condition = 'battlestart' in normalized_output\n>>> assert condition, \"battle function does not print 'Battle Start!' at the beginning.\"\n>>> if condition:\n...     score = 5.0\n>>> earned_points = float(os.environ.get('EARNED_POINTS', 0))\n>>> earned_points += score\n>>> log_variable('1_practicefinal_q', f'{score}, {max_score}', question_id)\n>>> os.environ['EARNED_POINTS'] = str(earned_points)\n",
                  "failure_message": "battle function does not start with 'Battle Start!'.",
                  "hidden": false,
                  "locked": false,
                  "points": 5,
                  "success_message": "Success: battle function starts the battle with 'Battle Start!'."
                },
                {
                  "code": ">>> from pykubegrader.telemetry import ensure_responses, log_variable, score_question, submit_question, telemetry, update_responses\n>>> import os\n>>> import base64\n>>> import matplotlib\n>>> import matplotlib\n>>> matplotlib.use('Agg')\n>>> import re\n>>> import io\n>>> import sys\n>>> question_id = 'battle-function-4'\n>>> max_score = 5.0\n>>> score = 0\n>>> char1 = Warrior(name='Warrior', hp=30)\n>>> char2 = Mage(name='Mage', hp=30)\n>>> original_stdout = sys.stdout\n>>> sys.stdout = io.StringIO()\n>>> battle(char1, char2)\n>>> battle_output = sys.stdout.getvalue()\n>>> sys.stdout = original_stdout\n>>> normalized_output = re.sub('\\\\W+', '', battle_output).lower()\n>>> condition = 'warriorattacksmagefor' in normalized_output or 'mageattackswarriorfor' in normalized_output\n>>> assert condition, 'battle function does not handle turns correctly.'\n>>> if condition:\n...     score = 5.0\n>>> earned_points = float(os.environ.get('EARNED_POINTS', 0))\n>>> earned_points += score\n>>> log_variable('1_practicefinal_q', f'{score}, {max_score}', question_id)\n>>> os.environ['EARNED_POINTS'] = str(earned_points)\n",
                  "failure_message": "battle function does not execute character turns correctly.",
                  "hidden": false,
                  "locked": false,
                  "points": 5,
                  "success_message": "Success: battle function executes turns correctly."
                },
                {
                  "code": ">>> from pykubegrader.telemetry import ensure_responses, log_variable, score_question, submit_question, telemetry, update_responses\n>>> import os\n>>> import base64\n>>> import matplotlib\n>>> import matplotlib\n>>> matplotlib.use('Agg')\n>>> import re\n>>> import io\n>>> import sys\n>>> question_id = 'battle-function-5'\n>>> max_score = 1.0\n>>> score = 0\n>>> exec(base64.b64decode('Y2hhcjEgPSBXYXJyaW9yKG5hbWU9IldhcnJpb3IiLCBocD0zMCkKY2hhcjIgPSBNYWdlKG5hbWU9Ik1hZ2UiLCBocD0zMCk=').decode())\n>>> original_stdout = sys.stdout\n>>> sys.stdout = io.StringIO()\n>>> exec(base64.b64decode('YmF0dGxlKGNoYXIxLCBjaGFyMik=').decode())\n>>> battle_output = sys.stdout.getvalue()\n>>> sys.stdout = original_stdout\n>>> condition = 'has been defeated!' in battle_output\n>>> assert condition, 'battle function does not declare a winner when a character reaches 0 HP.'\n>>> if condition:\n...     score = 1.0\n>>> earned_points = float(os.environ.get('EARNED_POINTS', 0))\n>>> earned_points += score\n>>> log_variable('1_practicefinal_q', f'{score}, {max_score}', question_id)\n>>> os.environ['EARNED_POINTS'] = str(earned_points)\n",
                  "failure_message": "battle function does not stop when a character reaches 0 HP.",
                  "hidden": false,
                  "locked": false,
                  "points": 1,
                  "success_message": "Success: battle function correctly ends when a character is defeated."
                },
                {
                  "code": ">>> from pykubegrader.telemetry import ensure_responses, log_variable, score_question, submit_question, telemetry, update_responses\n>>> import os\n>>> import base64\n>>> import matplotlib\n>>> import matplotlib\n>>> matplotlib.use('Agg')\n>>> import re\n>>> import io\n>>> import sys\n>>> question_id = 'battle-function-6'\n>>> max_score = 1.0\n>>> score = 0\n>>> exec(base64.b64decode('Y2hhcjEgPSBXYXJyaW9yKG5hbWU9IldhcnJpb3IiLCBocD0zMCkKY2hhcjIgPSBNYWdlKG5hbWU9Ik1hZ2UiLCBocD0zMCk=').decode())\n>>> original_stdout = sys.stdout\n>>> sys.stdout = io.StringIO()\n>>> exec(base64.b64decode('YmF0dGxlKGNoYXIxLCBjaGFyMik=').decode())\n>>> battle_output = sys.stdout.getvalue()\n>>> sys.stdout = original_stdout\n>>> winner_name = char1.name if char1.hp > 0 else char2.name\n>>> condition = f'{winner_name} wins!' in battle_output\n>>> assert condition, 'battle function does not print the correct winner announcement.'\n>>> if condition:\n...     score = 1.0\n>>> earned_points = float(os.environ.get('EARNED_POINTS', 0))\n>>> earned_points += score\n>>> log_variable('1_practicefinal_q', f'{score}, {max_score}', question_id)\n>>> os.environ['EARNED_POINTS'] = str(earned_points)\n",
                  "failure_message": "battle function does not correctly announce the winning character.",
                  "hidden": false,
                  "locked": false,
                  "points": 1,
                  "success_message": "Success: battle function correctly announces the winner."
                },
                {
                  "code": ">>> from pykubegrader.telemetry import ensure_responses, log_variable, score_question, submit_question, telemetry, update_responses\n>>> import os\n>>> import base64\n>>> import matplotlib\n>>> import matplotlib\n>>> matplotlib.use('Agg')\n>>> import io\n>>> import sys\n>>> question_id = 'battle-function-7'\n>>> max_score = 1.0\n>>> score = 0\n>>> class MockCharacter(Character):\n...     def __init__(self, name, hp, damage):\n...         self.name = name\n...         self.hp = hp\n...         self.damage = damage\n...     def attack(self, target):\n...         target.take_damage(self.damage)\n...     def take_damage(self, amount):\n...         self.hp -= amount\n...         if self.hp < 0:\n...             self.hp = 0\n>>> defense_check_char1 = MockCharacter(name='Defender1', hp=10, damage=5)\n>>> defense_check_char2 = MockCharacter(name='Defender2', hp=5, damage=3)\n>>> original_stdout = sys.stdout\n>>> sys.stdout = io.StringIO()\n>>> battle(defense_check_char1, defense_check_char2)\n>>> sys.stdout.seek(0)\n>>> defense_check_output = sys.stdout.read()\n>>> sys.stdout = original_stdout\n>>> defeated_char = 'Defender2' if 'Defender2 has been defeated!' in defense_check_output else 'Defender1'\n>>> condition = f'{defeated_char} attacks' not in defense_check_output.split(f'{defeated_char} has been defeated!')[1]\n>>> assert condition, 'battle function allows attacks after a character is defeated.'\n>>> if condition:\n...     score = 1.0\n>>> earned_points = float(os.environ.get('EARNED_POINTS', 0))\n>>> earned_points += score\n>>> log_variable('1_practicefinal_q', f'{score}, {max_score}', question_id)\n>>> os.environ['EARNED_POINTS'] = str(earned_points)\n",
                  "failure_message": "battle function does not stop attacks after a character is defeated.",
                  "hidden": false,
                  "locked": false,
                  "points": 1,
                  "success_message": "Success: battle function prevents further attacks after a character is defeated."
                },
                {
                  "code": ">>> from pykubegrader.telemetry import ensure_responses, log_variable, score_question, submit_question, telemetry, update_responses\n>>> import os\n>>> import base64\n>>> import matplotlib\n>>> import matplotlib\n>>> matplotlib.use('Agg')\n>>> import io\n>>> import sys\n>>> question_id = 'battle-function-8'\n>>> max_score = 2.0\n>>> score = 0\n>>> class MockCharacter(Character):\n...     def __init__(self, name, hp, damage):\n...         self.name = name\n...         self.hp = hp\n...         self.damage = damage\n...     def attack(self, target):\n...         target.take_damage(self.damage)\n...     def take_damage(self, amount):\n...         self.hp -= amount\n...         if self.hp < 0:\n...             self.hp = 0\n>>> defense_check_char1 = MockCharacter(name='Defender1', hp=10, damage=5)\n>>> defense_check_char2 = MockCharacter(name='Defender2', hp=5, damage=3)\n>>> original_stdout = sys.stdout\n>>> sys.stdout = io.StringIO()\n>>> battle(defense_check_char1, defense_check_char2)\n>>> sys.stdout.seek(0)\n>>> defense_check_output = sys.stdout.read()\n>>> sys.stdout = original_stdout\n>>> defeated_char = 'Defender2' if 'Defender2 has been defeated!' in defense_check_output else 'Defender1'\n>>> condition = f'{defeated_char} attacks' not in defense_check_output.split(f'{defeated_char} has been defeated!')[1]\n>>> assert condition, 'battle function allows attacks after a character is defeated.'\n>>> if condition:\n...     score = 2.0\n>>> earned_points = float(os.environ.get('EARNED_POINTS', 0))\n>>> earned_points += score\n>>> log_variable('1_practicefinal_q', f'{score}, {max_score}', question_id)\n>>> os.environ['EARNED_POINTS'] = str(earned_points)\n",
                  "failure_message": "battle function does not stop attacks after a character is defeated.",
                  "hidden": false,
                  "locked": false,
                  "points": 2,
                  "success_message": "Success: battle function prevents further attacks after a character is defeated."
                }
              ],
              "scored": true,
              "setup": "",
              "teardown": "",
              "type": "doctest"
            }
          ]
        },
        "battle-simulation-test": {
          "name": "battle-simulation-test",
          "points": null,
          "suites": [
            {
              "cases": [
                {
                  "code": ">>> from pykubegrader.telemetry import ensure_responses, log_variable, score_question, submit_question, telemetry, update_responses\n>>> import os\n>>> import base64\n>>> import matplotlib\n>>> import matplotlib\n>>> matplotlib.use('Agg')\n>>> import io\n>>> import sys\n>>> max_question_points = str(5.0)\n>>> earned_points = 0\n>>> os.environ['EARNED_POINTS'] = str(earned_points)\n>>> os.environ['TOTAL_POINTS_FREE_RESPONSE'] = str(376.0)\n>>> log_variable('total-points', f'week10-practicefinal, 1_practicefinal_q', 376.0)\n>>> question_id = 'battle-simulation-test-1'\n>>> max_score = 1.0\n>>> score = 0\n>>> warrior = Warrior('Conan', 100)\n>>> mage = Mage('Gandalf', 90)\n>>> original_stdout = sys.stdout\n>>> sys.stdout = io.StringIO()\n>>> battle(warrior, mage)\n>>> battle_output = sys.stdout.getvalue()\n>>> sys.stdout = original_stdout\n>>> condition = 'Battle Start' in battle_output\n>>> assert condition, 'battle function was not called correctly or did not start properly.'\n>>> if condition:\n...     score = 1.0\n>>> earned_points = float(os.environ.get('EARNED_POINTS', 0))\n>>> earned_points += score\n>>> log_variable('1_practicefinal_q', f'{score}, {max_score}', question_id)\n>>> os.environ['EARNED_POINTS'] = str(earned_points)\n",
                  "failure_message": "battle function is not called correctly.",
                  "hidden": false,
                  "locked": false,
                  "points": 1,
                  "success_message": "Success: battle function is called correctly."
                },
                {
                  "code": ">>> from pykubegrader.telemetry import ensure_responses, log_variable, score_question, submit_question, telemetry, update_responses\n>>> import os\n>>> import base64\n>>> import matplotlib\n>>> import matplotlib\n>>> matplotlib.use('Agg')\n>>> import io\n>>> import sys\n>>> question_id = 'battle-simulation-test-2'\n>>> max_score = 1.0\n>>> score = 0\n>>> warrior = Warrior('Conan', 100)\n>>> mage = Mage('Gandalf', 90)\n>>> original_stdout = sys.stdout\n>>> sys.stdout = io.StringIO()\n>>> exec(base64.b64decode('YmF0dGxlKHdhcnJpb3IsIG1hZ2Up').decode())\n>>> sys.stdout.seek(0)\n>>> battle_output = sys.stdout.read()\n>>> sys.stdout = original_stdout\n>>> condition = 'Conan attacks Gandalf' in battle_output\n>>> assert condition, 'Warrior does not attack first in battle.'\n>>> if condition:\n...     score = 1.0\n>>> earned_points = float(os.environ.get('EARNED_POINTS', 0))\n>>> earned_points += score\n>>> log_variable('1_practicefinal_q', f'{score}, {max_score}', question_id)\n>>> os.environ['EARNED_POINTS'] = str(earned_points)\n",
                  "failure_message": "Warrior does not attack first.",
                  "hidden": false,
                  "locked": false,
                  "points": 1,
                  "success_message": "Success: Warrior attacks first."
                },
                {
                  "code": ">>> from pykubegrader.telemetry import ensure_responses, log_variable, score_question, submit_question, telemetry, update_responses\n>>> import os\n>>> import base64\n>>> import matplotlib\n>>> import matplotlib\n>>> matplotlib.use('Agg')\n>>> import io\n>>> import sys\n>>> question_id = 'battle-simulation-test-3'\n>>> max_score = 1.0\n>>> score = 0\n>>> warrior = Warrior('Conan', 100)\n>>> mage = Mage('Gandalf', 90)\n>>> original_stdout = sys.stdout\n>>> sys.stdout = io.StringIO()\n>>> exec(base64.b64decode('YmF0dGxlKHdhcnJpb3IsIG1hZ2Up').decode())\n>>> sys.stdout.seek(0)\n>>> battle_output = sys.stdout.read()\n>>> sys.stdout = original_stdout\n>>> condition = 'Gandalf attacks Conan' in battle_output\n>>> assert condition, 'Mage does not attack after the Warrior.'\n>>> if condition:\n...     score = 1.0\n>>> earned_points = float(os.environ.get('EARNED_POINTS', 0))\n>>> earned_points += score\n>>> log_variable('1_practicefinal_q', f'{score}, {max_score}', question_id)\n>>> os.environ['EARNED_POINTS'] = str(earned_points)\n",
                  "failure_message": "Mage does not get a turn after Warrior.",
                  "hidden": false,
                  "locked": false,
                  "points": 1,
                  "success_message": "Success: Mage gets a turn after Warrior."
                },
                {
                  "code": ">>> from pykubegrader.telemetry import ensure_responses, log_variable, score_question, submit_question, telemetry, update_responses\n>>> import os\n>>> import base64\n>>> import matplotlib\n>>> import matplotlib\n>>> matplotlib.use('Agg')\n>>> import io\n>>> import sys\n>>> question_id = 'battle-simulation-test-4'\n>>> max_score = 1.0\n>>> score = 0\n>>> warrior = Warrior('Conan', 100)\n>>> mage = Mage('Gandalf', 90)\n>>> original_stdout = sys.stdout\n>>> sys.stdout = io.StringIO()\n>>> exec(base64.b64decode('YmF0dGxlKHdhcnJpb3IsIG1hZ2Up').decode())\n>>> sys.stdout.seek(0)\n>>> battle_output = sys.stdout.read()\n>>> sys.stdout = original_stdout\n>>> condition = 'has been defeated!' in battle_output\n>>> assert condition, 'battle function does not declare a winner.'\n>>> if condition:\n...     score = 1.0\n>>> earned_points = float(os.environ.get('EARNED_POINTS', 0))\n>>> earned_points += score\n>>> log_variable('1_practicefinal_q', f'{score}, {max_score}', question_id)\n>>> os.environ['EARNED_POINTS'] = str(earned_points)\n",
                  "failure_message": "battle function does not correctly declare a winner.",
                  "hidden": false,
                  "locked": false,
                  "points": 1,
                  "success_message": "Success: battle function correctly declares a winner."
                },
                {
                  "code": ">>> from pykubegrader.telemetry import ensure_responses, log_variable, score_question, submit_question, telemetry, update_responses\n>>> import os\n>>> import base64\n>>> import matplotlib\n>>> import matplotlib\n>>> matplotlib.use('Agg')\n>>> import io\n>>> import sys\n>>> question_id = 'battle-simulation-test-5'\n>>> max_score = 1.0\n>>> score = 0\n>>> warrior = Warrior('Conan', 100)\n>>> mage = Mage('Gandalf', 90)\n>>> original_stdout = sys.stdout\n>>> sys.stdout = io.StringIO()\n>>> exec(base64.b64decode('YmF0dGxlKHdhcnJpb3IsIG1hZ2Up').decode())\n>>> sys.stdout.seek(0)\n>>> battle_output = sys.stdout.read()\n>>> sys.stdout = original_stdout\n>>> defeated_char = 'Conan' if 'Conan has been defeated!' in battle_output else 'Gandalf'\n>>> condition = f'{defeated_char} attacks' not in battle_output.split(f'{defeated_char} has been defeated!')[1]\n>>> assert condition, 'battle function allows attacks after a character is defeated.'\n>>> if condition:\n...     score = 1.0\n>>> earned_points = float(os.environ.get('EARNED_POINTS', 0))\n>>> earned_points += score\n>>> log_variable('1_practicefinal_q', f'{score}, {max_score}', question_id)\n>>> os.environ['EARNED_POINTS'] = str(earned_points)\n",
                  "failure_message": "battle function allows attacks after a character is defeated.",
                  "hidden": false,
                  "locked": false,
                  "points": 1,
                  "success_message": "Success: battle function correctly stops after a character is defeated."
                }
              ],
              "scored": true,
              "setup": "",
              "teardown": "",
              "type": "doctest"
            }
          ]
        },
        "calling-the-function": {
          "name": "calling-the-function",
          "points": null,
          "suites": [
            {
              "cases": [
                {
                  "code": ">>> from pykubegrader.telemetry import ensure_responses, log_variable, score_question, submit_question, telemetry, update_responses\n>>> import os\n>>> import base64\n>>> import matplotlib\n>>> import matplotlib\n>>> max_question_points = str(2.0)\n>>> earned_points = 0\n>>> os.environ['EARNED_POINTS'] = str(earned_points)\n>>> os.environ['TOTAL_POINTS_FREE_RESPONSE'] = str(376.0)\n>>> log_variable('total-points', f'week10-practicefinal, 1_practicefinal_q', 376.0)\n>>> question_id = 'calling-the-function-1'\n>>> max_score = 1.0\n>>> score = 0\n>>> matplotlib.use('Agg')\n>>> condition1 = 'warrior' in globals()\n>>> assert condition1, 'Warrior instance is not defined.'\n>>> condition2 = isinstance(warrior, Warrior)\n>>> assert condition2, 'warrior is not an instance of the Warrior class.'\n>>> condition3 = warrior.name == 'Conan'\n>>> assert condition3, 'warrior name is incorrect.'\n>>> condition4 = warrior.hp == 100\n>>> assert condition4, 'warrior hp is incorrect.'\n>>> if condition1 and condition2 and condition3 and condition4:\n...     score = 1.0\n>>> earned_points = float(os.environ.get('EARNED_POINTS', 0))\n>>> earned_points += score\n>>> log_variable('1_practicefinal_q', f'{score}, {max_score}', question_id)\n>>> os.environ['EARNED_POINTS'] = str(earned_points)\n",
                  "failure_message": "Warrior instance is not created correctly.",
                  "hidden": false,
                  "locked": false,
                  "points": 1,
                  "success_message": "Success: Warrior instance is created correctly."
                },
                {
                  "code": ">>> from pykubegrader.telemetry import ensure_responses, log_variable, score_question, submit_question, telemetry, update_responses\n>>> import os\n>>> import base64\n>>> import matplotlib\n>>> import matplotlib\n>>> question_id = 'calling-the-function-2'\n>>> max_score = 1.0\n>>> score = 0\n>>> matplotlib.use('Agg')\n>>> condition1 = 'mage' in globals()\n>>> assert condition1, 'Mage instance is not defined.'\n>>> condition2 = isinstance(mage, Mage)\n>>> assert condition2, 'mage is not an instance of the Mage class.'\n>>> condition3 = mage.name == 'Gandalf'\n>>> assert condition3, 'mage name is incorrect.'\n>>> condition4 = mage.hp == 90\n>>> assert condition4, 'mage hp is incorrect.'\n>>> if condition1 and condition2 and condition3 and condition4:\n...     score = 1.0\n>>> earned_points = float(os.environ.get('EARNED_POINTS', 0))\n>>> earned_points += score\n>>> log_variable('1_practicefinal_q', f'{score}, {max_score}', question_id)\n>>> os.environ['EARNED_POINTS'] = str(earned_points)\n",
                  "failure_message": "Mage instance is not created correctly.",
                  "hidden": false,
                  "locked": false,
                  "points": 1,
                  "success_message": "Success: Mage instance is created correctly."
                }
              ],
              "scored": true,
              "setup": "",
              "teardown": "",
              "type": "doctest"
            }
          ]
        },
        "compute-area-2d-function": {
          "name": "compute-area-2d-function",
          "points": null,
          "suites": [
            {
              "cases": [
                {
                  "code": ">>> from pykubegrader.telemetry import ensure_responses, log_variable, score_question, submit_question, telemetry, update_responses\n>>> import os\n>>> import base64\n>>> import matplotlib\n>>> import matplotlib\n>>> matplotlib.use('Agg')\n>>> import numpy as np\n>>> max_question_points = str(11.0)\n>>> earned_points = 0\n>>> os.environ['EARNED_POINTS'] = str(earned_points)\n>>> os.environ['TOTAL_POINTS_FREE_RESPONSE'] = str(376.0)\n>>> log_variable('total-points', f'week10-practicefinal, 1_practicefinal_q', 376.0)\n>>> question_id = 'compute-area-2d-function-1'\n>>> max_score = 1.0\n>>> score = 0\n>>> assert 'compute_area_2d' in globals(), 'compute_area_2d function is not defined.'\n>>> assert callable(compute_area_2d), 'compute_area_2d is not a function.'\n>>> if 'compute_area_2d' in globals() and callable(compute_area_2d):\n...     score = 1.0\n>>> earned_points = float(os.environ.get('EARNED_POINTS', 0))\n>>> earned_points += score\n>>> log_variable('1_practicefinal_q', f'{score}, {max_score}', question_id)\n>>> os.environ['EARNED_POINTS'] = str(earned_points)\n",
                  "failure_message": "compute_area_2d function is not defined or is not callable.",
                  "hidden": false,
                  "locked": false,
                  "points": 1,
                  "success_message": "Success: compute_area_2d function is defined correctly and is callable."
                },
                {
                  "code": ">>> from pykubegrader.telemetry import ensure_responses, log_variable, score_question, submit_question, telemetry, update_responses\n>>> import os\n>>> import base64\n>>> import matplotlib\n>>> import matplotlib\n>>> matplotlib.use('Agg')\n>>> import numpy as np\n>>> question_id = 'compute-area-2d-function-2'\n>>> max_score = 2.0\n>>> score = 0\n>>> square = np.array([[0, 0], [2, 0], [2, 2], [0, 2], [0, 0]])\n>>> expected_area = 4.0\n>>> computed_area = compute_area_2d(square)\n>>> condition = np.isclose(computed_area, expected_area)\n>>> assert condition, f'Expected {expected_area}, but got {computed_area}.'\n>>> if condition:\n...     score = 2.0\n>>> earned_points = float(os.environ.get('EARNED_POINTS', 0))\n>>> earned_points += score\n>>> log_variable('1_practicefinal_q', f'{score}, {max_score}', question_id)\n>>> os.environ['EARNED_POINTS'] = str(earned_points)\n",
                  "failure_message": "compute_area_2d does not compute the correct area for a square.",
                  "hidden": false,
                  "locked": false,
                  "points": 2,
                  "success_message": "Success: compute_area_2d correctly calculates the area of a square."
                },
                {
                  "code": ">>> from pykubegrader.telemetry import ensure_responses, log_variable, score_question, submit_question, telemetry, update_responses\n>>> import os\n>>> import base64\n>>> import matplotlib\n>>> import matplotlib\n>>> matplotlib.use('Agg')\n>>> import numpy as np\n>>> question_id = 'compute-area-2d-function-3'\n>>> max_score = 2.0\n>>> score = 0\n>>> triangle = np.array([[0, 0], [3, 0], [3, 4], [0, 0]])\n>>> expected_area = 0.5 * 3 * 4\n>>> computed_area = compute_area_2d(triangle)\n>>> condition = np.isclose(computed_area, expected_area)\n>>> assert condition, f'Expected {expected_area}, but got {computed_area}.'\n>>> if condition:\n...     score = 2.0\n>>> earned_points = float(os.environ.get('EARNED_POINTS', 0))\n>>> earned_points += score\n>>> log_variable('1_practicefinal_q', f'{score}, {max_score}', question_id)\n>>> os.environ['EARNED_POINTS'] = str(earned_points)\n",
                  "failure_message": "compute_area_2d does not compute the correct area for a triangle.",
                  "hidden": false,
                  "locked": false,
                  "points": 2,
                  "success_message": "Success: compute_area_2d correctly calculates the area of a triangle."
                },
                {
                  "code": ">>> from pykubegrader.telemetry import ensure_responses, log_variable, score_question, submit_question, telemetry, update_responses\n>>> import os\n>>> import base64\n>>> import matplotlib\n>>> import matplotlib\n>>> matplotlib.use('Agg')\n>>> import numpy as np\n>>> question_id = 'compute-area-2d-function-4'\n>>> max_score = 2.0\n>>> score = 0\n>>> pentagon = np.array([[0, 0], [4, 0], [5, 2], [2, 4], [-1, 2], [0, 0]])\n>>> expected_area = 16\n>>> computed_area = compute_area_2d(pentagon)\n>>> condition = np.isclose(computed_area, expected_area)\n>>> assert condition, f'Expected {expected_area}, but got {computed_area}.'\n>>> if condition:\n...     score = 2.0\n>>> earned_points = float(os.environ.get('EARNED_POINTS', 0))\n>>> earned_points += score\n>>> log_variable('1_practicefinal_q', f'{score}, {max_score}', question_id)\n>>> os.environ['EARNED_POINTS'] = str(earned_points)\n",
                  "failure_message": "compute_area_2d does not compute the correct area for an irregular polygon.",
                  "hidden": false,
                  "locked": false,
                  "points": 2,
                  "success_message": "Success: compute_area_2d correctly calculates the area of an irregular polygon."
                },
                {
                  "code": ">>> from pykubegrader.telemetry import ensure_responses, log_variable, score_question, submit_question, telemetry, update_responses\n>>> import os\n>>> import base64\n>>> import matplotlib\n>>> import matplotlib\n>>> matplotlib.use('Agg')\n>>> import numpy as np\n>>> question_id = 'compute-area-2d-function-5'\n>>> max_score = 2.0\n>>> score = 0\n>>> hexagon = np.array([[0, 0], [2, 0], [3, 2], [2, 4], [0, 4], [-1, 2], [0, 0]])\n>>> expected_area = 12\n>>> computed_area = compute_area_2d(hexagon)\n>>> condition = np.isclose(computed_area, expected_area)\n>>> assert condition, f'Expected {expected_area}, but got {computed_area}.'\n>>> if condition:\n...     score = 2.0\n>>> earned_points = float(os.environ.get('EARNED_POINTS', 0))\n>>> earned_points += score\n>>> log_variable('1_practicefinal_q', f'{score}, {max_score}', question_id)\n>>> os.environ['EARNED_POINTS'] = str(earned_points)\n",
                  "failure_message": "compute_area_2d does not compute the correct area for a different irregular polygon.",
                  "hidden": false,
                  "locked": false,
                  "points": 2,
                  "success_message": "Success: compute_area_2d correctly calculates the area of a different irregular polygon."
                },
                {
                  "code": ">>> from pykubegrader.telemetry import ensure_responses, log_variable, score_question, submit_question, telemetry, update_responses\n>>> import os\n>>> import base64\n>>> import matplotlib\n>>> import matplotlib\n>>> matplotlib.use('Agg')\n>>> import numpy as np\n>>> question_id = 'compute-area-2d-function-6'\n>>> max_score = 1.0\n>>> score = 0\n>>> open_shape = np.array([[0, 0], [4, 0], [5, 2], [2, 4], [-1, 2]])\n>>> expected_area = 0.0\n>>> computed_area = compute_area_2d(open_shape)\n>>> condition = np.isclose(computed_area, expected_area)\n>>> assert condition, f'Expected {expected_area}, but got {computed_area}.'\n>>> if condition:\n...     score = 1.0\n>>> earned_points = float(os.environ.get('EARNED_POINTS', 0))\n>>> earned_points += score\n>>> log_variable('1_practicefinal_q', f'{score}, {max_score}', question_id)\n>>> os.environ['EARNED_POINTS'] = str(earned_points)\n",
                  "failure_message": "compute_area_2d does not return zero for an open shape.",
                  "hidden": false,
                  "locked": false,
                  "points": 1,
                  "success_message": "Success: compute_area_2d returns zero for an open shape."
                },
                {
                  "code": ">>> from pykubegrader.telemetry import ensure_responses, log_variable, score_question, submit_question, telemetry, update_responses\n>>> import os\n>>> import base64\n>>> import matplotlib\n>>> import matplotlib\n>>> matplotlib.use('Agg')\n>>> import numpy as np\n>>> question_id = 'compute-area-2d-function-7'\n>>> max_score = 1.0\n>>> score = 0\n>>> single_point = np.array([[0, 0]])\n>>> expected_area = 0.0\n>>> computed_area = compute_area_2d(single_point)\n>>> condition = np.isclose(computed_area, expected_area)\n>>> assert condition, f'Expected {expected_area}, but got {computed_area}.'\n>>> if condition:\n...     score = 1.0\n>>> earned_points = float(os.environ.get('EARNED_POINTS', 0))\n>>> earned_points += score\n>>> log_variable('1_practicefinal_q', f'{score}, {max_score}', question_id)\n>>> os.environ['EARNED_POINTS'] = str(earned_points)\n",
                  "failure_message": "compute_area_2d does not return zero for a single point.",
                  "hidden": false,
                  "locked": false,
                  "points": 1,
                  "success_message": "Success: compute_area_2d returns zero for a single point."
                }
              ],
              "scored": true,
              "setup": "",
              "teardown": "",
              "type": "doctest"
            }
          ]
        },
        "compute-bounding-box-function": {
          "name": "compute-bounding-box-function",
          "points": null,
          "suites": [
            {
              "cases": [
                {
                  "code": ">>> from pykubegrader.telemetry import ensure_responses, log_variable, score_question, submit_question, telemetry, update_responses\n>>> import os\n>>> import base64\n>>> import matplotlib\n>>> import matplotlib\n>>> matplotlib.use('Agg')\n>>> import numpy as np\n>>> max_question_points = str(16.0)\n>>> earned_points = 0\n>>> os.environ['EARNED_POINTS'] = str(earned_points)\n>>> os.environ['TOTAL_POINTS_FREE_RESPONSE'] = str(376.0)\n>>> log_variable('total-points', f'week10-practicefinal, 1_practicefinal_q', 376.0)\n>>> question_id = 'compute-bounding-box-function-1'\n>>> max_score = 1.0\n>>> score = 0\n>>> assert 'compute_bounding_box' in globals(), 'compute_bounding_box function is not defined.'\n>>> assert callable(compute_bounding_box), 'compute_bounding_box is not a function.'\n>>> if 'compute_bounding_box' in globals() and callable(compute_bounding_box):\n...     score = 1.0\n>>> earned_points = float(os.environ.get('EARNED_POINTS', 0))\n>>> earned_points += score\n>>> log_variable('1_practicefinal_q', f'{score}, {max_score}', question_id)\n>>> os.environ['EARNED_POINTS'] = str(earned_points)\n",
                  "failure_message": "compute_bounding_box function is not defined, or is not callable.",
                  "hidden": false,
                  "locked": false,
                  "points": 1,
                  "success_message": "Success: compute_bounding_box function is defined correctly, and is callable."
                },
                {
                  "code": ">>> from pykubegrader.telemetry import ensure_responses, log_variable, score_question, submit_question, telemetry, update_responses\n>>> import os\n>>> import base64\n>>> import matplotlib\n>>> import matplotlib\n>>> matplotlib.use('Agg')\n>>> import numpy as np\n>>> question_id = 'compute-bounding-box-function-2'\n>>> max_score = 3.0\n>>> score = 0\n>>> square = np.array([[0, 0], [2, 0], [2, 2], [0, 2]])\n>>> expected_bbox = (np.array([0, 0]), np.array([2, 2]))\n>>> computed_bbox = compute_bounding_box(square)\n>>> condition = np.allclose(computed_bbox[0], expected_bbox[0]) and np.allclose(computed_bbox[1], expected_bbox[1])\n>>> assert condition, f'Expected {expected_bbox}, but got {computed_bbox}.'\n>>> if condition:\n...     score = 3.0\n>>> earned_points = float(os.environ.get('EARNED_POINTS', 0))\n>>> earned_points += score\n>>> log_variable('1_practicefinal_q', f'{score}, {max_score}', question_id)\n>>> os.environ['EARNED_POINTS'] = str(earned_points)\n",
                  "failure_message": "compute_bounding_box does not return the correct bounding box for a square.",
                  "hidden": false,
                  "locked": false,
                  "points": 3,
                  "success_message": "Success: compute_bounding_box correctly computes the bounding box of a square."
                },
                {
                  "code": ">>> from pykubegrader.telemetry import ensure_responses, log_variable, score_question, submit_question, telemetry, update_responses\n>>> import os\n>>> import base64\n>>> import matplotlib\n>>> import matplotlib\n>>> matplotlib.use('Agg')\n>>> import numpy as np\n>>> question_id = 'compute-bounding-box-function-3'\n>>> max_score = 3.0\n>>> score = 0\n>>> triangle = np.array([[0, 0], [3, 0], [3, 4]])\n>>> expected_bbox = (np.array([0, 0]), np.array([3, 4]))\n>>> computed_bbox = compute_bounding_box(triangle)\n>>> condition = np.allclose(computed_bbox[0], expected_bbox[0]) and np.allclose(computed_bbox[1], expected_bbox[1])\n>>> assert condition, f'Expected {expected_bbox}, but got {computed_bbox}.'\n>>> if condition:\n...     score = 3.0\n>>> earned_points = float(os.environ.get('EARNED_POINTS', 0))\n>>> earned_points += score\n>>> log_variable('1_practicefinal_q', f'{score}, {max_score}', question_id)\n>>> os.environ['EARNED_POINTS'] = str(earned_points)\n",
                  "failure_message": "compute_bounding_box does not return the correct bounding box for a triangle.",
                  "hidden": false,
                  "locked": false,
                  "points": 3,
                  "success_message": "Success: compute_bounding_box correctly computes the bounding box of a triangle."
                },
                {
                  "code": ">>> from pykubegrader.telemetry import ensure_responses, log_variable, score_question, submit_question, telemetry, update_responses\n>>> import os\n>>> import base64\n>>> import matplotlib\n>>> import matplotlib\n>>> matplotlib.use('Agg')\n>>> import numpy as np\n>>> question_id = 'compute-bounding-box-function-4'\n>>> max_score = 3.0\n>>> score = 0\n>>> pentagon = np.array([[0, 0], [4, 0], [5, 2], [2, 4], [-1, 2]])\n>>> expected_bbox = (np.array([-1, 0]), np.array([5, 4]))\n>>> computed_bbox = compute_bounding_box(pentagon)\n>>> condition = np.allclose(computed_bbox[0], expected_bbox[0]) and np.allclose(computed_bbox[1], expected_bbox[1])\n>>> assert condition, f'Expected {expected_bbox}, but got {computed_bbox}.'\n>>> if condition:\n...     score = 3.0\n>>> earned_points = float(os.environ.get('EARNED_POINTS', 0))\n>>> earned_points += score\n>>> log_variable('1_practicefinal_q', f'{score}, {max_score}', question_id)\n>>> os.environ['EARNED_POINTS'] = str(earned_points)\n",
                  "failure_message": "compute_bounding_box does not return the correct bounding box for an irregular polygon.",
                  "hidden": false,
                  "locked": false,
                  "points": 3,
                  "success_message": "Success: compute_bounding_box correctly computes the bounding box of an irregular polygon."
                },
                {
                  "code": ">>> from pykubegrader.telemetry import ensure_responses, log_variable, score_question, submit_question, telemetry, update_responses\n>>> import os\n>>> import base64\n>>> import matplotlib\n>>> import matplotlib\n>>> matplotlib.use('Agg')\n>>> import numpy as np\n>>> question_id = 'compute-bounding-box-function-5'\n>>> max_score = 3.0\n>>> score = 0\n>>> negative_shape = np.array([[-3, -2], [-1, -5], [-4, -6], [-2, -3]])\n>>> expected_bbox = (np.array([-4, -6]), np.array([-1, -2]))\n>>> computed_bbox = compute_bounding_box(negative_shape)\n>>> condition = np.allclose(computed_bbox[0], expected_bbox[0]) and np.allclose(computed_bbox[1], expected_bbox[1])\n>>> assert condition, f'Expected {expected_bbox}, but got {computed_bbox}.'\n>>> if condition:\n...     score = 3.0\n>>> earned_points = float(os.environ.get('EARNED_POINTS', 0))\n>>> earned_points += score\n>>> log_variable('1_practicefinal_q', f'{score}, {max_score}', question_id)\n>>> os.environ['EARNED_POINTS'] = str(earned_points)\n",
                  "failure_message": "compute_bounding_box does not correctly handle negative coordinates.",
                  "hidden": false,
                  "locked": false,
                  "points": 3,
                  "success_message": "Success: compute_bounding_box correctly handles negative coordinates."
                },
                {
                  "code": ">>> from pykubegrader.telemetry import ensure_responses, log_variable, score_question, submit_question, telemetry, update_responses\n>>> import os\n>>> import base64\n>>> import matplotlib\n>>> import matplotlib\n>>> matplotlib.use('Agg')\n>>> import numpy as np\n>>> question_id = 'compute-bounding-box-function-6'\n>>> max_score = 2.0\n>>> score = 0\n>>> collinear_points = np.array([[1, 2], [3, 2], [5, 2], [7, 2]])\n>>> expected_bbox = (np.array([1, 2]), np.array([7, 2]))\n>>> computed_bbox = compute_bounding_box(collinear_points)\n>>> condition = np.allclose(computed_bbox[0], expected_bbox[0]) and np.allclose(computed_bbox[1], expected_bbox[1])\n>>> assert condition, f'Expected {expected_bbox}, but got {computed_bbox}.'\n>>> if condition:\n...     score = 2.0\n>>> earned_points = float(os.environ.get('EARNED_POINTS', 0))\n>>> earned_points += score\n>>> log_variable('1_practicefinal_q', f'{score}, {max_score}', question_id)\n>>> os.environ['EARNED_POINTS'] = str(earned_points)\n",
                  "failure_message": "compute_bounding_box does not return the correct bounding box for collinear points.",
                  "hidden": false,
                  "locked": false,
                  "points": 2,
                  "success_message": "Success: compute_bounding_box correctly computes the bounding box for collinear points."
                },
                {
                  "code": ">>> from pykubegrader.telemetry import ensure_responses, log_variable, score_question, submit_question, telemetry, update_responses\n>>> import os\n>>> import base64\n>>> import matplotlib\n>>> import matplotlib\n>>> matplotlib.use('Agg')\n>>> import numpy as np\n>>> question_id = 'compute-bounding-box-function-7'\n>>> max_score = 1.0\n>>> score = 0\n>>> single_point = np.array([[3, 4]])\n>>> expected_bbox = (np.array([3, 4]), np.array([3, 4]))\n>>> computed_bbox = compute_bounding_box(single_point)\n>>> condition = np.allclose(computed_bbox[0], expected_bbox[0]) and np.allclose(computed_bbox[1], expected_bbox[1])\n>>> assert condition, f'Expected {expected_bbox}, but got {computed_bbox}.'\n>>> if condition:\n...     score = 1.0\n>>> earned_points = float(os.environ.get('EARNED_POINTS', 0))\n>>> earned_points += score\n>>> log_variable('1_practicefinal_q', f'{score}, {max_score}', question_id)\n>>> os.environ['EARNED_POINTS'] = str(earned_points)\n",
                  "failure_message": "compute_bounding_box does not correctly return the single point.",
                  "hidden": false,
                  "locked": false,
                  "points": 1,
                  "success_message": "Success: compute_bounding_box correctly handles a single point."
                }
              ],
              "scored": true,
              "setup": "",
              "teardown": "",
              "type": "doctest"
            }
          ]
        },
        "compute-centroid-2d-function": {
          "name": "compute-centroid-2d-function",
          "points": null,
          "suites": [
            {
              "cases": [
                {
                  "code": ">>> from pykubegrader.telemetry import ensure_responses, log_variable, score_question, submit_question, telemetry, update_responses\n>>> import os\n>>> import base64\n>>> import matplotlib\n>>> import matplotlib\n>>> matplotlib.use('Agg')\n>>> import numpy as np\n>>> max_question_points = str(12.0)\n>>> earned_points = 0\n>>> os.environ['EARNED_POINTS'] = str(earned_points)\n>>> os.environ['TOTAL_POINTS_FREE_RESPONSE'] = str(376.0)\n>>> log_variable('total-points', f'week10-practicefinal, 1_practicefinal_q', 376.0)\n>>> question_id = 'compute-centroid-2d-function-1'\n>>> max_score = 1.0\n>>> score = 0\n>>> assert 'compute_centroid' in globals(), 'compute_centroid function is not defined.'\n>>> assert callable(compute_centroid), 'compute_centroid is not a function.'\n>>> if 'compute_centroid' in globals() and callable(compute_centroid):\n...     score = 1.0\n>>> earned_points = float(os.environ.get('EARNED_POINTS', 0))\n>>> earned_points += score\n>>> log_variable('1_practicefinal_q', f'{score}, {max_score}', question_id)\n>>> os.environ['EARNED_POINTS'] = str(earned_points)\n",
                  "failure_message": "compute_centroid function is not defined or is not callable.",
                  "hidden": false,
                  "locked": false,
                  "points": 1,
                  "success_message": "Success: compute_centroid function is defined correctly and is callable."
                },
                {
                  "code": ">>> from pykubegrader.telemetry import ensure_responses, log_variable, score_question, submit_question, telemetry, update_responses\n>>> import os\n>>> import base64\n>>> import matplotlib\n>>> import matplotlib\n>>> matplotlib.use('Agg')\n>>> import numpy as np\n>>> question_id = 'compute-centroid-2d-function-2'\n>>> max_score = 2.0\n>>> score = 0\n>>> square = np.array([[0, 0], [2, 0], [2, 2], [0, 2], [0, 0]])\n>>> expected_centroid = np.array([1.0, 1.0])\n>>> computed_centroid = compute_centroid(square)\n>>> condition = np.allclose(computed_centroid, expected_centroid)\n>>> assert condition, f'Expected {expected_centroid}, but got {computed_centroid}.'\n>>> if condition:\n...     score = 2.0\n>>> earned_points = float(os.environ.get('EARNED_POINTS', 0))\n>>> earned_points += score\n>>> log_variable('1_practicefinal_q', f'{score}, {max_score}', question_id)\n>>> os.environ['EARNED_POINTS'] = str(earned_points)\n",
                  "failure_message": "compute_centroid does not return the correct centroid for a square.",
                  "hidden": false,
                  "locked": false,
                  "points": 2,
                  "success_message": "Success: compute_centroid correctly computes the centroid of a square."
                },
                {
                  "code": ">>> from pykubegrader.telemetry import ensure_responses, log_variable, score_question, submit_question, telemetry, update_responses\n>>> import os\n>>> import base64\n>>> import matplotlib\n>>> import matplotlib\n>>> matplotlib.use('Agg')\n>>> import numpy as np\n>>> question_id = 'compute-centroid-2d-function-3'\n>>> max_score = 2.0\n>>> score = 0\n>>> triangle = np.array([[0, 0], [3, 0], [3, 4], [0, 0]])\n>>> expected_centroid = np.array([2.0, 4.0 / 3])\n>>> computed_centroid = compute_centroid(triangle)\n>>> condition = np.allclose(computed_centroid, expected_centroid)\n>>> assert condition, f'Expected {expected_centroid}, but got {computed_centroid}.'\n>>> if condition:\n...     score = 2.0\n>>> earned_points = float(os.environ.get('EARNED_POINTS', 0))\n>>> earned_points += score\n>>> log_variable('1_practicefinal_q', f'{score}, {max_score}', question_id)\n>>> os.environ['EARNED_POINTS'] = str(earned_points)\n",
                  "failure_message": "compute_centroid does not return the correct centroid for a triangle.",
                  "hidden": false,
                  "locked": false,
                  "points": 2,
                  "success_message": "Success: compute_centroid correctly computes the centroid of a triangle."
                },
                {
                  "code": ">>> from pykubegrader.telemetry import ensure_responses, log_variable, score_question, submit_question, telemetry, update_responses\n>>> import os\n>>> import base64\n>>> import matplotlib\n>>> import matplotlib\n>>> matplotlib.use('Agg')\n>>> import numpy as np\n>>> question_id = 'compute-centroid-2d-function-4'\n>>> max_score = 2.0\n>>> score = 0\n>>> pentagon = np.array([[0, 0], [4, 0], [5, 2], [2, 4], [-1, 2], [0, 0]])\n>>> computed_centroid = compute_centroid(pentagon)\n>>> expected_centroid = np.array([2.0, 1.6])\n>>> condition = np.allclose(computed_centroid, expected_centroid, atol=0.1)\n>>> assert condition, f'Expected {expected_centroid}, but got {computed_centroid}.'\n>>> if condition:\n...     score = 2.0\n>>> earned_points = float(os.environ.get('EARNED_POINTS', 0))\n>>> earned_points += score\n>>> log_variable('1_practicefinal_q', f'{score}, {max_score}', question_id)\n>>> os.environ['EARNED_POINTS'] = str(earned_points)\n",
                  "failure_message": "compute_centroid does not return the correct centroid for an irregular pentagon.",
                  "hidden": false,
                  "locked": false,
                  "points": 2,
                  "success_message": "Success: compute_centroid correctly computes the centroid of an irregular pentagon."
                },
                {
                  "code": ">>> from pykubegrader.telemetry import ensure_responses, log_variable, score_question, submit_question, telemetry, update_responses\n>>> import os\n>>> import base64\n>>> import matplotlib\n>>> import matplotlib\n>>> matplotlib.use('Agg')\n>>> import numpy as np\n>>> question_id = 'compute-centroid-2d-function-5'\n>>> max_score = 2.0\n>>> score = 0\n>>> collinear_points = np.array([[0, 0], [2, 0], [5, 0], [9, 0], [0, 0]])\n>>> expected_centroid = np.mean(collinear_points, axis=0)\n>>> computed_centroid = compute_centroid(collinear_points)\n>>> condition = np.allclose(computed_centroid, expected_centroid)\n>>> assert condition, f'Expected {expected_centroid}, but got {computed_centroid}.'\n>>> if condition:\n...     score = 2.0\n>>> earned_points = float(os.environ.get('EARNED_POINTS', 0))\n>>> earned_points += score\n>>> log_variable('1_practicefinal_q', f'{score}, {max_score}', question_id)\n>>> os.environ['EARNED_POINTS'] = str(earned_points)\n",
                  "failure_message": "compute_centroid does not correctly fallback to mean coordinates.",
                  "hidden": false,
                  "locked": false,
                  "points": 2,
                  "success_message": "Success: compute_centroid returns the mean coordinates when the area is zero."
                },
                {
                  "code": ">>> from pykubegrader.telemetry import ensure_responses, log_variable, score_question, submit_question, telemetry, update_responses\n>>> import os\n>>> import base64\n>>> import matplotlib\n>>> import matplotlib\n>>> matplotlib.use('Agg')\n>>> import numpy as np\n>>> question_id = 'compute-centroid-2d-function-6'\n>>> max_score = 1.0\n>>> score = 0\n>>> single_point = np.array([[3, 4]])\n>>> expected_centroid = np.array([3, 4])\n>>> computed_centroid = compute_centroid(single_point)\n>>> condition = np.allclose(computed_centroid, expected_centroid)\n>>> assert condition, f'Expected {expected_centroid}, but got {computed_centroid}.'\n>>> if condition:\n...     score = 1.0\n>>> earned_points = float(os.environ.get('EARNED_POINTS', 0))\n>>> earned_points += score\n>>> log_variable('1_practicefinal_q', f'{score}, {max_score}', question_id)\n>>> os.environ['EARNED_POINTS'] = str(earned_points)\n",
                  "failure_message": "compute_centroid does not correctly return the single point.",
                  "hidden": false,
                  "locked": false,
                  "points": 1,
                  "success_message": "Success: compute_centroid correctly handles a single point."
                },
                {
                  "code": ">>> from pykubegrader.telemetry import ensure_responses, log_variable, score_question, submit_question, telemetry, update_responses\n>>> import os\n>>> import base64\n>>> import matplotlib\n>>> import matplotlib\n>>> matplotlib.use('Agg')\n>>> import numpy as np\n>>> question_id = 'compute-centroid-2d-function-7'\n>>> max_score = 1.0\n>>> score = 0\n>>> output = False\n>>> open_polygon = np.array([[0, 0], [2, 0], [2, 2], [0, 2]])\n>>> try:\n...     compute_centroid(open_polygon)\n...     raise AssertionError('Expected ValueError but function executed successfully.')\n... except ValueError:\n...     output = True\n...     pass\n>>> assert output, 'compute_centroid does not raise ValueError for an open polygon.'\n>>> if output:\n...     score = 1.0\n>>> earned_points = float(os.environ.get('EARNED_POINTS', 0))\n>>> earned_points += score\n>>> log_variable('1_practicefinal_q', f'{score}, {max_score}', question_id)\n>>> os.environ['EARNED_POINTS'] = str(earned_points)\n",
                  "failure_message": "compute_centroid does not raise ValueError for an open polygon.",
                  "hidden": false,
                  "locked": false,
                  "points": 1,
                  "success_message": "Success: compute_centroid raises ValueError for an open polygon."
                },
                {
                  "code": ">>> from pykubegrader.telemetry import ensure_responses, log_variable, score_question, submit_question, telemetry, update_responses\n>>> import os\n>>> import base64\n>>> import matplotlib\n>>> import matplotlib\n>>> matplotlib.use('Agg')\n>>> import numpy as np\n>>> question_id = 'compute-centroid-2d-function-8'\n>>> max_score = 1.0\n>>> score = 0\n>>> output = False\n>>> polygon = np.zeros((4, 3, 4))\n>>> open_polygon = np.array([[0, 0], [2, 0], [2, 2], [0, 2]])\n>>> try:\n...     compute_centroid(open_polygon)\n...     raise AssertionError('Expected ValueError but function executed successfully.')\n... except ValueError:\n...     output = True\n...     pass\n>>> assert output, 'compute_centroid does not raise ValueError for an open polygon.'\n>>> if output:\n...     score = 1.0\n>>> earned_points = float(os.environ.get('EARNED_POINTS', 0))\n>>> earned_points += score\n>>> log_variable('1_practicefinal_q', f'{score}, {max_score}', question_id)\n>>> os.environ['EARNED_POINTS'] = str(earned_points)\n",
                  "failure_message": "compute_centroid does not raise ValueError if the input is not a 2D or 3D array.",
                  "hidden": false,
                  "locked": false,
                  "points": 1,
                  "success_message": "Success: compute_centroid raises ValueError if the input is not a 2D or 3D array."
                }
              ],
              "scored": true,
              "setup": "",
              "teardown": "",
              "type": "doctest"
            }
          ]
        },
        "compute-curvature-function-2d": {
          "name": "compute-curvature-function-2d",
          "points": null,
          "suites": [
            {
              "cases": [
                {
                  "code": ">>> from pykubegrader.telemetry import ensure_responses, log_variable, score_question, submit_question, telemetry, update_responses\n>>> import os\n>>> import base64\n>>> import matplotlib\n>>> import matplotlib\n>>> matplotlib.use('Agg')\n>>> import numpy as np\n>>> max_question_points = str(14.0)\n>>> earned_points = 0\n>>> os.environ['EARNED_POINTS'] = str(earned_points)\n>>> os.environ['TOTAL_POINTS_FREE_RESPONSE'] = str(376.0)\n>>> log_variable('total-points', f'week10-practicefinal, 1_practicefinal_q', 376.0)\n>>> question_id = 'compute-curvature-function-2d-1'\n>>> max_score = 1.0\n>>> score = 0\n>>> assert 'compute_curvature_2d' in globals(), 'compute_curvature_2d function is not defined.'\n>>> assert callable(compute_curvature_2d), 'compute_curvature_2d is not a function.'\n>>> if 'compute_curvature_2d' in globals() and callable(compute_curvature_2d):\n...     score = 1.0\n>>> earned_points = float(os.environ.get('EARNED_POINTS', 0))\n>>> earned_points += score\n>>> log_variable('1_practicefinal_q', f'{score}, {max_score}', question_id)\n>>> os.environ['EARNED_POINTS'] = str(earned_points)\n",
                  "failure_message": "compute_curvature_2d function is not defined, or is not callable.",
                  "hidden": false,
                  "locked": false,
                  "points": 1,
                  "success_message": "Success: compute_curvature_2d function is defined correctly, and is callable."
                },
                {
                  "code": ">>> from pykubegrader.telemetry import ensure_responses, log_variable, score_question, submit_question, telemetry, update_responses\n>>> import os\n>>> import base64\n>>> import matplotlib\n>>> import matplotlib\n>>> matplotlib.use('Agg')\n>>> import numpy as np\n>>> question_id = 'compute-curvature-function-2d-2'\n>>> max_score = 1.0\n>>> score = 0\n>>> straight_line = np.array([[0, 0], [1, 0], [2, 0], [3, 0], [4, 0]])\n>>> computed_curvature = compute_curvature_2d(straight_line)\n>>> expected_curvature = np.zeros(len(straight_line))\n>>> condition = np.allclose(computed_curvature, expected_curvature)\n>>> assert condition, f'Expected {expected_curvature}, but got {computed_curvature}.'\n>>> if condition:\n...     score = 1.0\n>>> earned_points = float(os.environ.get('EARNED_POINTS', 0))\n>>> earned_points += score\n>>> log_variable('1_practicefinal_q', f'{score}, {max_score}', question_id)\n>>> os.environ['EARNED_POINTS'] = str(earned_points)\n",
                  "failure_message": "compute_curvature_2d does not return zero curvature for a straight line.",
                  "hidden": false,
                  "locked": false,
                  "points": 1,
                  "success_message": "Success: compute_curvature_2d correctly computes zero curvature for a straight line."
                },
                {
                  "code": ">>> from pykubegrader.telemetry import ensure_responses, log_variable, score_question, submit_question, telemetry, update_responses\n>>> import os\n>>> import base64\n>>> import matplotlib\n>>> import matplotlib\n>>> matplotlib.use('Agg')\n>>> import numpy as np\n>>> question_id = 'compute-curvature-function-2d-3'\n>>> max_score = 4.0\n>>> score = 0\n>>> theta = np.linspace(0, 2 * np.pi, 100)\n>>> circle_arc = np.column_stack((np.cos(theta), np.sin(theta)))\n>>> computed_curvature = compute_curvature_2d(circle_arc)\n>>> expected_curvature = np.full_like(computed_curvature[2:-2], 1.0)\n>>> condition = np.allclose(computed_curvature[2:-2], expected_curvature, atol=0.1)\n>>> assert condition, f'Expected {expected_curvature}, but got {computed_curvature}.'\n>>> if condition:\n...     score = 4.0\n>>> earned_points = float(os.environ.get('EARNED_POINTS', 0))\n>>> earned_points += score\n>>> log_variable('1_practicefinal_q', f'{score}, {max_score}', question_id)\n>>> os.environ['EARNED_POINTS'] = str(earned_points)\n",
                  "failure_message": "compute_curvature_2d does not return constant curvature for a circle.",
                  "hidden": false,
                  "locked": false,
                  "points": 4,
                  "success_message": "Success: compute_curvature_2d correctly computes constant curvature for a circle."
                },
                {
                  "code": ">>> from pykubegrader.telemetry import ensure_responses, log_variable, score_question, submit_question, telemetry, update_responses\n>>> import os\n>>> import base64\n>>> import matplotlib\n>>> import matplotlib\n>>> matplotlib.use('Agg')\n>>> import numpy as np\n>>> question_id = 'compute-curvature-function-2d-4'\n>>> max_score = 4.0\n>>> score = 0\n>>> square = np.array([[0, 0], [0.5, 0], [1, 0], [1, 0.5], [1, 1], [0, 1], [0, 0]])\n>>> computed_curvature = compute_curvature_2d(square)\n>>> corner_indices = [0, 2, 4, 6]\n>>> edge_indices = [1, 3]\n>>> condition = np.all(np.max(computed_curvature[corner_indices]) > np.max(computed_curvature[edge_indices]))\n>>> assert condition, 'Corners do not show significantly higher curvature than edges.'\n>>> if condition:\n...     score = 4.0\n>>> earned_points = float(os.environ.get('EARNED_POINTS', 0))\n>>> earned_points += score\n>>> log_variable('1_practicefinal_q', f'{score}, {max_score}', question_id)\n>>> os.environ['EARNED_POINTS'] = str(earned_points)\n",
                  "failure_message": "compute_curvature_2d does not correctly detect high curvature at square corners.",
                  "hidden": false,
                  "locked": false,
                  "points": 4,
                  "success_message": "Success: compute_curvature_2d correctly handles sharp corners in a square."
                },
                {
                  "code": ">>> from pykubegrader.telemetry import ensure_responses, log_variable, score_question, submit_question, telemetry, update_responses\n>>> import os\n>>> import base64\n>>> import matplotlib\n>>> import matplotlib\n>>> matplotlib.use('Agg')\n>>> import numpy as np\n>>> question_id = 'compute-curvature-function-2d-5'\n>>> max_score = 3.0\n>>> score = 0\n>>> irregular_polygon = np.array([[0, 0], [2, 0], [3, 1], [1, 3], [-1, 2]])\n>>> computed_curvature = compute_curvature_2d(irregular_polygon)\n>>> condition = np.any(computed_curvature > 0)\n>>> assert condition, 'Curvature is unexpectedly zero for an irregular polygon.'\n>>> if condition:\n...     score = 3.0\n>>> earned_points = float(os.environ.get('EARNED_POINTS', 0))\n>>> earned_points += score\n>>> log_variable('1_practicefinal_q', f'{score}, {max_score}', question_id)\n>>> os.environ['EARNED_POINTS'] = str(earned_points)\n",
                  "failure_message": "compute_curvature_2d does not correctly compute curvature for an irregular polygon.",
                  "hidden": false,
                  "locked": false,
                  "points": 3,
                  "success_message": "Success: compute_curvature_2d correctly computes curvature for an irregular polygon."
                },
                {
                  "code": ">>> from pykubegrader.telemetry import ensure_responses, log_variable, score_question, submit_question, telemetry, update_responses\n>>> import os\n>>> import base64\n>>> import matplotlib\n>>> import matplotlib\n>>> matplotlib.use('Agg')\n>>> import numpy as np\n>>> question_id = 'compute-curvature-function-2d-6'\n>>> max_score = 1.0\n>>> score = 0\n>>> single_point = np.array([[1, 2]])\n>>> out = False\n>>> try:\n...     computed_curvature = compute_curvature_2d(single_point)\n...     condition = np.allclose(computed_curvature, np.array([0]))\n...     assert condition, f'Expected zero curvature, but got {computed_curvature}.'\n... except ValueError:\n...     pass\n>>> if condition:\n...     score = 1.0\n>>> earned_points = float(os.environ.get('EARNED_POINTS', 0))\n>>> earned_points += score\n>>> log_variable('1_practicefinal_q', f'{score}, {max_score}', question_id)\n>>> os.environ['EARNED_POINTS'] = str(earned_points)\n",
                  "failure_message": "compute_curvature_2d does not correctly return zero for a single point.",
                  "hidden": false,
                  "locked": false,
                  "points": 1,
                  "success_message": "Success: compute_curvature_2d correctly handles a single point."
                }
              ],
              "scored": true,
              "setup": "",
              "teardown": "",
              "type": "doctest"
            }
          ]
        },
        "compute-shape-properties-function": {
          "name": "compute-shape-properties-function",
          "points": null,
          "suites": [
            {
              "cases": [
                {
                  "code": ">>> from pykubegrader.telemetry import ensure_responses, log_variable, score_question, submit_question, telemetry, update_responses\n>>> import os\n>>> import base64\n>>> import matplotlib\n>>> import matplotlib\n>>> matplotlib.use('Agg')\n>>> import numpy as np\n>>> max_question_points = str(9.0)\n>>> earned_points = 0\n>>> os.environ['EARNED_POINTS'] = str(earned_points)\n>>> os.environ['TOTAL_POINTS_FREE_RESPONSE'] = str(376.0)\n>>> log_variable('total-points', f'week10-practicefinal, 1_practicefinal_q', 376.0)\n>>> question_id = 'compute-shape-properties-function-1'\n>>> max_score = 1.0\n>>> score = 0\n>>> condition1 = 'compute_shape_properties' in globals()\n>>> condition2 = callable(compute_shape_properties)\n>>> assert condition1, 'compute_shape_properties is not defined.'\n>>> assert condition2, 'compute_shape_properties is not a function.'\n>>> if condition1 and condition2:\n...     score = 1.0\n>>> earned_points = float(os.environ.get('EARNED_POINTS', 0))\n>>> earned_points += score\n>>> log_variable('1_practicefinal_q', f'{score}, {max_score}', question_id)\n>>> os.environ['EARNED_POINTS'] = str(earned_points)\n",
                  "failure_message": "compute_shape_properties function is not defined, or is not callable.",
                  "hidden": false,
                  "locked": false,
                  "points": 1,
                  "success_message": "Success: compute_shape_properties function is defined correctly, and is callable."
                },
                {
                  "code": ">>> from pykubegrader.telemetry import ensure_responses, log_variable, score_question, submit_question, telemetry, update_responses\n>>> import os\n>>> import base64\n>>> import matplotlib\n>>> import matplotlib\n>>> matplotlib.use('Agg')\n>>> import numpy as np\n>>> question_id = 'compute-shape-properties-function-2'\n>>> max_score = 2.0\n>>> score = 0\n>>> square = np.array([[0, 0], [2, 0], [2, 2], [0, 2], [0, 0]])\n>>> expected_perimeter = 8.0\n>>> expected_area = 4.0\n>>> expected_centroid = np.array([1.0, 1.0])\n>>> expected_bbox = (np.array([0, 0]), np.array([2, 2]))\n>>> computed_properties = compute_shape_properties(square)\n>>> exec(base64.b64decode('Y29uZGl0aW9uMSA9IG5wLmlzY2xvc2UoY29tcHV0ZWRfcHJvcGVydGllc1sicGVyaW1ldGVyIl0sIGV4cGVjdGVkX3BlcmltZXRlcikKY29uZGl0aW9uMiA9IG5wLmlzY2xvc2UoY29tcHV0ZWRfcHJvcGVydGllc1siYXJlYSJdLCBleHBlY3RlZF9hcmVhKQpjb25kaXRpb24zID0gbnAuYWxsY2xvc2UoY29tcHV0ZWRfcHJvcGVydGllc1siY2VudHJvaWQiXSwgZXhwZWN0ZWRfY2VudHJvaWQp').decode())\n>>> condition4 = np.allclose(computed_properties['bounding_box'][0], expected_bbox[0]) and np.allclose(computed_properties['bounding_box'][1], expected_bbox[1])\n>>> assert condition1, f\"Expected {expected_perimeter}, but got {computed_properties['perimeter']}.\"\n>>> assert condition2, f\"Expected {expected_area}, but got {computed_properties['area']}.\"\n>>> assert condition3, f\"Expected {expected_centroid}, but got {computed_properties['centroid']}.\"\n>>> assert condition4, f\"Expected bounding box {expected_bbox}, but got {computed_properties['bounding_box']}.\"\n>>> if condition1 and condition2 and condition3 and condition4:\n...     score = 2.0\n>>> earned_points = float(os.environ.get('EARNED_POINTS', 0))\n>>> earned_points += score\n>>> log_variable('1_practicefinal_q', f'{score}, {max_score}', question_id)\n>>> os.environ['EARNED_POINTS'] = str(earned_points)\n",
                  "failure_message": "compute_shape_properties does not return correct values for a square.",
                  "hidden": false,
                  "locked": false,
                  "points": 2,
                  "success_message": "Success: compute_shape_properties correctly computes properties of a square."
                },
                {
                  "code": ">>> from pykubegrader.telemetry import ensure_responses, log_variable, score_question, submit_question, telemetry, update_responses\n>>> import os\n>>> import base64\n>>> import matplotlib\n>>> import matplotlib\n>>> matplotlib.use('Agg')\n>>> import numpy as np\n>>> question_id = 'compute-shape-properties-function-3'\n>>> max_score = 2.0\n>>> score = 0\n>>> triangle = np.array([[0, 0], [3, 0], [3, 4], [0, 0]])\n>>> expected_area = 0.5 * 3 * 4\n>>> expected_perimeter = 3 + 4 + 5\n>>> expected_bbox = (np.array([0, 0]), np.array([3, 4]))\n>>> computed_properties = compute_shape_properties(triangle)\n>>> condition1 = np.isclose(computed_properties['perimeter'], expected_perimeter)\n>>> condition2 = np.isclose(computed_properties['area'], expected_area)\n>>> condition3 = np.allclose(computed_properties['bounding_box'][0], expected_bbox[0]) and np.allclose(computed_properties['bounding_box'][1], expected_bbox[1])\n>>> assert condition1, f\"Expected {expected_perimeter}, but got {computed_properties['perimeter']}.\"\n>>> assert condition2, f\"Expected {expected_area}, but got {computed_properties['area']}.\"\n>>> assert condition3, f\"Expected bounding box {expected_bbox}, but got {computed_properties['bounding_box']}.\"\n>>> if condition1 and condition2 and condition3:\n...     score = 2.0\n>>> earned_points = float(os.environ.get('EARNED_POINTS', 0))\n>>> earned_points += score\n>>> log_variable('1_practicefinal_q', f'{score}, {max_score}', question_id)\n>>> os.environ['EARNED_POINTS'] = str(earned_points)\n",
                  "failure_message": "compute_shape_properties does not return correct values for a triangle.",
                  "hidden": false,
                  "locked": false,
                  "points": 2,
                  "success_message": "Success: compute_shape_properties correctly computes properties of a triangle."
                },
                {
                  "code": ">>> from pykubegrader.telemetry import ensure_responses, log_variable, score_question, submit_question, telemetry, update_responses\n>>> import os\n>>> import base64\n>>> import matplotlib\n>>> import matplotlib\n>>> matplotlib.use('Agg')\n>>> import numpy as np\n>>> question_id = 'compute-shape-properties-function-4'\n>>> max_score = 2.0\n>>> score = 0\n>>> collinear_points = np.array([[0, 0], [2, 0], [5, 0], [9, 0], [0, 0]])\n>>> expected_area = 0.0\n>>> expected_bbox = (np.array([0, 0]), np.array([9, 0]))\n>>> computed_properties = compute_shape_properties(collinear_points)\n>>> condition1 = np.isclose(computed_properties['area'], expected_area)\n>>> condition2 = np.allclose(computed_properties['bounding_box'][0], expected_bbox[0]) and np.allclose(computed_properties['bounding_box'][1], expected_bbox[1])\n>>> assert condition1, f\"Expected {expected_area}, but got {computed_properties['area']}.\"\n>>> assert condition2, f\"Expected bounding box {expected_bbox}, but got {computed_properties['bounding_box']}.\"\n>>> if condition1 and condition2:\n...     score = 2.0\n>>> earned_points = float(os.environ.get('EARNED_POINTS', 0))\n>>> earned_points += score\n>>> log_variable('1_practicefinal_q', f'{score}, {max_score}', question_id)\n>>> os.environ['EARNED_POINTS'] = str(earned_points)\n",
                  "failure_message": "compute_shape_properties does not return zero area for collinear points.",
                  "hidden": false,
                  "locked": false,
                  "points": 2,
                  "success_message": "Success: compute_shape_properties correctly returns zero area for collinear points."
                },
                {
                  "code": ">>> from pykubegrader.telemetry import ensure_responses, log_variable, score_question, submit_question, telemetry, update_responses\n>>> import os\n>>> import base64\n>>> import matplotlib\n>>> import matplotlib\n>>> matplotlib.use('Agg')\n>>> import numpy as np\n>>> question_id = 'compute-shape-properties-function-5'\n>>> max_score = 2.0\n>>> score = 0\n>>> single_point = np.array([[3, 4]])\n>>> expected_properties = {'perimeter': 0.0, 'centroid': np.array([3, 4]), 'bounding_box': (np.array([3, 4]), np.array([3, 4])), 'area': 0.0, 'curvature': np.array([0.0])}\n>>> computed_properties = compute_shape_properties(single_point)\n>>> condition1 = np.allclose(computed_properties['perimeter'], expected_properties['perimeter'])\n>>> condition2 = np.allclose(computed_properties['centroid'], expected_properties['centroid'])\n>>> condition3 = np.allclose(computed_properties['bounding_box'], expected_properties['bounding_box'])\n>>> condition4 = np.allclose(computed_properties['area'], expected_properties['area'])\n>>> condition5 = np.allclose(computed_properties['curvature'], expected_properties['curvature'])\n>>> assert condition1, 'Perimeter is not correct.'\n>>> assert condition2, 'Centroid is not correct.'\n>>> assert condition3, 'Bounding box is not correct.'\n>>> assert condition4, 'Area is not correct.'\n>>> assert condition5, 'Curvature is not correct.'\n>>> if condition1 and condition2 and condition3 and condition4 and condition5:\n...     score = 2.0\n>>> earned_points = float(os.environ.get('EARNED_POINTS', 0))\n>>> earned_points += score\n>>> log_variable('1_practicefinal_q', f'{score}, {max_score}', question_id)\n>>> os.environ['EARNED_POINTS'] = str(earned_points)\n",
                  "failure_message": "compute_shape_properties does not correctly return zeros for a single point.",
                  "hidden": false,
                  "locked": false,
                  "points": 2,
                  "success_message": "Success: compute_shape_properties correctly handles a single point."
                }
              ],
              "scored": true,
              "setup": "",
              "teardown": "",
              "type": "doctest"
            }
          ]
        },
        "compute_perimeter-function": {
          "name": "compute_perimeter-function",
          "points": null,
          "suites": [
            {
              "cases": [
                {
                  "code": ">>> from pykubegrader.telemetry import ensure_responses, log_variable, score_question, submit_question, telemetry, update_responses\n>>> import os\n>>> import base64\n>>> import matplotlib\n>>> import matplotlib\n>>> matplotlib.use('Agg')\n>>> import numpy as np\n>>> max_question_points = str(9.0)\n>>> earned_points = 0\n>>> os.environ['EARNED_POINTS'] = str(earned_points)\n>>> os.environ['TOTAL_POINTS_FREE_RESPONSE'] = str(376.0)\n>>> log_variable('total-points', f'week10-practicefinal, 1_practicefinal_q', 376.0)\n>>> question_id = 'compute_perimeter-function-1'\n>>> max_score = 1.0\n>>> score = 0\n>>> exec(base64.b64decode('Y29uZGl0aW9uID0gImNvbXB1dGVfcGVyaW1ldGVyIiBpbiBnbG9iYWxzKCkKYXNzZXJ0IGNvbmRpdGlvbiwgImNvbXB1dGVfcGVyaW1ldGVyIGZ1bmN0aW9uIGlzIG5vdCBkZWZpbmVkLiI=').decode())\n>>> if condition:\n...     score = 1.0\n>>> earned_points = float(os.environ.get('EARNED_POINTS', 0))\n>>> earned_points += score\n>>> log_variable('1_practicefinal_q', f'{score}, {max_score}', question_id)\n>>> os.environ['EARNED_POINTS'] = str(earned_points)\n",
                  "failure_message": "compute_perimeter function is not defined.",
                  "hidden": false,
                  "locked": false,
                  "points": 1,
                  "success_message": "Success: compute_perimeter function is defined correctly."
                },
                {
                  "code": ">>> from pykubegrader.telemetry import ensure_responses, log_variable, score_question, submit_question, telemetry, update_responses\n>>> import os\n>>> import base64\n>>> import matplotlib\n>>> import matplotlib\n>>> matplotlib.use('Agg')\n>>> import numpy as np\n>>> question_id = 'compute_perimeter-function-2'\n>>> max_score = 1.0\n>>> score = 0\n>>> exec(base64.b64decode('Y29uZGl0aW9uID0gY2FsbGFibGUoY29tcHV0ZV9wZXJpbWV0ZXIpCmFzc2VydCBjb25kaXRpb24sICJjb21wdXRlX3BlcmltZXRlciBpcyBub3QgYSBmdW5jdGlvbi4i').decode())\n>>> if condition:\n...     score = 1.0\n>>> earned_points = float(os.environ.get('EARNED_POINTS', 0))\n>>> earned_points += score\n>>> log_variable('1_practicefinal_q', f'{score}, {max_score}', question_id)\n>>> os.environ['EARNED_POINTS'] = str(earned_points)\n",
                  "failure_message": "compute_perimeter is not a function.",
                  "hidden": false,
                  "locked": false,
                  "points": 1,
                  "success_message": "Success: compute_perimeter is callable."
                },
                {
                  "code": ">>> from pykubegrader.telemetry import ensure_responses, log_variable, score_question, submit_question, telemetry, update_responses\n>>> import os\n>>> import base64\n>>> import matplotlib\n>>> import matplotlib\n>>> matplotlib.use('Agg')\n>>> import numpy as np\n>>> question_id = 'compute_perimeter-function-3'\n>>> max_score = 2.0\n>>> score = 0\n>>> square = np.array([[0, 0], [1, 0], [1, 1], [0, 1], [0, 0]])\n>>> expected_perimeter = 4.0\n>>> computed_perimeter = compute_perimeter(square)\n>>> condition = np.isclose(computed_perimeter, expected_perimeter)\n>>> assert condition\n>>> if condition:\n...     score = 2.0\n>>> earned_points = float(os.environ.get('EARNED_POINTS', 0))\n>>> earned_points += score\n>>> log_variable('1_practicefinal_q', f'{score}, {max_score}', question_id)\n>>> os.environ['EARNED_POINTS'] = str(earned_points)\n",
                  "failure_message": "compute_perimeter does not compute the correct perimeter for a simple shape.",
                  "hidden": false,
                  "locked": false,
                  "points": 2,
                  "success_message": "Success: compute_perimeter correctly calculates the perimeter of a simple shape."
                },
                {
                  "code": ">>> from pykubegrader.telemetry import ensure_responses, log_variable, score_question, submit_question, telemetry, update_responses\n>>> import os\n>>> import base64\n>>> import matplotlib\n>>> import matplotlib\n>>> matplotlib.use('Agg')\n>>> import numpy as np\n>>> question_id = 'compute_perimeter-function-4'\n>>> max_score = 2.0\n>>> score = 0\n>>> triangle = np.array([[0, 0], [3, 0], [3, 4], [0, 0]])\n>>> expected_perimeter = 3 + 4 + 5\n>>> computed_perimeter = compute_perimeter(triangle)\n>>> condition = np.isclose(computed_perimeter, expected_perimeter)\n>>> assert condition\n>>> if condition:\n...     score = 2.0\n>>> earned_points = float(os.environ.get('EARNED_POINTS', 0))\n>>> earned_points += score\n>>> log_variable('1_practicefinal_q', f'{score}, {max_score}', question_id)\n>>> os.environ['EARNED_POINTS'] = str(earned_points)\n",
                  "failure_message": "compute_perimeter does not compute the correct perimeter for a triangle.",
                  "hidden": false,
                  "locked": false,
                  "points": 2,
                  "success_message": "Success: compute_perimeter correctly calculates the perimeter of a triangle."
                },
                {
                  "code": ">>> from pykubegrader.telemetry import ensure_responses, log_variable, score_question, submit_question, telemetry, update_responses\n>>> import os\n>>> import base64\n>>> import matplotlib\n>>> import matplotlib\n>>> matplotlib.use('Agg')\n>>> import numpy as np\n>>> question_id = 'compute_perimeter-function-5'\n>>> max_score = 2.0\n>>> score = 0\n>>> collinear_points = np.array([[0, 0], [2, 0], [5, 0], [9, 0]])\n>>> expected_perimeter = 2 + 3 + 4\n>>> computed_perimeter = compute_perimeter(collinear_points)\n>>> condition = np.isclose(computed_perimeter, expected_perimeter)\n>>> assert condition\n>>> if condition:\n...     score = 2.0\n>>> earned_points = float(os.environ.get('EARNED_POINTS', 0))\n>>> earned_points += score\n>>> log_variable('1_practicefinal_q', f'{score}, {max_score}', question_id)\n>>> os.environ['EARNED_POINTS'] = str(earned_points)\n",
                  "failure_message": "compute_perimeter does not handle collinear points correctly.",
                  "hidden": false,
                  "locked": false,
                  "points": 2,
                  "success_message": "Success: compute_perimeter correctly handles collinear points."
                },
                {
                  "code": ">>> from pykubegrader.telemetry import ensure_responses, log_variable, score_question, submit_question, telemetry, update_responses\n>>> import os\n>>> import base64\n>>> import matplotlib\n>>> import matplotlib\n>>> matplotlib.use('Agg')\n>>> import numpy as np\n>>> question_id = 'compute_perimeter-function-6'\n>>> max_score = 1.0\n>>> score = 0\n>>> single_point = np.array([[0, 0]])\n>>> expected_perimeter = 0.0\n>>> computed_perimeter = compute_perimeter(single_point)\n>>> condition = np.isclose(computed_perimeter, expected_perimeter)\n>>> assert condition\n>>> if condition:\n...     score = 1.0\n>>> earned_points = float(os.environ.get('EARNED_POINTS', 0))\n>>> earned_points += score\n>>> log_variable('1_practicefinal_q', f'{score}, {max_score}', question_id)\n>>> os.environ['EARNED_POINTS'] = str(earned_points)\n",
                  "failure_message": "compute_perimeter does not return zero for a single point.",
                  "hidden": false,
                  "locked": false,
                  "points": 1,
                  "success_message": "Success: compute_perimeter returns zero for a single point."
                }
              ],
              "scored": true,
              "setup": "",
              "teardown": "",
              "type": "doctest"
            }
          ]
        },
        "image-transformation": {
          "name": "image-transformation",
          "points": null,
          "suites": [
            {
              "cases": [
                {
                  "code": ">>> from pykubegrader.telemetry import ensure_responses, log_variable, score_question, submit_question, telemetry, update_responses\n>>> import os\n>>> import base64\n>>> import matplotlib\n>>> import matplotlib\n>>> max_question_points = str(14.0)\n>>> earned_points = 0\n>>> os.environ['EARNED_POINTS'] = str(earned_points)\n>>> os.environ['TOTAL_POINTS_FREE_RESPONSE'] = str(376.0)\n>>> log_variable('total-points', f'week10-practicefinal, 1_practicefinal_q', 376.0)\n>>> question_id = 'image-transformation-1'\n>>> max_score = 1.0\n>>> score = 0\n>>> matplotlib.use('Agg')\n>>> assert 'image_transformation' in globals(), 'image_transformation function is not defined.'\n>>> assert callable(image_transformation), 'image_transformation is not a function.'\n>>> if 'image_transformation' in globals() and callable(image_transformation):\n...     score = 1.0\n>>> earned_points = float(os.environ.get('EARNED_POINTS', 0))\n>>> earned_points += score\n>>> log_variable('1_practicefinal_q', f'{score}, {max_score}', question_id)\n>>> os.environ['EARNED_POINTS'] = str(earned_points)\n",
                  "failure_message": "image_transformation function is not defined.",
                  "hidden": false,
                  "locked": false,
                  "points": 1,
                  "success_message": "Success: image_transformation function is defined correctly."
                },
                {
                  "code": ">>> from pykubegrader.telemetry import ensure_responses, log_variable, score_question, submit_question, telemetry, update_responses\n>>> import os\n>>> import base64\n>>> import matplotlib\n>>> import matplotlib\n>>> question_id = 'image-transformation-2'\n>>> max_score = 2.0\n>>> score = 0\n>>> matplotlib.use('Agg')\n>>> dummy_image = np.random.rand(100, 100)\n>>> transformed = image_transformation((64, 64), dummy_image)\n>>> condition = transformed.shape == (64 * 64,)\n>>> assert condition, f'Expected shape {(64 * 64,)}, but got {transformed.shape}.'\n>>> if condition:\n...     score = 2.0\n>>> earned_points = float(os.environ.get('EARNED_POINTS', 0))\n>>> earned_points += score\n>>> log_variable('1_practicefinal_q', f'{score}, {max_score}', question_id)\n>>> os.environ['EARNED_POINTS'] = str(earned_points)\n",
                  "failure_message": "image_transformation does not resize images correctly.",
                  "hidden": false,
                  "locked": false,
                  "points": 2,
                  "success_message": "Success: image_transformation correctly resizes images."
                },
                {
                  "code": ">>> from pykubegrader.telemetry import ensure_responses, log_variable, score_question, submit_question, telemetry, update_responses\n>>> import os\n>>> import base64\n>>> import matplotlib\n>>> import matplotlib\n>>> question_id = 'image-transformation-3'\n>>> max_score = 2.0\n>>> score = 0\n>>> matplotlib.use('Agg')\n>>> blank_image = np.zeros((100, 100))\n>>> transformed_blank = image_transformation((64, 64), blank_image)\n>>> condition = np.sum(transformed_blank) == 0\n>>> assert condition, 'Edge detection failed on blank image.'\n>>> if condition:\n...     score = 2.0\n>>> earned_points = float(os.environ.get('EARNED_POINTS', 0))\n>>> earned_points += score\n>>> log_variable('1_practicefinal_q', f'{score}, {max_score}', question_id)\n>>> os.environ['EARNED_POINTS'] = str(earned_points)\n",
                  "failure_message": "image_transformation does not apply Canny edge detection.",
                  "hidden": false,
                  "locked": false,
                  "points": 2,
                  "success_message": "Success: image_transformation applies Canny edge detection."
                },
                {
                  "code": ">>> from pykubegrader.telemetry import ensure_responses, log_variable, score_question, submit_question, telemetry, update_responses\n>>> import os\n>>> import base64\n>>> import matplotlib\n>>> import matplotlib\n>>> question_id = 'image-transformation-4'\n>>> max_score = 2.0\n>>> score = 0\n>>> matplotlib.use('Agg')\n>>> dummy_image = np.random.rand(100, 100)\n>>> dummy_image = np.random.rand(100, 100)\n>>> transformed_image = image_transformation((32, 32), dummy_image)\n>>> condition = transformed_image.ndim == 1\n>>> assert condition, 'Output is not a 1D vector.'\n>>> condition1 = transformed_image.shape[0] == 32 * 32\n>>> assert condition1, f'Flattened output length incorrect: {transformed_image.shape[0]}.'\n>>> if condition and condition1:\n...     score = 2.0\n>>> earned_points = float(os.environ.get('EARNED_POINTS', 0))\n>>> earned_points += score\n>>> log_variable('1_practicefinal_q', f'{score}, {max_score}', question_id)\n>>> os.environ['EARNED_POINTS'] = str(earned_points)\n",
                  "failure_message": "image_transformation does not flatten the output correctly.",
                  "hidden": false,
                  "locked": false,
                  "points": 2,
                  "success_message": "Success: image_transformation correctly flattens the output."
                },
                {
                  "code": ">>> from pykubegrader.telemetry import ensure_responses, log_variable, score_question, submit_question, telemetry, update_responses\n>>> import os\n>>> import base64\n>>> import matplotlib\n>>> import matplotlib\n>>> question_id = 'image-transformation-5'\n>>> max_score = 2.0\n>>> score = 0\n>>> matplotlib.use('Agg')\n>>> small_image = np.random.rand(10, 10)\n>>> transformed_small = image_transformation((32, 32), small_image)\n>>> condition = transformed_small.shape == (32 * 32,)\n>>> assert condition, 'Small image was not resized correctly.'\n>>> if condition:\n...     score = 2.0\n>>> earned_points = float(os.environ.get('EARNED_POINTS', 0))\n>>> earned_points += score\n>>> log_variable('1_practicefinal_q', f'{score}, {max_score}', question_id)\n>>> os.environ['EARNED_POINTS'] = str(earned_points)\n",
                  "failure_message": "image_transformation does not handle small images correctly.",
                  "hidden": false,
                  "locked": false,
                  "points": 2,
                  "success_message": "Success: image_transformation handles small images correctly."
                },
                {
                  "code": ">>> from pykubegrader.telemetry import ensure_responses, log_variable, score_question, submit_question, telemetry, update_responses\n>>> import os\n>>> import base64\n>>> import matplotlib\n>>> import matplotlib\n>>> question_id = 'image-transformation-6'\n>>> max_score = 2.0\n>>> score = 0\n>>> matplotlib.use('Agg')\n>>> large_image = np.random.rand(500, 500)\n>>> transformed_large = image_transformation((64, 64), large_image)\n>>> condition = transformed_large.shape == (64 * 64,)\n>>> assert condition, 'Large image was not resized correctly.'\n>>> if condition:\n...     score = 2.0\n>>> earned_points = float(os.environ.get('EARNED_POINTS', 0))\n>>> earned_points += score\n>>> log_variable('1_practicefinal_q', f'{score}, {max_score}', question_id)\n>>> os.environ['EARNED_POINTS'] = str(earned_points)\n",
                  "failure_message": "image_transformation does not handle large images correctly.",
                  "hidden": false,
                  "locked": false,
                  "points": 2,
                  "success_message": "Success: image_transformation handles large images correctly."
                },
                {
                  "code": ">>> from pykubegrader.telemetry import ensure_responses, log_variable, score_question, submit_question, telemetry, update_responses\n>>> import os\n>>> import base64\n>>> import matplotlib\n>>> import matplotlib\n>>> question_id = 'image-transformation-7'\n>>> max_score = 1.0\n>>> score = 0\n>>> matplotlib.use('Agg')\n>>> grayscale_image = np.random.randint(0, 255, (100, 100)).astype(np.float64) / 255.0\n>>> transformed_grayscale = image_transformation((32, 32), grayscale_image)\n>>> condition = transformed_grayscale.shape == (32 * 32,)\n>>> assert condition, 'Grayscale image was not processed correctly.'\n>>> if condition:\n...     score = 1.0\n>>> earned_points = float(os.environ.get('EARNED_POINTS', 0))\n>>> earned_points += score\n>>> log_variable('1_practicefinal_q', f'{score}, {max_score}', question_id)\n>>> os.environ['EARNED_POINTS'] = str(earned_points)\n",
                  "failure_message": "image_transformation does not handle grayscale images correctly.",
                  "hidden": false,
                  "locked": false,
                  "points": 1,
                  "success_message": "Success: image_transformation handles grayscale images correctly."
                },
                {
                  "code": ">>> from pykubegrader.telemetry import ensure_responses, log_variable, score_question, submit_question, telemetry, update_responses\n>>> import os\n>>> import base64\n>>> import matplotlib\n>>> import matplotlib\n>>> question_id = 'image-transformation-8'\n>>> max_score = 2.0\n>>> score = 0\n>>> matplotlib.use('Agg')\n>>> non_square_image = np.random.rand(100, 50)\n>>> transformed_non_square = image_transformation((32, 32), non_square_image)\n>>> condition = transformed_non_square.shape == (32 * 32,)\n>>> assert condition, 'Non-square image was not resized correctly.'\n>>> if condition:\n...     score = 2.0\n>>> earned_points = float(os.environ.get('EARNED_POINTS', 0))\n>>> earned_points += score\n>>> log_variable('1_practicefinal_q', f'{score}, {max_score}', question_id)\n>>> os.environ['EARNED_POINTS'] = str(earned_points)\n",
                  "failure_message": "image_transformation does not process non-standard image formats correctly.",
                  "hidden": false,
                  "locked": false,
                  "points": 2,
                  "success_message": "Success: image_transformation processes non-standard image formats correctly."
                }
              ],
              "scored": true,
              "setup": "",
              "teardown": "",
              "type": "doctest"
            }
          ]
        },
        "import-statement": {
          "name": "import-statement",
          "points": null,
          "suites": [
            {
              "cases": [
                {
                  "code": ">>> from pykubegrader.telemetry import ensure_responses, log_variable, score_question, submit_question, telemetry, update_responses\n>>> import os\n>>> import base64\n>>> import matplotlib\n>>> import matplotlib\n>>> max_question_points = str(6.0)\n>>> earned_points = 0\n>>> os.environ['EARNED_POINTS'] = str(earned_points)\n>>> os.environ['TOTAL_POINTS_FREE_RESPONSE'] = str(376.0)\n>>> log_variable('total-points', f'week10-practicefinal, 1_practicefinal_q', 376.0)\n>>> question_id = 'import-statement-1'\n>>> max_score = 1.0\n>>> score = 0\n>>> matplotlib.use('Agg')\n>>> assert 'np' in globals(), \"NumPy is not imported as 'np'.\"\n>>> assert callable(np.array), 'NumPy array creation is not working.'\n>>> if 'np' in globals() and callable(np.array):\n...     score = 1.0\n>>> earned_points = float(os.environ.get('EARNED_POINTS', 0))\n>>> earned_points += score\n>>> log_variable('1_practicefinal_q', f'{score}, {max_score}', question_id)\n>>> os.environ['EARNED_POINTS'] = str(earned_points)\n",
                  "failure_message": "NumPy is not imported correctly.",
                  "hidden": false,
                  "locked": false,
                  "points": 1,
                  "success_message": "Success: NumPy is imported correctly."
                },
                {
                  "code": ">>> from pykubegrader.telemetry import ensure_responses, log_variable, score_question, submit_question, telemetry, update_responses\n>>> import os\n>>> import base64\n>>> import matplotlib\n>>> import matplotlib\n>>> question_id = 'import-statement-2'\n>>> max_score = 1.0\n>>> score = 0\n>>> matplotlib.use('Agg')\n>>> assert 'plt' in globals(), \"Matplotlib.pyplot is not imported as 'plt'.\"\n>>> assert callable(plt.figure), 'Matplotlib figure creation is not working.'\n>>> if 'plt' in globals() and callable(plt.figure):\n...     score = 1.0\n>>> earned_points = float(os.environ.get('EARNED_POINTS', 0))\n>>> earned_points += score\n>>> log_variable('1_practicefinal_q', f'{score}, {max_score}', question_id)\n>>> os.environ['EARNED_POINTS'] = str(earned_points)\n",
                  "failure_message": "Matplotlib is not imported correctly.",
                  "hidden": false,
                  "locked": false,
                  "points": 1,
                  "success_message": "Success: Matplotlib is imported correctly."
                },
                {
                  "code": ">>> from pykubegrader.telemetry import ensure_responses, log_variable, score_question, submit_question, telemetry, update_responses\n>>> import os\n>>> import base64\n>>> import matplotlib\n>>> import matplotlib\n>>> matplotlib.use('Agg')\n>>> import matplotlib.animation as animation\n>>> question_id = 'import-statement-3'\n>>> max_score = 1.0\n>>> score = 0\n>>> assert 'animation' in globals(), 'Matplotlib.animation is not imported.'\n>>> assert callable(animation.FuncAnimation), 'Matplotlib.animation.FuncAnimation is not accessible.'\n>>> if 'animation' in globals() and callable(animation.FuncAnimation):\n...     score = 1.0\n>>> earned_points = float(os.environ.get('EARNED_POINTS', 0))\n>>> earned_points += score\n>>> log_variable('1_practicefinal_q', f'{score}, {max_score}', question_id)\n>>> os.environ['EARNED_POINTS'] = str(earned_points)\n",
                  "failure_message": "Matplotlib animation module is not imported correctly.",
                  "hidden": false,
                  "locked": false,
                  "points": 1,
                  "success_message": "Success: Matplotlib animation module is imported correctly."
                },
                {
                  "code": ">>> from pykubegrader.telemetry import ensure_responses, log_variable, score_question, submit_question, telemetry, update_responses\n>>> import os\n>>> import base64\n>>> import matplotlib\n>>> import matplotlib\n>>> matplotlib.use('Agg')\n>>> from IPython.display import HTML\n>>> question_id = 'import-statement-4'\n>>> max_score = 1.0\n>>> score = 0\n>>> assert 'HTML' in globals(), 'IPython.display.HTML is not imported.'\n>>> assert callable(HTML), 'IPython.display.HTML is not functional.'\n>>> if 'HTML' in globals() and callable(HTML):\n...     score = 1.0\n>>> earned_points = float(os.environ.get('EARNED_POINTS', 0))\n>>> earned_points += score\n>>> log_variable('1_practicefinal_q', f'{score}, {max_score}', question_id)\n>>> os.environ['EARNED_POINTS'] = str(earned_points)\n",
                  "failure_message": "IPython HTML display is not imported correctly.",
                  "hidden": false,
                  "locked": false,
                  "points": 1,
                  "success_message": "Success: IPython HTML display is imported correctly."
                },
                {
                  "code": ">>> from pykubegrader.telemetry import ensure_responses, log_variable, score_question, submit_question, telemetry, update_responses\n>>> import os\n>>> import base64\n>>> import matplotlib\n>>> import matplotlib\n>>> matplotlib.use('Agg')\n>>> import matplotlib.animation as animation\n>>> import numpy as np\n>>> import matplotlib.pyplot as plt\n>>> question_id = 'import-statement-5'\n>>> max_score = 1.0\n>>> score = 0\n>>> out = plt.ioff()\n>>> fig, ax = plt.subplots()\n>>> x = np.linspace(0, 2 * np.pi, 100)\n>>> y = np.sin(x)\n>>> line, = ax.plot(x, y)\n>>> def updater(frame, line, x, y):\n...     line.set_ydata(np.sin(x + frame / 10.0))\n...     return (line,)\n>>> ani = animation.FuncAnimation(fig, updater, fargs=(line, x, y), frames=30, interval=50)\n>>> condition1 = isinstance(ani, animation.FuncAnimation)\n>>> assert condition1, 'Matplotlib animation object creation failed.'\n>>> out = plt.ion()\n>>> if condition1:\n...     score = 1.0\n>>> earned_points = float(os.environ.get('EARNED_POINTS', 0))\n>>> earned_points += score\n>>> log_variable('1_practicefinal_q', f'{score}, {max_score}', question_id)\n>>> os.environ['EARNED_POINTS'] = str(earned_points)\n",
                  "failure_message": "Matplotlib animation is not working.",
                  "hidden": false,
                  "locked": false,
                  "points": 1,
                  "success_message": "Success: Matplotlib animation can create an animation object."
                },
                {
                  "code": ">>> from pykubegrader.telemetry import ensure_responses, log_variable, score_question, submit_question, telemetry, update_responses\n>>> import os\n>>> import base64\n>>> import matplotlib\n>>> import matplotlib\n>>> matplotlib.use('Agg')\n>>> from IPython.display import HTML\n>>> question_id = 'import-statement-6'\n>>> max_score = 1.0\n>>> score = 0\n>>> html_output = HTML('<h1>Test HTML</h1>')\n>>> condition1 = isinstance(html_output, HTML)\n>>> assert condition1, 'IPython HTML object creation failed.'\n>>> if condition1:\n...     score = 1.0\n>>> earned_points = float(os.environ.get('EARNED_POINTS', 0))\n>>> earned_points += score\n>>> log_variable('1_practicefinal_q', f'{score}, {max_score}', question_id)\n>>> os.environ['EARNED_POINTS'] = str(earned_points)\n",
                  "failure_message": "IPython HTML display is not working.",
                  "hidden": false,
                  "locked": false,
                  "points": 1,
                  "success_message": "Success: IPython HTML display is working correctly."
                }
              ],
              "scored": true,
              "setup": "",
              "teardown": "",
              "type": "doctest"
            }
          ]
        },
        "import-statements": {
          "name": "import-statements",
          "points": null,
          "suites": [
            {
              "cases": [
                {
                  "code": ">>> from pykubegrader.telemetry import ensure_responses, log_variable, score_question, submit_question, telemetry, update_responses\n>>> import os\n>>> import base64\n>>> import matplotlib\n>>> import matplotlib\n>>> matplotlib.use('Agg')\n>>> import os\n>>> import numpy as np\n>>> import matplotlib.pyplot as plt\n>>> from skimage import io, color, transform, feature\n>>> from sklearn.ensemble import RandomForestClassifier\n>>> from sklearn.model_selection import train_test_split\n>>> max_question_points = str(4.0)\n>>> earned_points = 0\n>>> os.environ['EARNED_POINTS'] = str(earned_points)\n>>> os.environ['TOTAL_POINTS_FREE_RESPONSE'] = str(376.0)\n>>> log_variable('total-points', f'week10-practicefinal, 1_practicefinal_q', 376.0)\n>>> question_id = 'import-statements-1'\n>>> max_score = 1.0\n>>> score = 0\n>>> assert 'os' in globals(), 'os module is not imported.'\n>>> assert 'np' in globals(), \"NumPy is not imported as 'np'.\"\n>>> assert 'plt' in globals(), \"Matplotlib.pyplot is not imported as 'plt'.\"\n>>> assert 'io' in globals(), 'skimage.io is not imported.'\n>>> assert 'color' in globals(), 'skimage.color is not imported.'\n>>> assert 'transform' in globals(), 'skimage.transform is not imported.'\n>>> assert 'feature' in globals(), 'skimage.feature is not imported.'\n>>> assert 'RandomForestClassifier' in globals(), 'sklearn.ensemble.RandomForestClassifier is not imported.'\n>>> assert 'train_test_split' in globals(), 'sklearn.model_selection.train_test_split is not imported.'\n>>> if 'os' in globals() and 'np' in globals() and ('plt' in globals()) and ('io' in globals()) and ('color' in globals()) and ('transform' in globals()) and ('feature' in globals()) and ('RandomForestClassifier' in globals()) and ('train_test_split' in globals()):\n...     score = 1.0\n>>> earned_points = float(os.environ.get('EARNED_POINTS', 0))\n>>> earned_points += score\n>>> log_variable('1_practicefinal_q', f'{score}, {max_score}', question_id)\n>>> os.environ['EARNED_POINTS'] = str(earned_points)\n",
                  "failure_message": "One or more required modules are not imported correctly.",
                  "hidden": false,
                  "locked": false,
                  "points": 1,
                  "success_message": "Success: All required modules are imported correctly."
                },
                {
                  "code": ">>> from pykubegrader.telemetry import ensure_responses, log_variable, score_question, submit_question, telemetry, update_responses\n>>> import os\n>>> import base64\n>>> import matplotlib\n>>> import matplotlib\n>>> question_id = 'import-statements-2'\n>>> max_score = 1.0\n>>> score = 0\n>>> matplotlib.use('Agg')\n>>> array = np.array([1, 2, 3])\n>>> condition = np.sum(array) == 6\n>>> assert condition, 'NumPy sum function is not working as expected.'\n>>> condition1 = np.mean(array) == 2\n>>> assert condition1, 'NumPy mean function is not working as expected.'\n>>> if condition and condition1:\n...     score = 1.0\n>>> earned_points = float(os.environ.get('EARNED_POINTS', 0))\n>>> earned_points += score\n>>> log_variable('1_practicefinal_q', f'{score}, {max_score}', question_id)\n>>> os.environ['EARNED_POINTS'] = str(earned_points)\n",
                  "failure_message": "NumPy is not functioning correctly.",
                  "hidden": false,
                  "locked": false,
                  "points": 1,
                  "success_message": "Success: NumPy functions correctly for basic operations."
                },
                {
                  "code": ">>> from pykubegrader.telemetry import ensure_responses, log_variable, score_question, submit_question, telemetry, update_responses\n>>> import os\n>>> import base64\n>>> import matplotlib\n>>> import matplotlib\n>>> question_id = 'import-statements-3'\n>>> max_score = 1.0\n>>> score = 0\n>>> matplotlib.use('Agg')\n>>> out = plt.ioff()\n>>> fig, ax = plt.subplots()\n>>> out = plt.ion()\n>>> condition = isinstance(fig, plt.Figure)\n>>> assert condition, 'Matplotlib did not return a Figure object.'\n>>> condition1 = isinstance(ax, plt.Axes)\n>>> assert condition1, 'Matplotlib did not return an Axes object.'\n>>> if condition and condition1:\n...     score = 1.0\n>>> earned_points = float(os.environ.get('EARNED_POINTS', 0))\n>>> earned_points += score\n>>> log_variable('1_practicefinal_q', f'{score}, {max_score}', question_id)\n>>> os.environ['EARNED_POINTS'] = str(earned_points)\n",
                  "failure_message": "Matplotlib figure creation is not working.",
                  "hidden": false,
                  "locked": false,
                  "points": 1,
                  "success_message": "Success: Matplotlib can create a basic figure."
                },
                {
                  "code": ">>> from pykubegrader.telemetry import ensure_responses, log_variable, score_question, submit_question, telemetry, update_responses\n>>> import os\n>>> import base64\n>>> import matplotlib\n>>> import matplotlib\n>>> question_id = 'import-statements-4'\n>>> max_score = 1.0\n>>> score = 0\n>>> matplotlib.use('Agg')\n>>> clf = RandomForestClassifier(n_estimators=10)\n>>> condition = isinstance(clf, RandomForestClassifier)\n>>> assert condition, 'RandomForestClassifier object was not created.'\n>>> if condition:\n...     score = 1.0\n>>> earned_points = float(os.environ.get('EARNED_POINTS', 0))\n>>> earned_points += score\n>>> log_variable('1_practicefinal_q', f'{score}, {max_score}', question_id)\n>>> os.environ['EARNED_POINTS'] = str(earned_points)\n",
                  "failure_message": "RandomForestClassifier instantiation failed.",
                  "hidden": false,
                  "locked": false,
                  "points": 1,
                  "success_message": "Success: RandomForestClassifier can be instantiated."
                }
              ],
              "scored": true,
              "setup": "",
              "teardown": "",
              "type": "doctest"
            }
          ]
        },
        "importing-functions": {
          "name": "importing-functions",
          "points": null,
          "suites": [
            {
              "cases": [
                {
                  "code": ">>> from pykubegrader.telemetry import ensure_responses, log_variable, score_question, submit_question, telemetry, update_responses\n>>> import os\n>>> import base64\n>>> import matplotlib\n>>> import matplotlib\n>>> max_question_points = str(3.0)\n>>> earned_points = 0\n>>> os.environ['EARNED_POINTS'] = str(earned_points)\n>>> os.environ['TOTAL_POINTS_FREE_RESPONSE'] = str(376.0)\n>>> log_variable('total-points', f'week10-practicefinal, 1_practicefinal_q', 376.0)\n>>> question_id = 'importing-functions-1'\n>>> max_score = 1.0\n>>> score = 0\n>>> matplotlib.use('Agg')\n>>> condition2 = 'np' in globals()\n>>> assert condition2, \"NumPy is not imported as 'np'.\"\n>>> if condition2:\n...     score = 1.0\n>>> earned_points = float(os.environ.get('EARNED_POINTS', 0))\n>>> earned_points += score\n>>> log_variable('1_practicefinal_q', f'{score}, {max_score}', question_id)\n>>> os.environ['EARNED_POINTS'] = str(earned_points)\n",
                  "failure_message": "NumPy is not imported correctly.",
                  "hidden": false,
                  "locked": false,
                  "points": 1,
                  "success_message": "Success: NumPy is imported correctly."
                },
                {
                  "code": ">>> from pykubegrader.telemetry import ensure_responses, log_variable, score_question, submit_question, telemetry, update_responses\n>>> import os\n>>> import base64\n>>> import matplotlib\n>>> import matplotlib\n>>> question_id = 'importing-functions-2'\n>>> max_score = 1.0\n>>> score = 0\n>>> matplotlib.use('Agg')\n>>> condition2 = 'plt' in globals()\n>>> assert condition2, \"Matplotlib.pyplot is not imported as 'plt'.\"\n>>> if condition2:\n...     score = 1.0\n>>> earned_points = float(os.environ.get('EARNED_POINTS', 0))\n>>> earned_points += score\n>>> log_variable('1_practicefinal_q', f'{score}, {max_score}', question_id)\n>>> os.environ['EARNED_POINTS'] = str(earned_points)\n",
                  "failure_message": "Matplotlib is not imported correctly.",
                  "hidden": false,
                  "locked": false,
                  "points": 1,
                  "success_message": "Success: Matplotlib is imported correctly."
                },
                {
                  "code": ">>> from pykubegrader.telemetry import ensure_responses, log_variable, score_question, submit_question, telemetry, update_responses\n>>> import os\n>>> import base64\n>>> import matplotlib\n>>> import matplotlib\n>>> matplotlib.use('Agg')\n>>> import sys\n>>> question_id = 'importing-functions-3'\n>>> max_score = 1.0\n>>> score = 0\n>>> condition1 = 'mpl_toolkits.mplot3d' in sys.modules\n>>> assert condition1, 'mpl_toolkits.mplot3d is not imported.'\n>>> condition2 = 'Axes3D' in globals()\n>>> assert condition2, 'Axes3D is not imported correctly from mpl_toolkits.mplot3d.'\n>>> if condition1 and condition2:\n...     score = 1.0\n>>> earned_points = float(os.environ.get('EARNED_POINTS', 0))\n>>> earned_points += score\n>>> log_variable('1_practicefinal_q', f'{score}, {max_score}', question_id)\n>>> os.environ['EARNED_POINTS'] = str(earned_points)\n",
                  "failure_message": "mpl_toolkits.mplot3d is not imported correctly.",
                  "hidden": false,
                  "locked": false,
                  "points": 1,
                  "success_message": "Success: 3D plotting module (mpl_toolkits.mplot3d) is imported correctly."
                }
              ],
              "scored": true,
              "setup": "",
              "teardown": "",
              "type": "doctest"
            }
          ]
        },
        "load-images-from-folder": {
          "name": "load-images-from-folder",
          "points": null,
          "suites": [
            {
              "cases": [
                {
                  "code": ">>> from pykubegrader.telemetry import ensure_responses, log_variable, score_question, submit_question, telemetry, update_responses\n>>> import os\n>>> import base64\n>>> import matplotlib\n>>> import matplotlib\n>>> matplotlib.use('Agg')\n>>> import os\n>>> max_question_points = str(11.0)\n>>> earned_points = 0\n>>> os.environ['EARNED_POINTS'] = str(earned_points)\n>>> os.environ['TOTAL_POINTS_FREE_RESPONSE'] = str(376.0)\n>>> log_variable('total-points', f'week10-practicefinal, 1_practicefinal_q', 376.0)\n>>> question_id = 'load-images-from-folder-1'\n>>> max_score = 1.0\n>>> score = 0\n>>> assert 'load_images_from_folder' in globals(), 'load_images_from_folder function is not defined.'\n>>> assert callable(load_images_from_folder), 'load_images_from_folder is not a function.'\n>>> if 'load_images_from_folder' in globals() and callable(load_images_from_folder):\n...     score = 1.0\n>>> earned_points = float(os.environ.get('EARNED_POINTS', 0))\n>>> earned_points += score\n>>> log_variable('1_practicefinal_q', f'{score}, {max_score}', question_id)\n>>> os.environ['EARNED_POINTS'] = str(earned_points)\n",
                  "failure_message": "load_images_from_folder function is not defined or is not callable.",
                  "hidden": false,
                  "locked": false,
                  "points": 1,
                  "success_message": "Success: load_images_from_folder function is defined correctly and is callable."
                },
                {
                  "code": ">>> from pykubegrader.telemetry import ensure_responses, log_variable, score_question, submit_question, telemetry, update_responses\n>>> import os\n>>> import base64\n>>> import matplotlib\n>>> import matplotlib\n>>> matplotlib.use('Agg')\n>>> import os\n>>> import numpy as np\n>>> from unittest.mock import patch\n>>> question_id = 'load-images-from-folder-2'\n>>> max_score = 4.0\n>>> score = 0\n>>> with patch('os.listdir', return_value=['image1.png', 'image2.jpg']):\n...     with patch('skimage.io.imread', return_value=np.random.rand(128, 128)):\n...         images, labels = load_images_from_folder('dummy_folder', 'test_label')\n>>> condition = isinstance(images, list)\n>>> assert condition, 'Expected images to be a list.'\n>>> condition1 = isinstance(labels, list)\n>>> assert condition1, 'Expected labels to be a list.'\n>>> if condition and condition1:\n...     score = 4.0\n>>> earned_points = float(os.environ.get('EARNED_POINTS', 0))\n>>> earned_points += score\n>>> log_variable('1_practicefinal_q', f'{score}, {max_score}', question_id)\n>>> os.environ['EARNED_POINTS'] = str(earned_points)\n",
                  "failure_message": "load_images_from_folder does not return lists.",
                  "hidden": false,
                  "locked": false,
                  "points": 4,
                  "success_message": "Success: load_images_from_folder correctly returns lists."
                },
                {
                  "code": ">>> from pykubegrader.telemetry import ensure_responses, log_variable, score_question, submit_question, telemetry, update_responses\n>>> import os\n>>> import base64\n>>> import matplotlib\n>>> import matplotlib\n>>> matplotlib.use('Agg')\n>>> import numpy as np\n>>> question_id = 'load-images-from-folder-3'\n>>> max_score = 4.0\n>>> score = 0\n>>> images, labels = load_images_from_folder('datasets/train/cats', label=0)\n>>> condition = len(images) == 250\n>>> assert condition, 'Expected two images to be loaded.'\n>>> condition1 = len(labels) == 250\n>>> assert condition1, 'Expected two labels to be assigned.'\n>>> if condition and condition1:\n...     score = 4.0\n>>> earned_points = float(os.environ.get('EARNED_POINTS', 0))\n>>> earned_points += score\n>>> log_variable('1_practicefinal_q', f'{score}, {max_score}', question_id)\n>>> os.environ['EARNED_POINTS'] = str(earned_points)\n",
                  "failure_message": "load_images_from_folder does not process images correctly.",
                  "hidden": false,
                  "locked": false,
                  "points": 4,
                  "success_message": "Success: load_images_from_folder correctly reads and processes images."
                },
                {
                  "code": ">>> from pykubegrader.telemetry import ensure_responses, log_variable, score_question, submit_question, telemetry, update_responses\n>>> import os\n>>> import base64\n>>> import matplotlib\n>>> import matplotlib\n>>> matplotlib.use('Agg')\n>>> import os\n>>> from unittest.mock import patch\n>>> question_id = 'load-images-from-folder-4'\n>>> max_score = 1.0\n>>> score = 0\n>>> with patch('os.listdir', return_value=[]):\n...     images, labels = load_images_from_folder('empty_folder', 'test_label')\n>>> condition = images == []\n>>> assert condition, 'Expected empty list for images in an empty folder.'\n>>> condition1 = labels == []\n>>> assert condition1, 'Expected empty list for labels in an empty folder.'\n>>> if condition and condition1:\n...     score = 1.0\n>>> earned_points = float(os.environ.get('EARNED_POINTS', 0))\n>>> earned_points += score\n>>> log_variable('1_practicefinal_q', f'{score}, {max_score}', question_id)\n>>> os.environ['EARNED_POINTS'] = str(earned_points)\n",
                  "failure_message": "load_images_from_folder does not handle empty folders correctly.",
                  "hidden": false,
                  "locked": false,
                  "points": 1,
                  "success_message": "Success: load_images_from_folder handles empty folders correctly."
                },
                {
                  "code": ">>> from pykubegrader.telemetry import ensure_responses, log_variable, score_question, submit_question, telemetry, update_responses\n>>> import os\n>>> import base64\n>>> import matplotlib\n>>> import matplotlib\n>>> matplotlib.use('Agg')\n>>> import os\n>>> from unittest.mock import patch\n>>> import numpy as np\n>>> question_id = 'load-images-from-folder-5'\n>>> max_score = 1.0\n>>> score = 0\n>>> large_image_list = [f'image{i}.png' for i in range(500)]\n>>> with patch('os.listdir', return_value=large_image_list):\n...     with patch('skimage.io.imread', return_value=np.random.rand(128, 128)):\n...         images, labels = load_images_from_folder('test_folder', 'test_label')\n>>> assert len(images) == 500, f'Expected 500 images, got {len(images)}'\n>>> assert len(labels) == 500, f'Expected 500 labels, got {len(labels)}'\n>>> if len(images) == 500 and len(labels) == 500:\n...     score = 1.0\n>>> earned_points = float(os.environ.get('EARNED_POINTS', 0))\n>>> earned_points += score\n>>> log_variable('1_practicefinal_q', f'{score}, {max_score}', question_id)\n>>> os.environ['EARNED_POINTS'] = str(earned_points)\n",
                  "failure_message": "Failure: Function does not handle a large number of images correctly.",
                  "hidden": false,
                  "locked": false,
                  "points": 1,
                  "success_message": "Success: Function handles a large number of images efficiently."
                }
              ],
              "scored": true,
              "setup": "",
              "teardown": "",
              "type": "doctest"
            }
          ]
        },
        "parameters-and-animation": {
          "name": "parameters-and-animation",
          "points": null,
          "suites": [
            {
              "cases": [
                {
                  "code": ">>> from pykubegrader.telemetry import ensure_responses, log_variable, score_question, submit_question, telemetry, update_responses\n>>> import os\n>>> import base64\n>>> import matplotlib\n>>> import matplotlib\n>>> max_question_points = str(40.0)\n>>> earned_points = 0\n>>> os.environ['EARNED_POINTS'] = str(earned_points)\n>>> os.environ['TOTAL_POINTS_FREE_RESPONSE'] = str(376.0)\n>>> log_variable('total-points', f'week10-practicefinal, 1_practicefinal_q', 376.0)\n>>> question_id = 'parameters-and-animation-1'\n>>> max_score = 3.0\n>>> score = 0\n>>> matplotlib.use('Agg')\n>>> assert order == 3, 'Test Case 1 Failed: The order variable is not set to 3.'\n>>> if order == 3:\n...     score = 3.0\n>>> earned_points = float(os.environ.get('EARNED_POINTS', 0))\n>>> earned_points += score\n>>> log_variable('1_practicefinal_q', f'{score}, {max_score}', question_id)\n>>> os.environ['EARNED_POINTS'] = str(earned_points)\n",
                  "failure_message": "Error: The order variable is not set correctly.",
                  "hidden": false,
                  "locked": false,
                  "points": 3,
                  "success_message": "Success: The order variable is set correctly."
                },
                {
                  "code": ">>> from pykubegrader.telemetry import ensure_responses, log_variable, score_question, submit_question, telemetry, update_responses\n>>> import os\n>>> import base64\n>>> import matplotlib\n>>> import matplotlib\n>>> question_id = 'parameters-and-animation-2'\n>>> max_score = 5.0\n>>> score = 0\n>>> matplotlib.use('Agg')\n>>> assert isinstance(points, list), 'Test Case 2 Failed: peano_curve(order) did not return a list.'\n>>> condition1 = all((isinstance(p, tuple) and len(p) == 2 for p in points))\n>>> assert condition1, 'Test Case 2 Failed: peano_curve(order) did not return a list of (x, y) tuples.'\n>>> if isinstance(points, list) and condition1:\n...     score = 5.0\n>>> earned_points = float(os.environ.get('EARNED_POINTS', 0))\n>>> earned_points += score\n>>> log_variable('1_practicefinal_q', f'{score}, {max_score}', question_id)\n>>> os.environ['EARNED_POINTS'] = str(earned_points)\n",
                  "failure_message": "Error: peano_curve(order) did not return the expected list of points.",
                  "hidden": false,
                  "locked": false,
                  "points": 5,
                  "success_message": "Success: peano_curve(order) correctly returns a list of points."
                },
                {
                  "code": ">>> from pykubegrader.telemetry import ensure_responses, log_variable, score_question, submit_question, telemetry, update_responses\n>>> import os\n>>> import base64\n>>> import matplotlib\n>>> import matplotlib\n>>> question_id = 'parameters-and-animation-3'\n>>> max_score = 3.0\n>>> score = 0\n>>> matplotlib.use('Agg')\n>>> condition = len(x_vals) == len(y_vals)\n>>> assert condition, 'Test Case 3 Failed: x_vals and y_vals should have the same length.'\n>>> condition1 = all((isinstance(x, (int, float)) for x in x_vals))\n>>> assert condition1, 'Test Case 3 Failed: x_vals contains non-numeric values.'\n>>> condition2 = all((isinstance(y, (int, float)) for y in y_vals))\n>>> assert condition2, 'Test Case 3 Failed: y_vals contains non-numeric values.'\n>>> if condition and condition1 and condition2:\n...     score = 3.0\n>>> earned_points = float(os.environ.get('EARNED_POINTS', 0))\n>>> earned_points += score\n>>> log_variable('1_practicefinal_q', f'{score}, {max_score}', question_id)\n>>> os.environ['EARNED_POINTS'] = str(earned_points)\n",
                  "failure_message": "Error: x_vals and y_vals were not correctly extracted.",
                  "hidden": false,
                  "locked": false,
                  "points": 3,
                  "success_message": "Success: x_vals and y_vals were correctly extracted."
                },
                {
                  "code": ">>> from pykubegrader.telemetry import ensure_responses, log_variable, score_question, submit_question, telemetry, update_responses\n>>> import os\n>>> import base64\n>>> import matplotlib\n>>> import matplotlib\n>>> question_id = 'parameters-and-animation-4'\n>>> max_score = 3.0\n>>> score = 0\n>>> matplotlib.use('Agg')\n>>> condition = reduced_frames == len(x_vals) // 2\n>>> assert condition, 'Test Case 4 Failed: reduced_frames does not match expected value.'\n>>> if condition:\n...     score = 3.0\n>>> earned_points = float(os.environ.get('EARNED_POINTS', 0))\n>>> earned_points += score\n>>> log_variable('1_practicefinal_q', f'{score}, {max_score}', question_id)\n>>> os.environ['EARNED_POINTS'] = str(earned_points)\n",
                  "failure_message": "Error: reduced_frames is not computed correctly.",
                  "hidden": false,
                  "locked": false,
                  "points": 3,
                  "success_message": "Success: reduced_frames is correctly computed."
                },
                {
                  "code": ">>> from pykubegrader.telemetry import ensure_responses, log_variable, score_question, submit_question, telemetry, update_responses\n>>> import os\n>>> import base64\n>>> import matplotlib\n>>> import matplotlib\n>>> question_id = 'parameters-and-animation-5'\n>>> max_score = 3.0\n>>> score = 0\n>>> matplotlib.use('Agg')\n>>> condition = isinstance(frames_to_render, range)\n>>> assert condition, 'Test Case 5 Failed: frames_to_render is not a range.'\n>>> condition1 = frames_to_render.start == 0\n>>> assert condition1, 'Test Case 5 Failed: frames_to_render does not start at 0.'\n>>> condition3 = frames_to_render.stop == len(x_vals)\n>>> assert condition3, 'Test Case 5 Failed: frames_to_render does not stop at the length of x_vals.'\n>>> condition4 = frames_to_render.step == 2\n>>> assert condition4, 'Test Case 5 Failed: frames_to_render does not increment by 2.'\n>>> if condition and condition1 and condition3 and condition4:\n...     score = 3.0\n>>> earned_points = float(os.environ.get('EARNED_POINTS', 0))\n>>> earned_points += score\n>>> log_variable('1_practicefinal_q', f'{score}, {max_score}', question_id)\n>>> os.environ['EARNED_POINTS'] = str(earned_points)\n",
                  "failure_message": "Error: frames_to_render is not computed correctly.",
                  "hidden": false,
                  "locked": false,
                  "points": 3,
                  "success_message": "Success: frames_to_render is correctly computed."
                },
                {
                  "code": ">>> from pykubegrader.telemetry import ensure_responses, log_variable, score_question, submit_question, telemetry, update_responses\n>>> import os\n>>> import base64\n>>> import matplotlib\n>>> import matplotlib\n>>> question_id = 'parameters-and-animation-6'\n>>> max_score = 3.0\n>>> score = 0\n>>> matplotlib.use('Agg')\n>>> condition = isinstance(fig, plt.Figure)\n>>> assert condition, 'Test Case 6 Failed: fig is not a matplotlib Figure object.'\n>>> condition1 = isinstance(ax, plt.Axes)\n>>> assert condition1, 'Test Case 6 Failed: ax is not a matplotlib Axes object.'\n>>> if condition and condition1:\n...     score = 3.0\n>>> earned_points = float(os.environ.get('EARNED_POINTS', 0))\n>>> earned_points += score\n>>> log_variable('1_practicefinal_q', f'{score}, {max_score}', question_id)\n>>> os.environ['EARNED_POINTS'] = str(earned_points)\n",
                  "failure_message": "Error: Figure and axis were not created correctly.",
                  "hidden": false,
                  "locked": false,
                  "points": 3,
                  "success_message": "Success: Figure and axis are correctly created."
                },
                {
                  "code": ">>> from pykubegrader.telemetry import ensure_responses, log_variable, score_question, submit_question, telemetry, update_responses\n>>> import os\n>>> import base64\n>>> import matplotlib\n>>> import matplotlib\n>>> question_id = 'parameters-and-animation-7'\n>>> max_score = 3.0\n>>> score = 0\n>>> matplotlib.use('Agg')\n>>> assert ax.get_xlim() == (-0.1, 1.1), 'Test Case 7 Failed: x-axis limits are incorrect.'\n>>> assert ax.get_ylim() == (-0.1, 1.1), 'Test Case 7 Failed: y-axis limits are incorrect.'\n>>> if ax.get_xlim() == (-0.1, 1.1) and ax.get_ylim() == (-0.1, 1.1):\n...     score = 3.0\n>>> earned_points = float(os.environ.get('EARNED_POINTS', 0))\n>>> earned_points += score\n>>> log_variable('1_practicefinal_q', f'{score}, {max_score}', question_id)\n>>> os.environ['EARNED_POINTS'] = str(earned_points)\n",
                  "failure_message": "Error: Axis limits were not set correctly.",
                  "hidden": false,
                  "locked": false,
                  "points": 3,
                  "success_message": "Success: Axis limits are correctly set."
                },
                {
                  "code": ">>> from pykubegrader.telemetry import ensure_responses, log_variable, score_question, submit_question, telemetry, update_responses\n>>> import os\n>>> import base64\n>>> import matplotlib\n>>> import matplotlib\n>>> question_id = 'parameters-and-animation-8'\n>>> max_score = 3.0\n>>> score = 0\n>>> matplotlib.use('Agg')\n>>> assert ax.get_xticks().size == 0, 'Test Case 8 Failed: x-axis ticks are not empty.'\n>>> assert ax.get_yticks().size == 0, 'Test Case 8 Failed: y-axis ticks are not empty.'\n>>> if ax.get_xticks().size == 0 and ax.get_yticks().size == 0:\n...     score = 3.0\n>>> earned_points = float(os.environ.get('EARNED_POINTS', 0))\n>>> earned_points += score\n>>> log_variable('1_practicefinal_q', f'{score}, {max_score}', question_id)\n>>> os.environ['EARNED_POINTS'] = str(earned_points)\n",
                  "failure_message": "Error: Axis ticks were not removed.",
                  "hidden": false,
                  "locked": false,
                  "points": 3,
                  "success_message": "Success: Axis ticks are correctly removed."
                },
                {
                  "code": ">>> from pykubegrader.telemetry import ensure_responses, log_variable, score_question, submit_question, telemetry, update_responses\n>>> import os\n>>> import base64\n>>> import matplotlib\n>>> import matplotlib\n>>> question_id = 'parameters-and-animation-9'\n>>> max_score = 3.0\n>>> score = 0\n>>> matplotlib.use('Agg')\n>>> assert ax.get_title() == f'Peano Curve (Order {order})', 'Test Case 9 Failed: Title is incorrect.'\n>>> if ax.get_title() == f'Peano Curve (Order {order})':\n...     score = 3.0\n>>> earned_points = float(os.environ.get('EARNED_POINTS', 0))\n>>> earned_points += score\n>>> log_variable('1_practicefinal_q', f'{score}, {max_score}', question_id)\n>>> os.environ['EARNED_POINTS'] = str(earned_points)\n",
                  "failure_message": "Error: The plot title was not set correctly.",
                  "hidden": false,
                  "locked": false,
                  "points": 3,
                  "success_message": "Success: The plot title is correctly set."
                },
                {
                  "code": ">>> from pykubegrader.telemetry import ensure_responses, log_variable, score_question, submit_question, telemetry, update_responses\n>>> import os\n>>> import base64\n>>> import matplotlib\n>>> import matplotlib\n>>> question_id = 'parameters-and-animation-10'\n>>> max_score = 3.0\n>>> score = 0\n>>> matplotlib.use('Agg')\n>>> assert isinstance(line, plt.Line2D), 'Test Case 10 Failed: line is not a matplotlib Line2D object.'\n>>> assert line.get_linewidth() == 2, 'Test Case 10 Failed: Line width is not set correctly.'\n>>> if isinstance(line, plt.Line2D) and line.get_linewidth() == 2:\n...     score = 3.0\n>>> earned_points = float(os.environ.get('EARNED_POINTS', 0))\n>>> earned_points += score\n>>> log_variable('1_practicefinal_q', f'{score}, {max_score}', question_id)\n>>> os.environ['EARNED_POINTS'] = str(earned_points)\n",
                  "failure_message": "Error: The line object was not correctly created.",
                  "hidden": false,
                  "locked": false,
                  "points": 3,
                  "success_message": "Success: The line object was correctly created."
                },
                {
                  "code": ">>> from pykubegrader.telemetry import ensure_responses, log_variable, score_question, submit_question, telemetry, update_responses\n>>> import os\n>>> import base64\n>>> import matplotlib\n>>> import matplotlib\n>>> question_id = 'parameters-and-animation-11'\n>>> max_score = 5.0\n>>> score = 0\n>>> matplotlib.use('Agg')\n>>> assert isinstance(ani, animation.FuncAnimation), 'Test Case 11 Failed: ani is not a FuncAnimation object.'\n>>> if isinstance(ani, animation.FuncAnimation):\n...     score = 5.0\n>>> earned_points = float(os.environ.get('EARNED_POINTS', 0))\n>>> earned_points += score\n>>> log_variable('1_practicefinal_q', f'{score}, {max_score}', question_id)\n>>> os.environ['EARNED_POINTS'] = str(earned_points)\n",
                  "failure_message": "Error: The animation object was not correctly created.",
                  "hidden": false,
                  "locked": false,
                  "points": 5,
                  "success_message": "Success: The animation object was correctly created."
                },
                {
                  "code": ">>> from pykubegrader.telemetry import ensure_responses, log_variable, score_question, submit_question, telemetry, update_responses\n>>> import os\n>>> import base64\n>>> import matplotlib\n>>> import matplotlib\n>>> question_id = 'parameters-and-animation-12'\n>>> max_score = 3.0\n>>> score = 0\n>>> matplotlib.use('Agg')\n>>> assert isinstance(html, HTML), 'Test Case 12 Failed: html is not an HTML object.'\n>>> if isinstance(html, HTML):\n...     score = 3.0\n>>> earned_points = float(os.environ.get('EARNED_POINTS', 0))\n>>> earned_points += score\n>>> log_variable('1_practicefinal_q', f'{score}, {max_score}', question_id)\n>>> os.environ['EARNED_POINTS'] = str(earned_points)\n",
                  "failure_message": "Error: The animation HTML was not correctly generated.",
                  "hidden": false,
                  "locked": false,
                  "points": 3,
                  "success_message": "Success: The animation HTML was correctly generated."
                }
              ],
              "scored": true,
              "setup": "",
              "teardown": "",
              "type": "doctest"
            }
          ]
        },
        "peano-curve-function": {
          "name": "peano-curve-function",
          "points": null,
          "suites": [
            {
              "cases": [
                {
                  "code": ">>> from pykubegrader.telemetry import ensure_responses, log_variable, score_question, submit_question, telemetry, update_responses\n>>> import os\n>>> import base64\n>>> import matplotlib\n>>> import matplotlib\n>>> max_question_points = str(20.0)\n>>> earned_points = 0\n>>> os.environ['EARNED_POINTS'] = str(earned_points)\n>>> os.environ['TOTAL_POINTS_FREE_RESPONSE'] = str(376.0)\n>>> log_variable('total-points', f'week10-practicefinal, 1_practicefinal_q', 376.0)\n>>> question_id = 'peano-curve-function-1'\n>>> max_score = 1.0\n>>> score = 0\n>>> matplotlib.use('Agg')\n>>> assert callable(peano_curve), 'peano_curve is not a function.'\n>>> assert 'peano_curve' in globals(), 'peano_curve function is not defined.'\n>>> if callable(peano_curve) and 'peano_curve' in globals():\n...     score = 1.0\n>>> earned_points = float(os.environ.get('EARNED_POINTS', 0))\n>>> earned_points += score\n>>> log_variable('1_practicefinal_q', f'{score}, {max_score}', question_id)\n>>> os.environ['EARNED_POINTS'] = str(earned_points)\n",
                  "failure_message": "peano_curve function is not defined or is not callable.",
                  "hidden": false,
                  "locked": false,
                  "points": 1,
                  "success_message": "Success: peano_curve function is defined correctly and is callable."
                },
                {
                  "code": ">>> from pykubegrader.telemetry import ensure_responses, log_variable, score_question, submit_question, telemetry, update_responses\n>>> import os\n>>> import base64\n>>> import matplotlib\n>>> import matplotlib\n>>> question_id = 'peano-curve-function-2'\n>>> max_score = 2.0\n>>> score = 0\n>>> matplotlib.use('Agg')\n>>> order_0 = peano_curve(0)\n>>> condition1 = isinstance(order_0, list)\n>>> assert condition1, 'Output should be a list.'\n>>> condition2 = len(order_0) == 1\n>>> assert condition2, 'Order 0 should return exactly one point.'\n>>> condition3 = order_0 == [(0, 0)]\n>>> assert condition3, f'Expected [(0, 0)], but got {order_0}.'\n>>> if condition1 and condition2 and condition3:\n...     score = 2.0\n>>> earned_points = float(os.environ.get('EARNED_POINTS', 0))\n>>> earned_points += score\n>>> log_variable('1_practicefinal_q', f'{score}, {max_score}', question_id)\n>>> os.environ['EARNED_POINTS'] = str(earned_points)\n",
                  "failure_message": "peano_curve(order=0) does not return a single point.",
                  "hidden": false,
                  "locked": false,
                  "points": 2,
                  "success_message": "Success: peano_curve(order=0) returns a single point."
                },
                {
                  "code": ">>> from pykubegrader.telemetry import ensure_responses, log_variable, score_question, submit_question, telemetry, update_responses\n>>> import os\n>>> import base64\n>>> import matplotlib\n>>> import matplotlib\n>>> question_id = 'peano-curve-function-3'\n>>> max_score = 4.0\n>>> score = 0\n>>> matplotlib.use('Agg')\n>>> order_1 = peano_curve(1)\n>>> expected_order_1 = [(0, 0), (0, 1 / 3), (0, 2 / 3), (1 / 3, 2 / 3), (1 / 3, 1 / 3), (1 / 3, 0), (2 / 3, 0), (2 / 3, 1 / 3), (2 / 3, 2 / 3)]\n>>> condition1 = isinstance(order_1, list)\n>>> assert condition1, 'Output should be a list.'\n>>> condition2 = len(order_1) == 9\n>>> assert condition2, 'Expected 9 points, but got {len(order_1)}.'\n>>> condition3 = np.allclose(order_1, expected_order_1)\n>>> assert condition3, f'Order 1 does not generate the expected points: {order_1}'\n>>> if condition1 and condition2 and condition3:\n...     score = 4.0\n>>> earned_points = float(os.environ.get('EARNED_POINTS', 0))\n>>> earned_points += score\n>>> log_variable('1_practicefinal_q', f'{score}, {max_score}', question_id)\n>>> os.environ['EARNED_POINTS'] = str(earned_points)\n",
                  "failure_message": "peano_curve(order=1) does not return a correct 3x3 grid.",
                  "hidden": false,
                  "locked": false,
                  "points": 4,
                  "success_message": "Success: peano_curve(order=1) returns 9 points forming a 3x3 grid."
                },
                {
                  "code": ">>> from pykubegrader.telemetry import ensure_responses, log_variable, score_question, submit_question, telemetry, update_responses\n>>> import os\n>>> import base64\n>>> import matplotlib\n>>> import matplotlib\n>>> question_id = 'peano-curve-function-4'\n>>> max_score = 3.0\n>>> score = 0\n>>> matplotlib.use('Agg')\n>>> order_2 = peano_curve(2)\n>>> condition1 = isinstance(order_2, list)\n>>> assert condition1, 'Output should be a list.'\n>>> condition2 = len(order_2) == 81\n>>> assert condition2, f'Expected 81 points, but got {len(order_2)}.'\n>>> if condition1 and condition2:\n...     score = 3.0\n>>> earned_points = float(os.environ.get('EARNED_POINTS', 0))\n>>> earned_points += score\n>>> log_variable('1_practicefinal_q', f'{score}, {max_score}', question_id)\n>>> os.environ['EARNED_POINTS'] = str(earned_points)\n",
                  "failure_message": "peano_curve(order=2) does not return the correct recursive pattern.",
                  "hidden": false,
                  "locked": false,
                  "points": 3,
                  "success_message": "Success: peano_curve(order=2) returns 81 points (recursive 3x3 pattern)."
                },
                {
                  "code": ">>> from pykubegrader.telemetry import ensure_responses, log_variable, score_question, submit_question, telemetry, update_responses\n>>> import os\n>>> import base64\n>>> import matplotlib\n>>> import matplotlib\n>>> question_id = 'peano-curve-function-5'\n>>> max_score = 4.0\n>>> score = 0\n>>> matplotlib.use('Agg')\n>>> expected_order_1 = [(0, 0), (0, 1 / 3), (0, 2 / 3), (1 / 3, 2 / 3), (1 / 3, 1 / 3), (1 / 3, 0), (2 / 3, 0), (2 / 3, 1 / 3), (2 / 3, 2 / 3)]\n>>> order_1_shifted = peano_curve(1, x=1, y=1)\n>>> expected_shifted = [(px + 1, py + 1) for px, py in expected_order_1]\n>>> condition1 = np.allclose(order_1_shifted, expected_shifted)\n>>> assert condition1, f'Order 1 shifted does not match expected: {order_1_shifted}'\n>>> if condition1:\n...     score = 4.0\n>>> earned_points = float(os.environ.get('EARNED_POINTS', 0))\n>>> earned_points += score\n>>> log_variable('1_practicefinal_q', f'{score}, {max_score}', question_id)\n>>> os.environ['EARNED_POINTS'] = str(earned_points)\n",
                  "failure_message": "peano_curve does not correctly shift based on x, y.",
                  "hidden": false,
                  "locked": false,
                  "points": 4,
                  "success_message": "Success: peano_curve correctly handles different starting positions."
                },
                {
                  "code": ">>> from pykubegrader.telemetry import ensure_responses, log_variable, score_question, submit_question, telemetry, update_responses\n>>> import os\n>>> import base64\n>>> import matplotlib\n>>> import matplotlib\n>>> question_id = 'peano-curve-function-6'\n>>> max_score = 4.0\n>>> score = 0\n>>> matplotlib.use('Agg')\n>>> expected_order_1 = [(0, 0), (0, 1 / 3), (0, 2 / 3), (1 / 3, 2 / 3), (1 / 3, 1 / 3), (1 / 3, 0), (2 / 3, 0), (2 / 3, 1 / 3), (2 / 3, 2 / 3)]\n>>> order_1_scaled = peano_curve(1, size=2)\n>>> expected_scaled = [(px * 2, py * 2) for px, py in expected_order_1]\n>>> condition1 = np.allclose(order_1_scaled, expected_scaled)\n>>> assert condition1, f'Order 1 scaled does not match expected: {order_1_scaled}'\n>>> if condition1:\n...     score = 4.0\n>>> earned_points = float(os.environ.get('EARNED_POINTS', 0))\n>>> earned_points += score\n>>> log_variable('1_practicefinal_q', f'{score}, {max_score}', question_id)\n>>> os.environ['EARNED_POINTS'] = str(earned_points)\n",
                  "failure_message": "peano_curve does not scale correctly with size parameter.",
                  "hidden": false,
                  "locked": false,
                  "points": 4,
                  "success_message": "Success: peano_curve correctly handles different sizes."
                },
                {
                  "code": ">>> from pykubegrader.telemetry import ensure_responses, log_variable, score_question, submit_question, telemetry, update_responses\n>>> import os\n>>> import base64\n>>> import matplotlib\n>>> import matplotlib\n>>> question_id = 'peano-curve-function-7'\n>>> max_score = 2.0\n>>> score = 0\n>>> matplotlib.use('Agg')\n>>> order_2 = peano_curve(2)\n>>> condition1 = len(set(order_2)) == len(order_2)\n>>> assert condition1, 'Points in peano_curve are not unique.'\n>>> if condition1:\n...     score = 2.0\n>>> earned_points = float(os.environ.get('EARNED_POINTS', 0))\n>>> earned_points += score\n>>> log_variable('1_practicefinal_q', f'{score}, {max_score}', question_id)\n>>> os.environ['EARNED_POINTS'] = str(earned_points)\n",
                  "failure_message": "peano_curve contains duplicate points.",
                  "hidden": false,
                  "locked": false,
                  "points": 2,
                  "success_message": "Success: peano_curve produces unique points."
                }
              ],
              "scored": true,
              "setup": "",
              "teardown": "",
              "type": "doctest"
            }
          ]
        },
        "plotting-2d-shape-with-centroid": {
          "name": "plotting-2d-shape-with-centroid",
          "points": null,
          "suites": [
            {
              "cases": [
                {
                  "code": ">>> from pykubegrader.telemetry import ensure_responses, log_variable, score_question, submit_question, telemetry, update_responses\n>>> import os\n>>> import base64\n>>> import matplotlib\n>>> import matplotlib\n>>> max_question_points = str(16.0)\n>>> earned_points = 0\n>>> os.environ['EARNED_POINTS'] = str(earned_points)\n>>> os.environ['TOTAL_POINTS_FREE_RESPONSE'] = str(376.0)\n>>> log_variable('total-points', f'week10-practicefinal, 1_practicefinal_q', 376.0)\n>>> question_id = 'plotting-2d-shape-with-centroid-1'\n>>> max_score = 1.0\n>>> score = 0\n>>> matplotlib.use('Agg')\n>>> condition1 = 'plot_2d_shape_with_centroid' in globals()\n>>> condition2 = callable(plot_2d_shape_with_centroid)\n>>> assert condition1, 'plot_2d_shape_with_centroid function is not defined.'\n>>> assert condition2, 'plot_2d_shape_with_centroid is not a function.'\n>>> if condition1 and condition2:\n...     score = 1.0\n>>> earned_points = float(os.environ.get('EARNED_POINTS', 0))\n>>> earned_points += score\n>>> log_variable('1_practicefinal_q', f'{score}, {max_score}', question_id)\n>>> os.environ['EARNED_POINTS'] = str(earned_points)\n",
                  "failure_message": "plot_2d_shape_with_centroid function is not defined, or is not callable.",
                  "hidden": false,
                  "locked": false,
                  "points": 1,
                  "success_message": "Success: plot_2d_shape_with_centroid function is defined correctly and is callable."
                },
                {
                  "code": ">>> from pykubegrader.telemetry import ensure_responses, log_variable, score_question, submit_question, telemetry, update_responses\n>>> import os\n>>> import base64\n>>> import matplotlib\n>>> import matplotlib\n>>> matplotlib.use('Agg')\n>>> import matplotlib.pyplot as plt\n>>> question_id = 'plotting-2d-shape-with-centroid-2'\n>>> max_score = 2.0\n>>> score = 0\n>>> out = plt.ioff()\n>>> square = np.array([[0, 0], [2, 0], [2, 2], [0, 2], [0, 0]])\n>>> fig, ax = plot_2d_shape_with_centroid(square)\n>>> condition1 = isinstance(fig, plt.Figure)\n>>> condition2 = isinstance(ax, plt.Axes)\n>>> assert condition1, 'Returned object is not a matplotlib figure.'\n>>> assert condition2, 'Returned object is not a matplotlib axis.'\n>>> out = plt.ion()\n>>> if condition1 and condition2:\n...     score = 2.0\n>>> earned_points = float(os.environ.get('EARNED_POINTS', 0))\n>>> earned_points += score\n>>> log_variable('1_practicefinal_q', f'{score}, {max_score}', question_id)\n>>> os.environ['EARNED_POINTS'] = str(earned_points)\n",
                  "failure_message": "plot_2d_shape_with_centroid does not return correct figure and axis objects.",
                  "hidden": false,
                  "locked": false,
                  "points": 2,
                  "success_message": "Success: plot_2d_shape_with_centroid returns figure and axis objects."
                },
                {
                  "code": ">>> from pykubegrader.telemetry import ensure_responses, log_variable, score_question, submit_question, telemetry, update_responses\n>>> import os\n>>> import base64\n>>> import matplotlib\n>>> import matplotlib\n>>> matplotlib.use('Agg')\n>>> out = plt.ioff()\n>>> import matplotlib.pyplot as plt\n>>> question_id = 'plotting-2d-shape-with-centroid-3'\n>>> max_score = 2.0\n>>> score = 0\n>>> square = np.array([[0, 0], [2, 0], [2, 2], [0, 2], [0, 0]])\n>>> fig, ax = plot_2d_shape_with_centroid(square)\n>>> lines = ax.get_lines()\n>>> assert len(lines) > 0, 'No lines found in the plot.'\n>>> shape_x, shape_y = (square[:, 0], square[:, 1])\n>>> plotted_x, plotted_y = (lines[0].get_xdata(), lines[0].get_ydata())\n>>> condition1 = np.allclose(plotted_x, shape_x)\n>>> condition2 = np.allclose(plotted_y, shape_y)\n>>> assert condition1, 'Plotted x-coordinates do not match shape points.'\n>>> assert condition2, 'Plotted y-coordinates do not match shape points.'\n>>> out = plt.ion()\n>>> if len(lines) > 0 and condition1 and condition2:\n...     score = 2.0\n>>> earned_points = float(os.environ.get('EARNED_POINTS', 0))\n>>> earned_points += score\n>>> log_variable('1_practicefinal_q', f'{score}, {max_score}', question_id)\n>>> os.environ['EARNED_POINTS'] = str(earned_points)\n",
                  "failure_message": "plot_2d_shape_with_centroid does not plot the shape edges correctly.",
                  "hidden": false,
                  "locked": false,
                  "points": 2,
                  "success_message": "Success: plot_2d_shape_with_centroid correctly plots the shape edges."
                },
                {
                  "code": ">>> from pykubegrader.telemetry import ensure_responses, log_variable, score_question, submit_question, telemetry, update_responses\n>>> import os\n>>> import base64\n>>> import matplotlib\n>>> import matplotlib\n>>> matplotlib.use('Agg')\n>>> import matplotlib as mpl\n>>> import matplotlib.pyplot as plt\n>>> question_id = 'plotting-2d-shape-with-centroid-4'\n>>> max_score = 2.0\n>>> score = 0\n>>> out = plt.ioff()\n>>> square = np.array([[0, 0], [2, 0], [2, 2], [0, 2], [0, 0]])\n>>> fig, ax = plot_2d_shape_with_centroid(square)\n>>> out = plt.ion()\n>>> scatter_plots = [child for child in ax.get_children() if isinstance(child, mpl.collections.PathCollection)]\n>>> condition2 = len(scatter_plots) > 0\n>>> assert condition2, 'No scatter plot found for centroid.'\n>>> computed_centroid = compute_centroid(square)\n>>> centroid_x, centroid_y = scatter_plots[0].get_offsets()[0]\n>>> condition1 = np.allclose([centroid_x, centroid_y], computed_centroid)\n>>> assert condition1, f'Centroid plotted incorrectly. Expected {computed_centroid}, got {[centroid_x, centroid_y]}.'\n>>> if condition2 and condition1:\n...     score = 2.0\n>>> earned_points = float(os.environ.get('EARNED_POINTS', 0))\n>>> earned_points += score\n>>> log_variable('1_practicefinal_q', f'{score}, {max_score}', question_id)\n>>> os.environ['EARNED_POINTS'] = str(earned_points)\n",
                  "failure_message": "plot_2d_shape_with_centroid does not mark the centroid correctly.",
                  "hidden": false,
                  "locked": false,
                  "points": 2,
                  "success_message": "Success: plot_2d_shape_with_centroid correctly marks the centroid."
                },
                {
                  "code": ">>> from pykubegrader.telemetry import ensure_responses, log_variable, score_question, submit_question, telemetry, update_responses\n>>> import os\n>>> import base64\n>>> import matplotlib\n>>> import matplotlib\n>>> matplotlib.use('Agg')\n>>> import matplotlib.pyplot as plt\n>>> question_id = 'plotting-2d-shape-with-centroid-5'\n>>> max_score = 2.0\n>>> score = 0\n>>> out = plt.ioff()\n>>> square = np.array([[0, 0], [2, 0], [2, 2], [0, 2], [0, 0]])\n>>> fig, ax = plot_2d_shape_with_centroid(square)\n>>> out = plt.ion()\n>>> condition1 = ax.get_xlabel() == 'X'\n>>> condition2 = ax.get_ylabel() == 'Y'\n>>> assert condition1, 'X-axis label is incorrect.'\n>>> assert condition2, 'Y-axis label is incorrect.'\n>>> if condition1 and condition2:\n...     score = 2.0\n>>> earned_points = float(os.environ.get('EARNED_POINTS', 0))\n>>> earned_points += score\n>>> log_variable('1_practicefinal_q', f'{score}, {max_score}', question_id)\n>>> os.environ['EARNED_POINTS'] = str(earned_points)\n",
                  "failure_message": "plot_2d_shape_with_centroid does not set axis labels correctly.",
                  "hidden": false,
                  "locked": false,
                  "points": 2,
                  "success_message": "Success: plot_2d_shape_with_centroid correctly sets axis labels."
                },
                {
                  "code": ">>> from pykubegrader.telemetry import ensure_responses, log_variable, score_question, submit_question, telemetry, update_responses\n>>> import os\n>>> import base64\n>>> import matplotlib\n>>> import matplotlib\n>>> matplotlib.use('Agg')\n>>> import matplotlib.pyplot as plt\n>>> question_id = 'plotting-2d-shape-with-centroid-6'\n>>> max_score = 2.0\n>>> score = 0\n>>> out = plt.ioff()\n>>> square = np.array([[0, 0], [2, 0], [2, 2], [0, 2], [0, 0]])\n>>> fig, ax = plot_2d_shape_with_centroid(square)\n>>> out = plt.ion()\n>>> condition1 = ax.get_title() == '2D Shape with Centroid'\n>>> assert condition1, 'Plot title is incorrect.'\n>>> if condition1:\n...     score = 2.0\n>>> earned_points = float(os.environ.get('EARNED_POINTS', 0))\n>>> earned_points += score\n>>> log_variable('1_practicefinal_q', f'{score}, {max_score}', question_id)\n>>> os.environ['EARNED_POINTS'] = str(earned_points)\n",
                  "failure_message": "plot_2d_shape_with_centroid does not set the title correctly.",
                  "hidden": false,
                  "locked": false,
                  "points": 2,
                  "success_message": "Success: plot_2d_shape_with_centroid correctly sets the title."
                },
                {
                  "code": ">>> from pykubegrader.telemetry import ensure_responses, log_variable, score_question, submit_question, telemetry, update_responses\n>>> import os\n>>> import base64\n>>> import matplotlib\n>>> import matplotlib\n>>> question_id = 'plotting-2d-shape-with-centroid-7'\n>>> max_score = 2.0\n>>> score = 0\n>>> matplotlib.use('Agg')\n>>> out = plt.ioff()\n>>> square = np.array([[0, 0], [2, 0], [2, 2], [0, 2], [0, 0]])\n>>> fig, ax = plot_2d_shape_with_centroid(square, title='Custom Title')\n>>> condition1 = ax.get_title() == 'Custom Title'\n>>> assert condition1, 'Custom title was not applied correctly.'\n>>> out = plt.ion()\n>>> if condition1:\n...     score = 2.0\n>>> earned_points = float(os.environ.get('EARNED_POINTS', 0))\n>>> earned_points += score\n>>> log_variable('1_practicefinal_q', f'{score}, {max_score}', question_id)\n>>> os.environ['EARNED_POINTS'] = str(earned_points)\n",
                  "failure_message": "plot_2d_shape_with_centroid does not apply custom title correctly.",
                  "hidden": false,
                  "locked": false,
                  "points": 2,
                  "success_message": "Success: plot_2d_shape_with_centroid correctly applies custom title."
                },
                {
                  "code": ">>> from pykubegrader.telemetry import ensure_responses, log_variable, score_question, submit_question, telemetry, update_responses\n>>> import os\n>>> import base64\n>>> import matplotlib\n>>> import matplotlib\n>>> matplotlib.use('Agg')\n>>> import matplotlib.pyplot as plt\n>>> question_id = 'plotting-2d-shape-with-centroid-8'\n>>> max_score = 1.0\n>>> score = 0\n>>> out = plt.ioff()\n>>> square = np.array([[0, 0], [2, 0], [2, 2], [0, 2], [0, 0]])\n>>> fig, ax = plot_2d_shape_with_centroid(square)\n>>> out = plt.ion()\n>>> condition1 = ax._axisbelow\n>>> assert condition1, 'Grid is not enabled.'\n>>> condition2 = ax.get_aspect() == 1\n>>> assert condition2, 'Aspect ratio is not set to equal.'\n>>> if condition1 and condition2:\n...     score = 1.0\n>>> earned_points = float(os.environ.get('EARNED_POINTS', 0))\n>>> earned_points += score\n>>> log_variable('1_practicefinal_q', f'{score}, {max_score}', question_id)\n>>> os.environ['EARNED_POINTS'] = str(earned_points)\n",
                  "failure_message": "plot_2d_shape_with_centroid does not apply grid or equal aspect ratio correctly.",
                  "hidden": false,
                  "locked": false,
                  "points": 1,
                  "success_message": "Success: plot_2d_shape_with_centroid correctly applies grid and aspect ratio."
                },
                {
                  "code": ">>> from pykubegrader.telemetry import ensure_responses, log_variable, score_question, submit_question, telemetry, update_responses\n>>> import os\n>>> import base64\n>>> import matplotlib\n>>> import matplotlib\n>>> matplotlib.use('Agg')\n>>> import matplotlib as mpl\n>>> question_id = 'plotting-2d-shape-with-centroid-9'\n>>> max_score = 1.0\n>>> score = 0\n>>> out = plt.ioff()\n>>> single_point = np.array([[3, 4]])\n>>> fig, ax = plot_2d_shape_with_centroid(single_point)\n>>> condition1 = len(ax.get_lines()) == 1\n>>> assert condition1, 'Single point plot should have one line (self-connected).'\n>>> condition2 = len([child for child in ax.get_children() if isinstance(child, mpl.collections.PathCollection)]) == 1\n>>> assert condition2, 'Single point centroid should be plotted.'\n>>> out = plt.ion()\n>>> if condition1 and condition2:\n...     score = 1.0\n>>> earned_points = float(os.environ.get('EARNED_POINTS', 0))\n>>> earned_points += score\n>>> log_variable('1_practicefinal_q', f'{score}, {max_score}', question_id)\n>>> os.environ['EARNED_POINTS'] = str(earned_points)\n",
                  "failure_message": "plot_2d_shape_with_centroid does not handle a single point correctly.",
                  "hidden": false,
                  "locked": false,
                  "points": 1,
                  "success_message": "Success: plot_2d_shape_with_centroid correctly handles a single point."
                },
                {
                  "code": ">>> from pykubegrader.telemetry import ensure_responses, log_variable, score_question, submit_question, telemetry, update_responses\n>>> import os\n>>> import base64\n>>> import matplotlib\n>>> import matplotlib\n>>> matplotlib.use('Agg')\n>>> import matplotlib as mpl\n>>> question_id = 'plotting-2d-shape-with-centroid-10'\n>>> max_score = 1.0\n>>> score = 0\n>>> out = plt.ioff()\n>>> collinear_points = np.array([[0, 0], [1, 1], [2, 2], [3, 3], [0, 0]])\n>>> fig, ax = plot_2d_shape_with_centroid(collinear_points)\n>>> condition1 = len(ax.get_lines()) > 0\n>>> assert condition1, 'Collinear points should be plotted.'\n>>> condition2 = len([child for child in ax.get_children() if isinstance(child, mpl.collections.PathCollection)]) == 1\n>>> assert condition2, 'Collinear points should still have a centroid plotted.'\n>>> out = plt.ion()\n>>> if condition1 and condition2:\n...     score = 1.0\n>>> earned_points = float(os.environ.get('EARNED_POINTS', 0))\n>>> earned_points += score\n>>> log_variable('1_practicefinal_q', f'{score}, {max_score}', question_id)\n>>> os.environ['EARNED_POINTS'] = str(earned_points)\n",
                  "failure_message": "plot_2d_shape_with_centroid does not handle collinear points correctly.",
                  "hidden": false,
                  "locked": false,
                  "points": 1,
                  "success_message": "Success: plot_2d_shape_with_centroid correctly handles collinear points."
                }
              ],
              "scored": true,
              "setup": "",
              "teardown": "",
              "type": "doctest"
            }
          ]
        },
        "plotting-3d-shape": {
          "name": "plotting-3d-shape",
          "points": null,
          "suites": [
            {
              "cases": [
                {
                  "code": ">>> from pykubegrader.telemetry import ensure_responses, log_variable, score_question, submit_question, telemetry, update_responses\n>>> import os\n>>> import base64\n>>> import matplotlib\n>>> import matplotlib\n>>> max_question_points = str(20.0)\n>>> earned_points = 0\n>>> os.environ['EARNED_POINTS'] = str(earned_points)\n>>> os.environ['TOTAL_POINTS_FREE_RESPONSE'] = str(376.0)\n>>> log_variable('total-points', f'week10-practicefinal, 1_practicefinal_q', 376.0)\n>>> question_id = 'plotting-3d-shape-1'\n>>> max_score = 1.0\n>>> score = 0\n>>> matplotlib.use('Agg')\n>>> condition1 = 'plot_3d_shape' in globals()\n>>> condition2 = callable(plot_3d_shape)\n>>> assert condition1, 'plot_3d_shape function is not defined.'\n>>> assert condition2, 'plot_3d_shape is not a function.'\n>>> if condition1 and condition2:\n...     score = 1.0\n>>> earned_points = float(os.environ.get('EARNED_POINTS', 0))\n>>> earned_points += score\n>>> log_variable('1_practicefinal_q', f'{score}, {max_score}', question_id)\n>>> os.environ['EARNED_POINTS'] = str(earned_points)\n",
                  "failure_message": "plot_3d_shape function is not defined.",
                  "hidden": false,
                  "locked": false,
                  "points": 1,
                  "success_message": "Success: plot_3d_shape function is defined correctly."
                },
                {
                  "code": ">>> from pykubegrader.telemetry import ensure_responses, log_variable, score_question, submit_question, telemetry, update_responses\n>>> import os\n>>> import base64\n>>> import matplotlib\n>>> import matplotlib\n>>> question_id = 'plotting-3d-shape-2'\n>>> max_score = 2.0\n>>> score = 0\n>>> matplotlib.use('Agg')\n>>> pyramid = np.array([[0, 0, 0], [1, 0, 0], [1, 1, 0], [0, 1, 0], [0, 0, 0], [0.5, 0.5, 1], [1, 0, 0], [0.5, 0.5, 1], [1, 1, 0], [0.5, 0.5, 1], [0, 1, 0], [0.5, 0.5, 1], [0, 0, 0]])\n>>> out = plt.ioff()\n>>> fig, ax = plot_3d_shape(pyramid)\n>>> out = plt.ion()\n>>> condition1 = isinstance(fig, plt.Figure)\n>>> assert condition1, 'Returned object is not a matplotlib figure.'\n>>> condition2 = hasattr(ax, 'set_zlabel')\n>>> assert condition2, 'Returned object is not a 3D matplotlib axis.'\n>>> if condition1 and condition2:\n...     score = 2.0\n>>> earned_points = float(os.environ.get('EARNED_POINTS', 0))\n>>> earned_points += score\n>>> log_variable('1_practicefinal_q', f'{score}, {max_score}', question_id)\n>>> os.environ['EARNED_POINTS'] = str(earned_points)\n",
                  "failure_message": "plot_3d_shape does not return correct figure and 3D axis objects.",
                  "hidden": false,
                  "locked": false,
                  "points": 2,
                  "success_message": "Success: plot_3d_shape returns figure and 3D axis objects."
                },
                {
                  "code": ">>> from pykubegrader.telemetry import ensure_responses, log_variable, score_question, submit_question, telemetry, update_responses\n>>> import os\n>>> import base64\n>>> import matplotlib\n>>> import matplotlib\n>>> question_id = 'plotting-3d-shape-3'\n>>> max_score = 4.0\n>>> score = 0\n>>> matplotlib.use('Agg')\n>>> pyramid = np.array([[0, 0, 0], [1, 0, 0], [1, 1, 0], [0, 1, 0], [0, 0, 0], [0.5, 0.5, 1], [1, 0, 0], [0.5, 0.5, 1], [1, 1, 0], [0.5, 0.5, 1], [0, 1, 0], [0.5, 0.5, 1], [0, 0, 0]])\n>>> out = plt.ioff()\n>>> fig, ax = plot_3d_shape(pyramid)\n>>> out = plt.ion()\n>>> lines = ax.get_lines()\n>>> condition4 = len(lines) > 0\n>>> assert condition4, 'No lines found in the 3D plot.'\n>>> shape_x, shape_y, shape_z = (pyramid[:, 0], pyramid[:, 1], pyramid[:, 2])\n>>> plotted_x, plotted_y, plotted_z = lines[0].get_data_3d()\n>>> condition1 = np.allclose(plotted_x, shape_x)\n>>> assert condition1, 'Plotted x-coordinates do not match shape points.'\n>>> condition2 = np.allclose(plotted_y, shape_y)\n>>> assert condition2, 'Plotted y-coordinates do not match shape points.'\n>>> condition3 = np.allclose(plotted_z, shape_z)\n>>> assert np.allclose(plotted_z, shape_z), 'Plotted z-coordinates do not match shape points.'\n>>> assert condition1 and condition2 and condition3, 'Plotted coordinates do not match shape points.'\n>>> if condition4 and condition1 and condition2 and np.allclose(plotted_z, shape_z) and (condition1 and condition2 and condition3):\n...     score = 4.0\n>>> earned_points = float(os.environ.get('EARNED_POINTS', 0))\n>>> earned_points += score\n>>> log_variable('1_practicefinal_q', f'{score}, {max_score}', question_id)\n>>> os.environ['EARNED_POINTS'] = str(earned_points)\n",
                  "failure_message": "plot_3d_shape does not plot the shape edges correctly.",
                  "hidden": false,
                  "locked": false,
                  "points": 4,
                  "success_message": "Success: plot_3d_shape correctly plots the shape edges."
                },
                {
                  "code": ">>> from pykubegrader.telemetry import ensure_responses, log_variable, score_question, submit_question, telemetry, update_responses\n>>> import os\n>>> import base64\n>>> import matplotlib\n>>> import matplotlib\n>>> matplotlib.use('Agg')\n>>> import matplotlib as mpl\n>>> question_id = 'plotting-3d-shape-4'\n>>> max_score = 8.0\n>>> score = 0\n>>> pyramid = np.array([[0, 0, 0], [1, 0, 0], [1, 1, 0], [0, 1, 0], [0, 0, 0], [0.5, 0.5, 1], [1, 0, 0], [0.5, 0.5, 1], [1, 1, 0], [0.5, 0.5, 1], [0, 1, 0], [0.5, 0.5, 1], [0, 0, 0]])\n>>> out = plt.ioff()\n>>> fig, ax = plot_3d_shape(pyramid)\n>>> out = plt.ion()\n>>> condition1 = callable(compute_centroid)\n>>> assert condition1, 'compute_centroid is not a function.'\n>>> scatter_plots = [child for child in ax.get_children() if isinstance(child, mpl.collections.PathCollection)]\n>>> condition5 = len(scatter_plots) > 0\n>>> assert condition5, 'No scatter plot found for centroid.'\n>>> centroid_coords = compute_centroid(pyramid)\n>>> condition2 = np.allclose([centroid_coords[0], centroid_coords[1], centroid_coords[2]], [0.5, 0.5, 0.2])\n>>> assert condition2, 'Centroid plotted incorrectly. Expected [0.5, 0.5, 0.2], got {[centroid_coords[0], centroid_coords[1], centroid_coords[2]]}.'\n>>> if condition1 and condition5 and condition2:\n...     score = 8.0\n>>> earned_points = float(os.environ.get('EARNED_POINTS', 0))\n>>> earned_points += score\n>>> log_variable('1_practicefinal_q', f'{score}, {max_score}', question_id)\n>>> os.environ['EARNED_POINTS'] = str(earned_points)\n",
                  "failure_message": "plot_3d_shape does not mark the centroid correctly. Note: it is possible that you are not computing the centroid correctly.\n We did not provide sufficent tests to confirm that you are computing th centroid correctly.",
                  "hidden": false,
                  "locked": false,
                  "points": 8,
                  "success_message": "Success: plot_3d_shape correctly marks the centroid."
                },
                {
                  "code": ">>> from pykubegrader.telemetry import ensure_responses, log_variable, score_question, submit_question, telemetry, update_responses\n>>> import os\n>>> import base64\n>>> import matplotlib\n>>> import matplotlib\n>>> matplotlib.use('Agg')\n>>> import matplotlib as mpl\n>>> question_id = 'plotting-3d-shape-5'\n>>> max_score = 1.0\n>>> score = 0\n>>> pyramid = np.array([[0, 0, 0], [1, 0, 0], [1, 1, 0], [0, 1, 0], [0, 0, 0], [0.5, 0.5, 1], [1, 0, 0], [0.5, 0.5, 1], [1, 1, 0], [0.5, 0.5, 1], [0, 1, 0], [0.5, 0.5, 1], [0, 0, 0]])\n>>> out = plt.ioff()\n>>> fig, ax = plot_3d_shape(pyramid)\n>>> out = plt.ion()\n>>> condition1 = ax.get_xlabel() == 'X'\n>>> assert condition1, 'X-axis label is incorrect.'\n>>> condition2 = ax.get_ylabel() == 'Y'\n>>> assert condition2, 'Y-axis label is incorrect.'\n>>> condition3 = ax.get_zlabel() == 'Z'\n>>> assert condition3, 'Z-axis label is incorrect.'\n>>> if condition1 and condition2 and condition3:\n...     score = 1.0\n>>> earned_points = float(os.environ.get('EARNED_POINTS', 0))\n>>> earned_points += score\n>>> log_variable('1_practicefinal_q', f'{score}, {max_score}', question_id)\n>>> os.environ['EARNED_POINTS'] = str(earned_points)\n",
                  "failure_message": "plot_3d_shape does not set axis labels correctly.",
                  "hidden": false,
                  "locked": false,
                  "points": 1,
                  "success_message": "Success: plot_3d_shape correctly sets axis labels."
                },
                {
                  "code": ">>> from pykubegrader.telemetry import ensure_responses, log_variable, score_question, submit_question, telemetry, update_responses\n>>> import os\n>>> import base64\n>>> import matplotlib\n>>> import matplotlib\n>>> matplotlib.use('Agg')\n>>> import matplotlib as mpl\n>>> question_id = 'plotting-3d-shape-6'\n>>> max_score = 1.0\n>>> score = 0\n>>> pyramid = np.array([[0, 0, 0], [1, 0, 0], [1, 1, 0], [0, 1, 0], [0, 0, 0], [0.5, 0.5, 1], [1, 0, 0], [0.5, 0.5, 1], [1, 1, 0], [0.5, 0.5, 1], [0, 1, 0], [0.5, 0.5, 1], [0, 0, 0]])\n>>> out = plt.ioff()\n>>> fig, ax = plot_3d_shape(pyramid)\n>>> out = plt.ion()\n>>> condition1 = ax.get_title() == '3D Edge Shape'\n>>> assert condition1, 'Plot title is incorrect.'\n>>> if condition1:\n...     score = 1.0\n>>> earned_points = float(os.environ.get('EARNED_POINTS', 0))\n>>> earned_points += score\n>>> log_variable('1_practicefinal_q', f'{score}, {max_score}', question_id)\n>>> os.environ['EARNED_POINTS'] = str(earned_points)\n",
                  "failure_message": "plot_3d_shape does not set the title correctly.",
                  "hidden": false,
                  "locked": false,
                  "points": 1,
                  "success_message": "Success: plot_3d_shape correctly sets the title."
                },
                {
                  "code": ">>> from pykubegrader.telemetry import ensure_responses, log_variable, score_question, submit_question, telemetry, update_responses\n>>> import os\n>>> import base64\n>>> import matplotlib\n>>> import matplotlib\n>>> matplotlib.use('Agg')\n>>> import matplotlib as mpl\n>>> question_id = 'plotting-3d-shape-7'\n>>> max_score = 1.0\n>>> score = 0\n>>> pyramid = np.array([[0, 0, 0], [1, 0, 0], [1, 1, 0], [0, 1, 0], [0, 0, 0], [0.5, 0.5, 1], [1, 0, 0], [0.5, 0.5, 1], [1, 1, 0], [0.5, 0.5, 1], [0, 1, 0], [0.5, 0.5, 1], [0, 0, 0]])\n>>> out = plt.ioff()\n>>> fig, ax = plot_3d_shape(pyramid)\n>>> fig, ax = plot_3d_shape(pyramid, title='Custom Title')\n>>> condition1 = ax.get_title() == 'Custom Title'\n>>> assert condition1, 'Custom title was not applied correctly.'\n>>> out = plt.ion()\n>>> if condition1:\n...     score = 1.0\n>>> earned_points = float(os.environ.get('EARNED_POINTS', 0))\n>>> earned_points += score\n>>> log_variable('1_practicefinal_q', f'{score}, {max_score}', question_id)\n>>> os.environ['EARNED_POINTS'] = str(earned_points)\n",
                  "failure_message": "plot_3d_shape does not apply custom title correctly.",
                  "hidden": false,
                  "locked": false,
                  "points": 1,
                  "success_message": "Success: plot_3d_shape correctly applies custom title."
                },
                {
                  "code": ">>> from pykubegrader.telemetry import ensure_responses, log_variable, score_question, submit_question, telemetry, update_responses\n>>> import os\n>>> import base64\n>>> import matplotlib\n>>> import matplotlib\n>>> matplotlib.use('Agg')\n>>> out = plt.ioff()\n>>> import numpy as np\n>>> import matplotlib.pyplot as plt\n>>> import matplotlib.collections as mcoll\n>>> question_id = 'plotting-3d-shape-8'\n>>> max_score = 2.0\n>>> score = 0\n>>> single_point = np.array([[3, 4, 5]])\n>>> fig, ax = plot_3d_shape(single_point)\n>>> condition1 = len(ax.get_lines()) == 1\n>>> assert condition1, 'Test Case Failed: Single point plot should have one line (self-connected).'\n>>> condition2 = any((isinstance(child, mcoll.PathCollection) for child in ax.get_children()))\n>>> assert condition2, 'Test Case Failed: Single point centroid should be plotted.'\n>>> out = plt.ion()\n>>> if condition1 and condition2:\n...     score = 2.0\n>>> earned_points = float(os.environ.get('EARNED_POINTS', 0))\n>>> earned_points += score\n>>> log_variable('1_practicefinal_q', f'{score}, {max_score}', question_id)\n>>> os.environ['EARNED_POINTS'] = str(earned_points)\n",
                  "failure_message": "plot_3d_shape does not handle a single point correctly.",
                  "hidden": false,
                  "locked": false,
                  "points": 2,
                  "success_message": "Success: plot_3d_shape correctly handles a single point."
                }
              ],
              "scored": true,
              "setup": "",
              "teardown": "",
              "type": "doctest"
            }
          ]
        },
        "sudoku_solver": {
          "name": "sudoku_solver",
          "points": null,
          "suites": [
            {
              "cases": [
                {
                  "code": ">>> from pykubegrader.telemetry import ensure_responses, log_variable, score_question, submit_question, telemetry, update_responses\n>>> import os\n>>> import base64\n>>> import matplotlib\n>>> import matplotlib\n>>> max_question_points = str(60.0)\n>>> earned_points = 0\n>>> os.environ['EARNED_POINTS'] = str(earned_points)\n>>> os.environ['TOTAL_POINTS_FREE_RESPONSE'] = str(376.0)\n>>> log_variable('total-points', f'week10-practicefinal, 1_practicefinal_q', 376.0)\n>>> question_id = 'sudoku_solver-1'\n>>> max_score = 2.0\n>>> score = 0\n>>> matplotlib.use('Agg')\n>>> solver = Solution()\n>>> board1 = [['5', '3', '.', '.', '7', '.', '.', '.', '.'], ['6', '.', '.', '1', '9', '5', '.', '.', '.'], ['.', '9', '8', '.', '.', '.', '.', '6', '.'], ['8', '.', '.', '.', '6', '.', '.', '.', '3'], ['4', '.', '.', '8', '.', '3', '.', '.', '1'], ['7', '.', '.', '.', '2', '.', '.', '.', '6'], ['.', '6', '.', '.', '.', '.', '2', '8', '.'], ['.', '.', '.', '4', '1', '9', '.', '.', '5'], ['.', '.', '.', '.', '8', '.', '.', '7', '9']]\n>>> solver.solveSudoku(board1)\n>>> condition = board1 == [['5', '3', '4', '6', '7', '8', '9', '1', '2'], ['6', '7', '2', '1', '9', '5', '3', '4', '8'], ['1', '9', '8', '3', '4', '2', '5', '6', '7'], ['8', '5', '9', '7', '6', '1', '4', '2', '3'], ['4', '2', '6', '8', '5', '3', '7', '9', '1'], ['7', '1', '3', '9', '2', '4', '8', '5', '6'], ['9', '6', '1', '5', '3', '7', '2', '8', '4'], ['2', '8', '7', '4', '1', '9', '6', '3', '5'], ['3', '4', '5', '2', '8', '6', '1', '7', '9']]\n>>> assert condition, 'Test Case 1 Failed'\n>>> if condition:\n...     score = 2.0\n>>> earned_points = float(os.environ.get('EARNED_POINTS', 0))\n>>> earned_points += score\n>>> log_variable('1_practicefinal_q', f'{score}, {max_score}', question_id)\n>>> os.environ['EARNED_POINTS'] = str(earned_points)\n",
                  "failure_message": "Error: The function did not solve the Sudoku puzzle correctly.",
                  "hidden": false,
                  "locked": false,
                  "points": 2,
                  "success_message": "Success: The function correctly solved the Sudoku puzzle."
                },
                {
                  "code": ">>> from pykubegrader.telemetry import ensure_responses, log_variable, score_question, submit_question, telemetry, update_responses\n>>> import os\n>>> import base64\n>>> import matplotlib\n>>> import matplotlib\n>>> question_id = 'sudoku_solver-2'\n>>> max_score = 2.0\n>>> score = 0\n>>> matplotlib.use('Agg')\n>>> solver = Solution()\n>>> board2 = [['5', '3', '4', '6', '7', '8', '9', '1', '2'], ['6', '7', '2', '1', '9', '5', '3', '4', '8'], ['1', '9', '8', '3', '4', '2', '5', '6', '7'], ['8', '5', '9', '7', '6', '1', '4', '2', '3'], ['4', '2', '6', '8', '5', '3', '7', '9', '1'], ['7', '1', '3', '9', '.', '4', '8', '5', '6'], ['9', '6', '1', '5', '3', '7', '2', '8', '4'], ['2', '8', '7', '4', '1', '9', '6', '3', '5'], ['3', '4', '5', '2', '8', '6', '1', '7', '9']]\n>>> solver.solveSudoku(board2)\n>>> condition = board2 == [['5', '3', '4', '6', '7', '8', '9', '1', '2'], ['6', '7', '2', '1', '9', '5', '3', '4', '8'], ['1', '9', '8', '3', '4', '2', '5', '6', '7'], ['8', '5', '9', '7', '6', '1', '4', '2', '3'], ['4', '2', '6', '8', '5', '3', '7', '9', '1'], ['7', '1', '3', '9', '2', '4', '8', '5', '6'], ['9', '6', '1', '5', '3', '7', '2', '8', '4'], ['2', '8', '7', '4', '1', '9', '6', '3', '5'], ['3', '4', '5', '2', '8', '6', '1', '7', '9']]\n>>> assert condition, 'Test Case 2 Failed'\n>>> if condition:\n...     score = 2.0\n>>> earned_points = float(os.environ.get('EARNED_POINTS', 0))\n>>> earned_points += score\n>>> log_variable('1_practicefinal_q', f'{score}, {max_score}', question_id)\n>>> os.environ['EARNED_POINTS'] = str(earned_points)\n",
                  "failure_message": "Error: The function did not solve the Sudoku puzzle correctly.",
                  "hidden": false,
                  "locked": false,
                  "points": 2,
                  "success_message": "Success: The function correctly solved the Sudoku puzzle."
                },
                {
                  "code": ">>> from pykubegrader.telemetry import ensure_responses, log_variable, score_question, submit_question, telemetry, update_responses\n>>> import os\n>>> import base64\n>>> import matplotlib\n>>> import matplotlib\n>>> question_id = 'sudoku_solver-3'\n>>> max_score = 2.0\n>>> score = 0\n>>> matplotlib.use('Agg')\n>>> solver = Solution()\n>>> board_easy_4 = [['.', '.', '.', '2', '6', '.', '7', '.', '1'], ['6', '8', '.', '.', '7', '.', '.', '9', '.'], ['1', '9', '.', '.', '.', '4', '5', '.', '.'], ['8', '2', '.', '1', '.', '.', '.', '4', '.'], ['.', '.', '4', '6', '.', '2', '9', '.', '.'], ['.', '5', '.', '.', '.', '3', '.', '2', '8'], ['.', '.', '9', '3', '.', '.', '.', '7', '4'], ['.', '4', '.', '.', '5', '.', '.', '3', '6'], ['7', '.', '3', '.', '1', '8', '.', '.', '.']]\n>>> solver.solveSudoku(board_easy_4)\n>>> condition = board_easy_4 == [['4', '3', '5', '2', '6', '9', '7', '8', '1'], ['6', '8', '2', '5', '7', '1', '4', '9', '3'], ['1', '9', '7', '8', '3', '4', '5', '6', '2'], ['8', '2', '6', '1', '9', '5', '3', '4', '7'], ['3', '7', '4', '6', '8', '2', '9', '1', '5'], ['9', '5', '1', '7', '4', '3', '6', '2', '8'], ['5', '1', '9', '3', '2', '6', '8', '7', '4'], ['2', '4', '8', '9', '5', '7', '1', '3', '6'], ['7', '6', '3', '4', '1', '8', '2', '5', '9']]\n>>> assert condition, 'Test Case 3 Failed'\n>>> if condition:\n...     score = 2.0\n>>> earned_points = float(os.environ.get('EARNED_POINTS', 0))\n>>> earned_points += score\n>>> log_variable('1_practicefinal_q', f'{score}, {max_score}', question_id)\n>>> os.environ['EARNED_POINTS'] = str(earned_points)\n",
                  "failure_message": "Error: The function did not solve the Sudoku puzzle correctly.",
                  "hidden": false,
                  "locked": false,
                  "points": 2,
                  "success_message": "Success: The function correctly solved the Sudoku puzzle."
                },
                {
                  "code": ">>> from pykubegrader.telemetry import ensure_responses, log_variable, score_question, submit_question, telemetry, update_responses\n>>> import os\n>>> import base64\n>>> import matplotlib\n>>> import matplotlib\n>>> question_id = 'sudoku_solver-4'\n>>> max_score = 2.0\n>>> score = 0\n>>> matplotlib.use('Agg')\n>>> solver = Solution()\n>>> board_easy_5 = [['1', '.', '.', '.', '4', '8', '.', '.', '.'], ['.', '.', '.', '.', '.', '.', '.', '.', '.'], ['.', '.', '.', '3', '.', '.', '.', '.', '.'], ['5', '.', '.', '.', '.', '.', '.', '9', '.'], ['.', '.', '.', '.', '2', '.', '.', '.', '.'], ['.', '4', '.', '.', '.', '.', '.', '.', '7'], ['.', '.', '.', '.', '.', '6', '.', '.', '.'], ['.', '.', '.', '.', '.', '.', '.', '.', '.'], ['.', '.', '.', '7', '1', '.', '.', '.', '4']]\n>>> solver.solveSudoku(board_easy_5)\n>>> condition = board_easy_5 == [['1', '2', '3', '5', '4', '8', '6', '7', '9'], ['4', '5', '6', '1', '7', '9', '2', '3', '8'], ['7', '8', '9', '3', '6', '2', '1', '4', '5'], ['5', '1', '2', '4', '3', '7', '8', '9', '6'], ['6', '9', '7', '8', '2', '5', '4', '1', '3'], ['3', '4', '8', '6', '9', '1', '5', '2', '7'], ['9', '3', '4', '2', '8', '6', '7', '5', '1'], ['8', '7', '1', '9', '5', '4', '3', '6', '2'], ['2', '6', '5', '7', '1', '3', '9', '8', '4']]\n>>> assert condition, 'Test Case 4 Failed'\n>>> if condition:\n...     score = 2.0\n>>> earned_points = float(os.environ.get('EARNED_POINTS', 0))\n>>> earned_points += score\n>>> log_variable('1_practicefinal_q', f'{score}, {max_score}', question_id)\n>>> os.environ['EARNED_POINTS'] = str(earned_points)\n",
                  "failure_message": "Error: The function did not solve the Sudoku puzzle correctly.",
                  "hidden": false,
                  "locked": false,
                  "points": 2,
                  "success_message": "Success: The function correctly solved the Sudoku puzzle."
                },
                {
                  "code": ">>> from pykubegrader.telemetry import ensure_responses, log_variable, score_question, submit_question, telemetry, update_responses\n>>> import os\n>>> import base64\n>>> import matplotlib\n>>> import matplotlib\n>>> question_id = 'sudoku_solver-5'\n>>> max_score = 2.0\n>>> score = 0\n>>> matplotlib.use('Agg')\n>>> solver = Solution()\n>>> board6 = [['.', '.', '.', '2', '6', '.', '7', '.', '1'], ['6', '8', '.', '.', '7', '.', '.', '9', '.'], ['1', '9', '.', '.', '.', '4', '5', '.', '.'], ['8', '2', '.', '1', '.', '.', '.', '4', '.'], ['.', '.', '4', '6', '.', '2', '9', '.', '.'], ['.', '5', '.', '.', '.', '3', '.', '2', '8'], ['.', '.', '9', '3', '.', '.', '.', '7', '4'], ['.', '4', '.', '.', '5', '.', '.', '3', '6'], ['7', '.', '3', '.', '1', '8', '.', '.', '.']]\n>>> solver.solveSudoku(board6)\n>>> condition = board6 == [['4', '3', '5', '2', '6', '9', '7', '8', '1'], ['6', '8', '2', '5', '7', '1', '4', '9', '3'], ['1', '9', '7', '8', '3', '4', '5', '6', '2'], ['8', '2', '6', '1', '9', '5', '3', '4', '7'], ['3', '7', '4', '6', '8', '2', '9', '1', '5'], ['9', '5', '1', '7', '4', '3', '6', '2', '8'], ['5', '1', '9', '3', '2', '6', '8', '7', '4'], ['2', '4', '8', '9', '5', '7', '1', '3', '6'], ['7', '6', '3', '4', '1', '8', '2', '5', '9']]\n>>> assert condition, 'Test Case 5 Failed'\n>>> if condition:\n...     score = 2.0\n>>> earned_points = float(os.environ.get('EARNED_POINTS', 0))\n>>> earned_points += score\n>>> log_variable('1_practicefinal_q', f'{score}, {max_score}', question_id)\n>>> os.environ['EARNED_POINTS'] = str(earned_points)\n",
                  "failure_message": "Error: The function did not solve the Sudoku puzzle correctly.",
                  "hidden": false,
                  "locked": false,
                  "points": 2,
                  "success_message": "Success: The function correctly solved the Sudoku puzzle."
                },
                {
                  "code": ">>> from pykubegrader.telemetry import ensure_responses, log_variable, score_question, submit_question, telemetry, update_responses\n>>> import os\n>>> import base64\n>>> import matplotlib\n>>> import matplotlib\n>>> question_id = 'sudoku_solver-6'\n>>> max_score = 3.0\n>>> score = 0\n>>> matplotlib.use('Agg')\n>>> solver = Solution()\n>>> board_medium_1 = [['.', '.', '5', '3', '.', '.', '.', '.', '.'], ['8', '.', '.', '.', '.', '.', '.', '2', '.'], ['.', '7', '.', '.', '1', '.', '5', '.', '.'], ['4', '.', '.', '.', '.', '5', '3', '.', '.'], ['.', '1', '.', '.', '7', '.', '.', '.', '6'], ['.', '.', '3', '2', '.', '.', '.', '8', '.'], ['.', '6', '.', '5', '.', '.', '.', '.', '9'], ['.', '.', '4', '.', '.', '.', '.', '3', '.'], ['.', '.', '.', '.', '.', '9', '7', '.', '.']]\n>>> solver.solveSudoku(board_medium_1)\n>>> condition = board_medium_1 == [['1', '4', '5', '3', '2', '7', '6', '9', '8'], ['8', '3', '9', '6', '5', '4', '1', '2', '7'], ['6', '7', '2', '9', '1', '8', '5', '4', '3'], ['4', '9', '6', '1', '8', '5', '3', '7', '2'], ['2', '1', '8', '4', '7', '3', '9', '5', '6'], ['7', '5', '3', '2', '9', '6', '4', '8', '1'], ['3', '6', '7', '5', '4', '2', '8', '1', '9'], ['9', '8', '4', '7', '6', '1', '2', '3', '5'], ['5', '2', '1', '8', '3', '9', '7', '6', '4']]\n>>> assert condition, 'Test Case 6 Failed'\n>>> if condition:\n...     score = 3.0\n>>> earned_points = float(os.environ.get('EARNED_POINTS', 0))\n>>> earned_points += score\n>>> log_variable('1_practicefinal_q', f'{score}, {max_score}', question_id)\n>>> os.environ['EARNED_POINTS'] = str(earned_points)\n",
                  "failure_message": "Error: The function did not solve the Sudoku puzzle correctly.",
                  "hidden": false,
                  "locked": false,
                  "points": 3,
                  "success_message": "Success: The function correctly solved the Sudoku puzzle."
                },
                {
                  "code": ">>> from pykubegrader.telemetry import ensure_responses, log_variable, score_question, submit_question, telemetry, update_responses\n>>> import os\n>>> import base64\n>>> import matplotlib\n>>> import matplotlib\n>>> question_id = 'sudoku_solver-7'\n>>> max_score = 3.0\n>>> score = 0\n>>> matplotlib.use('Agg')\n>>> solver = Solution()\n>>> board_medium_3 = [['.', '2', '.', '.', '.', '.', '.', '.', '.'], ['.', '.', '.', '6', '.', '.', '.', '.', '3'], ['.', '7', '4', '.', '8', '.', '.', '.', '.'], ['.', '.', '.', '.', '.', '3', '.', '.', '2'], ['6', '.', '.', '.', '.', '.', '.', '.', '.'], ['.', '.', '.', '.', '.', '.', '.', '.', '.'], ['.', '.', '.', '.', '.', '.', '.', '4', '.'], ['1', '.', '.', '.', '.', '.', '5', '.', '.'], ['.', '.', '.', '.', '.', '.', '.', '.', '9']]\n>>> solver.solveSudoku(board_medium_3)\n>>> condition = board_medium_3 == [['3', '2', '6', '1', '4', '5', '7', '9', '8'], ['5', '1', '8', '6', '7', '9', '4', '2', '3'], ['9', '7', '4', '3', '8', '2', '1', '5', '6'], ['4', '5', '1', '7', '6', '3', '9', '8', '2'], ['6', '8', '2', '4', '9', '1', '3', '7', '5'], ['7', '3', '9', '2', '5', '8', '6', '1', '4'], ['2', '6', '5', '9', '3', '7', '8', '4', '1'], ['1', '9', '3', '8', '2', '4', '5', '6', '7'], ['8', '4', '7', '5', '1', '6', '2', '3', '9']]\n>>> assert condition, 'Test Case 7 Failed'\n>>> if condition:\n...     score = 3.0\n>>> earned_points = float(os.environ.get('EARNED_POINTS', 0))\n>>> earned_points += score\n>>> log_variable('1_practicefinal_q', f'{score}, {max_score}', question_id)\n>>> os.environ['EARNED_POINTS'] = str(earned_points)\n",
                  "failure_message": "Error: The function did not solve the Sudoku puzzle correctly.",
                  "hidden": false,
                  "locked": false,
                  "points": 3,
                  "success_message": "Success: The function correctly solved the Sudoku puzzle."
                },
                {
                  "code": ">>> from pykubegrader.telemetry import ensure_responses, log_variable, score_question, submit_question, telemetry, update_responses\n>>> import os\n>>> import base64\n>>> import matplotlib\n>>> import matplotlib\n>>> question_id = 'sudoku_solver-8'\n>>> max_score = 3.0\n>>> score = 0\n>>> matplotlib.use('Agg')\n>>> solver = Solution()\n>>> board_medium_4 = [['.', '.', '.', '.', '.', '7', '.', '.', '.'], ['.', '.', '.', '.', '9', '6', '.', '.', '.'], ['6', '.', '.', '.', '.', '.', '.', '.', '.'], ['.', '.', '.', '.', '5', '.', '.', '.', '.'], ['.', '.', '.', '7', '.', '1', '.', '.', '.'], ['.', '.', '.', '.', '.', '.', '.', '.', '3'], ['.', '.', '.', '.', '.', '.', '.', '.', '9'], ['.', '.', '.', '.', '8', '.', '.', '.', '.'], ['.', '.', '.', '.', '.', '.', '.', '6', '.']]\n>>> solver.solveSudoku(board_medium_4)\n>>> condition = board_medium_4 == [['1', '2', '3', '5', '4', '7', '6', '9', '8'], ['4', '5', '7', '8', '9', '6', '1', '3', '2'], ['6', '8', '9', '1', '2', '3', '4', '5', '7'], ['2', '3', '1', '4', '5', '8', '9', '7', '6'], ['5', '9', '6', '7', '3', '1', '2', '8', '4'], ['7', '4', '8', '2', '6', '9', '5', '1', '3'], ['3', '1', '2', '6', '7', '5', '8', '4', '9'], ['9', '6', '5', '3', '8', '4', '7', '2', '1'], ['8', '7', '4', '9', '1', '2', '3', '6', '5']]\n>>> assert condition, 'Test Case 8 Failed'\n>>> if condition:\n...     score = 3.0\n>>> earned_points = float(os.environ.get('EARNED_POINTS', 0))\n>>> earned_points += score\n>>> log_variable('1_practicefinal_q', f'{score}, {max_score}', question_id)\n>>> os.environ['EARNED_POINTS'] = str(earned_points)\n",
                  "failure_message": "Error: The function did not solve the Sudoku puzzle correctly.",
                  "hidden": false,
                  "locked": false,
                  "points": 3,
                  "success_message": "Success: The function correctly solved the Sudoku puzzle."
                },
                {
                  "code": ">>> from pykubegrader.telemetry import ensure_responses, log_variable, score_question, submit_question, telemetry, update_responses\n>>> import os\n>>> import base64\n>>> import matplotlib\n>>> import matplotlib\n>>> question_id = 'sudoku_solver-9'\n>>> max_score = 3.0\n>>> score = 0\n>>> matplotlib.use('Agg')\n>>> solver = Solution()\n>>> board_medium_5 = [['.', '.', '.', '2', '6', '.', '7', '.', '1'], ['6', '8', '.', '.', '7', '.', '.', '9', '.'], ['1', '9', '.', '.', '.', '4', '5', '.', '.'], ['8', '2', '.', '1', '.', '.', '.', '4', '.'], ['.', '.', '4', '6', '.', '2', '9', '.', '.'], ['.', '5', '.', '.', '.', '3', '.', '2', '8'], ['.', '.', '9', '3', '.', '.', '.', '7', '4'], ['.', '4', '.', '.', '5', '.', '.', '3', '6'], ['7', '.', '3', '.', '1', '8', '.', '.', '.']]\n>>> solver.solveSudoku(board_medium_5)\n>>> condition = board_medium_5 == [['4', '3', '5', '2', '6', '9', '7', '8', '1'], ['6', '8', '2', '5', '7', '1', '4', '9', '3'], ['1', '9', '7', '8', '3', '4', '5', '6', '2'], ['8', '2', '6', '1', '9', '5', '3', '4', '7'], ['3', '7', '4', '6', '8', '2', '9', '1', '5'], ['9', '5', '1', '7', '4', '3', '6', '2', '8'], ['5', '1', '9', '3', '2', '6', '8', '7', '4'], ['2', '4', '8', '9', '5', '7', '1', '3', '6'], ['7', '6', '3', '4', '1', '8', '2', '5', '9']]\n>>> assert condition, 'Test Case 9 Failed'\n>>> if condition:\n...     score = 3.0\n>>> earned_points = float(os.environ.get('EARNED_POINTS', 0))\n>>> earned_points += score\n>>> log_variable('1_practicefinal_q', f'{score}, {max_score}', question_id)\n>>> os.environ['EARNED_POINTS'] = str(earned_points)\n",
                  "failure_message": "Error: The function did not solve the Sudoku puzzle correctly.",
                  "hidden": false,
                  "locked": false,
                  "points": 3,
                  "success_message": "Success: The function correctly solved the Sudoku puzzle."
                },
                {
                  "code": ">>> from pykubegrader.telemetry import ensure_responses, log_variable, score_question, submit_question, telemetry, update_responses\n>>> import os\n>>> import base64\n>>> import matplotlib\n>>> import matplotlib\n>>> question_id = 'sudoku_solver-10'\n>>> max_score = 5.0\n>>> score = 0\n>>> matplotlib.use('Agg')\n>>> solver = Solution()\n>>> board_difficult_1 = [['.', '.', '9', '7', '4', '8', '.', '.', '.'], ['7', '.', '.', '.', '.', '.', '.', '.', '.'], ['.', '2', '.', '1', '.', '9', '.', '.', '.'], ['.', '.', '7', '.', '.', '.', '2', '4', '.'], ['.', '6', '4', '.', '1', '.', '5', '9', '.'], ['.', '9', '8', '.', '.', '.', '3', '.', '.'], ['.', '.', '.', '8', '.', '3', '.', '2', '.'], ['.', '.', '.', '.', '.', '.', '.', '.', '6'], ['.', '.', '.', '2', '7', '5', '9', '.', '.']]\n>>> solver.solveSudoku(board_difficult_1)\n>>> condition = board_difficult_1 == [['5', '1', '9', '7', '4', '8', '6', '3', '2'], ['7', '8', '3', '6', '5', '2', '4', '1', '9'], ['4', '2', '6', '1', '3', '9', '8', '7', '5'], ['3', '5', '7', '9', '8', '6', '2', '4', '1'], ['2', '6', '4', '3', '1', '7', '5', '9', '8'], ['1', '9', '8', '5', '2', '4', '3', '6', '7'], ['9', '7', '5', '8', '6', '3', '1', '2', '4'], ['8', '3', '2', '4', '9', '1', '7', '5', '6'], ['6', '4', '1', '2', '7', '5', '9', '8', '3']]\n>>> assert condition, 'Test Case 10 Failed'\n>>> if condition:\n...     score = 5.0\n>>> earned_points = float(os.environ.get('EARNED_POINTS', 0))\n>>> earned_points += score\n>>> log_variable('1_practicefinal_q', f'{score}, {max_score}', question_id)\n>>> os.environ['EARNED_POINTS'] = str(earned_points)\n",
                  "failure_message": "Error: The function did not solve the Sudoku puzzle correctly.",
                  "hidden": false,
                  "locked": false,
                  "points": 5,
                  "success_message": "Success: The function correctly solved the Sudoku puzzle."
                },
                {
                  "code": ">>> from pykubegrader.telemetry import ensure_responses, log_variable, score_question, submit_question, telemetry, update_responses\n>>> import os\n>>> import base64\n>>> import matplotlib\n>>> import matplotlib\n>>> question_id = 'sudoku_solver-11'\n>>> max_score = 6.0\n>>> score = 0\n>>> matplotlib.use('Agg')\n>>> solver = Solution()\n>>> board_difficult_2 = [['.', '.', '5', '3', '.', '.', '.', '.', '.'], ['8', '.', '.', '.', '.', '.', '.', '2', '.'], ['.', '7', '.', '.', '1', '.', '5', '.', '.'], ['4', '.', '.', '.', '.', '5', '3', '.', '.'], ['.', '1', '.', '.', '7', '.', '.', '.', '6'], ['.', '.', '3', '2', '.', '.', '.', '8', '.'], ['.', '6', '.', '5', '.', '.', '.', '.', '9'], ['.', '.', '4', '.', '.', '.', '.', '3', '.'], ['.', '.', '.', '.', '.', '9', '7', '.', '.']]\n>>> solver.solveSudoku(board_difficult_2)\n>>> condition = board_difficult_2 == [['1', '4', '5', '3', '2', '7', '6', '9', '8'], ['8', '3', '9', '6', '5', '4', '1', '2', '7'], ['6', '7', '2', '9', '1', '8', '5', '4', '3'], ['4', '9', '6', '1', '8', '5', '3', '7', '2'], ['2', '1', '8', '4', '7', '3', '9', '5', '6'], ['7', '5', '3', '2', '9', '6', '4', '8', '1'], ['3', '6', '7', '5', '4', '2', '8', '1', '9'], ['9', '8', '4', '7', '6', '1', '2', '3', '5'], ['5', '2', '1', '8', '3', '9', '7', '6', '4']]\n>>> assert condition, 'Test Case 11 Failed'\n>>> if condition:\n...     score = 6.0\n>>> earned_points = float(os.environ.get('EARNED_POINTS', 0))\n>>> earned_points += score\n>>> log_variable('1_practicefinal_q', f'{score}, {max_score}', question_id)\n>>> os.environ['EARNED_POINTS'] = str(earned_points)\n",
                  "failure_message": "Error: The function did not solve the Sudoku puzzle correctly.",
                  "hidden": false,
                  "locked": false,
                  "points": 6,
                  "success_message": "Success: The function correctly solved the Sudoku puzzle."
                },
                {
                  "code": ">>> from pykubegrader.telemetry import ensure_responses, log_variable, score_question, submit_question, telemetry, update_responses\n>>> import os\n>>> import base64\n>>> import matplotlib\n>>> import matplotlib\n>>> question_id = 'sudoku_solver-12'\n>>> max_score = 6.0\n>>> score = 0\n>>> matplotlib.use('Agg')\n>>> solver = Solution()\n>>> board_difficult_3 = [['5', '3', '.', '.', '.', '.', '.', '.', '.'], ['.', '.', '.', '1', '.', '.', '.', '.', '.'], ['.', '.', '.', '.', '.', '.', '6', '.', '.'], ['.', '.', '.', '.', '.', '.', '.', '.', '3'], ['4', '.', '.', '.', '.', '.', '.', '.', '1'], ['.', '.', '.', '.', '.', '.', '.', '.', '6'], ['.', '6', '.', '.', '.', '.', '2', '.', '.'], ['.', '.', '.', '.', '.', '.', '.', '.', '5'], ['.', '.', '.', '.', '8', '.', '.', '.', '.']]\n>>> solver.solveSudoku(board_difficult_3)\n>>> condition = board_difficult_3 == [['5', '3', '1', '2', '4', '6', '7', '8', '9'], ['2', '7', '6', '1', '9', '8', '3', '5', '4'], ['8', '4', '9', '3', '5', '7', '6', '1', '2'], ['6', '1', '2', '4', '7', '5', '8', '9', '3'], ['4', '8', '3', '6', '2', '9', '5', '7', '1'], ['7', '9', '5', '8', '1', '3', '4', '2', '6'], ['9', '6', '7', '5', '3', '1', '2', '4', '8'], ['1', '2', '8', '7', '6', '4', '9', '3', '5'], ['3', '5', '4', '9', '8', '2', '1', '6', '7']]\n>>> assert condition, 'Test Case 12 Failed'\n>>> if condition:\n...     score = 6.0\n>>> earned_points = float(os.environ.get('EARNED_POINTS', 0))\n>>> earned_points += score\n>>> log_variable('1_practicefinal_q', f'{score}, {max_score}', question_id)\n>>> os.environ['EARNED_POINTS'] = str(earned_points)\n",
                  "failure_message": "Error: The function did not solve the Sudoku puzzle correctly.",
                  "hidden": false,
                  "locked": false,
                  "points": 6,
                  "success_message": "Success: The function correctly solved the Sudoku puzzle."
                },
                {
                  "code": ">>> from pykubegrader.telemetry import ensure_responses, log_variable, score_question, submit_question, telemetry, update_responses\n>>> import os\n>>> import base64\n>>> import matplotlib\n>>> import matplotlib\n>>> question_id = 'sudoku_solver-13'\n>>> max_score = 6.0\n>>> score = 0\n>>> matplotlib.use('Agg')\n>>> solver = Solution()\n>>> board_difficult_4 = [['.', '.', '.', '.', '.', '.', '.', '.', '.'], ['1', '.', '.', '.', '.', '.', '.', '.', '.'], ['.', '.', '.', '.', '.', '.', '.', '.', '.'], ['.', '.', '.', '.', '.', '.', '.', '.', '.'], ['.', '.', '.', '.', '.', '.', '.', '.', '.'], ['.', '.', '.', '.', '.', '.', '.', '.', '.'], ['.', '.', '.', '.', '.', '.', '.', '.', '.'], ['9', '.', '.', '.', '.', '.', '.', '.', '.'], ['.', '.', '.', '.', '.', '.', '.', '.', '.']]\n>>> solver.solveSudoku(board_difficult_4)\n>>> condition = board_difficult_4 == [['2', '3', '4', '1', '5', '6', '7', '8', '9'], ['1', '5', '6', '7', '8', '9', '2', '3', '4'], ['7', '8', '9', '2', '3', '4', '1', '5', '6'], ['3', '1', '2', '4', '6', '5', '8', '9', '7'], ['4', '6', '5', '8', '9', '7', '3', '1', '2'], ['8', '9', '7', '3', '1', '2', '4', '6', '5'], ['5', '2', '1', '6', '4', '3', '9', '7', '8'], ['9', '4', '3', '5', '7', '8', '6', '2', '1'], ['6', '7', '8', '9', '2', '1', '5', '4', '3']]\n>>> assert condition, 'Test Case 13 Failed'\n>>> if condition:\n...     score = 6.0\n>>> earned_points = float(os.environ.get('EARNED_POINTS', 0))\n>>> earned_points += score\n>>> log_variable('1_practicefinal_q', f'{score}, {max_score}', question_id)\n>>> os.environ['EARNED_POINTS'] = str(earned_points)\n",
                  "failure_message": "Error: The function did not solve the Sudoku puzzle correctly.",
                  "hidden": false,
                  "locked": false,
                  "points": 6,
                  "success_message": "Success: The function correctly solved the Sudoku puzzle."
                },
                {
                  "code": ">>> from pykubegrader.telemetry import ensure_responses, log_variable, score_question, submit_question, telemetry, update_responses\n>>> import os\n>>> import base64\n>>> import matplotlib\n>>> import matplotlib\n>>> question_id = 'sudoku_solver-14'\n>>> max_score = 6.0\n>>> score = 0\n>>> matplotlib.use('Agg')\n>>> solver = Solution()\n>>> board_valid = [['5', '3', '.', '.', '7', '.', '.', '.', '.'], ['6', '.', '.', '1', '9', '5', '.', '.', '.'], ['.', '9', '8', '.', '.', '.', '.', '6', '.'], ['8', '.', '.', '.', '6', '.', '.', '.', '3'], ['4', '.', '.', '8', '.', '3', '.', '.', '1'], ['7', '.', '.', '.', '2', '.', '.', '.', '6'], ['.', '6', '.', '.', '.', '.', '2', '8', '.'], ['.', '.', '.', '4', '1', '9', '.', '.', '5'], ['.', '.', '.', '.', '8', '.', '.', '7', '9']]\n>>> solver.solveSudoku(board_valid)\n>>> condition = all(('.' not in row for row in board_valid))\n>>> assert condition, 'Test Case 1 Failed: Board still contains empty spots'\n>>> if condition:\n...     score = 6.0\n>>> earned_points = float(os.environ.get('EARNED_POINTS', 0))\n>>> earned_points += score\n>>> log_variable('1_practicefinal_q', f'{score}, {max_score}', question_id)\n>>> os.environ['EARNED_POINTS'] = str(earned_points)\n",
                  "failure_message": "Error: The function failed to solve a valid Sudoku puzzle.",
                  "hidden": false,
                  "locked": false,
                  "points": 6,
                  "success_message": "Success: The function correctly solved a valid Sudoku puzzle."
                },
                {
                  "code": ">>> from pykubegrader.telemetry import ensure_responses, log_variable, score_question, submit_question, telemetry, update_responses\n>>> import os\n>>> import base64\n>>> import matplotlib\n>>> import matplotlib\n>>> question_id = 'sudoku_solver-15'\n>>> max_score = 5.0\n>>> score = 0\n>>> matplotlib.use('Agg')\n>>> solver = Solution()\n>>> board_unsolvable = [['5', '3', '.', '.', '7', '.', '.', '.', '.'], ['6', '.', '.', '1', '9', '5', '.', '.', '.'], ['.', '9', '8', '.', '.', '.', '.', '6', '.'], ['8', '.', '.', '.', '6', '.', '.', '.', '3'], ['4', '.', '.', '8', '.', '3', '.', '.', '1'], ['7', '.', '.', '.', '2', '.', '.', '.', '6'], ['.', '6', '.', '.', '.', '.', '2', '8', '.'], ['.', '.', '.', '4', '1', '9', '.', '.', '5'], ['.', '.', '.', '.', '8', '.', '.', '7', '8']]\n>>> solver.solveSudoku(board_unsolvable)\n>>> condition = any(('.' in row for row in board_unsolvable))\n>>> assert condition, 'Test Case 2 Failed: Solver incorrectly modified an unsolvable board'\n>>> if condition:\n...     score = 5.0\n>>> earned_points = float(os.environ.get('EARNED_POINTS', 0))\n>>> earned_points += score\n>>> log_variable('1_practicefinal_q', f'{score}, {max_score}', question_id)\n>>> os.environ['EARNED_POINTS'] = str(earned_points)\n",
                  "failure_message": "Error: The function failed to detect an unsolvable Sudoku puzzle.",
                  "hidden": false,
                  "locked": false,
                  "points": 5,
                  "success_message": "Success: The function correctly identified an unsolvable Sudoku puzzle."
                },
                {
                  "code": ">>> from pykubegrader.telemetry import ensure_responses, log_variable, score_question, submit_question, telemetry, update_responses\n>>> import os\n>>> import base64\n>>> import matplotlib\n>>> import matplotlib\n>>> question_id = 'sudoku_solver-16'\n>>> max_score = 4.0\n>>> score = 0\n>>> matplotlib.use('Agg')\n>>> solver = Solution()\n>>> board_solved = [['5', '3', '4', '6', '7', '8', '9', '1', '2'], ['6', '7', '2', '1', '9', '5', '3', '4', '8'], ['1', '9', '8', '3', '4', '2', '5', '6', '7'], ['8', '5', '9', '7', '6', '1', '4', '2', '3'], ['4', '2', '6', '8', '5', '3', '7', '9', '1'], ['7', '1', '3', '9', '2', '4', '8', '5', '6'], ['9', '6', '1', '5', '3', '7', '2', '8', '4'], ['2', '8', '7', '4', '1', '9', '6', '3', '5'], ['3', '4', '5', '2', '8', '6', '1', '7', '9']]\n>>> original_board = [row[:] for row in board_solved]\n>>> solver.solveSudoku(board_solved)\n>>> condition = board_solved == original_board\n>>> assert condition, 'Test Case 3 Failed: Function incorrectly modified an already solved board'\n>>> if condition:\n...     score = 4.0\n>>> earned_points = float(os.environ.get('EARNED_POINTS', 0))\n>>> earned_points += score\n>>> log_variable('1_practicefinal_q', f'{score}, {max_score}', question_id)\n>>> os.environ['EARNED_POINTS'] = str(earned_points)\n",
                  "failure_message": "Error: The function modified a correctly solved Sudoku puzzle.",
                  "hidden": false,
                  "locked": false,
                  "points": 4,
                  "success_message": "Success: The function correctly handled an already solved Sudoku puzzle."
                }
              ],
              "scored": true,
              "setup": "",
              "teardown": "",
              "type": "doctest"
            }
          ]
        },
        "update-function": {
          "name": "update-function",
          "points": null,
          "suites": [
            {
              "cases": [
                {
                  "code": ">>> from pykubegrader.telemetry import ensure_responses, log_variable, score_question, submit_question, telemetry, update_responses\n>>> import os\n>>> import base64\n>>> import matplotlib\n>>> import matplotlib\n>>> matplotlib.use('Agg')\n>>> import numpy as np\n>>> import matplotlib.pyplot as plt\n>>> max_question_points = str(18.0)\n>>> earned_points = 0\n>>> os.environ['EARNED_POINTS'] = str(earned_points)\n>>> os.environ['TOTAL_POINTS_FREE_RESPONSE'] = str(376.0)\n>>> log_variable('total-points', f'week10-practicefinal, 1_practicefinal_q', 376.0)\n>>> question_id = 'update-function-1'\n>>> max_score = 5.0\n>>> score = 0\n>>> x_vals = np.linspace(0, 1, 100)\n>>> y_vals = np.sin(2 * np.pi * x_vals)\n>>> out = plt.ioff()\n>>> fig, ax = plt.subplots()\n>>> line, = ax.plot([], [], lw=2)\n>>> test_frame = 50\n>>> out2 = update(test_frame, line, x_vals, y_vals)\n>>> out = plt.ion()\n>>> condition1 = np.all(line.get_xdata() == x_vals[:test_frame])\n>>> condition2 = np.all(line.get_ydata() == y_vals[:test_frame])\n>>> assert condition1, 'Test Case 1 Failed: X values did not update correctly.'\n>>> assert condition2, 'Test Case 1 Failed: Y values did not update correctly.'\n>>> if condition1 and condition2:\n...     score = 5.0\n>>> earned_points = float(os.environ.get('EARNED_POINTS', 0))\n>>> earned_points += score\n>>> log_variable('1_practicefinal_q', f'{score}, {max_score}', question_id)\n>>> os.environ['EARNED_POINTS'] = str(earned_points)\n",
                  "failure_message": "Error: The function did not correctly update the Peano curve.",
                  "hidden": false,
                  "locked": false,
                  "points": 5,
                  "success_message": "Success: The function correctly updates the Peano curve dynamically."
                },
                {
                  "code": ">>> from pykubegrader.telemetry import ensure_responses, log_variable, score_question, submit_question, telemetry, update_responses\n>>> import os\n>>> import base64\n>>> import matplotlib\n>>> import matplotlib\n>>> matplotlib.use('Agg')\n>>> import matplotlib.cm as cm\n>>> question_id = 'update-function-2'\n>>> max_score = 5.0\n>>> score = 0\n>>> x_vals = np.linspace(0, 1, 100)\n>>> y_vals = np.sin(2 * np.pi * x_vals)\n>>> out = plt.ioff()\n>>> fig, ax = plt.subplots()\n>>> line, = ax.plot([], [], lw=2)\n>>> test_frame = 75\n>>> out2 = update(test_frame, line, x_vals, y_vals)\n>>> expected_color = cm.viridis(test_frame / len(x_vals))\n>>> condition1 = line.get_color() == expected_color\n>>> assert condition1, 'Test Case 2 Failed: Line color did not update correctly.'\n>>> out = plt.ion()\n>>> if condition1:\n...     score = 5.0\n>>> earned_points = float(os.environ.get('EARNED_POINTS', 0))\n>>> earned_points += score\n>>> log_variable('1_practicefinal_q', f'{score}, {max_score}', question_id)\n>>> os.environ['EARNED_POINTS'] = str(earned_points)\n",
                  "failure_message": "Error: The function did not correctly update the Peano curve color.",
                  "hidden": false,
                  "locked": false,
                  "points": 5,
                  "success_message": "Success: The function correctly updates the Peano curve color dynamically."
                },
                {
                  "code": ">>> from pykubegrader.telemetry import ensure_responses, log_variable, score_question, submit_question, telemetry, update_responses\n>>> import os\n>>> import base64\n>>> import matplotlib\n>>> import matplotlib\n>>> question_id = 'update-function-3'\n>>> max_score = 3.0\n>>> score = 0\n>>> matplotlib.use('Agg')\n>>> x_vals = np.linspace(0, 1, 100)\n>>> y_vals = np.sin(2 * np.pi * x_vals)\n>>> out = plt.ioff()\n>>> fig, ax = plt.subplots()\n>>> line, = ax.plot([], [], lw=2)\n>>> try:\n...     out2 = update(-10, line, x_vals, y_vals)\n...     condition = False\n... except IndexError:\n...     condition = True\n... except Exception as e:\n...     condition = False\n>>> assert condition, 'Test Case 3 Failed: Function should not accept negative frame indices.'\n>>> if condition:\n...     score = 3.0\n>>> earned_points = float(os.environ.get('EARNED_POINTS', 0))\n>>> earned_points += score\n>>> log_variable('1_practicefinal_q', f'{score}, {max_score}', question_id)\n>>> os.environ['EARNED_POINTS'] = str(earned_points)\n",
                  "failure_message": "Error: The function did not properly handle a negative frame index.",
                  "hidden": false,
                  "locked": false,
                  "points": 3,
                  "success_message": "Success: The function correctly handled an invalid negative frame index."
                },
                {
                  "code": ">>> from pykubegrader.telemetry import ensure_responses, log_variable, score_question, submit_question, telemetry, update_responses\n>>> import os\n>>> import base64\n>>> import matplotlib\n>>> import matplotlib\n>>> question_id = 'update-function-4'\n>>> max_score = 3.0\n>>> score = 0\n>>> matplotlib.use('Agg')\n>>> x_vals = np.linspace(0, 1, 100)\n>>> y_vals = np.sin(2 * np.pi * x_vals)\n>>> out = plt.ioff()\n>>> fig, ax = plt.subplots()\n>>> line, = ax.plot([], [], lw=2)\n>>> try:\n...     out2 = update(len(x_vals) + 10, line, x_vals, y_vals)\n...     condition = False\n... except IndexError:\n...     condition = True\n... except Exception as e:\n...     condition = False\n>>> assert condition, 'Test Case 4 Failed: Function should not accept a frame index beyond the data range.'\n>>> if condition:\n...     score = 3.0\n>>> earned_points = float(os.environ.get('EARNED_POINTS', 0))\n>>> earned_points += score\n>>> log_variable('1_practicefinal_q', f'{score}, {max_score}', question_id)\n>>> os.environ['EARNED_POINTS'] = str(earned_points)\n",
                  "failure_message": "Error: The function did not properly handle an out-of-range frame index.",
                  "hidden": false,
                  "locked": false,
                  "points": 3,
                  "success_message": "Success: The function correctly handled an out-of-range frame index."
                },
                {
                  "code": ">>> from pykubegrader.telemetry import ensure_responses, log_variable, score_question, submit_question, telemetry, update_responses\n>>> import os\n>>> import base64\n>>> import matplotlib\n>>> import matplotlib\n>>> question_id = 'update-function-5'\n>>> max_score = 2.0\n>>> score = 0\n>>> matplotlib.use('Agg')\n>>> x_vals = (0, 1)\n>>> y_vals = (0, 1)\n>>> out = plt.ioff()\n>>> fig, ax = plt.subplots()\n>>> line, = ax.plot([], [], lw=2)\n>>> result = update(1, line, x_vals, y_vals)\n>>> condition = isinstance(result, tuple)\n>>> assert condition, 'Test Case 5 Failed: Function did not return a tuple.'\n>>> condition1 = len(result) == 1\n>>> condition2 = isinstance(result[0], plt.Line2D)\n>>> assert condition1, 'Test Case 5 Failed: Function returned an incorrect tuple.'\n>>> assert condition2, 'Test Case 5 Failed: Function returned an incorrect object type.'\n>>> if condition and condition1 and condition2:\n...     score = 2.0\n>>> earned_points = float(os.environ.get('EARNED_POINTS', 0))\n>>> earned_points += score\n>>> log_variable('1_practicefinal_q', f'{score}, {max_score}', question_id)\n>>> os.environ['EARNED_POINTS'] = str(earned_points)\n",
                  "failure_message": "Error: The function did not return a tuple.",
                  "hidden": false,
                  "locked": false,
                  "points": 2,
                  "success_message": "Success: The function correctly returned a tuple as expected."
                }
              ],
              "scored": true,
              "setup": "",
              "teardown": "",
              "type": "doctest"
            }
          ]
        }
      }
    }
  },
  "nbformat": 4,
  "nbformat_minor": 2
}