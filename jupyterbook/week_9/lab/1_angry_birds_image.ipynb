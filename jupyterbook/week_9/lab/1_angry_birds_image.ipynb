{
  "cells": [
    {
      "cell_type": "code",
      "execution_count": null,
      "metadata": {
        "deletable": false,
        "editable": false,
        "tags": [
          "skip-execution"
        ]
      },
      "outputs": [],
      "source": [
        "# You must make sure to run all cells in sequence using shift + enter or you might encounter errors\n",
        "from pykubegrader.initialize import initialize_assignment\n",
        "\n",
        "responses = initialize_assignment(\"1_angry_birds_image\", \"week_9\", \"lab\", assignment_points = 105.0, assignment_tag = 'week9-lab')\n",
        "\n",
        "# Initialize Otter\n",
        "import otter\n",
        "grader = otter.Notebook(\"1_angry_birds_image.ipynb\")"
      ]
    },
    {
      "cell_type": "markdown",
      "metadata": {
        "deletable": false,
        "editable": false
      },
      "source": [
        "# Angry Birds Come Back! \n",
        "\n",
        "In a previous assignment we learned how to shoot birds at pigs with unerring accuracy. Now we want to make the game even easier by using image processing to detect scene elements. This is much akin to any computer vision task in science, engineering, manufacturing and medicine. \n",
        "\n",
        "In this assignment, we will use image processing to detect the main structure of the scene, and then use that mask to isolate the different elements in the scene. \n",
        "\n",
        "We will walk you through the steps of the process. \n",
        "\n",
        "Note: You are now getting to be more of a pro at Python. While we do not expect you to know all the syntax off the top of your head, we do expect you to be able to do a little digging and figure out how to do what you need. "
      ]
    },
    {
      "cell_type": "markdown",
      "metadata": {
        "deletable": false,
        "editable": false
      },
      "source": [
        "## Importing packages"
      ]
    },
    {
      "cell_type": "code",
      "execution_count": null,
      "metadata": {
        "tags": [
          "otter_answer_cell",
          "skip-execution"
        ]
      },
      "outputs": [],
      "source": [
        "# We nede to import the following packages:\n",
        "# - numpy using common alias np\n",
        "# - matplotlib.pyplot using common alias plt\n",
        "# - from skimage -- io, color, filters, feature, morphology, measure, segmentation, label, regionprops, clear_border -- note some of these are sub-packages[]\n",
        "\n",
        "..."
      ]
    },
    {
      "cell_type": "code",
      "execution_count": null,
      "metadata": {
        "deletable": false,
        "editable": false,
        "tags": [
          "skip-execution"
        ]
      },
      "outputs": [],
      "source": [
        "grader.check(\"import_packages\")"
      ]
    },
    {
      "cell_type": "code",
      "execution_count": null,
      "metadata": {
        "tags": [
          "otter_answer_cell",
          "skip-execution"
        ]
      },
      "outputs": [],
      "source": [
        "# We need to load the image and convert it to grayscale, to load the image assign a variable to the image path, to the name of the image \"angry-bird.webp\"\n",
        "...\n",
        "# load the image using the io.imread function, assign the result to the variable image\n",
        "...\n",
        "\n",
        "# Convert to grayscale for edge detection\n",
        "# use the color.rgb2gray function to convert the image to grayscale, assign the result to the variable gray_image\n",
        "...\n",
        "\n",
        "# use the plt.subplots function to create a figure and a single axis, assign the result to the variables fig and ax\n",
        "...\n",
        "\n",
        "# use the ax.imshow function to display the image\n",
        "...\n",
        "# use the ax.set_title function to set the title of the image - set the title to \"Original Image\"\n",
        "...\n",
        "\n",
        "# use the ax.axis function to turn off the axis labels\n",
        "...\n",
        "\n",
        "# use the plt.show function to display the image\n",
        "..."
      ]
    },
    {
      "cell_type": "code",
      "execution_count": null,
      "metadata": {
        "deletable": false,
        "editable": false,
        "tags": [
          "skip-execution"
        ]
      },
      "outputs": [],
      "source": [
        "grader.check(\"load-and-visualize-image\")"
      ]
    },
    {
      "cell_type": "code",
      "execution_count": null,
      "metadata": {
        "tags": [
          "otter_answer_cell",
          "skip-execution"
        ]
      },
      "outputs": [],
      "source": [
        "# Apply Canny edge detector to detect edges in the grayscale image\n",
        "# use the feature.canny function to detect the edges in the image, assign the result to the variable edges\n",
        "# set the sigma to 2.0\n",
        "...\n",
        "# wow I guess I lied when I said we could do this in just a few lines! it is 1 line!\n",
        "\n",
        "# Visualize the edges\n",
        "# use the plt.subplots function to create a figure with 2 subplots, assign the result to the variables fig and ax\n",
        "# the figures should be 10 inches wide and 5 inches tall\n",
        "# the first subplot should display the grayscale image\n",
        "# the second subplot should display the edges\n",
        "# you want the figures layed out in a row with 2 columns\n",
        "...\n",
        "\n",
        "# use the ax.imshow function to display the grayscale image in the first subplot -- hint you need to use indexing to get the first subplot\n",
        "# set the colormap to \"gray\"\n",
        "...\n",
        "\n",
        "# use the ax.set_title function to set the title of the image - set the title to \"Grayscale Image\"\n",
        "...\n",
        "\n",
        "# use the ax.axis function to turn off the axis labels\n",
        "...\n",
        "# use the ax.imshow function to display the edges in the second subplot -- hint you need to use indexing to get the second subplot\n",
        "# set the colormap to \"gray\"\n",
        "...\n",
        "\n",
        "# use the ax.set_title function to set the title of the image - set the title to \"Edges Detected (Canny)\"\n",
        "...\n",
        "\n",
        "# use the ax.axis function to turn off the axis labels\n",
        "...\n",
        "\n",
        "# use the plt.show function to display the image\n",
        "..."
      ]
    },
    {
      "cell_type": "code",
      "execution_count": null,
      "metadata": {
        "deletable": false,
        "editable": false,
        "tags": [
          "skip-execution"
        ]
      },
      "outputs": [],
      "source": [
        "grader.check(\"edge-detection\")"
      ]
    },
    {
      "cell_type": "code",
      "execution_count": null,
      "metadata": {
        "tags": [
          "otter_answer_cell",
          "skip-execution"
        ]
      },
      "outputs": [],
      "source": [
        "# Dilate the edges to connect broken fragments\n",
        "# use the morphology.dilation function to dilate the edges, assign the result to the variable dilated_edges\n",
        "# use the morphology.disk function to create a disk-shaped structuring element with a radius of 3\n",
        "...\n",
        "\n",
        "# Fill holes inside the detected edges to create a solid mask\n",
        "# use the morphology.remove_small_holes function to fill the holes in the edges, assign the result to the variable filled_mask, a threshold of 5000 is used\n",
        "...\n",
        "\n",
        "# use the morphology.remove_small_objects function to remove the small objects in the mask, assign the result to the variable filled_mask, a minimum size of 60000 is used\n",
        "...\n",
        "\n",
        "# use the plt.subplots function to create a figure with 1 subplot, assign the result to the variables fig and ax\n",
        "# the figure should be 6 inches wide and 4 inches tall\n",
        "...\n",
        "\n",
        "# use the ax.imshow function to display the filled mask\n",
        "...\n",
        "\n",
        "# use the ax.set_title function to set the title of the image - set the title to \"Filled Mask\"\n",
        "...\n",
        "\n",
        "# use the ax.axis function to turn off the axis labels\n",
        "...\n",
        "# use the plt.show function to display the image\n",
        "..."
      ]
    },
    {
      "cell_type": "code",
      "execution_count": null,
      "metadata": {
        "deletable": false,
        "editable": false,
        "tags": [
          "skip-execution"
        ]
      },
      "outputs": [],
      "source": [
        "grader.check(\"refinement-dilation-and-hole-filling\")"
      ]
    },
    {
      "cell_type": "code",
      "execution_count": null,
      "metadata": {
        "tags": [
          "otter_answer_cell",
          "skip-execution"
        ]
      },
      "outputs": [],
      "source": [
        "\n",
        "# use the image.copy function to create a copy of the image, assign the result to the variable structure_only\n",
        "...\n",
        "\n",
        "# use the ~ operator to invert the mask, assign the result to the variable inverted_mask\n",
        "...\n",
        "\n",
        "# use the structure_only variable to set the background to white, assign the result to the variable structure_only\n",
        "...\n",
        "\n",
        "# use the plt.subplots function to create a figure with 1 subplot, assign the result to the variables fig and ax\n",
        "# the figure should be 6 inches wide and 4 inches tall\n",
        "...\n",
        "\n",
        "# use the ax.imshow function to display the structure_only image\n",
        "...\n",
        "\n",
        "# use the ax.set_title function to set the title of the image - set the title to \"Main Structure Isolated\"\n",
        "...\n",
        "# use the ax.axis function to turn off the axis labels\n",
        "...\n",
        "# use the plt.show function to display the image\n",
        "..."
      ]
    },
    {
      "cell_type": "code",
      "execution_count": null,
      "metadata": {
        "deletable": false,
        "editable": false,
        "tags": [
          "skip-execution"
        ]
      },
      "outputs": [],
      "source": [
        "grader.check(\"isolate-main-structure\")"
      ]
    },
    {
      "cell_type": "code",
      "execution_count": null,
      "metadata": {
        "tags": [
          "otter_answer_cell",
          "skip-execution"
        ]
      },
      "outputs": [],
      "source": [
        "# Build the base class for the image processor called ImageProcessor\n",
        "...\n",
        "    # initialize the image processor class with the image to analyze\n",
        "    ...\n",
        "    \n",
        "        # assign the image to the image attribute\n",
        "        ...\n",
        "        \n",
        "        # convert the image to HSV color space, assign the result to the hsv_image attribute\n",
        "        ...\n",
        "        \n",
        "        # convert the image to grayscale, assign the result to the gray_image attribute\n",
        "        ...\n",
        "        \n",
        "        # create an empty dictionary to store the masks, labels_dict and regions_dict to their respective attributes\n",
        "        ...\n",
        "        \n",
        "    # define the display_image method, look at the docstring for information on the inputs and outputs\n",
        "    ...\n",
        "        \"\"\"\n",
        "        Display the image with a given title.\n",
        "\n",
        "        Parameters:\n",
        "        title (str): The title of the image to be displayed. Default is \"Image\".\n",
        "        \"\"\"\n",
        "        ..."
      ]
    },
    {
      "cell_type": "code",
      "execution_count": null,
      "metadata": {
        "deletable": false,
        "editable": false,
        "tags": [
          "skip-execution"
        ]
      },
      "outputs": [],
      "source": [
        "grader.check(\"image-processor\")"
      ]
    },
    {
      "cell_type": "markdown",
      "metadata": {
        "deletable": false,
        "editable": false
      },
      "source": [
        "## Question 6 (Points: 14.0): Color Mask Class\n",
        "\n",
        "Now we want to make sure that we can isloate the different objects in the image based on the color. We will use the ColorMask class to help us with this. The color mask class will identify the pixels in the image that fall within a certain range of hue, saturation, and value (brightness) values - and then remove the pixels that are not part of contiguous regions. \n"
      ]
    },
    {
      "cell_type": "code",
      "execution_count": null,
      "metadata": {
        "tags": [
          "otter_answer_cell",
          "skip-execution"
        ]
      },
      "outputs": [],
      "source": [
        "# build the ColorMask class, look at the docstring for information on the inputs and outputs, and the methods\n",
        "...\n",
        "    # define the __init__ method, look at the docstring for information on the inputs and outputs\n",
        "    ...\n",
        "        \"\"\"\n",
        "        Initialize the ColorMask object with HSV image and range values.\n",
        "\n",
        "        Parameters:\n",
        "        hsv_img (numpy.ndarray): The HSV image to process.\n",
        "        hue_range (tuple): The range of hue values to include in the mask.\n",
        "        sat_range (tuple): The range of saturation values to include in the mask.\n",
        "        val_range (tuple): The range of value (brightness) values to include in the mask.\n",
        "        \"\"\"\n",
        "        # assign all variables to the respective attributes, add an attribute for the mask initialized to None\n",
        "        ...\n",
        "\n",
        "    # define the build_mask method, look at the docstring for information on the inputs and outputs\n",
        "    ...\n",
        "        \"\"\"\n",
        "        Create a binary mask for pixels whose HSV values fall within the\n",
        "        specified hue, saturation, and value ranges.\n",
        "\n",
        "        Returns:\n",
        "        numpy.ndarray: A binary mask where pixels within the specified ranges are True.\n",
        "        \"\"\"\n",
        "        # extract the hue, saturation, and value channels from the HSV image as H, S, V \n",
        "        # The format of the hsv_img is (x,y,3), where x is the height and y is the width, \n",
        "        # and the 3 is for the 3 color channels of the image\n",
        "        ...\n",
        "        \n",
        "        # create a binary mask where pixels within the specified ranges are True\n",
        "        # this is when for example H >= self.hue_range[0] and H <= self.hue_range[1], remember to use the binary & operator\n",
        "        # you want to ensure all the color conditions are met for the mask to be True\n",
        "        ...\n",
        "        \n",
        "        # return the mask\n",
        "        return self.mask\n",
        "    \n",
        "    # define the clean_mask method, look at the docstring for information on the inputs and outputs\n",
        "    ...\n",
        "        \"\"\"\n",
        "        Apply morphological operations to clean the binary mask.\n",
        "\n",
        "        Returns:\n",
        "        numpy.ndarray: The cleaned binary mask after applying closing and opening operations.\n",
        "        \"\"\"\n",
        "        # apply morphological closing and opening operations to the mask\n",
        "        # use the morphology.closing function to close the mask, use a disk-shaped structuring element with a radius of 3\n",
        "        # use the morphology.opening function to open the mask, use a disk-shaped structuring element with a radius of 3\n",
        "        ...\n",
        "        \n",
        "        # return the mask\n",
        "        ..."
      ]
    },
    {
      "cell_type": "code",
      "execution_count": null,
      "metadata": {
        "deletable": false,
        "editable": false,
        "tags": [
          "skip-execution"
        ]
      },
      "outputs": [],
      "source": [
        "grader.check(\"Color-mask-and-merge\")"
      ]
    },
    {
      "cell_type": "markdown",
      "metadata": {
        "deletable": false,
        "editable": false
      },
      "source": [
        "## Question 7 (Points: 13.0): Derived Classes for Specific Color Masks\n",
        "\n",
        "Now we want to create the derived classes for the specific color masks. We will create a class for the pig mask, the wood mask, the gray mask, and the blue mask. This is the power of using classes, one class can be used to create multiple derived classes, and each derived class can have its own unique properties and methods."
      ]
    },
    {
      "cell_type": "code",
      "execution_count": null,
      "metadata": {
        "tags": [
          "otter_answer_cell",
          "skip-execution"
        ]
      },
      "outputs": [],
      "source": [
        "# build the PigMask class, look at the docstring for information on the inputs and outputs\n",
        "...\n",
        "    \"\"\"\n",
        "    A class to represent a mask for detecting pig objects in an image.\n",
        "\n",
        "    Inherits from the ColorMask base class and initializes the mask with\n",
        "    specific HSV color range values that correspond to the color of pigs\n",
        "    in the image.\n",
        "    \"\"\"\n",
        "    # initialize the PigMask class with the hsv_img, hue_range, sat_range, and val_range\n",
        "    ...\n",
        "        \"\"\"\n",
        "        Constructs all the necessary attributes for the PigMask object.\n",
        "\n",
        "        Parameters\n",
        "        ----------\n",
        "        hsv_img : ndarray\n",
        "            The HSV image in which the pig mask is to be applied.\n",
        "        hue_range : tuple, optional\n",
        "            The range of hue values for the pig mask (default is (0.20, 0.40)).\n",
        "        sat_range : tuple, optional\n",
        "            The range of saturation values for the pig mask (default is (0.50, 1.00)).\n",
        "        val_range : tuple, optional\n",
        "            The range of value (brightness) values for the pig mask (default is (0.30, 1.00)).\n",
        "        \"\"\"\n",
        "        # initialize the ColorMask class with the hsv_img, hue_range, sat_range, and val_range\n",
        "        ...\n",
        "\n",
        "\n",
        "# build the WoodMask class, look at the docstring for information on the inputs and outputs\n",
        "...\n",
        "    \"\"\"\n",
        "    A class to represent a mask for detecting wood objects in an image.\n",
        "\n",
        "    Inherits from the ColorMask base class and initializes the mask with\n",
        "    specific HSV color range values that correspond to the color of wood\n",
        "    in the image.\n",
        "    \"\"\"\n",
        "    # initialize the WoodMask class with the hsv_img, hue_range, sat_range, and val_range\n",
        "    ...\n",
        "        \"\"\"\n",
        "        Constructs all the necessary attributes for the WoodMask object.\n",
        "\n",
        "        Parameters\n",
        "        ----------\n",
        "        hsv_img : ndarray\n",
        "            The HSV image in which the wood mask is to be applied.\n",
        "        hue_range : tuple, optional\n",
        "            The range of hue values for the wood mask (default is (0.04, 0.15)).\n",
        "        sat_range : tuple, optional\n",
        "            The range of saturation values for the wood mask (default is (0.40, 1.00)).\n",
        "        val_range : tuple, optional\n",
        "            The range of value (brightness) values for the wood mask (default is (0.30, 1.00)).\n",
        "        \"\"\"\n",
        "        # initialize the ColorMask class with the hsv_img, hue_range, sat_range, and val_range\n",
        "        ...\n",
        "\n",
        "\n",
        "# build the GrayMask class, look at the docstring for information on the inputs and outputs\n",
        "...\n",
        "    \"\"\"\n",
        "    A class to represent a mask for detecting gray objects in an image.\n",
        "\n",
        "    Inherits from the ColorMask base class and initializes the mask with\n",
        "    specific HSV color range values that correspond to the color of gray\n",
        "    objects in the image.\n",
        "    \"\"\"\n",
        "    # initialize the GrayMask class with the hsv_img, hue_range, sat_range, and val_range\n",
        "    ...\n",
        "        \"\"\"\n",
        "        Constructs all the necessary attributes for the GrayMask object.\n",
        "\n",
        "        Parameters\n",
        "        ----------\n",
        "        hsv_img : ndarray\n",
        "            The HSV image in which the gray mask is to be applied.\n",
        "        hue_range : tuple, optional\n",
        "            The range of hue values for the gray mask (default is (0.00, 0.833)).\n",
        "        sat_range : tuple, optional\n",
        "            The range of saturation values for the gray mask (default is (0.00, 0.52)).\n",
        "        val_range : tuple, optional\n",
        "            The range of value (brightness) values for the gray mask (default is (0.30, 0.89)).\n",
        "        \"\"\"\n",
        "        # initialize the ColorMask class with the hsv_img, hue_range, sat_range, and val_range\n",
        "        ...\n",
        "\n",
        "\n",
        "# build the BlueMask class, look at the docstring for information on the inputs and outputs\n",
        "...\n",
        "    \"\"\"\n",
        "    A class to represent a mask for detecting blue objects in an image.\n",
        "\n",
        "    Inherits from the ColorMask base class and initializes the mask with\n",
        "    specific HSV color range values that correspond to the color of blue\n",
        "    objects in the image.\n",
        "    \"\"\"\n",
        "    # initialize the BlueMask class with the hsv_img, hue_range, sat_range, and val_range\n",
        "    ...\n",
        "        \"\"\"\n",
        "        Constructs all the necessary attributes for the BlueMask object.\n",
        "\n",
        "        Parameters\n",
        "        ----------\n",
        "        hsv_img : ndarray\n",
        "            The HSV image in which the blue mask is to be applied.\n",
        "        hue_range : tuple, optional\n",
        "            The range of hue values for the blue mask (default is (0.52, 0.57)).\n",
        "        sat_range : tuple, optional\n",
        "            The range of saturation values for the blue mask (default is (0.141, 0.763)).\n",
        "        val_range : tuple, optional\n",
        "            The range of value (brightness) values for the blue mask (default is (0.867, 1.00)).\n",
        "        \"\"\"\n",
        "        # initialize the ColorMask class with the hsv_img, hue_range, sat_range, and val_range\n",
        "        ...\n"
      ]
    },
    {
      "cell_type": "code",
      "execution_count": null,
      "metadata": {
        "deletable": false,
        "editable": false,
        "tags": [
          "skip-execution"
        ]
      },
      "outputs": [],
      "source": [
        "grader.check(\"PigMask-main\")"
      ]
    },
    {
      "cell_type": "code",
      "execution_count": null,
      "metadata": {
        "tags": [
          "otter_answer_cell",
          "skip-execution"
        ]
      },
      "outputs": [],
      "source": [
        "# Now we want to build the MaskBuilder class, look at the docstring for information on the inputs and outputs\n",
        "...\n",
        "\n",
        "    # define the __init__ method, look at the docstring for information on the inputs and outputs\n",
        "    ...\n",
        "        \"\"\"\n",
        "        Initializes the MaskBuilder with an image.\n",
        "\n",
        "        Parameters\n",
        "        ----------\n",
        "        image : ndarray\n",
        "            The input image to be processed. It is expected to be in a format\n",
        "            that can be converted to HSV for mask building.\n",
        "        categories : list of str, optional\n",
        "            A list of categories for which masks will be built. Default is\n",
        "            [\"pig\", \"wood\", \"gray\", \"blue\"].\n",
        "\n",
        "        Attributes\n",
        "        ----------\n",
        "        categories : list of str\n",
        "            A list of categories for which masks will be built.\n",
        "        \"\"\"\n",
        "        # initialize the ImageProcessor class with the image, as an inheritance\n",
        "        ...\n",
        "        # assign the categories to the attributes\n",
        "        ...\n",
        "\n",
        "    # define the build_and_clean_masks method, look at the docstring for information on the inputs and outputs\n",
        "    ...\n",
        "        \"\"\"\n",
        "        Builds and cleans masks for all categories.\n",
        "\n",
        "        This method creates masks for each category defined in `self.categories`\n",
        "        using their respective mask classes. It then cleans each mask and stores\n",
        "        the result in `self.masks`.\n",
        "\n",
        "        The masks are built and cleaned in the order they appear in `self.categories`.\n",
        "\n",
        "        Each mask is stored in `self.masks` with the category name as the key.\n",
        "        If a mask cannot be built, `None` is stored for that category.\n",
        "        \"\"\"\n",
        "        # iterate over each category in self.categories assign to the local variable category\n",
        "        ...\n",
        "           \n",
        "            # get the mask class from the globals\n",
        "            # this is advanced python, we are using the globals() function to get the mask class from the globals\n",
        "            # the f-string is used to format the category name to the correct mask class name\n",
        "            # for example, if the category is \"pig\", the mask class will be \"PigMask\"\n",
        "            mask_class = globals().get(f\"{category.capitalize()}Mask\")\n",
        "            \n",
        "            # if the mask class exists, create an instance of the mask class\n",
        "            ...\n",
        "            # assign the mask instance to the masks dictionary with the category name as the key\n",
        "            # if the mask_instance.build_mask() is not None, then we can clean the mask, and save the output to the masks dictionary\n",
        "            # otherwise, we save None to the masks dictionary\n",
        "            ...\n",
        "\n",
        "    # define the label_and_extract_regions method, look at the docstring for information on the inputs and outputs\n",
        "    ...\n",
        "        \"\"\"\n",
        "        Labels the cleaned masks and extracts region properties.\n",
        "\n",
        "        This method iterates over each mask in `self.masks`, labels the mask,\n",
        "        and extracts region properties using `regionprops`. The labels and\n",
        "        region properties are stored in `self.labels_dict` and `self.regions_dict`\n",
        "        respectively, with the category name as the key.\n",
        "\n",
        "        For each category, the number of detected regions is printed to the console.\n",
        "        \"\"\"\n",
        "        # iterate over each category in self.masks assign to the local variable cat, and mask --hint use the items() method\n",
        "        ...\n",
        "\n",
        "            # label the mask using the label function from skimage.measure\n",
        "            # assign the output to the local variable lbl\n",
        "            ...\n",
        "            \n",
        "            # extract the region properties using the regionprops function from skimage.measure\n",
        "            # assign the output to the local variable regs\n",
        "            ...\n",
        "            \n",
        "            # assign the labels and regions to the labels_dict and regions_dict attributes, with the category name as the key\n",
        "            ...\n",
        "            \n",
        "            # print the number of regions detected for the category, the format is \"[INFO] Detected <lenght(regs)> regions for <category>\"\n",
        "            ...\n"
      ]
    },
    {
      "cell_type": "code",
      "execution_count": null,
      "metadata": {
        "deletable": false,
        "editable": false,
        "tags": [
          "skip-execution"
        ]
      },
      "outputs": [],
      "source": [
        "grader.check(\"MaskBuilder-main-for-pig-wood-gray-blue\")"
      ]
    },
    {
      "cell_type": "code",
      "execution_count": null,
      "metadata": {
        "tags": [
          "otter_answer_cell",
          "skip-execution"
        ]
      },
      "outputs": [],
      "source": [
        "# Build the Visualizer class\n",
        "...\n",
        "    # Define the display_masks method, which takes in the masks and categories, add static to the method as a decorator\n",
        "    ...\n",
        "        \"\"\"\n",
        "        Display the masks for all categories.\n",
        "        \"\"\"\n",
        "        # Create a figure and a set of subplots\n",
        "        ...\n",
        "        # Iterate over the categories and display the masks\n",
        "        ...\n",
        "            # Display the mask\n",
        "            ...\n",
        "            # Set the title of the mask\n",
        "            ...\n",
        "            # Turn off the axis\n",
        "            ...\n",
        "        # Show the plot\n",
        "        ...\n",
        "    # Define the display_overlays method, which takes in the labels_dict, gray_image, and categories. Add static to the method as a decorator\n",
        "    ...\n",
        "        \"\"\"\n",
        "        Display overlays for each category.\n",
        "        \"\"\"\n",
        "        # Create a figure and a set of subplots \n",
        "        ...\n",
        "        # Iterate over the categories and display the overlays\n",
        "        ...\n",
        "            # Create the overlay\n",
        "            ...\n",
        "            # Display the overlay\n",
        "            ...\n",
        "            # Set the title of the overlay\n",
        "            ...\n",
        "            # Turn off the axis\n",
        "            ...\n",
        "        # Show the plot\n",
        "        ...\n",
        "    # Define the display_bounding_boxes method, which takes in the image, regions_dict, and categories. Add static to the method as a decorator\n",
        "    ...\n",
        "        \"\"\"\n",
        "        Display bounding boxes on the original image.\n",
        "        \"\"\"\n",
        "        # Create a color map for the categories as a dictionary as pig-> red, wood-> orange, gray-> gray, blue-> blue\n",
        "        ...\n",
        "        # Create a figure and a set of subplots\n",
        "        ...\n",
        "        # Display the image\n",
        "        ...\n",
        "        # Set the title of the image\n",
        "        ...\n",
        "        # Iterate over the categories and display the bounding boxes\n",
        "        ...\n",
        "            # Get the regions for the category\n",
        "            ...\n",
        "            # Get the color for the category\n",
        "            ...\n",
        "            # Iterate over the regions and display the bounding boxes\n",
        "            ...\n",
        "                # Check if the region area is greater than 50\n",
        "                ...\n",
        "                    # Get the bounding box for the region\n",
        "                    ...\n",
        "                    # Create a rectangle for the bounding box\n",
        "                    ...\n",
        "                    # Add the rectangle to the plot\n",
        "                    ...\n",
        "        # Turn off the axis\n",
        "        ...\n",
        "        # Show the plot\n",
        "        ..."
      ]
    },
    {
      "cell_type": "code",
      "execution_count": null,
      "metadata": {
        "deletable": false,
        "editable": false,
        "tags": [
          "skip-execution"
        ]
      },
      "outputs": [],
      "source": [
        "grader.check(\"Visualizer-main\")"
      ]
    },
    {
      "cell_type": "code",
      "execution_count": null,
      "metadata": {
        "tags": [
          "otter_answer_cell",
          "skip-execution"
        ]
      },
      "outputs": [],
      "source": [
        "# image = io.imread(\"angry_birds_level.png\")  # Replace with your local filename\n",
        "image = structure_only  # Example image variable\n",
        "\n",
        "# Initialize Mask Builder\n",
        "mask_builder = MaskBuilder(image)\n",
        "\n",
        "# Display Original Image\n",
        "mask_builder.display_image(title=\"Original Image\")\n",
        "\n",
        "# Build and Clean Masks\n",
        "mask_builder.build_and_clean_masks()\n",
        "\n",
        "# Label and Extract Regions\n",
        "mask_builder.label_and_extract_regions()\n",
        "\n",
        "# Display Results\n",
        "Visualizer.display_masks(mask_builder.masks, mask_builder.categories)\n",
        "Visualizer.display_overlays(mask_builder.labels_dict, mask_builder.gray_image, mask_builder.categories)\n",
        "Visualizer.display_bounding_boxes(image, mask_builder.regions_dict, mask_builder.categories)"
      ]
    },
    {
      "cell_type": "code",
      "execution_count": null,
      "metadata": {
        "deletable": false,
        "editable": false,
        "tags": [
          "skip-execution"
        ]
      },
      "outputs": [],
      "source": [
        "grader.check(\"writing-main\")"
      ]
    },
    {
      "cell_type": "markdown",
      "id": "e85669db",
      "metadata": {},
      "source": [
        "## Submitting Assignment\n",
        "\n",
        "Please run the following block of code using `shift + enter` to submit your assignment, you should see your score."
      ]
    },
    {
      "cell_type": "code",
      "execution_count": null,
      "id": "086ab4ec",
      "metadata": {
        "deletable": false,
        "editable": true,
        "tags": [
          "skip-execution"
        ]
      },
      "outputs": [],
      "source": [
        "from pykubegrader.submit.submit_assignment import submit_assignment\n",
        "\n",
        "submit_assignment(\"week9-lab\", \"1_angry_birds_image\")"
      ]
    }
  ],
  "metadata": {
    "kernelspec": {
      "display_name": "base",
      "language": "python",
      "name": "python3"
    },
    "language_info": {
      "codemirror_mode": {
        "name": "ipython",
        "version": 3
      },
      "file_extension": ".py",
      "mimetype": "text/x-python",
      "name": "python",
      "nbconvert_exporter": "python",
      "pygments_lexer": "ipython3",
      "version": "3.12.2"
    },
    "otter": {
      "OK_FORMAT": true,
      "tests": {
        "Color-mask-and-merge": {
          "name": "Color-mask-and-merge",
          "points": null,
          "suites": [
            {
              "cases": [
                {
                  "code": ">>> from pykubegrader.telemetry import ensure_responses, log_variable, score_question, submit_question, telemetry, update_responses\n>>> import os\n>>> import base64\n>>> max_question_points = str(13.0)\n>>> earned_points = 0\n>>> os.environ['EARNED_POINTS'] = str(earned_points)\n>>> os.environ['TOTAL_POINTS_FREE_RESPONSE'] = str(105.0)\n>>> log_variable('total-points', f'week9-lab, 1_angry_birds_image', 105.0)\n>>> question_id = 'Color-mask-and-merge-1'\n>>> max_score = 2.0\n>>> score = 0\n>>> processor = ImageProcessor(image)\n>>> color_mask = ColorMask(processor.hsv_image, (0.1, 0.5), (0.2, 0.8), (0.3, 0.9))\n>>> color_mask_initialized = isinstance(color_mask, ColorMask)\n>>> assert color_mask_initialized, 'ColorMask class did not initialize correctly.'\n>>> if color_mask_initialized:\n...     score = 2.0\n>>> earned_points = float(os.environ.get('EARNED_POINTS', 0))\n>>> earned_points += score\n>>> log_variable('1_angry_birds_image', f'{score}, {max_score}', question_id)\n>>> os.environ['EARNED_POINTS'] = str(earned_points)\n>>> responses = update_responses(question_id, str(color_mask_initialized))\n",
                  "failure_message": "Failed: ColorMask class initialization failed.",
                  "hidden": false,
                  "locked": false,
                  "points": 2,
                  "success_message": "Success: ColorMask class initialized successfully."
                },
                {
                  "code": ">>> from pykubegrader.telemetry import ensure_responses, log_variable, score_question, submit_question, telemetry, update_responses\n>>> import os\n>>> import base64\n>>> question_id = 'Color-mask-and-merge-2'\n>>> max_score = 2.0\n>>> score = 0\n>>> processor = ImageProcessor(image)\n>>> color_mask = ColorMask(processor.hsv_image, (0.1, 0.5), (0.2, 0.8), (0.3, 0.9))\n>>> mask = color_mask.build_mask()\n>>> mask_built = isinstance(mask, np.ndarray)\n>>> assert mask_built, 'Mask was not built correctly.'\n>>> if mask_built:\n...     score = 2.0\n>>> earned_points = float(os.environ.get('EARNED_POINTS', 0))\n>>> earned_points += score\n>>> log_variable('1_angry_birds_image', f'{score}, {max_score}', question_id)\n>>> os.environ['EARNED_POINTS'] = str(earned_points)\n>>> responses = update_responses(question_id, str(mask_built))\n",
                  "failure_message": "Failed: Mask building did not execute properly.",
                  "hidden": false,
                  "locked": false,
                  "points": 2,
                  "success_message": "Success: Mask is built correctly."
                },
                {
                  "code": ">>> from pykubegrader.telemetry import ensure_responses, log_variable, score_question, submit_question, telemetry, update_responses\n>>> import os\n>>> import base64\n>>> question_id = 'Color-mask-and-merge-3'\n>>> max_score = 3.0\n>>> score = 0\n>>> processor = ImageProcessor(image)\n>>> color_mask = ColorMask(processor.hsv_image, (0.1, 0.5), (0.2, 0.8), (0.3, 0.9))\n>>> mask = color_mask.build_mask()\n>>> mask_boolean = mask.dtype == bool\n>>> assert mask_boolean, 'Mask values are not boolean.'\n>>> if mask_boolean:\n...     score = 3.0\n>>> earned_points = float(os.environ.get('EARNED_POINTS', 0))\n>>> earned_points += score\n>>> log_variable('1_angry_birds_image', f'{score}, {max_score}', question_id)\n>>> os.environ['EARNED_POINTS'] = str(earned_points)\n>>> responses = update_responses(question_id, str(mask_boolean))\n",
                  "failure_message": "Failed: Mask values are not boolean.",
                  "hidden": false,
                  "locked": false,
                  "points": 3,
                  "success_message": "Success: Mask values are boolean."
                },
                {
                  "code": ">>> from pykubegrader.telemetry import ensure_responses, log_variable, score_question, submit_question, telemetry, update_responses\n>>> import os\n>>> import base64\n>>> question_id = 'Color-mask-and-merge-4'\n>>> max_score = 3.0\n>>> score = 0\n>>> processor = ImageProcessor(image)\n>>> color_mask = ColorMask(processor.hsv_image, (0.1, 0.5), (0.2, 0.8), (0.3, 0.9))\n>>> mask = color_mask.build_mask()\n>>> cleaned_mask = color_mask.clean_mask()\n>>> mask_cleaned = isinstance(cleaned_mask, np.ndarray)\n>>> assert mask_cleaned, 'Mask cleaning failed.'\n>>> if mask_cleaned:\n...     score = 3.0\n>>> earned_points = float(os.environ.get('EARNED_POINTS', 0))\n>>> earned_points += score\n>>> log_variable('1_angry_birds_image', f'{score}, {max_score}', question_id)\n>>> os.environ['EARNED_POINTS'] = str(earned_points)\n>>> responses = update_responses(question_id, str(mask_cleaned))\n",
                  "failure_message": "Failed: Mask cleaning did not execute properly.",
                  "hidden": false,
                  "locked": false,
                  "points": 3,
                  "success_message": "Success: Mask cleaned successfully."
                },
                {
                  "code": ">>> from pykubegrader.telemetry import ensure_responses, log_variable, score_question, submit_question, telemetry, update_responses\n>>> import os\n>>> import base64\n>>> question_id = 'Color-mask-and-merge-5'\n>>> max_score = 3.0\n>>> score = 0\n>>> processor = ImageProcessor(image)\n>>> color_mask = ColorMask(processor.hsv_image, (0.1, 0.5), (0.2, 0.8), (0.3, 0.9))\n>>> mask = color_mask.build_mask()\n>>> cleaned_mask = color_mask.clean_mask()\n>>> cleaned_mask_boolean = cleaned_mask.dtype == bool\n>>> assert cleaned_mask_boolean, 'Cleaned mask values are not boolean.'\n>>> if cleaned_mask_boolean:\n...     score = 3.0\n>>> earned_points = float(os.environ.get('EARNED_POINTS', 0))\n>>> earned_points += score\n>>> log_variable('1_angry_birds_image', f'{score}, {max_score}', question_id)\n>>> os.environ['EARNED_POINTS'] = str(earned_points)\n>>> responses = update_responses(question_id, str(cleaned_mask_boolean))\n",
                  "failure_message": "Failed: Cleaned mask values are not boolean.",
                  "hidden": false,
                  "locked": false,
                  "points": 3,
                  "success_message": "Success: Cleaned mask values remain boolean."
                }
              ],
              "scored": true,
              "setup": "",
              "teardown": "",
              "type": "doctest"
            }
          ]
        },
        "MaskBuilder-main-for-pig-wood-gray-blue": {
          "name": "MaskBuilder-main-for-pig-wood-gray-blue",
          "points": null,
          "suites": [
            {
              "cases": [
                {
                  "code": ">>> from pykubegrader.telemetry import ensure_responses, log_variable, score_question, submit_question, telemetry, update_responses\n>>> import os\n>>> import base64\n>>> max_question_points = str(10.0)\n>>> earned_points = 0\n>>> os.environ['EARNED_POINTS'] = str(earned_points)\n>>> os.environ['TOTAL_POINTS_FREE_RESPONSE'] = str(105.0)\n>>> log_variable('total-points', f'week9-lab, 1_angry_birds_image', 105.0)\n>>> question_id = 'MaskBuilder-main-for-pig-wood-gray-blue-1'\n>>> max_score = 1.0\n>>> score = 0\n>>> mask_builder_initialized = isinstance(MaskBuilder(image), MaskBuilder)\n>>> assert mask_builder_initialized, 'MaskBuilder did not initialize correctly.'\n>>> if mask_builder_initialized:\n...     score = 1.0\n>>> earned_points = float(os.environ.get('EARNED_POINTS', 0))\n>>> earned_points += score\n>>> log_variable('1_angry_birds_image', f'{score}, {max_score}', question_id)\n>>> os.environ['EARNED_POINTS'] = str(earned_points)\n>>> responses = update_responses(question_id, str(mask_builder_initialized))\n",
                  "failure_message": "Failed: MaskBuilder initialization encountered an issue.",
                  "hidden": false,
                  "locked": false,
                  "points": 1,
                  "success_message": "Success: MaskBuilder initializes with no errors."
                },
                {
                  "code": ">>> from pykubegrader.telemetry import ensure_responses, log_variable, score_question, submit_question, telemetry, update_responses\n>>> import os\n>>> import base64\n>>> question_id = 'MaskBuilder-main-for-pig-wood-gray-blue-2'\n>>> max_score = 1.0\n>>> score = 0\n>>> mask_builder = MaskBuilder(image)\n>>> mask_builder.build_and_clean_masks()\n>>> masks_built_successfully = isinstance(mask_builder.masks, dict) and len(mask_builder.masks) > 0\n>>> assert masks_built_successfully, 'build_and_clean_masks did not execute properly.'\n>>> if masks_built_successfully:\n...     score = 1.0\n>>> earned_points = float(os.environ.get('EARNED_POINTS', 0))\n>>> earned_points += score\n>>> log_variable('1_angry_birds_image', f'{score}, {max_score}', question_id)\n>>> os.environ['EARNED_POINTS'] = str(earned_points)\n>>> responses = update_responses(question_id, str(masks_built_successfully))\n",
                  "failure_message": "Failed: build_and_clean_masks encountered an issue.",
                  "hidden": false,
                  "locked": false,
                  "points": 1,
                  "success_message": "Success: build_and_clean_masks method executes without errors."
                },
                {
                  "code": ">>> from pykubegrader.telemetry import ensure_responses, log_variable, score_question, submit_question, telemetry, update_responses\n>>> import os\n>>> import base64\n>>> question_id = 'MaskBuilder-main-for-pig-wood-gray-blue-3'\n>>> max_score = 4.0\n>>> score = 0\n>>> mask_builder = MaskBuilder(image)\n>>> mask_builder.build_and_clean_masks()\n>>> expected_categories = set(mask_builder.categories)\n>>> actual_categories = set(mask_builder.masks.keys())\n>>> mask_keys_correct = expected_categories == actual_categories\n>>> assert mask_keys_correct, f'Expected mask keys: {expected_categories}, but got: {actual_categories}'\n>>> if mask_keys_correct:\n...     score = 4.0\n>>> earned_points = float(os.environ.get('EARNED_POINTS', 0))\n>>> earned_points += score\n>>> log_variable('1_angry_birds_image', f'{score}, {max_score}', question_id)\n>>> os.environ['EARNED_POINTS'] = str(earned_points)\n>>> responses = update_responses(question_id, str(mask_keys_correct))\n",
                  "failure_message": "Failed: Some masks do not have expected keys.",
                  "hidden": false,
                  "locked": false,
                  "points": 4,
                  "success_message": "Success: Mask dictionary contains all expected keys."
                },
                {
                  "code": ">>> from pykubegrader.telemetry import ensure_responses, log_variable, score_question, submit_question, telemetry, update_responses\n>>> import os\n>>> import base64\n>>> from skimage.measure import regionprops\n>>> question_id = 'MaskBuilder-main-for-pig-wood-gray-blue-4'\n>>> max_score = 4.0\n>>> score = 0\n>>> mask_builder = MaskBuilder(image)\n>>> mask_builder.build_and_clean_masks()\n>>> valid_region_properties = all((isinstance(regs, list) and all((hasattr(r, 'area') and hasattr(r, 'bbox') for r in regs)) for regs in mask_builder.regions_dict.values()))\n>>> assert valid_region_properties, 'Extracted regions do not contain valid region properties.'\n>>> if valid_region_properties:\n...     score = 4.0\n>>> earned_points = float(os.environ.get('EARNED_POINTS', 0))\n>>> earned_points += score\n>>> log_variable('1_angry_birds_image', f'{score}, {max_score}', question_id)\n>>> os.environ['EARNED_POINTS'] = str(earned_points)\n>>> responses = update_responses(question_id, str(valid_region_properties))\n",
                  "failure_message": "Failed: Some extracted regions do not contain valid properties.",
                  "hidden": false,
                  "locked": false,
                  "points": 4,
                  "success_message": "Success: Regions extracted contain valid region properties."
                }
              ],
              "scored": true,
              "setup": "",
              "teardown": "",
              "type": "doctest"
            }
          ]
        },
        "PigMask-main": {
          "name": "PigMask-main",
          "points": null,
          "suites": [
            {
              "cases": [
                {
                  "code": ">>> from pykubegrader.telemetry import ensure_responses, log_variable, score_question, submit_question, telemetry, update_responses\n>>> import os\n>>> import base64\n>>> max_question_points = str(8.0)\n>>> earned_points = 0\n>>> os.environ['EARNED_POINTS'] = str(earned_points)\n>>> os.environ['TOTAL_POINTS_FREE_RESPONSE'] = str(105.0)\n>>> log_variable('total-points', f'week9-lab, 1_angry_birds_image', 105.0)\n>>> question_id = 'PigMask-main-1'\n>>> max_score = 2.0\n>>> score = 0\n>>> processor = ImageProcessor(image)\n>>> pig_mask = PigMask(processor.hsv_image)\n>>> pig_mask_initialized = isinstance(pig_mask, PigMask)\n>>> assert pig_mask_initialized, 'PigMask class did not initialize correctly.'\n>>> if pig_mask_initialized:\n...     score = 2.0\n>>> earned_points = float(os.environ.get('EARNED_POINTS', 0))\n>>> earned_points += score\n>>> log_variable('1_angry_birds_image', f'{score}, {max_score}', question_id)\n>>> os.environ['EARNED_POINTS'] = str(earned_points)\n>>> responses = update_responses(question_id, str(pig_mask_initialized))\n",
                  "failure_message": "Failed: PigMask class initialization failed.",
                  "hidden": false,
                  "locked": false,
                  "points": 2,
                  "success_message": "Success: PigMask class initialized successfully."
                },
                {
                  "code": ">>> from pykubegrader.telemetry import ensure_responses, log_variable, score_question, submit_question, telemetry, update_responses\n>>> import os\n>>> import base64\n>>> question_id = 'PigMask-main-2'\n>>> max_score = 2.0\n>>> score = 0\n>>> processor = ImageProcessor(image)\n>>> wood_mask = WoodMask(processor.hsv_image)\n>>> wood_mask_initialized = isinstance(wood_mask, WoodMask)\n>>> assert wood_mask_initialized, 'WoodMask class did not initialize correctly.'\n>>> if wood_mask_initialized:\n...     score = 2.0\n>>> earned_points = float(os.environ.get('EARNED_POINTS', 0))\n>>> earned_points += score\n>>> log_variable('1_angry_birds_image', f'{score}, {max_score}', question_id)\n>>> os.environ['EARNED_POINTS'] = str(earned_points)\n>>> responses = update_responses(question_id, str(wood_mask_initialized))\n",
                  "failure_message": "Failed: WoodMask class initialization failed.",
                  "hidden": false,
                  "locked": false,
                  "points": 2,
                  "success_message": "Success: WoodMask class initialized successfully."
                },
                {
                  "code": ">>> from pykubegrader.telemetry import ensure_responses, log_variable, score_question, submit_question, telemetry, update_responses\n>>> import os\n>>> import base64\n>>> question_id = 'PigMask-main-3'\n>>> max_score = 2.0\n>>> score = 0\n>>> processor = ImageProcessor(image)\n>>> gray_mask = GrayMask(processor.hsv_image)\n>>> gray_mask_initialized = isinstance(gray_mask, GrayMask)\n>>> assert gray_mask_initialized, 'GrayMask class did not initialize correctly.'\n>>> if gray_mask_initialized:\n...     score = 2.0\n>>> earned_points = float(os.environ.get('EARNED_POINTS', 0))\n>>> earned_points += score\n>>> log_variable('1_angry_birds_image', f'{score}, {max_score}', question_id)\n>>> os.environ['EARNED_POINTS'] = str(earned_points)\n>>> responses = update_responses(question_id, str(gray_mask_initialized))\n",
                  "failure_message": "Failed: GrayMask class initialization failed.",
                  "hidden": false,
                  "locked": false,
                  "points": 2,
                  "success_message": "Success: GrayMask class initialized successfully."
                },
                {
                  "code": ">>> from pykubegrader.telemetry import ensure_responses, log_variable, score_question, submit_question, telemetry, update_responses\n>>> import os\n>>> import base64\n>>> question_id = 'PigMask-main-4'\n>>> max_score = 2.0\n>>> score = 0\n>>> processor = ImageProcessor(image)\n>>> blue_mask = BlueMask(processor.hsv_image)\n>>> blue_mask_initialized = isinstance(blue_mask, BlueMask)\n>>> assert blue_mask_initialized, 'BlueMask class did not initialize correctly.'\n>>> if blue_mask_initialized:\n...     score = 2.0\n>>> earned_points = float(os.environ.get('EARNED_POINTS', 0))\n>>> earned_points += score\n>>> log_variable('1_angry_birds_image', f'{score}, {max_score}', question_id)\n>>> os.environ['EARNED_POINTS'] = str(earned_points)\n>>> responses = update_responses(question_id, str(blue_mask_initialized))\n",
                  "failure_message": "Failed: BlueMask class initialization failed.",
                  "hidden": false,
                  "locked": false,
                  "points": 2,
                  "success_message": "Success: BlueMask class initialized successfully."
                }
              ],
              "scored": true,
              "setup": "",
              "teardown": "",
              "type": "doctest"
            }
          ]
        },
        "Visualizer-main": {
          "name": "Visualizer-main",
          "points": null,
          "suites": [
            {
              "cases": [
                {
                  "code": ">>> from pykubegrader.telemetry import ensure_responses, log_variable, score_question, submit_question, telemetry, update_responses\n>>> import os\n>>> import base64\n>>> max_question_points = str(8.0)\n>>> earned_points = 0\n>>> os.environ['EARNED_POINTS'] = str(earned_points)\n>>> os.environ['TOTAL_POINTS_FREE_RESPONSE'] = str(105.0)\n>>> log_variable('total-points', f'week9-lab, 1_angry_birds_image', 105.0)\n>>> question_id = 'Visualizer-main-1'\n>>> max_score = 1.0\n>>> score = 0\n>>> visualizer_initialized = isinstance(Visualizer(), Visualizer)\n>>> assert visualizer_initialized, 'Visualizer class did not initialize correctly.'\n>>> if visualizer_initialized:\n...     score = 1.0\n>>> earned_points = float(os.environ.get('EARNED_POINTS', 0))\n>>> earned_points += score\n>>> log_variable('1_angry_birds_image', f'{score}, {max_score}', question_id)\n>>> os.environ['EARNED_POINTS'] = str(earned_points)\n>>> responses = update_responses(question_id, str(visualizer_initialized))\n",
                  "failure_message": "Failed: Visualizer did not initialize correctly.",
                  "hidden": false,
                  "locked": false,
                  "points": 1,
                  "success_message": "Success: Visualizer initializes correctly."
                },
                {
                  "code": ">>> from pykubegrader.telemetry import ensure_responses, log_variable, score_question, submit_question, telemetry, update_responses\n>>> import os\n>>> import base64\n>>> question_id = 'Visualizer-main-2'\n>>> max_score = 1.0\n>>> score = 0\n>>> display_masks_success = callable(Visualizer.display_masks)\n>>> assert display_masks_success, 'display_masks method is not callable.'\n>>> if display_masks_success:\n...     score = 1.0\n>>> earned_points = float(os.environ.get('EARNED_POINTS', 0))\n>>> earned_points += score\n>>> log_variable('1_angry_birds_image', f'{score}, {max_score}', question_id)\n>>> os.environ['EARNED_POINTS'] = str(earned_points)\n>>> responses = update_responses(question_id, str(display_masks_success))\n",
                  "failure_message": "Failed: display_masks encountered an issue.",
                  "hidden": false,
                  "locked": false,
                  "points": 1,
                  "success_message": "Success: display_masks method executes properly."
                },
                {
                  "code": ">>> from pykubegrader.telemetry import ensure_responses, log_variable, score_question, submit_question, telemetry, update_responses\n>>> import os\n>>> import base64\n>>> question_id = 'Visualizer-main-3'\n>>> max_score = 1.0\n>>> score = 0\n>>> display_overlays_success = callable(Visualizer.display_overlays)\n>>> assert display_overlays_success, 'display_overlays method is not callable.'\n>>> if display_overlays_success:\n...     score = 1.0\n>>> earned_points = float(os.environ.get('EARNED_POINTS', 0))\n>>> earned_points += score\n>>> log_variable('1_angry_birds_image', f'{score}, {max_score}', question_id)\n>>> os.environ['EARNED_POINTS'] = str(earned_points)\n>>> responses = update_responses(question_id, str(display_overlays_success))\n",
                  "failure_message": "Failed: display_overlays encountered an issue.",
                  "hidden": false,
                  "locked": false,
                  "points": 1,
                  "success_message": "Success: display_overlays method executes properly."
                },
                {
                  "code": ">>> from pykubegrader.telemetry import ensure_responses, log_variable, score_question, submit_question, telemetry, update_responses\n>>> import os\n>>> import base64\n>>> question_id = 'Visualizer-main-4'\n>>> max_score = 1.0\n>>> score = 0\n>>> display_bounding_boxes_success = callable(Visualizer.display_bounding_boxes)\n>>> assert display_bounding_boxes_success, 'display_bounding_boxes method is not callable.'\n>>> if display_bounding_boxes_success:\n...     score = 1.0\n>>> earned_points = float(os.environ.get('EARNED_POINTS', 0))\n>>> earned_points += score\n>>> log_variable('1_angry_birds_image', f'{score}, {max_score}', question_id)\n>>> os.environ['EARNED_POINTS'] = str(earned_points)\n>>> responses = update_responses(question_id, str(display_bounding_boxes_success))\n",
                  "failure_message": "Failed: display_bounding_boxes encountered an issue.",
                  "hidden": false,
                  "locked": false,
                  "points": 1,
                  "success_message": "Success: display_bounding_boxes method executes properly."
                },
                {
                  "code": ">>> from pykubegrader.telemetry import ensure_responses, log_variable, score_question, submit_question, telemetry, update_responses\n>>> import os\n>>> import base64\n>>> question_id = 'Visualizer-main-5'\n>>> max_score = 4.0\n>>> score = 0\n>>> visualizer_methods_correct = all((hasattr(Visualizer, method) for method in ['display_masks', 'display_overlays', 'display_bounding_boxes']))\n>>> assert visualizer_methods_correct, 'Some static methods in Visualizer are missing or incorrect.'\n>>> if visualizer_methods_correct:\n...     score = 4.0\n>>> earned_points = float(os.environ.get('EARNED_POINTS', 0))\n>>> earned_points += score\n>>> log_variable('1_angry_birds_image', f'{score}, {max_score}', question_id)\n>>> os.environ['EARNED_POINTS'] = str(earned_points)\n>>> responses = update_responses(question_id, str(visualizer_methods_correct))\n",
                  "failure_message": "Failed: Some static methods in Visualizer are missing or incorrect.",
                  "hidden": false,
                  "locked": false,
                  "points": 4,
                  "success_message": "Success: All static methods in Visualizer are correctly implemented."
                }
              ],
              "scored": true,
              "setup": "",
              "teardown": "",
              "type": "doctest"
            }
          ]
        },
        "edge-detection": {
          "name": "edge-detection",
          "points": null,
          "suites": [
            {
              "cases": [
                {
                  "code": ">>> from pykubegrader.telemetry import ensure_responses, log_variable, score_question, submit_question, telemetry, update_responses\n>>> import os\n>>> import base64\n>>> import numpy as np\n>>> import matplotlib.pyplot as plt\n>>> from skimage import io, color, filters, feature, morphology\n>>> from skimage.measure import label, regionprops\n>>> from skimage.segmentation import clear_border\n>>> max_question_points = str(10.0)\n>>> earned_points = 0\n>>> os.environ['EARNED_POINTS'] = str(earned_points)\n>>> os.environ['TOTAL_POINTS_FREE_RESPONSE'] = str(105.0)\n>>> log_variable('total-points', f'week9-lab, 1_angry_birds_image', 105.0)\n>>> question_id = 'edge-detection-1'\n>>> max_score = 1.0\n>>> score = 0\n>>> edges_type = isinstance(edges, np.ndarray)\n>>> assert edges_type\n>>> if edges_type:\n...     score = 1.0\n>>> earned_points = float(os.environ.get('EARNED_POINTS', 0))\n>>> earned_points += score\n>>> log_variable('1_angry_birds_image', f'{score}, {max_score}', question_id)\n>>> os.environ['EARNED_POINTS'] = str(earned_points)\n>>> responses = update_responses(question_id, str(edges_type))\n",
                  "failure_message": "Failed: Edge detection did not execute properly.",
                  "hidden": false,
                  "locked": false,
                  "points": 1,
                  "success_message": "Success: Canny edge detection applied successfully."
                },
                {
                  "code": ">>> from pykubegrader.telemetry import ensure_responses, log_variable, score_question, submit_question, telemetry, update_responses\n>>> import os\n>>> import base64\n>>> import numpy as np\n>>> import matplotlib.pyplot as plt\n>>> from skimage import io, color, filters, feature, morphology\n>>> from skimage.measure import label, regionprops\n>>> from skimage.segmentation import clear_border\n>>> question_id = 'edge-detection-2'\n>>> max_score = 1.0\n>>> score = 0\n>>> edges_dtype = edges.dtype == bool\n>>> assert edges_dtype, 'Edge detection result should be a boolean array.'\n>>> if edges_dtype:\n...     score = 1.0\n>>> earned_points = float(os.environ.get('EARNED_POINTS', 0))\n>>> earned_points += score\n>>> log_variable('1_angry_birds_image', f'{score}, {max_score}', question_id)\n>>> os.environ['EARNED_POINTS'] = str(earned_points)\n>>> responses = update_responses(question_id, str(edges_dtype))\n",
                  "failure_message": "Failed: Edge matrix does not contain only boolean values.",
                  "hidden": false,
                  "locked": false,
                  "points": 1,
                  "success_message": "Success: Edge matrix contains boolean values."
                },
                {
                  "code": ">>> from pykubegrader.telemetry import ensure_responses, log_variable, score_question, submit_question, telemetry, update_responses\n>>> import os\n>>> import base64\n>>> import numpy as np\n>>> import matplotlib.pyplot as plt\n>>> from skimage import io, color, filters, feature, morphology\n>>> from skimage.measure import label, regionprops\n>>> from skimage.segmentation import clear_border\n>>> question_id = 'edge-detection-3'\n>>> max_score = 1.0\n>>> score = 0\n>>> edges_shape_match = edges.shape == gray_image.shape\n>>> assert edges_shape_match, 'Edge detection output shape mismatch.'\n>>> if edges_shape_match:\n...     score = 1.0\n>>> earned_points = float(os.environ.get('EARNED_POINTS', 0))\n>>> earned_points += score\n>>> log_variable('1_angry_birds_image', f'{score}, {max_score}', question_id)\n>>> os.environ['EARNED_POINTS'] = str(earned_points)\n>>> responses = update_responses(question_id, str(edges_shape_match))\n",
                  "failure_message": "Failed: Edge detection output shape does not match input shape.",
                  "hidden": false,
                  "locked": false,
                  "points": 1,
                  "success_message": "Success: Edge detection output shape matches input shape."
                },
                {
                  "code": ">>> from pykubegrader.telemetry import ensure_responses, log_variable, score_question, submit_question, telemetry, update_responses\n>>> import os\n>>> import base64\n>>> import numpy as np\n>>> import matplotlib.pyplot as plt\n>>> from skimage import io, color, filters, feature, morphology\n>>> from skimage.measure import label, regionprops\n>>> from skimage.segmentation import clear_border\n>>> question_id = 'edge-detection-4'\n>>> max_score = 1.0\n>>> score = 0\n>>> edges_detected = np.any(edges)\n>>> assert edges_detected, 'No edges were detected in the image.'\n>>> if edges_detected:\n...     score = 1.0\n>>> earned_points = float(os.environ.get('EARNED_POINTS', 0))\n>>> earned_points += score\n>>> log_variable('1_angry_birds_image', f'{score}, {max_score}', question_id)\n>>> os.environ['EARNED_POINTS'] = str(earned_points)\n>>> responses = update_responses(question_id, str(edges_detected))\n",
                  "failure_message": "Failed: No edges detected in the image.",
                  "hidden": false,
                  "locked": false,
                  "points": 1,
                  "success_message": "Success: At least some edges detected."
                },
                {
                  "code": ">>> from pykubegrader.telemetry import ensure_responses, log_variable, score_question, submit_question, telemetry, update_responses\n>>> import os\n>>> import base64\n>>> import numpy as np\n>>> import matplotlib.pyplot as plt\n>>> from skimage import io, color, filters, feature, morphology\n>>> from skimage.measure import label, regionprops\n>>> from skimage.segmentation import clear_border\n>>> question_id = 'edge-detection-5'\n>>> max_score = 1.0\n>>> score = 0\n>>> edges_detected = np.any(edges)\n>>> assert edges_detected, 'No edges were detected in the image.'\n>>> if edges_detected:\n...     score = 1.0\n>>> earned_points = float(os.environ.get('EARNED_POINTS', 0))\n>>> earned_points += score\n>>> log_variable('1_angry_birds_image', f'{score}, {max_score}', question_id)\n>>> os.environ['EARNED_POINTS'] = str(earned_points)\n>>> responses = update_responses(question_id, str(edges_detected))\n",
                  "failure_message": "Failed: No edges detected in the image.",
                  "hidden": false,
                  "locked": false,
                  "points": 1,
                  "success_message": "Success: At least some edges detected."
                },
                {
                  "code": ">>> from pykubegrader.telemetry import ensure_responses, log_variable, score_question, submit_question, telemetry, update_responses\n>>> import os\n>>> import base64\n>>> import numpy as np\n>>> import matplotlib.pyplot as plt\n>>> from skimage import io, color, filters, feature, morphology\n>>> from skimage.measure import label, regionprops\n>>> from skimage.segmentation import clear_border\n>>> question_id = 'edge-detection-6'\n>>> max_score = 5.0\n>>> score = 0\n>>> exec(base64.b64decode('ZWRnZXNfZGV0ZWN0ZWQgPSBucC5zdW0oZWRnZXMp').decode())\n>>> assert edges_detected == 28996, 'Edges detected incorrectly.'\n>>> if edges_detected == 28996:\n...     score = 5.0\n>>> earned_points = float(os.environ.get('EARNED_POINTS', 0))\n>>> earned_points += score\n>>> log_variable('1_angry_birds_image', f'{score}, {max_score}', question_id)\n>>> os.environ['EARNED_POINTS'] = str(earned_points)\n>>> responses = update_responses(question_id, str(edges_detected))\n",
                  "failure_message": "Failed: Edges detected incorrectly.",
                  "hidden": false,
                  "locked": false,
                  "points": 5,
                  "success_message": "Success: Edges detected correctly."
                }
              ],
              "scored": true,
              "setup": "",
              "teardown": "",
              "type": "doctest"
            }
          ]
        },
        "image-processor": {
          "name": "image-processor",
          "points": null,
          "suites": [
            {
              "cases": [
                {
                  "code": ">>> from pykubegrader.telemetry import ensure_responses, log_variable, score_question, submit_question, telemetry, update_responses\n>>> import os\n>>> import base64\n>>> max_question_points = str(14.0)\n>>> earned_points = 0\n>>> os.environ['EARNED_POINTS'] = str(earned_points)\n>>> os.environ['TOTAL_POINTS_FREE_RESPONSE'] = str(105.0)\n>>> log_variable('total-points', f'week9-lab, 1_angry_birds_image', 105.0)\n>>> question_id = 'image-processor-1'\n>>> max_score = 2.0\n>>> score = 0\n>>> processor = ImageProcessor(image)\n>>> processor_initialized = isinstance(processor, ImageProcessor)\n>>> assert processor_initialized, 'ImageProcessor class did not initialize correctly.'\n>>> if processor_initialized:\n...     score = 2.0\n>>> earned_points = float(os.environ.get('EARNED_POINTS', 0))\n>>> earned_points += score\n>>> log_variable('1_angry_birds_image', f'{score}, {max_score}', question_id)\n>>> os.environ['EARNED_POINTS'] = str(earned_points)\n>>> responses = update_responses(question_id, str(processor_initialized))\n",
                  "failure_message": "Failed: ImageProcessor class initialization failed.",
                  "hidden": false,
                  "locked": false,
                  "points": 2,
                  "success_message": "Success: ImageProcessor class initialized successfully."
                },
                {
                  "code": ">>> from pykubegrader.telemetry import ensure_responses, log_variable, score_question, submit_question, telemetry, update_responses\n>>> import os\n>>> import base64\n>>> question_id = 'image-processor-2'\n>>> max_score = 2.0\n>>> score = 0\n>>> processor = ImageProcessor(image)\n>>> image_attribute_type = isinstance(processor.image, np.ndarray)\n>>> assert image_attribute_type, 'Image attribute is not a NumPy array.'\n>>> if image_attribute_type:\n...     score = 2.0\n>>> earned_points = float(os.environ.get('EARNED_POINTS', 0))\n>>> earned_points += score\n>>> log_variable('1_angry_birds_image', f'{score}, {max_score}', question_id)\n>>> os.environ['EARNED_POINTS'] = str(earned_points)\n>>> responses = update_responses(question_id, str(image_attribute_type))\n",
                  "failure_message": "Failed: Image attributes are not assigned correctly.",
                  "hidden": false,
                  "locked": false,
                  "points": 2,
                  "success_message": "Success: Image attributes are correctly assigned."
                },
                {
                  "code": ">>> from pykubegrader.telemetry import ensure_responses, log_variable, score_question, submit_question, telemetry, update_responses\n>>> import os\n>>> import base64\n>>> question_id = 'image-processor-3'\n>>> max_score = 2.0\n>>> score = 0\n>>> processor = ImageProcessor(image)\n>>> gray_image_type = isinstance(processor.gray_image, np.ndarray)\n>>> assert gray_image_type, 'Grayscale image computation failed.'\n>>> if gray_image_type:\n...     score = 2.0\n>>> earned_points = float(os.environ.get('EARNED_POINTS', 0))\n>>> earned_points += score\n>>> log_variable('1_angry_birds_image', f'{score}, {max_score}', question_id)\n>>> os.environ['EARNED_POINTS'] = str(earned_points)\n>>> responses = update_responses(question_id, str(gray_image_type))\n",
                  "failure_message": "Failed: Grayscale image is not computed correctly.",
                  "hidden": false,
                  "locked": false,
                  "points": 2,
                  "success_message": "Success: Grayscale image is computed correctly."
                },
                {
                  "code": ">>> from pykubegrader.telemetry import ensure_responses, log_variable, score_question, submit_question, telemetry, update_responses\n>>> import os\n>>> import base64\n>>> question_id = 'image-processor-4'\n>>> max_score = 2.0\n>>> score = 0\n>>> processor = ImageProcessor(image)\n>>> hsv_image_type = isinstance(processor.hsv_image, np.ndarray)\n>>> assert hsv_image_type, 'HSV image computation failed.'\n>>> if hsv_image_type:\n...     score = 2.0\n>>> earned_points = float(os.environ.get('EARNED_POINTS', 0))\n>>> earned_points += score\n>>> log_variable('1_angry_birds_image', f'{score}, {max_score}', question_id)\n>>> os.environ['EARNED_POINTS'] = str(earned_points)\n>>> responses = update_responses(question_id, str(hsv_image_type))\n",
                  "failure_message": "Failed: HSV image is not computed correctly.",
                  "hidden": false,
                  "locked": false,
                  "points": 2,
                  "success_message": "Success: HSV image is computed correctly."
                },
                {
                  "code": ">>> from pykubegrader.telemetry import ensure_responses, log_variable, score_question, submit_question, telemetry, update_responses\n>>> import os\n>>> import base64\n>>> question_id = 'image-processor-5'\n>>> max_score = 2.0\n>>> score = 0\n>>> required_methods = ['__init__', 'display_image']\n>>> methods_exist = all((hasattr(ImageProcessor, method) for method in required_methods))\n>>> assert methods_exist, 'One or more required methods are missing in the ImageProcessor class.'\n>>> if methods_exist:\n...     score = 2.0\n>>> earned_points = float(os.environ.get('EARNED_POINTS', 0))\n>>> earned_points += score\n>>> log_variable('1_angry_birds_image', f'{score}, {max_score}', question_id)\n>>> os.environ['EARNED_POINTS'] = str(earned_points)\n>>> responses = update_responses(question_id, str(methods_exist))\n",
                  "failure_message": "Failed: Some required methods are missing in the ImageProcessor class.",
                  "hidden": false,
                  "locked": false,
                  "points": 2,
                  "success_message": "Success: ImageProcessor class has the required methods."
                },
                {
                  "code": ">>> from pykubegrader.telemetry import ensure_responses, log_variable, score_question, submit_question, telemetry, update_responses\n>>> import os\n>>> import base64\n>>> question_id = 'image-processor-6'\n>>> max_score = 4.0\n>>> score = 0\n>>> processor = ImageProcessor(image)\n>>> required_attributes = ['image', 'hsv_image', 'gray_image', 'masks', 'labels_dict', 'regions_dict']\n>>> attributes_exist = all((hasattr(processor, attr) for attr in required_attributes))\n>>> assert attributes_exist, 'One or more required attributes are missing in the ImageProcessor class.'\n>>> if attributes_exist:\n...     score = 4.0\n>>> earned_points = float(os.environ.get('EARNED_POINTS', 0))\n>>> earned_points += score\n>>> log_variable('1_angry_birds_image', f'{score}, {max_score}', question_id)\n>>> os.environ['EARNED_POINTS'] = str(earned_points)\n>>> responses = update_responses(question_id, str(attributes_exist))\n",
                  "failure_message": "Failed: Some required attributes are missing in the ImageProcessor class.",
                  "hidden": false,
                  "locked": false,
                  "points": 4,
                  "success_message": "Success: ImageProcessor attributes are correctly defined."
                }
              ],
              "scored": true,
              "setup": "",
              "teardown": "",
              "type": "doctest"
            }
          ]
        },
        "import_packages": {
          "name": "import_packages",
          "points": null,
          "suites": [
            {
              "cases": [
                {
                  "code": ">>> from pykubegrader.telemetry import ensure_responses, log_variable, score_question, submit_question, telemetry, update_responses\n>>> import os\n>>> import base64\n>>> import numpy as np\n>>> max_question_points = str(3.0)\n>>> earned_points = 0\n>>> os.environ['EARNED_POINTS'] = str(earned_points)\n>>> os.environ['TOTAL_POINTS_FREE_RESPONSE'] = str(105.0)\n>>> log_variable('total-points', f'week9-lab, 1_angry_birds_image', 105.0)\n>>> question_id = 'import_packages-1'\n>>> max_score = 1.0\n>>> score = 0\n>>> numpy_imported = 'np' in globals()\n>>> assert numpy_imported, 'numpy is not imported with alias np'\n>>> if numpy_imported:\n...     score = 1.0\n>>> earned_points = float(os.environ.get('EARNED_POINTS', 0))\n>>> earned_points += score\n>>> log_variable('1_angry_birds_image', f'{score}, {max_score}', question_id)\n>>> os.environ['EARNED_POINTS'] = str(earned_points)\n>>> responses = update_responses(question_id, str(numpy_imported))\n",
                  "failure_message": "Failed: numpy is not imported correctly.",
                  "hidden": false,
                  "locked": false,
                  "points": 1,
                  "success_message": "Success: numpy is imported correctly."
                },
                {
                  "code": ">>> from pykubegrader.telemetry import ensure_responses, log_variable, score_question, submit_question, telemetry, update_responses\n>>> import os\n>>> import base64\n>>> import matplotlib.pyplot as plt\n>>> question_id = 'import_packages-2'\n>>> max_score = 1.0\n>>> score = 0\n>>> matplotlib_imported = 'plt' in globals()\n>>> assert matplotlib_imported, 'matplotlib.pyplot is not imported with alias plt'\n>>> if matplotlib_imported:\n...     score = 1.0\n>>> earned_points = float(os.environ.get('EARNED_POINTS', 0))\n>>> earned_points += score\n>>> log_variable('1_angry_birds_image', f'{score}, {max_score}', question_id)\n>>> os.environ['EARNED_POINTS'] = str(earned_points)\n>>> responses = update_responses(question_id, str(matplotlib_imported))\n",
                  "failure_message": "Failed: matplotlib.pyplot is not imported correctly.",
                  "hidden": false,
                  "locked": false,
                  "points": 1,
                  "success_message": "Success: matplotlib.pyplot is imported correctly."
                },
                {
                  "code": ">>> from pykubegrader.telemetry import ensure_responses, log_variable, score_question, submit_question, telemetry, update_responses\n>>> import os\n>>> import base64\n>>> from skimage import io, color, filters, feature, morphology\n>>> from skimage.measure import label, regionprops\n>>> from skimage.segmentation import clear_border\n>>> question_id = 'import_packages-3'\n>>> max_score = 1.0\n>>> score = 0\n>>> skimage_modules = ['io', 'color', 'filters', 'feature', 'morphology']\n>>> skimage_measure_modules = ['label', 'regionprops']\n>>> skimage_segmentation_modules = ['clear_border']\n>>> skimage_imported = all((mod in globals() for mod in skimage_modules + skimage_measure_modules + skimage_segmentation_modules))\n>>> assert skimage_imported, 'Some skimage modules are missing from the import statement'\n>>> if skimage_imported:\n...     score = 1.0\n>>> earned_points = float(os.environ.get('EARNED_POINTS', 0))\n>>> earned_points += score\n>>> log_variable('1_angry_birds_image', f'{score}, {max_score}', question_id)\n>>> os.environ['EARNED_POINTS'] = str(earned_points)\n>>> responses = update_responses(question_id, str(skimage_imported))\n",
                  "failure_message": "Failed: skimage modules are not imported correctly.",
                  "hidden": false,
                  "locked": false,
                  "points": 1,
                  "success_message": "Success: skimage modules are imported correctly."
                }
              ],
              "scored": true,
              "setup": "",
              "teardown": "",
              "type": "doctest"
            }
          ]
        },
        "isolate-main-structure": {
          "name": "isolate-main-structure",
          "points": null,
          "suites": [
            {
              "cases": [
                {
                  "code": ">>> from pykubegrader.telemetry import ensure_responses, log_variable, score_question, submit_question, telemetry, update_responses\n>>> import os\n>>> import base64\n>>> import numpy as np\n>>> import matplotlib.pyplot as plt\n>>> from skimage import io, color, filters, feature, morphology\n>>> from skimage.measure import label, regionprops\n>>> from skimage.segmentation import clear_border\n>>> max_question_points = str(12.0)\n>>> earned_points = 0\n>>> os.environ['EARNED_POINTS'] = str(earned_points)\n>>> os.environ['TOTAL_POINTS_FREE_RESPONSE'] = str(105.0)\n>>> log_variable('total-points', f'week9-lab, 1_angry_birds_image', 105.0)\n>>> question_id = 'isolate-main-structure-1'\n>>> max_score = 1.0\n>>> score = 0\n>>> structure_only_type = isinstance(structure_only, np.ndarray)\n>>> assert structure_only_type, 'Image copy for structure isolation failed.'\n>>> if structure_only_type:\n...     score = 1.0\n>>> earned_points = float(os.environ.get('EARNED_POINTS', 0))\n>>> earned_points += score\n>>> log_variable('1_angry_birds_image', f'{score}, {max_score}', question_id)\n>>> os.environ['EARNED_POINTS'] = str(earned_points)\n>>> responses = update_responses(question_id, str(structure_only_type))\n",
                  "failure_message": "Failed: Image was not copied correctly.",
                  "hidden": false,
                  "locked": false,
                  "points": 1,
                  "success_message": "Success: Image copied correctly for structure isolation."
                },
                {
                  "code": ">>> from pykubegrader.telemetry import ensure_responses, log_variable, score_question, submit_question, telemetry, update_responses\n>>> import os\n>>> import base64\n>>> import numpy as np\n>>> import matplotlib.pyplot as plt\n>>> from skimage import io, color, filters, feature, morphology\n>>> from skimage.measure import label, regionprops\n>>> from skimage.segmentation import clear_border\n>>> question_id = 'isolate-main-structure-2'\n>>> max_score = 1.0\n>>> score = 0\n>>> inverted_mask_type = isinstance(inverted_mask, np.ndarray)\n>>> assert inverted_mask_type, 'Mask inversion failed.'\n>>> if inverted_mask_type:\n...     score = 1.0\n>>> earned_points = float(os.environ.get('EARNED_POINTS', 0))\n>>> earned_points += score\n>>> log_variable('1_angry_birds_image', f'{score}, {max_score}', question_id)\n>>> os.environ['EARNED_POINTS'] = str(earned_points)\n>>> responses = update_responses(question_id, str(inverted_mask_type))\n",
                  "failure_message": "Failed: Mask inversion did not execute properly.",
                  "hidden": false,
                  "locked": false,
                  "points": 1,
                  "success_message": "Success: Mask was inverted successfully."
                },
                {
                  "code": ">>> from pykubegrader.telemetry import ensure_responses, log_variable, score_question, submit_question, telemetry, update_responses\n>>> import os\n>>> import base64\n>>> import numpy as np\n>>> import matplotlib.pyplot as plt\n>>> from skimage import io, color, filters, feature, morphology\n>>> from skimage.measure import label, regionprops\n>>> from skimage.segmentation import clear_border\n>>> question_id = 'isolate-main-structure-3'\n>>> max_score = 2.0\n>>> score = 0\n>>> background_modified = np.any(structure_only == 0)\n>>> assert background_modified, 'Background setting failed.'\n>>> if background_modified:\n...     score = 2.0\n>>> earned_points = float(os.environ.get('EARNED_POINTS', 0))\n>>> earned_points += score\n>>> log_variable('1_angry_birds_image', f'{score}, {max_score}', question_id)\n>>> os.environ['EARNED_POINTS'] = str(earned_points)\n>>> responses = update_responses(question_id, str(background_modified))\n",
                  "failure_message": "Failed: Background was not modified correctly.",
                  "hidden": false,
                  "locked": false,
                  "points": 2,
                  "success_message": "Success: Background set to white correctly."
                },
                {
                  "code": ">>> from pykubegrader.telemetry import ensure_responses, log_variable, score_question, submit_question, telemetry, update_responses\n>>> import os\n>>> import base64\n>>> import numpy as np\n>>> import matplotlib.pyplot as plt\n>>> from skimage import io, color, filters, feature, morphology\n>>> from skimage.measure import label, regionprops\n>>> from skimage.segmentation import clear_border\n>>> question_id = 'isolate-main-structure-4'\n>>> max_score = 1.0\n>>> score = 0\n>>> fig_created = isinstance(fig, plt.Figure)\n>>> assert fig_created, 'Figure creation failed.'\n>>> if fig_created:\n...     score = 1.0\n>>> earned_points = float(os.environ.get('EARNED_POINTS', 0))\n>>> earned_points += score\n>>> log_variable('1_angry_birds_image', f'{score}, {max_score}', question_id)\n>>> os.environ['EARNED_POINTS'] = str(earned_points)\n>>> responses = update_responses(question_id, str(fig_created))\n",
                  "failure_message": "Failed: Visualization figure creation failed.",
                  "hidden": false,
                  "locked": false,
                  "points": 1,
                  "success_message": "Success: Visualization figure created successfully."
                },
                {
                  "code": ">>> from pykubegrader.telemetry import ensure_responses, log_variable, score_question, submit_question, telemetry, update_responses\n>>> import os\n>>> import base64\n>>> import numpy as np\n>>> import matplotlib.pyplot as plt\n>>> from skimage import io, color, filters, feature, morphology\n>>> from skimage.measure import label, regionprops\n>>> from skimage.segmentation import clear_border\n>>> question_id = 'isolate-main-structure-5'\n>>> max_score = 3.0\n>>> score = 0\n>>> assert image.shape == (640, 960, 3), 'Image dimensions mismatch.'\n>>> if image.shape == (640, 960, 3):\n...     score = 3.0\n>>> earned_points = float(os.environ.get('EARNED_POINTS', 0))\n>>> earned_points += score\n>>> log_variable('1_angry_birds_image', f'{score}, {max_score}', question_id)\n>>> os.environ['EARNED_POINTS'] = str(earned_points)\n>>> responses = update_responses(question_id, str(image))\n",
                  "failure_message": "Failed: Image dimensions do not match original.",
                  "hidden": false,
                  "locked": false,
                  "points": 3,
                  "success_message": "Success: Image dimensions match original image dimensions."
                },
                {
                  "code": ">>> from pykubegrader.telemetry import ensure_responses, log_variable, score_question, submit_question, telemetry, update_responses\n>>> import os\n>>> import base64\n>>> import numpy as np\n>>> import matplotlib.pyplot as plt\n>>> from skimage import io, color, filters, feature, morphology\n>>> from skimage.measure import label, regionprops\n>>> from skimage.segmentation import clear_border\n>>> question_id = 'isolate-main-structure-6'\n>>> max_score = 4.0\n>>> score = 0\n>>> structure_shape_match = structure_only.shape == image.shape\n>>> assert structure_shape_match, 'Structure-only image dimensions mismatch.'\n>>> if structure_shape_match:\n...     score = 4.0\n>>> earned_points = float(os.environ.get('EARNED_POINTS', 0))\n>>> earned_points += score\n>>> log_variable('1_angry_birds_image', f'{score}, {max_score}', question_id)\n>>> os.environ['EARNED_POINTS'] = str(earned_points)\n>>> responses = update_responses(question_id, str(structure_shape_match))\n",
                  "failure_message": "Failed: Structure-only image dimensions do not match original.",
                  "hidden": false,
                  "locked": false,
                  "points": 4,
                  "success_message": "Success: Structure-only image dimensions match original image dimensions."
                }
              ],
              "scored": true,
              "setup": "",
              "teardown": "",
              "type": "doctest"
            }
          ]
        },
        "load-and-visualize-image": {
          "name": "load-and-visualize-image",
          "points": null,
          "suites": [
            {
              "cases": [
                {
                  "code": ">>> from pykubegrader.telemetry import ensure_responses, log_variable, score_question, submit_question, telemetry, update_responses\n>>> import os\n>>> import base64\n>>> import numpy as np\n>>> import matplotlib.pyplot as plt\n>>> from skimage import io, color, filters, feature, morphology\n>>> from skimage.measure import label, regionprops\n>>> from skimage.segmentation import clear_border\n>>> max_question_points = str(9.0)\n>>> earned_points = 0\n>>> os.environ['EARNED_POINTS'] = str(earned_points)\n>>> os.environ['TOTAL_POINTS_FREE_RESPONSE'] = str(105.0)\n>>> log_variable('total-points', f'week9-lab, 1_angry_birds_image', 105.0)\n>>> question_id = 'load-and-visualize-image-1'\n>>> max_score = 1.0\n>>> score = 0\n>>> assert image_path == 'angry-bird.webp', 'Image path is incorrect.'\n>>> if image_path == 'angry-bird.webp':\n...     score = 1.0\n>>> earned_points = float(os.environ.get('EARNED_POINTS', 0))\n>>> earned_points += score\n>>> log_variable('1_angry_birds_image', f'{score}, {max_score}', question_id)\n>>> os.environ['EARNED_POINTS'] = str(earned_points)\n>>> responses = update_responses(question_id, str(image_path))\n",
                  "failure_message": "Failed: Image path is incorrect.",
                  "hidden": false,
                  "locked": false,
                  "points": 1,
                  "success_message": "Success: Image path assigned correctly."
                },
                {
                  "code": ">>> from pykubegrader.telemetry import ensure_responses, log_variable, score_question, submit_question, telemetry, update_responses\n>>> import os\n>>> import base64\n>>> import numpy as np\n>>> import matplotlib.pyplot as plt\n>>> from skimage import io, color, filters, feature, morphology\n>>> from skimage.measure import label, regionprops\n>>> from skimage.segmentation import clear_border\n>>> question_id = 'load-and-visualize-image-2'\n>>> max_score = 1.0\n>>> score = 0\n>>> image_loaded = isinstance(image, np.ndarray)\n>>> assert image_loaded, 'Image failed to load.'\n>>> if image_loaded:\n...     score = 1.0\n>>> earned_points = float(os.environ.get('EARNED_POINTS', 0))\n>>> earned_points += score\n>>> log_variable('1_angry_birds_image', f'{score}, {max_score}', question_id)\n>>> os.environ['EARNED_POINTS'] = str(earned_points)\n>>> responses = update_responses(question_id, str(image_loaded))\n",
                  "failure_message": "Failed: Image not loaded correctly.",
                  "hidden": false,
                  "locked": false,
                  "points": 1,
                  "success_message": "Success: Image loaded successfully."
                },
                {
                  "code": ">>> from pykubegrader.telemetry import ensure_responses, log_variable, score_question, submit_question, telemetry, update_responses\n>>> import os\n>>> import base64\n>>> import numpy as np\n>>> import matplotlib.pyplot as plt\n>>> from skimage import io, color, filters, feature, morphology\n>>> from skimage.measure import label, regionprops\n>>> from skimage.segmentation import clear_border\n>>> question_id = 'load-and-visualize-image-3'\n>>> max_score = 1.0\n>>> score = 0\n>>> gray_image_type = isinstance(gray_image, np.ndarray)\n>>> assert gray_image_type, 'Grayscale conversion failed.'\n>>> if gray_image_type:\n...     score = 1.0\n>>> earned_points = float(os.environ.get('EARNED_POINTS', 0))\n>>> earned_points += score\n>>> log_variable('1_angry_birds_image', f'{score}, {max_score}', question_id)\n>>> os.environ['EARNED_POINTS'] = str(earned_points)\n>>> responses = update_responses(question_id, str(gray_image_type))\n",
                  "failure_message": "Failed: Image not converted to grayscale correctly.",
                  "hidden": false,
                  "locked": false,
                  "points": 1,
                  "success_message": "Success: Image converted to grayscale."
                },
                {
                  "code": ">>> from pykubegrader.telemetry import ensure_responses, log_variable, score_question, submit_question, telemetry, update_responses\n>>> import os\n>>> import base64\n>>> import numpy as np\n>>> import matplotlib.pyplot as plt\n>>> from skimage import io, color, filters, feature, morphology\n>>> from skimage.measure import label, regionprops\n>>> from skimage.segmentation import clear_border\n>>> question_id = 'load-and-visualize-image-4'\n>>> max_score = 1.0\n>>> score = 0\n>>> fig_created = isinstance(fig, plt.Figure)\n>>> assert fig_created, 'Figure creation failed.'\n>>> if fig_created:\n...     score = 1.0\n>>> earned_points = float(os.environ.get('EARNED_POINTS', 0))\n>>> earned_points += score\n>>> log_variable('1_angry_birds_image', f'{score}, {max_score}', question_id)\n>>> os.environ['EARNED_POINTS'] = str(earned_points)\n>>> responses = update_responses(question_id, str(fig_created))\n",
                  "failure_message": "Failed: Image display did not execute properly.",
                  "hidden": false,
                  "locked": false,
                  "points": 1,
                  "success_message": "Success: Image displayed successfully."
                },
                {
                  "code": ">>> from pykubegrader.telemetry import ensure_responses, log_variable, score_question, submit_question, telemetry, update_responses\n>>> import os\n>>> import base64\n>>> import numpy as np\n>>> import matplotlib.pyplot as plt\n>>> from skimage import io, color, filters, feature, morphology\n>>> from skimage.measure import label, regionprops\n>>> from skimage.segmentation import clear_border\n>>> question_id = 'load-and-visualize-image-5'\n>>> max_score = 5.0\n>>> score = 0\n>>> exec(base64.b64decode('dmFsdWUgPSBucC5zdW0oaW1hZ2Up').decode())\n>>> assert value == 329469408, 'Figure creation failed.'\n>>> if value == 329469408:\n...     score = 5.0\n>>> earned_points = float(os.environ.get('EARNED_POINTS', 0))\n>>> earned_points += score\n>>> log_variable('1_angry_birds_image', f'{score}, {max_score}', question_id)\n>>> os.environ['EARNED_POINTS'] = str(earned_points)\n>>> responses = update_responses(question_id, str(image))\n",
                  "failure_message": "Failed: Image display did not execute properly.",
                  "hidden": false,
                  "locked": false,
                  "points": 5,
                  "success_message": "Success: Image displayed successfully."
                }
              ],
              "scored": true,
              "setup": "",
              "teardown": "",
              "type": "doctest"
            }
          ]
        },
        "refinement-dilation-and-hole-filling": {
          "name": "refinement-dilation-and-hole-filling",
          "points": null,
          "suites": [
            {
              "cases": [
                {
                  "code": ">>> from pykubegrader.telemetry import ensure_responses, log_variable, score_question, submit_question, telemetry, update_responses\n>>> import os\n>>> import base64\n>>> import numpy as np\n>>> import matplotlib.pyplot as plt\n>>> from skimage import io, color, filters, feature, morphology\n>>> from skimage.measure import label, regionprops\n>>> from skimage.segmentation import clear_border\n>>> max_question_points = str(13.0)\n>>> earned_points = 0\n>>> os.environ['EARNED_POINTS'] = str(earned_points)\n>>> os.environ['TOTAL_POINTS_FREE_RESPONSE'] = str(105.0)\n>>> log_variable('total-points', f'week9-lab, 1_angry_birds_image', 105.0)\n>>> question_id = 'refinement-dilation-and-hole-filling-1'\n>>> max_score = 1.0\n>>> score = 0\n>>> dilated_edges_type = isinstance(dilated_edges, np.ndarray)\n>>> assert dilated_edges_type, 'Edge dilation failed.'\n>>> if dilated_edges_type:\n...     score = 1.0\n>>> earned_points = float(os.environ.get('EARNED_POINTS', 0))\n>>> earned_points += score\n>>> log_variable('1_angry_birds_image', f'{score}, {max_score}', question_id)\n>>> os.environ['EARNED_POINTS'] = str(earned_points)\n>>> responses = update_responses(question_id, str(dilated_edges_type))\n",
                  "failure_message": "Failed: Edge dilation did not execute properly.",
                  "hidden": false,
                  "locked": false,
                  "points": 1,
                  "success_message": "Success: Edges dilated correctly."
                },
                {
                  "code": ">>> from pykubegrader.telemetry import ensure_responses, log_variable, score_question, submit_question, telemetry, update_responses\n>>> import os\n>>> import base64\n>>> import numpy as np\n>>> import matplotlib.pyplot as plt\n>>> from skimage import io, color, filters, feature, morphology\n>>> from skimage.measure import label, regionprops\n>>> from skimage.segmentation import clear_border\n>>> question_id = 'refinement-dilation-and-hole-filling-2'\n>>> max_score = 1.0\n>>> score = 0\n>>> filled_mask_type = isinstance(filled_mask, np.ndarray)\n>>> assert filled_mask_type, 'Hole filling failed.'\n>>> if filled_mask_type:\n...     score = 1.0\n>>> earned_points = float(os.environ.get('EARNED_POINTS', 0))\n>>> earned_points += score\n>>> log_variable('1_angry_birds_image', f'{score}, {max_score}', question_id)\n>>> os.environ['EARNED_POINTS'] = str(earned_points)\n>>> responses = update_responses(question_id, str(filled_mask_type))\n",
                  "failure_message": "Failed: Hole filling did not execute properly.",
                  "hidden": false,
                  "locked": false,
                  "points": 1,
                  "success_message": "Success: Holes filled correctly."
                },
                {
                  "code": ">>> from pykubegrader.telemetry import ensure_responses, log_variable, score_question, submit_question, telemetry, update_responses\n>>> import os\n>>> import base64\n>>> import numpy as np\n>>> import matplotlib.pyplot as plt\n>>> from skimage import io, color, filters, feature, morphology\n>>> from skimage.measure import label, regionprops\n>>> from skimage.segmentation import clear_border\n>>> question_id = 'refinement-dilation-and-hole-filling-3'\n>>> max_score = 1.0\n>>> score = 0\n>>> filled_mask_cleaned = np.any(filled_mask)\n>>> assert filled_mask_cleaned, 'Filled mask is empty after small object removal.'\n>>> if filled_mask_cleaned:\n...     score = 1.0\n>>> earned_points = float(os.environ.get('EARNED_POINTS', 0))\n>>> earned_points += score\n>>> log_variable('1_angry_birds_image', f'{score}, {max_score}', question_id)\n>>> os.environ['EARNED_POINTS'] = str(earned_points)\n>>> responses = update_responses(question_id, str(filled_mask_cleaned))\n",
                  "failure_message": "Failed: Small objects were not removed properly.",
                  "hidden": false,
                  "locked": false,
                  "points": 1,
                  "success_message": "Success: Small objects removed correctly."
                },
                {
                  "code": ">>> from pykubegrader.telemetry import ensure_responses, log_variable, score_question, submit_question, telemetry, update_responses\n>>> import os\n>>> import base64\n>>> import numpy as np\n>>> import matplotlib.pyplot as plt\n>>> from skimage import io, color, filters, feature, morphology\n>>> from skimage.measure import label, regionprops\n>>> from skimage.segmentation import clear_border\n>>> question_id = 'refinement-dilation-and-hole-filling-4'\n>>> max_score = 1.0\n>>> score = 0\n>>> fig_created = isinstance(fig, plt.Figure)\n>>> assert fig_created, 'Figure creation failed.'\n>>> if fig_created:\n...     score = 1.0\n>>> earned_points = float(os.environ.get('EARNED_POINTS', 0))\n>>> earned_points += score\n>>> log_variable('1_angry_birds_image', f'{score}, {max_score}', question_id)\n>>> os.environ['EARNED_POINTS'] = str(earned_points)\n>>> responses = update_responses(question_id, str(fig_created))\n",
                  "failure_message": "Failed: Visualization figure creation failed.",
                  "hidden": false,
                  "locked": false,
                  "points": 1,
                  "success_message": "Success: Visualization figure created successfully."
                },
                {
                  "code": ">>> from pykubegrader.telemetry import ensure_responses, log_variable, score_question, submit_question, telemetry, update_responses\n>>> import os\n>>> import base64\n>>> import numpy as np\n>>> import matplotlib.pyplot as plt\n>>> from skimage import io, color, filters, feature, morphology\n>>> from skimage.measure import label, regionprops\n>>> from skimage.segmentation import clear_border\n>>> question_id = 'refinement-dilation-and-hole-filling-5'\n>>> max_score = 3.0\n>>> score = 0\n>>> assert filled_mask.shape == (640, 960), 'Filled mask dimensions do not match original image dimensions.'\n>>> if filled_mask.shape == (640, 960):\n...     score = 3.0\n>>> earned_points = float(os.environ.get('EARNED_POINTS', 0))\n>>> earned_points += score\n>>> log_variable('1_angry_birds_image', f'{score}, {max_score}', question_id)\n>>> os.environ['EARNED_POINTS'] = str(earned_points)\n>>> responses = update_responses(question_id, str(filled_mask))\n",
                  "failure_message": "Failed: Filled mask dimensions do not match input image dimensions.",
                  "hidden": false,
                  "locked": false,
                  "points": 3,
                  "success_message": "Success: Filled mask dimensions match input image dimensions."
                },
                {
                  "code": ">>> from pykubegrader.telemetry import ensure_responses, log_variable, score_question, submit_question, telemetry, update_responses\n>>> import os\n>>> import base64\n>>> import numpy as np\n>>> import matplotlib.pyplot as plt\n>>> from skimage import io, color, filters, feature, morphology\n>>> from skimage.measure import label, regionprops\n>>> from skimage.segmentation import clear_border\n>>> question_id = 'refinement-dilation-and-hole-filling-6'\n>>> max_score = 3.0\n>>> score = 0\n>>> assert edges.shape == (640, 960), 'Edge dimensions do not match original image dimensions.'\n>>> if edges.shape == (640, 960):\n...     score = 3.0\n>>> earned_points = float(os.environ.get('EARNED_POINTS', 0))\n>>> earned_points += score\n>>> log_variable('1_angry_birds_image', f'{score}, {max_score}', question_id)\n>>> os.environ['EARNED_POINTS'] = str(earned_points)\n>>> responses = update_responses(question_id, str(edges))\n",
                  "failure_message": "Failed: Edge dimensions do not match input image dimensions.",
                  "hidden": false,
                  "locked": false,
                  "points": 3,
                  "success_message": "Success: Edge dimensions match input image dimensions."
                },
                {
                  "code": ">>> from pykubegrader.telemetry import ensure_responses, log_variable, score_question, submit_question, telemetry, update_responses\n>>> import os\n>>> import base64\n>>> import numpy as np\n>>> import matplotlib.pyplot as plt\n>>> from skimage import io, color, filters, feature, morphology\n>>> from skimage.measure import label, regionprops\n>>> from skimage.segmentation import clear_border\n>>> question_id = 'refinement-dilation-and-hole-filling-7'\n>>> max_score = 3.0\n>>> score = 0\n>>> mask_shape_match = filled_mask.shape == edges.shape\n>>> assert mask_shape_match, 'Filled mask dimensions do not match original image dimensions.'\n>>> if mask_shape_match:\n...     score = 3.0\n>>> earned_points = float(os.environ.get('EARNED_POINTS', 0))\n>>> earned_points += score\n>>> log_variable('1_angry_birds_image', f'{score}, {max_score}', question_id)\n>>> os.environ['EARNED_POINTS'] = str(earned_points)\n>>> responses = update_responses(question_id, str(mask_shape_match))\n",
                  "failure_message": "Failed: Mask dimensions do not match input image dimensions.",
                  "hidden": false,
                  "locked": false,
                  "points": 3,
                  "success_message": "Success: Mask dimensions match input image dimensions."
                }
              ],
              "scored": true,
              "setup": "",
              "teardown": "",
              "type": "doctest"
            }
          ]
        },
        "writing-main": {
          "name": "writing-main",
          "points": null,
          "suites": [
            {
              "cases": [
                {
                  "code": ">>> from pykubegrader.telemetry import ensure_responses, log_variable, score_question, submit_question, telemetry, update_responses\n>>> import os\n>>> import base64\n>>> max_question_points = str(5.0)\n>>> earned_points = 0\n>>> os.environ['EARNED_POINTS'] = str(earned_points)\n>>> os.environ['TOTAL_POINTS_FREE_RESPONSE'] = str(105.0)\n>>> log_variable('total-points', f'week9-lab, 1_angry_birds_image', 105.0)\n>>> question_id = 'writing-main-1'\n>>> max_score = 1.0\n>>> score = 0\n>>> pipeline_executed = True\n>>> assert pipeline_executed, 'MaskBuilder pipeline did not execute correctly.'\n>>> if pipeline_executed:\n...     score = 1.0\n>>> earned_points = float(os.environ.get('EARNED_POINTS', 0))\n>>> earned_points += score\n>>> log_variable('1_angry_birds_image', f'{score}, {max_score}', question_id)\n>>> os.environ['EARNED_POINTS'] = str(earned_points)\n>>> responses = update_responses(question_id, str(pipeline_executed))\n",
                  "failure_message": "Failed: MaskBuilder pipeline encountered an issue.",
                  "hidden": false,
                  "locked": false,
                  "points": 1,
                  "success_message": "Success: MaskBuilder pipeline runs correctly."
                },
                {
                  "code": ">>> from pykubegrader.telemetry import ensure_responses, log_variable, score_question, submit_question, telemetry, update_responses\n>>> import os\n>>> import base64\n>>> question_id = 'writing-main-2'\n>>> max_score = 1.0\n>>> score = 0\n>>> masks_built = isinstance(mask_builder.masks, dict) and len(mask_builder.masks) > 0\n>>> assert masks_built, 'Masks were not created properly.'\n>>> if masks_built:\n...     score = 1.0\n>>> earned_points = float(os.environ.get('EARNED_POINTS', 0))\n>>> earned_points += score\n>>> log_variable('1_angry_birds_image', f'{score}, {max_score}', question_id)\n>>> os.environ['EARNED_POINTS'] = str(earned_points)\n>>> responses = update_responses(question_id, str(masks_built))\n",
                  "failure_message": "Failed: Masks were not created properly.",
                  "hidden": false,
                  "locked": false,
                  "points": 1,
                  "success_message": "Success: Masks are built and stored properly."
                },
                {
                  "code": ">>> from pykubegrader.telemetry import ensure_responses, log_variable, score_question, submit_question, telemetry, update_responses\n>>> import os\n>>> import base64\n>>> question_id = 'writing-main-3'\n>>> max_score = 1.0\n>>> score = 0\n>>> labels_extracted = isinstance(mask_builder.labels_dict, dict) and len(mask_builder.labels_dict) > 0\n>>> assert labels_extracted, 'Labels and regions were not extracted properly.'\n>>> if labels_extracted:\n...     score = 1.0\n>>> earned_points = float(os.environ.get('EARNED_POINTS', 0))\n>>> earned_points += score\n>>> log_variable('1_angry_birds_image', f'{score}, {max_score}', question_id)\n>>> os.environ['EARNED_POINTS'] = str(earned_points)\n>>> responses = update_responses(question_id, str(labels_extracted))\n",
                  "failure_message": "Failed: Labels and regions were not extracted properly.",
                  "hidden": false,
                  "locked": false,
                  "points": 1,
                  "success_message": "Success: Labels and regions extracted properly."
                },
                {
                  "code": ">>> from pykubegrader.telemetry import ensure_responses, log_variable, score_question, submit_question, telemetry, update_responses\n>>> import os\n>>> import base64\n>>> question_id = 'writing-main-4'\n>>> max_score = 1.0\n>>> score = 0\n>>> visualizer_functions = all((callable(getattr(Visualizer, method)) for method in ['display_masks', 'display_overlays', 'display_bounding_boxes']))\n>>> assert visualizer_functions, 'One or more Visualizer functions did not execute correctly.'\n>>> if visualizer_functions:\n...     score = 1.0\n>>> earned_points = float(os.environ.get('EARNED_POINTS', 0))\n>>> earned_points += score\n>>> log_variable('1_angry_birds_image', f'{score}, {max_score}', question_id)\n>>> os.environ['EARNED_POINTS'] = str(earned_points)\n>>> responses = update_responses(question_id, str(visualizer_functions))\n",
                  "failure_message": "Failed: One or more Visualizer functions did not execute correctly.",
                  "hidden": false,
                  "locked": false,
                  "points": 1,
                  "success_message": "Success: Visualizer functions execute correctly."
                },
                {
                  "code": ">>> from pykubegrader.telemetry import ensure_responses, log_variable, score_question, submit_question, telemetry, update_responses\n>>> import os\n>>> import base64\n>>> question_id = 'writing-main-5'\n>>> max_score = 1.0\n>>> score = 0\n>>> bounding_boxes_displayed = True\n>>> assert bounding_boxes_displayed, 'Bounding boxes were not displayed correctly.'\n>>> if bounding_boxes_displayed:\n...     score = 1.0\n>>> earned_points = float(os.environ.get('EARNED_POINTS', 0))\n>>> earned_points += score\n>>> log_variable('1_angry_birds_image', f'{score}, {max_score}', question_id)\n>>> os.environ['EARNED_POINTS'] = str(earned_points)\n>>> responses = update_responses(question_id, str(bounding_boxes_displayed))\n",
                  "failure_message": "Failed: Bounding boxes were not displayed correctly.",
                  "hidden": false,
                  "locked": false,
                  "points": 1,
                  "success_message": "Success: Bounding boxes displayed correctly."
                }
              ],
              "scored": true,
              "setup": "",
              "teardown": "",
              "type": "doctest"
            }
          ]
        }
      }
    }
  },
  "nbformat": 4,
  "nbformat_minor": 2
}