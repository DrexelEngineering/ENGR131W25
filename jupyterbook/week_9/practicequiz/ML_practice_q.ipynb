{
  "cells": [
    {
      "cell_type": "code",
      "execution_count": null,
      "metadata": {
        "deletable": false,
        "editable": false,
        "tags": [
          "skip-execution"
        ]
      },
      "outputs": [],
      "source": [
        "# You must make sure to run all cells in sequence using shift + enter or you might encounter errors\n",
        "from pykubegrader.initialize import initialize_assignment\n",
        "\n",
        "responses = initialize_assignment(\"ML_practice_q\", \"week_9\", \"practicequiz\", assignment_points = 20.0, assignment_tag = 'week9-practicequiz')\n",
        "\n",
        "# Initialize Otter\n",
        "import otter\n",
        "grader = otter.Notebook(\"ML_practice_q.ipynb\")"
      ]
    },
    {
      "cell_type": "markdown",
      "metadata": {
        "deletable": false,
        "editable": false
      },
      "source": [
        "# \u2753Machine Learning Fashion-MNIST \ud83d\udc57\ud83d\udc56\ud83d\udc55\n",
        " \n",
        "You are presented with a dataset of 60,000 28x28 grayscale images of fashion items, with 10 categories. It is your job to build a classifier algorithm that can correctly classify a new image using scikit-learn. Your goal is to train a model that achieves at least 80% accuracy on the test set. We are going to provide you with a guide to help you visualize that data, however will not provide you with the code to train the model. You can use any algorithm you want to train the model as long as the model is assigned to a variable called `model`, and it has a `.predict()` method, that takes in a numpy array of images and returns a numpy array of predictions.\n",
        "\n",
        "We are only going to grade the final model accuracy on a hidden test set. \ud83c\udfaf"
      ]
    },
    {
      "cell_type": "code",
      "execution_count": null,
      "metadata": {
        "tags": [
          "otter_answer_cell",
          "skip-execution"
        ]
      },
      "outputs": [],
      "source": [
        "import numpy as np\n",
        "import matplotlib.pyplot as plt\n",
        "from tensorflow.keras.datasets import fashion_mnist\n",
        "\n",
        "# This is where you should import packages for ML model and metrics\n",
        "...\n",
        "\n",
        "# Step 1: Load the Fashion-MNIST dataset\n",
        "# the data is already split into training and test sets\n",
        "(X_train, y_train), (X_test, y_test) = fashion_mnist.load_data()\n",
        "\n",
        "# Step 2: Visualize some samples from the dataset\n",
        "# It is good practice to visualize some samples from the dataset to get an idea of what the data looks like\n",
        "# you can visualize the images by using plt.imshow(), where X_train[i] is the image you want to visualize\n",
        "# you can also use the label y_train[i] to label the image, the label is an integer between 0 and 9\n",
        "# the labels correspond to the following fashion items:\n",
        "# 0: T-shirt/top, 1: Trouser, 2: Pullover, 3: Dress, 4: Coat, 5: Sandal, 6: Shirt, 7: Sneaker, 8: Bag, 9: Ankle boot\n",
        "...\n",
        "\n",
        "# Step 3: Preprocess the data\n",
        "# your model must take a 2D array of shape (n_samples, n_features), the data should be normalized to be between 0 and 1\n",
        "X_train = X_train.reshape(X_train.shape[0], -1) / 255.0  # Normalize and flatten\n",
        "X_test = X_test.reshape(X_test.shape[0], -1) / 255.0\n",
        "\n",
        "print(X_train.shape)\n",
        "print(X_test.shape)\n",
        "\n",
        "# Step 4: Train your model, this is where you can try different algorithms, make sure the model is assigned to a variable called `model`\n",
        "...\n",
        "\n",
        "# Step 5: Evaluate the model\n",
        "# you can validate your model by checking the accuracy, classification report, and confusion matrix, make sure you are using the test set\n",
        "...\n",
        "\n",
        "# Step 6: Display results\n",
        "# you can display the results by printing the accuracy, classification report, and confusion matrix\n",
        "...\n"
      ]
    },
    {
      "cell_type": "code",
      "execution_count": null,
      "metadata": {
        "deletable": false,
        "editable": false,
        "tags": [
          "skip-execution"
        ]
      },
      "outputs": [],
      "source": [
        "grader.check(\"Machine-learning-keras-fashion-mnist\")"
      ]
    },
    {
      "cell_type": "markdown",
      "id": "1b69b978",
      "metadata": {},
      "source": [
        "## Submitting Assignment\n",
        "\n",
        "Please run the following block of code using `shift + enter` to submit your assignment, you should see your score."
      ]
    },
    {
      "cell_type": "code",
      "execution_count": null,
      "id": "cc72a1e6",
      "metadata": {
        "deletable": false,
        "editable": true,
        "tags": [
          "skip-execution"
        ]
      },
      "outputs": [],
      "source": [
        "from pykubegrader.submit.submit_assignment import submit_assignment\n",
        "\n",
        "submit_assignment(\"week9-practicequiz\", \"ML_practice_q\")"
      ]
    }
  ],
  "metadata": {
    "kernelspec": {
      "display_name": "Python 3",
      "language": "python",
      "name": "python3"
    },
    "language_info": {
      "codemirror_mode": {
        "name": "ipython",
        "version": 3
      },
      "file_extension": ".py",
      "mimetype": "text/x-python",
      "name": "python",
      "nbconvert_exporter": "python",
      "pygments_lexer": "ipython3",
      "version": "3.12.9"
    },
    "otter": {
      "OK_FORMAT": true,
      "tests": {
        "Machine-learning-keras-fashion-mnist": {
          "name": "Machine-learning-keras-fashion-mnist",
          "points": null,
          "suites": [
            {
              "cases": [
                {
                  "code": ">>> from pykubegrader.telemetry import ensure_responses, log_variable, score_question, submit_question, telemetry, update_responses\n>>> import os\n>>> import base64\n>>> from tensorflow.keras.datasets import fashion_mnist\n>>> from sklearn.metrics import accuracy_score, classification_report, confusion_matrix\n>>> max_question_points = str(20.0)\n>>> earned_points = 0\n>>> os.environ['EARNED_POINTS'] = str(earned_points)\n>>> os.environ['TOTAL_POINTS_FREE_RESPONSE'] = str(20.0)\n>>> log_variable('total-points', f'week9-practicequiz, ML_practice_q', 20.0)\n>>> question_id = 'Machine-learning-keras-fashion-mnist-1'\n>>> max_score = 20.0\n>>> score = 0\n>>> (X_train, y_train), (X_test, y_test) = fashion_mnist.load_data()\n>>> X_train = X_train.reshape(X_train.shape[0], -1) / 255.0\n>>> X_test = X_test.reshape(X_test.shape[0], -1) / 255.0\n>>> y_pred = model.predict(X_test)\n>>> accuracy = accuracy_score(y_test, y_pred)\n>>> assert accuracy >= 0.8, 'Model accuracy is not greater than or equal to 80%.'\n>>> if accuracy >= 0.8:\n...     score = 20.0\n>>> earned_points = float(os.environ.get('EARNED_POINTS', 0))\n>>> earned_points += score\n>>> log_variable('ML_practice_q', f'{score}, {max_score}', question_id)\n>>> os.environ['EARNED_POINTS'] = str(earned_points)\n",
                  "failure_message": "Model is not trained correctly.",
                  "hidden": false,
                  "locked": false,
                  "points": 20,
                  "success_message": "Model trained correctly."
                }
              ],
              "scored": true,
              "setup": "",
              "teardown": "",
              "type": "doctest"
            }
          ]
        }
      }
    }
  },
  "nbformat": 4,
  "nbformat_minor": 2
}