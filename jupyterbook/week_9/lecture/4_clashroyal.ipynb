{
  "cells": [
    {
      "cell_type": "code",
      "execution_count": null,
      "id": "b280779b",
      "metadata": {
        "tags": [
          "skip-execution"
        ]
      },
      "outputs": [],
      "source": [
        "from pykubegrader.tokens.validate_token import validate_token\n",
        "validate_token('type the key provided by your instructor here', assignment = 'week9-lecture')\n"
      ]
    },
    {
      "cell_type": "code",
      "execution_count": null,
      "metadata": {
        "deletable": false,
        "editable": false,
        "tags": [
          "skip-execution"
        ]
      },
      "outputs": [],
      "source": [
        "validate_token(assignment = 'week9-lecture')\n",
        "\n",
        "# You must make sure to run all cells in sequence using shift + enter or you might encounter errors\n",
        "from pykubegrader.initialize import initialize_assignment\n",
        "\n",
        "responses = initialize_assignment(\"4_clashroyal\", \"week_9\", \"lecture\", assignment_points = 73.0, assignment_tag = 'week9-lecture')\n",
        "\n",
        "# Initialize Otter\n",
        "import otter\n",
        "grader = otter.Notebook(\"4_clashroyal.ipynb\")"
      ]
    },
    {
      "cell_type": "markdown",
      "metadata": {
        "deletable": false,
        "editable": false,
        "slideshow": {
          "slide_type": "slide"
        }
      },
      "source": [
        "# Clash Royal Object Detection\n",
        "\n",
        "In this guideded tutorial we will walk through the process of detecting objects in an image using the `scikit-image` library.\n",
        "\n",
        "We will start by loading the image and converting it to grayscale.\n"
      ]
    },
    {
      "cell_type": "markdown",
      "metadata": {
        "deletable": false,
        "editable": false
      },
      "source": [
        "## Visualizing the images\n",
        "\n",
        "We will start by visualizing the two images that we will be using for this tutorial. The first image is a background image and the second image a battle scene between Professor Agar and a random Foe.\n",
        "\n",
        "Having the background image allows us to detect objects that are not part of the background."
      ]
    },
    {
      "cell_type": "code",
      "execution_count": null,
      "metadata": {
        "slideshow": {
          "slide_type": "fragment"
        },
        "tags": [
          "otter_answer_cell",
          "skip-execution"
        ]
      },
      "outputs": [],
      "source": [
        "# Import necessary libraries\n",
        "# Scikit-image is a Python library for image processing. We will use the io, color, filters, feature, measure, and morphology modules.\n",
        "# from scipy import ndimage as ndi\n",
        "# matplotlib and numpy using common aliases plt and np\n",
        "...\n",
        "\n",
        "# Load the Clash Royale image\n",
        "# use the io module to load the image, from the assets/figures directory\n",
        "# the background image is clash1.jpeg and the image to detect is clash2.jpeg\n",
        "...\n",
        "\n",
        "\n",
        "# If the image has 4 channels (RGBA), convert it to RGB by dropping the alpha channel\n",
        "# hint, you can use the [..., :3] syntax to drop the alpha channel\n",
        "...\n",
        "\n",
        "# Visualize the images\n",
        "# build a figure with two subplots, one for the background and one for the image\n",
        "# use the figsize parameter to set the size of the figure to 10x5\n",
        "# use the axis parameter to turn off the axis labels\n",
        "# use the imshow function to display the images\n",
        "# use the title function to set the title of the subplots, the title of the first image is \"Background\" and the title of the second image is \"Image\"\n",
        "# use the show function to display the figure\n",
        "...\n",
        "\n",
        "plt.show()"
      ]
    },
    {
      "cell_type": "code",
      "execution_count": null,
      "metadata": {
        "deletable": false,
        "editable": false,
        "tags": [
          "skip-execution"
        ]
      },
      "outputs": [],
      "source": [
        "grader.check(\"Clash-Royal-Object-Detection-loading-images\")"
      ]
    },
    {
      "cell_type": "code",
      "execution_count": null,
      "metadata": {
        "slideshow": {
          "slide_type": "fragment"
        },
        "tags": [
          "otter_answer_cell",
          "skip-execution"
        ]
      },
      "outputs": [],
      "source": [
        "# Convert the images to grayscale\n",
        "# use the color module method rgb2gray to convert the images to grayscale, assign the results to image_gray and background_gray\n",
        "...\n",
        "\n",
        "# Apply edge detection filters\n",
        "# use the filters module method sobel to apply the sobel edge detection filter to the background_gray and image_gray images, assign the results to edges_sobel_background and edges_sobel_image\n",
        "# use the filters module method scharr to apply the scharr edge detection filter to the background_gray and image_gray images, assign the results to edges_scharr_background and edges_scharr_image\n",
        "# use the feature module method canny to apply the canny edge detection filter to the background_gray and image_gray images, assign the results to edges_canny_background and edges_canny_image\n",
        "...\n",
        "\n",
        "# Combine edge filters for improved segmentation\n",
        "# use the numpy module method add to combine the edges_sobel_background, edges_scharr_background, and edges_canny_background images, assign the result to combined_edges_background\n",
        "# use the numpy module method add to combine the edges_sobel_image, edges_scharr_image, and edges_canny_image images, assign the result to combined_edges_image\n",
        "...\n",
        "\n",
        "# Visualize the combined edge filters\n",
        "# use the matplotlib module method figure to create a figure with two subplots, one for the background and one for the image, make the figure size 10x5\n",
        "# use the matplotlib module method subplot to create the subplots, the first subplot is for the background and the second is for the image\n",
        "# use the matplotlib module method imshow to display the combined_edges_background and combined_edges_image images\n",
        "# use the matplotlib module method title to set the title of the subplots, the title of the first subplot is \"Background\" and the title of the second subplot is \"Image\"\n",
        "# use the matplotlib module method show to display the figure\n",
        "fig, ax = plt.subplots(1, 2, figsize=(10, 5))\n",
        "\n",
        "ax[0].imshow(combined_edges_background, cmap=\"gray\")\n",
        "ax[0].set_title(\"Background\")\n",
        "ax[0].axis(\"off\")\n",
        "\n",
        "ax[1].imshow(combined_edges_image, cmap=\"gray\")\n",
        "ax[1].set_title(\"Image\")\n",
        "ax[1].axis(\"off\")\n",
        "\n",
        "plt.show()"
      ]
    },
    {
      "cell_type": "code",
      "execution_count": null,
      "metadata": {
        "deletable": false,
        "editable": false,
        "tags": [
          "skip-execution"
        ]
      },
      "outputs": [],
      "source": [
        "grader.check(\"Edge-Detection-and-Thresholding\")"
      ]
    },
    {
      "cell_type": "code",
      "execution_count": null,
      "metadata": {
        "tags": [
          "otter_answer_cell",
          "skip-execution"
        ]
      },
      "outputs": [],
      "source": [
        "# Compute the difference between the combined edge detection for the background and image\n",
        "# use the numpy module method abs to compute the absolute difference between the combined_edges_background and combined_edges_image arrays, assign the result to edge_diff\n",
        "...\n",
        "\n",
        "fig, ax = plt.subplots(figsize=(10, 5))\n",
        "ax.imshow(edge_diff, cmap=\"gray\")\n",
        "ax.set_title(\"Edge Difference\")\n",
        "ax.axis(\"off\")\n",
        "plt.show()"
      ]
    },
    {
      "cell_type": "code",
      "execution_count": null,
      "metadata": {
        "deletable": false,
        "editable": false,
        "tags": [
          "skip-execution"
        ]
      },
      "outputs": [],
      "source": [
        "grader.check(\"edge-difference\")"
      ]
    },
    {
      "cell_type": "code",
      "execution_count": null,
      "metadata": {
        "tags": [
          "otter_answer_cell",
          "skip-execution"
        ]
      },
      "outputs": [],
      "source": [
        "# Thresholding to create a binary mask, where the threshold is 0.8\n",
        "...\n",
        "\n",
        "fig, ax = plt.subplots(1, 1, figsize=(10, 5))\n",
        "ax.imshow(binary_mask, cmap=\"gray\")\n",
        "ax.set_title(\"Binary Mask\")\n",
        "ax.axis(\"off\")\n",
        "plt.show()"
      ]
    },
    {
      "cell_type": "code",
      "execution_count": null,
      "metadata": {
        "deletable": false,
        "editable": false,
        "tags": [
          "skip-execution"
        ]
      },
      "outputs": [],
      "source": [
        "grader.check(\"binary-mask\")"
      ]
    },
    {
      "cell_type": "code",
      "execution_count": null,
      "metadata": {
        "tags": [
          "otter_answer_cell",
          "skip-execution"
        ]
      },
      "outputs": [],
      "source": [
        "# Perform morphological closing to close small gaps in the edges\n",
        "# use the morphology module method closing to perform morphological closing on the binary_mask image, assign the result to closed_mask\n",
        "# use the morphology module method square to create a square structuring element with a radius of 5\n",
        "...\n",
        "\n",
        "fig, ax = plt.subplots(1, 1, figsize=(10, 5))\n",
        "ax.imshow(closed_mask, cmap=\"gray\")\n",
        "ax.set_title(\"Closed Mask\")\n",
        "ax.axis(\"off\")\n",
        "plt.show()\n",
        "\n",
        "plt.show()"
      ]
    },
    {
      "cell_type": "code",
      "execution_count": null,
      "metadata": {
        "deletable": false,
        "editable": false,
        "tags": [
          "skip-execution"
        ]
      },
      "outputs": [],
      "source": [
        "grader.check(\"closing-mask\")"
      ]
    },
    {
      "cell_type": "code",
      "execution_count": null,
      "metadata": {
        "tags": [
          "otter_answer_cell",
          "skip-execution"
        ]
      },
      "outputs": [],
      "source": [
        "# Merge connected shapes using morphological dilation\n",
        "# use the morphology module method dilation to perform morphological dilation on the closed_mask image, assign the result to merged_mask\n",
        "# use the morphology module method square to create a square structuring element with a radius of 10\n",
        "...\n",
        "\n",
        "# Visualize the merged mask\n",
        "fig, ax = plt.subplots(1, 1, figsize=(10, 5))\n",
        "ax.imshow(merged_mask, cmap=\"gray\")\n",
        "ax.set_title(\"Merged Mask\")\n",
        "ax.axis(\"off\")\n",
        "plt.show()"
      ]
    },
    {
      "cell_type": "code",
      "execution_count": null,
      "metadata": {
        "deletable": false,
        "editable": false,
        "tags": [
          "skip-execution"
        ]
      },
      "outputs": [],
      "source": [
        "grader.check(\"meger-mask\")"
      ]
    },
    {
      "cell_type": "code",
      "execution_count": null,
      "metadata": {
        "tags": [
          "otter_answer_cell",
          "skip-execution"
        ]
      },
      "outputs": [],
      "source": [
        "# Remove small objects (noise) from the binary mask\n",
        "# use the morphology module method remove_small_objects to remove small objects from the merged_mask image, assign the result to cleaned_mask\n",
        "# use the min_size parameter to set the minimum size to 5000, this is in pixels.\n",
        "...\n",
        "\n",
        "fig, ax = plt.subplots(1, 1, figsize=(10, 5))\n",
        "ax.imshow(cleaned_mask, cmap=\"gray\")\n",
        "ax.set_title(\"Cleaned Mask\")\n",
        "ax.axis(\"off\")\n",
        "plt.show()\n",
        "\n",
        "plt.show()"
      ]
    },
    {
      "cell_type": "code",
      "execution_count": null,
      "metadata": {
        "deletable": false,
        "editable": false,
        "tags": [
          "skip-execution"
        ]
      },
      "outputs": [],
      "source": [
        "grader.check(\"clean-mask\")"
      ]
    },
    {
      "cell_type": "code",
      "execution_count": null,
      "metadata": {
        "tags": [
          "otter_answer_cell",
          "skip-execution"
        ]
      },
      "outputs": [],
      "source": [
        "# from skimage import io, measure, color\n",
        "# from skimage.measure import regionprops\n",
        "...\n",
        "\n",
        "# Threshold the image to create a binary mask\n",
        "# create a binary mask from the cleaned_mask image, where the threshold is 0.8, assign the result to binary_mask\n",
        "...\n",
        "\n",
        "# Label connected regions in the binary image\n",
        "# use the measure module method label to label the connected regions in the binary_mask image, assign the result to labels\n",
        "# use the connectivity parameter to set the connectivity to 2\n",
        "...\n",
        "\n",
        "# Get properties of labeled regions\n",
        "# use the regionprops function to get the properties of the labeled regions in the labels image, assign the result to regions\n",
        "...\n",
        "\n",
        "# Plot the segmented image\n",
        "# use the matplotlib module method figure to create a figure with a single subplot, make the figure size 10x10\n",
        "# use the matplotlib module method subplot to create the subplot\n",
        "# use the matplotlib module method imshow to display the color.label2rgb(labels, bg_label=0) image\n",
        "# use the matplotlib module method title to set the title of the subplot, the title is \"Segmented Image with Bounding Boxes\"\n",
        "# use the matplotlib module method axis to turn off the axis labels\n",
        "# use the matplotlib module method show to display the figure\n",
        "...\n",
        "\n",
        "# Draw bounding boxes around each labeled region\n",
        "# use a for loop to iterate over the regions\n",
        "# use the region.bbox attribute to get the coordinates of the bounding box\n",
        "# use the matplotlib module method Rectangle to draw the bounding box on the image\n",
        "# use the matplotlib module method add_patch to add the bounding box to the image\n",
        "# use the matplotlib module method show to display the figure\n",
        "...\n",
        "    # Get the coordinates of the bounding box\n",
        "    # use the region.bbox attribute to get the coordinates of the bounding box, assign the result to bbox\n",
        "    # use the region.bbox attribute to get the coordinates of the bounding box, assign the result to bbox assign the results to min_row, min_col, max_row, max_col\n",
        "    ...\n",
        "\n",
        "    # Draw the rectangle on the image\n",
        "    # use the matplotlib module method Rectangle to draw the bounding box on the image, assign the result to rect\n",
        "    # use the edgecolor parameter to set the edge color to red\n",
        "    # use the facecolor parameter to set the face color to none\n",
        "    # use the linewidth parameter to set the line width to 2\n",
        "    # the rectangle takes the coordinates (min_col, min_row) and the width and height of the rectangle (max_col - min_col, max_row - min_row)\n",
        "    ...\n",
        "    \n",
        "    # use the matplotlib module method add_patch to add the bounding box to the image\n",
        "    # use the ax.add_patch method to add the bounding box to the image\n",
        "    ...\n",
        "\n",
        "plt.show()"
      ]
    },
    {
      "cell_type": "code",
      "execution_count": null,
      "metadata": {
        "deletable": false,
        "editable": false,
        "tags": [
          "skip-execution"
        ]
      },
      "outputs": [],
      "source": [
        "grader.check(\"segment-image-regions\")"
      ]
    },
    {
      "cell_type": "markdown",
      "id": "0d65b27d",
      "metadata": {},
      "source": [
        "## Submitting Assignment\n",
        "\n",
        "Please run the following block of code using `shift + enter` to submit your assignment, you should see your score."
      ]
    },
    {
      "cell_type": "code",
      "execution_count": null,
      "id": "2f0784cf",
      "metadata": {
        "deletable": false,
        "editable": true,
        "tags": [
          "skip-execution"
        ]
      },
      "outputs": [],
      "source": [
        "from pykubegrader.tokens.validate_token import validate_token\n",
        "validate_token(assignment = 'week9-lecture')\n",
        "\n",
        "\n",
        "from pykubegrader.submit.submit_assignment import submit_assignment\n",
        "\n",
        "submit_assignment(\"week9-lecture\", \"4_clashroyal\")"
      ]
    }
  ],
  "metadata": {
    "kernelspec": {
      "display_name": "Python 3",
      "language": "python",
      "name": "python3"
    },
    "language_info": {
      "codemirror_mode": {
        "name": "ipython",
        "version": 3
      },
      "file_extension": ".py",
      "mimetype": "text/x-python",
      "name": "python",
      "nbconvert_exporter": "python",
      "pygments_lexer": "ipython3",
      "version": "3.12.9"
    },
    "otter": {
      "OK_FORMAT": true,
      "tests": {
        "Clash-Royal-Object-Detection-loading-images": {
          "name": "Clash-Royal-Object-Detection-loading-images",
          "points": null,
          "suites": [
            {
              "cases": [
                {
                  "code": ">>> from pykubegrader.telemetry import ensure_responses, log_variable, score_question, submit_question, telemetry, update_responses\n>>> import os\n>>> import base64\n>>> from pykubegrader.tokens.validate_token import validate_token\n>>> validate_token(assignment='week9-lecture')\n>>> import sys\n>>> max_question_points = str(11.0)\n>>> earned_points = 0\n>>> os.environ['EARNED_POINTS'] = str(earned_points)\n>>> os.environ['TOTAL_POINTS_FREE_RESPONSE'] = str(73.0)\n>>> from pykubegrader.tokens.validate_token import validate_token\n>>> validate_token(assignment='week9-lecture')\n>>> log_variable('total-points', f'week9-lecture, 4_clashroyal', 73.0)\n>>> question_id = 'Clash-Royal-Object-Detection-loading-images-1'\n>>> max_score = 1.0\n>>> score = 0\n>>> assert 'skimage' in sys.modules, 'scikit-image is not imported.'\n>>> assert 'scipy' in sys.modules, 'scipy is not imported.'\n>>> assert 'matplotlib.pyplot' in sys.modules, 'matplotlib.pyplot is not imported.'\n>>> assert 'numpy' in sys.modules, 'numpy is not imported.'\n>>> if 'skimage' in sys.modules and 'scipy' in sys.modules and ('matplotlib.pyplot' in sys.modules) and ('numpy' in sys.modules):\n...     score = 1.0\n>>> earned_points = float(os.environ.get('EARNED_POINTS', 0))\n>>> earned_points += score\n>>> log_variable('4_clashroyal', f'{score}, {max_score}', question_id)\n>>> os.environ['EARNED_POINTS'] = str(earned_points)\n",
                  "failure_message": "Failed: Required libraries are not imported correctly.",
                  "hidden": false,
                  "locked": false,
                  "points": 1,
                  "success_message": "Success: Required libraries are imported correctly!"
                },
                {
                  "code": ">>> from pykubegrader.telemetry import ensure_responses, log_variable, score_question, submit_question, telemetry, update_responses\n>>> import os\n>>> import base64\n>>> from pykubegrader.tokens.validate_token import validate_token\n>>> validate_token(assignment='week9-lecture')\n>>> question_id = 'Clash-Royal-Object-Detection-loading-images-2'\n>>> max_score = 1.0\n>>> score = 0\n>>> assert 'background' in globals(), 'Background image is not defined.'\n>>> assert isinstance(background, np.ndarray), 'Background is not a numpy array.'\n>>> assert background.size > 0, 'Background image is empty.'\n>>> if 'background' in globals() and isinstance(background, np.ndarray) and (background.size > 0):\n...     score = 1.0\n>>> earned_points = float(os.environ.get('EARNED_POINTS', 0))\n>>> earned_points += score\n>>> log_variable('4_clashroyal', f'{score}, {max_score}', question_id)\n>>> os.environ['EARNED_POINTS'] = str(earned_points)\n>>> responses = update_responses(question_id, str(background))\n",
                  "failure_message": "Failed: Background image is not loaded correctly.",
                  "hidden": false,
                  "locked": false,
                  "points": 1,
                  "success_message": "Success: Background image is loaded correctly!"
                },
                {
                  "code": ">>> from pykubegrader.telemetry import ensure_responses, log_variable, score_question, submit_question, telemetry, update_responses\n>>> import os\n>>> import base64\n>>> from pykubegrader.tokens.validate_token import validate_token\n>>> validate_token(assignment='week9-lecture')\n>>> question_id = 'Clash-Royal-Object-Detection-loading-images-3'\n>>> max_score = 1.0\n>>> score = 0\n>>> assert 'image' in globals(), 'Image to detect is not defined.'\n>>> assert isinstance(image, np.ndarray), 'Image to detect is not a numpy array.'\n>>> assert image.size > 0, 'Image to detect is empty.'\n>>> if 'image' in globals() and isinstance(image, np.ndarray) and (image.size > 0):\n...     score = 1.0\n>>> earned_points = float(os.environ.get('EARNED_POINTS', 0))\n>>> earned_points += score\n>>> log_variable('4_clashroyal', f'{score}, {max_score}', question_id)\n>>> os.environ['EARNED_POINTS'] = str(earned_points)\n>>> responses = update_responses(question_id, str(image))\n",
                  "failure_message": "Failed: Image to detect is not loaded correctly.",
                  "hidden": false,
                  "locked": false,
                  "points": 1,
                  "success_message": "Success: Image to detect is loaded correctly!"
                },
                {
                  "code": ">>> from pykubegrader.telemetry import ensure_responses, log_variable, score_question, submit_question, telemetry, update_responses\n>>> import os\n>>> import base64\n>>> from pykubegrader.tokens.validate_token import validate_token\n>>> validate_token(assignment='week9-lecture')\n>>> question_id = 'Clash-Royal-Object-Detection-loading-images-4'\n>>> max_score = 4.0\n>>> score = 0\n>>> background_color_sum = np.sum(background)\n>>> expected_background_sum = 1194260739\n>>> assert background_color_sum == expected_background_sum, 'Incorrect background image loaded.'\n>>> if background_color_sum == expected_background_sum:\n...     score = 4.0\n>>> earned_points = float(os.environ.get('EARNED_POINTS', 0))\n>>> earned_points += score\n>>> log_variable('4_clashroyal', f'{score}, {max_score}', question_id)\n>>> os.environ['EARNED_POINTS'] = str(earned_points)\n>>> responses = update_responses(question_id, str(background))\n",
                  "failure_message": "Failed: Incorrect background image loaded based on color sum.",
                  "hidden": false,
                  "locked": false,
                  "points": 4,
                  "success_message": "Success: Correct background image loaded based on color sum!"
                },
                {
                  "code": ">>> from pykubegrader.telemetry import ensure_responses, log_variable, score_question, submit_question, telemetry, update_responses\n>>> import os\n>>> import base64\n>>> from pykubegrader.tokens.validate_token import validate_token\n>>> validate_token(assignment='week9-lecture')\n>>> question_id = 'Clash-Royal-Object-Detection-loading-images-5'\n>>> max_score = 4.0\n>>> score = 0\n>>> image_color_sum = np.sum(image)\n>>> expected_image_sum = 1175362976\n>>> assert image_color_sum == expected_image_sum, 'Incorrect image to detect loaded.'\n>>> if image_color_sum == expected_image_sum:\n...     score = 4.0\n>>> earned_points = float(os.environ.get('EARNED_POINTS', 0))\n>>> earned_points += score\n>>> log_variable('4_clashroyal', f'{score}, {max_score}', question_id)\n>>> os.environ['EARNED_POINTS'] = str(earned_points)\n>>> responses = update_responses(question_id, str(image))\n",
                  "failure_message": "Failed: Incorrect image to detect loaded based on color sum.",
                  "hidden": false,
                  "locked": false,
                  "points": 4,
                  "success_message": "Success: Correct image to detect loaded based on color sum!"
                }
              ],
              "scored": true,
              "setup": "",
              "teardown": "",
              "type": "doctest"
            }
          ]
        },
        "Edge-Detection-and-Thresholding": {
          "name": "Edge-Detection-and-Thresholding",
          "points": null,
          "suites": [
            {
              "cases": [
                {
                  "code": ">>> from pykubegrader.telemetry import ensure_responses, log_variable, score_question, submit_question, telemetry, update_responses\n>>> import os\n>>> import base64\n>>> from pykubegrader.tokens.validate_token import validate_token\n>>> validate_token(assignment='week9-lecture')\n>>> max_question_points = str(20.0)\n>>> earned_points = 0\n>>> os.environ['EARNED_POINTS'] = str(earned_points)\n>>> os.environ['TOTAL_POINTS_FREE_RESPONSE'] = str(73.0)\n>>> from pykubegrader.tokens.validate_token import validate_token\n>>> validate_token(assignment='week9-lecture')\n>>> log_variable('total-points', f'week9-lecture, 4_clashroyal', 73.0)\n>>> question_id = 'Edge-Detection-and-Thresholding-1'\n>>> max_score = 2.0\n>>> score = 0\n>>> test = np.sum(edges_sobel_background)\n>>> condition = np.isclose(test, 82125.810787)\n>>> assert condition\n>>> if condition:\n...     score = 2.0\n>>> earned_points = float(os.environ.get('EARNED_POINTS', 0))\n>>> earned_points += score\n>>> log_variable('4_clashroyal', f'{score}, {max_score}', question_id)\n>>> os.environ['EARNED_POINTS'] = str(earned_points)\n",
                  "failure_message": "Failed: sobel edge detection is not applied correctly.",
                  "hidden": false,
                  "locked": false,
                  "points": 2,
                  "success_message": "Success: sobel edge detection is applied correctly!"
                },
                {
                  "code": ">>> from pykubegrader.telemetry import ensure_responses, log_variable, score_question, submit_question, telemetry, update_responses\n>>> import os\n>>> import base64\n>>> from pykubegrader.tokens.validate_token import validate_token\n>>> validate_token(assignment='week9-lecture')\n>>> question_id = 'Edge-Detection-and-Thresholding-2'\n>>> max_score = 2.0\n>>> score = 0\n>>> test = np.sum(edges_canny_background)\n>>> condition = np.isclose(test, 129762)\n>>> assert condition\n>>> if condition:\n...     score = 2.0\n>>> earned_points = float(os.environ.get('EARNED_POINTS', 0))\n>>> earned_points += score\n>>> log_variable('4_clashroyal', f'{score}, {max_score}', question_id)\n>>> os.environ['EARNED_POINTS'] = str(earned_points)\n",
                  "failure_message": "Failed: canny edge detection is not applied correctly.",
                  "hidden": false,
                  "locked": false,
                  "points": 2,
                  "success_message": "Success: canny edge detection is applied correctly!"
                },
                {
                  "code": ">>> from pykubegrader.telemetry import ensure_responses, log_variable, score_question, submit_question, telemetry, update_responses\n>>> import os\n>>> import base64\n>>> from pykubegrader.tokens.validate_token import validate_token\n>>> validate_token(assignment='week9-lecture')\n>>> question_id = 'Edge-Detection-and-Thresholding-3'\n>>> max_score = 2.0\n>>> score = 0\n>>> test = np.sum(edges_scharr_background)\n>>> condition = np.isclose(test, 82690.87100435414)\n>>> assert condition\n>>> if condition:\n...     score = 2.0\n>>> earned_points = float(os.environ.get('EARNED_POINTS', 0))\n>>> earned_points += score\n>>> log_variable('4_clashroyal', f'{score}, {max_score}', question_id)\n>>> os.environ['EARNED_POINTS'] = str(earned_points)\n",
                  "failure_message": "Failed: canny edge detection is not applied correctly.",
                  "hidden": false,
                  "locked": false,
                  "points": 2,
                  "success_message": "Success: canny edge detection is applied correctly!"
                },
                {
                  "code": ">>> from pykubegrader.telemetry import ensure_responses, log_variable, score_question, submit_question, telemetry, update_responses\n>>> import os\n>>> import base64\n>>> from pykubegrader.tokens.validate_token import validate_token\n>>> validate_token(assignment='week9-lecture')\n>>> question_id = 'Edge-Detection-and-Thresholding-4'\n>>> max_score = 2.0\n>>> score = 0\n>>> test = np.sum(edges_sobel_image)\n>>> condition = np.isclose(test, 82893.86893900018)\n>>> assert condition\n>>> if condition:\n...     score = 2.0\n>>> earned_points = float(os.environ.get('EARNED_POINTS', 0))\n>>> earned_points += score\n>>> log_variable('4_clashroyal', f'{score}, {max_score}', question_id)\n>>> os.environ['EARNED_POINTS'] = str(earned_points)\n",
                  "failure_message": "Failed: sobel edge detection is not applied correctly.",
                  "hidden": false,
                  "locked": false,
                  "points": 2,
                  "success_message": "Success: sobel edge detection is applied correctly!"
                },
                {
                  "code": ">>> from pykubegrader.telemetry import ensure_responses, log_variable, score_question, submit_question, telemetry, update_responses\n>>> import os\n>>> import base64\n>>> from pykubegrader.tokens.validate_token import validate_token\n>>> validate_token(assignment='week9-lecture')\n>>> question_id = 'Edge-Detection-and-Thresholding-5'\n>>> max_score = 2.0\n>>> score = 0\n>>> test = np.sum(edges_canny_image)\n>>> condition = np.isclose(test, 132478)\n>>> assert condition\n>>> if condition:\n...     score = 2.0\n>>> earned_points = float(os.environ.get('EARNED_POINTS', 0))\n>>> earned_points += score\n>>> log_variable('4_clashroyal', f'{score}, {max_score}', question_id)\n>>> os.environ['EARNED_POINTS'] = str(earned_points)\n",
                  "failure_message": "Failed: canny edge detection is not applied correctly.",
                  "hidden": false,
                  "locked": false,
                  "points": 2,
                  "success_message": "Success: canny edge detection is applied correctly!"
                },
                {
                  "code": ">>> from pykubegrader.telemetry import ensure_responses, log_variable, score_question, submit_question, telemetry, update_responses\n>>> import os\n>>> import base64\n>>> from pykubegrader.tokens.validate_token import validate_token\n>>> validate_token(assignment='week9-lecture')\n>>> question_id = 'Edge-Detection-and-Thresholding-6'\n>>> max_score = 2.0\n>>> score = 0\n>>> test = np.sum(edges_scharr_image)\n>>> condition = np.isclose(test, 83497.336501897)\n>>> assert condition\n>>> if condition:\n...     score = 2.0\n>>> earned_points = float(os.environ.get('EARNED_POINTS', 0))\n>>> earned_points += score\n>>> log_variable('4_clashroyal', f'{score}, {max_score}', question_id)\n>>> os.environ['EARNED_POINTS'] = str(earned_points)\n",
                  "failure_message": "Failed: canny edge detection is not applied correctly.",
                  "hidden": false,
                  "locked": false,
                  "points": 2,
                  "success_message": "Success: canny edge detection is applied correctly!"
                },
                {
                  "code": ">>> from pykubegrader.telemetry import ensure_responses, log_variable, score_question, submit_question, telemetry, update_responses\n>>> import os\n>>> import base64\n>>> from pykubegrader.tokens.validate_token import validate_token\n>>> validate_token(assignment='week9-lecture')\n>>> question_id = 'Edge-Detection-and-Thresholding-7'\n>>> max_score = 4.0\n>>> score = 0\n>>> test = np.sum(combined_edges_background)\n>>> condition = np.isclose(test, 294578.6817915886)\n>>> assert condition\n>>> if condition:\n...     score = 4.0\n>>> earned_points = float(os.environ.get('EARNED_POINTS', 0))\n>>> earned_points += score\n>>> log_variable('4_clashroyal', f'{score}, {max_score}', question_id)\n>>> os.environ['EARNED_POINTS'] = str(earned_points)\n",
                  "failure_message": "Failed: combined edge detection is not applied correctly.",
                  "hidden": false,
                  "locked": false,
                  "points": 4,
                  "success_message": "Success: combined edge detection for background is applied correctly!"
                },
                {
                  "code": ">>> from pykubegrader.telemetry import ensure_responses, log_variable, score_question, submit_question, telemetry, update_responses\n>>> import os\n>>> import base64\n>>> from pykubegrader.tokens.validate_token import validate_token\n>>> validate_token(assignment='week9-lecture')\n>>> question_id = 'Edge-Detection-and-Thresholding-8'\n>>> max_score = 4.0\n>>> score = 0\n>>> test = np.sum(combined_edges_image)\n>>> condition = np.isclose(test, 298869.2054408976)\n>>> assert condition\n>>> if condition:\n...     score = 4.0\n>>> earned_points = float(os.environ.get('EARNED_POINTS', 0))\n>>> earned_points += score\n>>> log_variable('4_clashroyal', f'{score}, {max_score}', question_id)\n>>> os.environ['EARNED_POINTS'] = str(earned_points)\n",
                  "failure_message": "Failed: combined edge detection for image is not applied correctly.",
                  "hidden": false,
                  "locked": false,
                  "points": 4,
                  "success_message": "Success: combined edge detection for image is applied correctly!"
                }
              ],
              "scored": true,
              "setup": "",
              "teardown": "",
              "type": "doctest"
            }
          ]
        },
        "binary-mask": {
          "name": "binary-mask",
          "points": null,
          "suites": [
            {
              "cases": [
                {
                  "code": ">>> from pykubegrader.telemetry import ensure_responses, log_variable, score_question, submit_question, telemetry, update_responses\n>>> import os\n>>> import base64\n>>> from pykubegrader.tokens.validate_token import validate_token\n>>> validate_token(assignment='week9-lecture')\n>>> max_question_points = str(4.0)\n>>> earned_points = 0\n>>> os.environ['EARNED_POINTS'] = str(earned_points)\n>>> os.environ['TOTAL_POINTS_FREE_RESPONSE'] = str(73.0)\n>>> from pykubegrader.tokens.validate_token import validate_token\n>>> validate_token(assignment='week9-lecture')\n>>> log_variable('total-points', f'week9-lecture, 4_clashroyal', 73.0)\n>>> question_id = 'binary-mask-1'\n>>> max_score = 4.0\n>>> score = 0\n>>> test = np.sum(binary_mask)\n>>> condition = np.isclose(test, 62446, atol=1e-06)\n>>> assert condition\n>>> if condition:\n...     score = 4.0\n>>> earned_points = float(os.environ.get('EARNED_POINTS', 0))\n>>> earned_points += score\n>>> log_variable('4_clashroyal', f'{score}, {max_score}', question_id)\n>>> os.environ['EARNED_POINTS'] = str(earned_points)\n",
                  "failure_message": "Failed: binary mask is not applied correctly.",
                  "hidden": false,
                  "locked": false,
                  "points": 4,
                  "success_message": "Success: binary mask is applied correctly!"
                }
              ],
              "scored": true,
              "setup": "",
              "teardown": "",
              "type": "doctest"
            }
          ]
        },
        "clean-mask": {
          "name": "clean-mask",
          "points": null,
          "suites": [
            {
              "cases": [
                {
                  "code": ">>> from pykubegrader.telemetry import ensure_responses, log_variable, score_question, submit_question, telemetry, update_responses\n>>> import os\n>>> import base64\n>>> from pykubegrader.tokens.validate_token import validate_token\n>>> validate_token(assignment='week9-lecture')\n>>> max_question_points = str(4.0)\n>>> earned_points = 0\n>>> os.environ['EARNED_POINTS'] = str(earned_points)\n>>> os.environ['TOTAL_POINTS_FREE_RESPONSE'] = str(73.0)\n>>> from pykubegrader.tokens.validate_token import validate_token\n>>> validate_token(assignment='week9-lecture')\n>>> log_variable('total-points', f'week9-lecture, 4_clashroyal', 73.0)\n>>> question_id = 'clean-mask-1'\n>>> max_score = 4.0\n>>> score = 0\n>>> test = np.sum(cleaned_mask)\n>>> condition = np.isclose(test, 370431)\n>>> assert condition\n>>> if condition:\n...     score = 4.0\n>>> earned_points = float(os.environ.get('EARNED_POINTS', 0))\n>>> earned_points += score\n>>> log_variable('4_clashroyal', f'{score}, {max_score}', question_id)\n>>> os.environ['EARNED_POINTS'] = str(earned_points)\n",
                  "failure_message": "Failed: combined edge detection is not applied correctly.",
                  "hidden": false,
                  "locked": false,
                  "points": 4,
                  "success_message": "Success: combined edge detection for background is applied correctly!"
                }
              ],
              "scored": true,
              "setup": "",
              "teardown": "",
              "type": "doctest"
            }
          ]
        },
        "closing-mask": {
          "name": "closing-mask",
          "points": null,
          "suites": [
            {
              "cases": [
                {
                  "code": ">>> from pykubegrader.telemetry import ensure_responses, log_variable, score_question, submit_question, telemetry, update_responses\n>>> import os\n>>> import base64\n>>> from pykubegrader.tokens.validate_token import validate_token\n>>> validate_token(assignment='week9-lecture')\n>>> max_question_points = str(4.0)\n>>> earned_points = 0\n>>> os.environ['EARNED_POINTS'] = str(earned_points)\n>>> os.environ['TOTAL_POINTS_FREE_RESPONSE'] = str(73.0)\n>>> from pykubegrader.tokens.validate_token import validate_token\n>>> validate_token(assignment='week9-lecture')\n>>> log_variable('total-points', f'week9-lecture, 4_clashroyal', 73.0)\n>>> question_id = 'closing-mask-1'\n>>> max_score = 4.0\n>>> score = 0\n>>> test = np.sum(closed_mask)\n>>> condition = np.isclose(test, 121935)\n>>> assert condition\n>>> if condition:\n...     score = 4.0\n>>> earned_points = float(os.environ.get('EARNED_POINTS', 0))\n>>> earned_points += score\n>>> log_variable('4_clashroyal', f'{score}, {max_score}', question_id)\n>>> os.environ['EARNED_POINTS'] = str(earned_points)\n",
                  "failure_message": "Failed: closing mask is not applied correctly.",
                  "hidden": false,
                  "locked": false,
                  "points": 4,
                  "success_message": "Success: closing mask is applied correctly!"
                }
              ],
              "scored": true,
              "setup": "",
              "teardown": "",
              "type": "doctest"
            }
          ]
        },
        "edge-difference": {
          "name": "edge-difference",
          "points": null,
          "suites": [
            {
              "cases": [
                {
                  "code": ">>> from pykubegrader.telemetry import ensure_responses, log_variable, score_question, submit_question, telemetry, update_responses\n>>> import os\n>>> import base64\n>>> from pykubegrader.tokens.validate_token import validate_token\n>>> validate_token(assignment='week9-lecture')\n>>> max_question_points = str(4.0)\n>>> earned_points = 0\n>>> os.environ['EARNED_POINTS'] = str(earned_points)\n>>> os.environ['TOTAL_POINTS_FREE_RESPONSE'] = str(73.0)\n>>> from pykubegrader.tokens.validate_token import validate_token\n>>> validate_token(assignment='week9-lecture')\n>>> log_variable('total-points', f'week9-lecture, 4_clashroyal', 73.0)\n>>> question_id = 'edge-difference-1'\n>>> max_score = 4.0\n>>> score = 0\n>>> test = np.sum(edge_diff)\n>>> condition = np.isclose(test, 111380.53573141411, atol=1e-06)\n>>> assert condition\n>>> if condition:\n...     score = 4.0\n>>> earned_points = float(os.environ.get('EARNED_POINTS', 0))\n>>> earned_points += score\n>>> log_variable('4_clashroyal', f'{score}, {max_score}', question_id)\n>>> os.environ['EARNED_POINTS'] = str(earned_points)\n",
                  "failure_message": "Failed: edge difference is not applied correctly.",
                  "hidden": false,
                  "locked": false,
                  "points": 4,
                  "success_message": "Success: edge difference is applied correctly!"
                }
              ],
              "scored": true,
              "setup": "",
              "teardown": "",
              "type": "doctest"
            }
          ]
        },
        "meger-mask": {
          "name": "meger-mask",
          "points": null,
          "suites": [
            {
              "cases": [
                {
                  "code": ">>> from pykubegrader.telemetry import ensure_responses, log_variable, score_question, submit_question, telemetry, update_responses\n>>> import os\n>>> import base64\n>>> from pykubegrader.tokens.validate_token import validate_token\n>>> validate_token(assignment='week9-lecture')\n>>> max_question_points = str(4.0)\n>>> earned_points = 0\n>>> os.environ['EARNED_POINTS'] = str(earned_points)\n>>> os.environ['TOTAL_POINTS_FREE_RESPONSE'] = str(73.0)\n>>> from pykubegrader.tokens.validate_token import validate_token\n>>> validate_token(assignment='week9-lecture')\n>>> log_variable('total-points', f'week9-lecture, 4_clashroyal', 73.0)\n>>> question_id = 'meger-mask-1'\n>>> max_score = 4.0\n>>> score = 0\n>>> test = np.sum(merged_mask)\n>>> condition = np.isclose(test, 482699)\n>>> assert condition\n>>> if condition:\n...     score = 4.0\n>>> earned_points = float(os.environ.get('EARNED_POINTS', 0))\n>>> earned_points += score\n>>> log_variable('4_clashroyal', f'{score}, {max_score}', question_id)\n>>> os.environ['EARNED_POINTS'] = str(earned_points)\n",
                  "failure_message": "Failed: merged mask is not applied correctly.",
                  "hidden": false,
                  "locked": false,
                  "points": 4,
                  "success_message": "Success: merged mask is applied correctly!"
                }
              ],
              "scored": true,
              "setup": "",
              "teardown": "",
              "type": "doctest"
            }
          ]
        },
        "segment-image-regions": {
          "name": "segment-image-regions",
          "points": null,
          "suites": [
            {
              "cases": [
                {
                  "code": ">>> from pykubegrader.telemetry import ensure_responses, log_variable, score_question, submit_question, telemetry, update_responses\n>>> import os\n>>> import base64\n>>> from pykubegrader.tokens.validate_token import validate_token\n>>> validate_token(assignment='week9-lecture')\n>>> import sys\n>>> max_question_points = str(22.0)\n>>> earned_points = 0\n>>> os.environ['EARNED_POINTS'] = str(earned_points)\n>>> os.environ['TOTAL_POINTS_FREE_RESPONSE'] = str(73.0)\n>>> from pykubegrader.tokens.validate_token import validate_token\n>>> validate_token(assignment='week9-lecture')\n>>> log_variable('total-points', f'week9-lecture, 4_clashroyal', 73.0)\n>>> question_id = 'segment-image-regions-1'\n>>> max_score = 3.0\n>>> score = 0\n>>> condition1 = 'matplotlib.pyplot' in sys.modules\n>>> condition2 = 'skimage' in sys.modules\n>>> condition5 = 'regionprops' in sys.modules\n>>> assert condition1, 'matplotlib.pyplot is not imported.'\n>>> assert condition2, 'scikit-image is not imported.'\n>>> if condition1 and condition2:\n...     score = 3.0\n>>> earned_points = float(os.environ.get('EARNED_POINTS', 0))\n>>> earned_points += score\n>>> log_variable('4_clashroyal', f'{score}, {max_score}', question_id)\n>>> os.environ['EARNED_POINTS'] = str(earned_points)\n",
                  "failure_message": "Failed: Required libraries are not imported correctly.",
                  "hidden": false,
                  "locked": false,
                  "points": 3,
                  "success_message": "Success: Required libraries are imported correctly!"
                },
                {
                  "code": ">>> from pykubegrader.telemetry import ensure_responses, log_variable, score_question, submit_question, telemetry, update_responses\n>>> import os\n>>> import base64\n>>> from pykubegrader.tokens.validate_token import validate_token\n>>> validate_token(assignment='week9-lecture')\n>>> question_id = 'segment-image-regions-2'\n>>> max_score = 2.0\n>>> score = 0\n>>> assert isinstance(binary_mask, np.ndarray), 'binary_mask is not a numpy array.'\n>>> assert binary_mask.dtype == bool, 'binary_mask is not boolean.'\n>>> if isinstance(binary_mask, np.ndarray) and binary_mask.dtype == bool:\n...     score = 2.0\n>>> earned_points = float(os.environ.get('EARNED_POINTS', 0))\n>>> earned_points += score\n>>> log_variable('4_clashroyal', f'{score}, {max_score}', question_id)\n>>> os.environ['EARNED_POINTS'] = str(earned_points)\n>>> responses = update_responses(question_id, str(binary_mask))\n",
                  "failure_message": "Failed: Binary mask is not created correctly.",
                  "hidden": false,
                  "locked": false,
                  "points": 2,
                  "success_message": "Success: Binary mask is created correctly!"
                },
                {
                  "code": ">>> from pykubegrader.telemetry import ensure_responses, log_variable, score_question, submit_question, telemetry, update_responses\n>>> import os\n>>> import base64\n>>> from pykubegrader.tokens.validate_token import validate_token\n>>> validate_token(assignment='week9-lecture')\n>>> question_id = 'segment-image-regions-3'\n>>> max_score = 2.0\n>>> score = 0\n>>> assert isinstance(labels, np.ndarray), 'labels is not a numpy array.'\n>>> assert labels.shape == binary_mask.shape, 'labels do not match binary_mask shape.'\n>>> if isinstance(labels, np.ndarray) and labels.shape == binary_mask.shape:\n...     score = 2.0\n>>> earned_points = float(os.environ.get('EARNED_POINTS', 0))\n>>> earned_points += score\n>>> log_variable('4_clashroyal', f'{score}, {max_score}', question_id)\n>>> os.environ['EARNED_POINTS'] = str(earned_points)\n>>> responses = update_responses(question_id, str(labels))\n",
                  "failure_message": "Failed: Labels are not created correctly.",
                  "hidden": false,
                  "locked": false,
                  "points": 2,
                  "success_message": "Success: Labels are created correctly!"
                },
                {
                  "code": ">>> from pykubegrader.telemetry import ensure_responses, log_variable, score_question, submit_question, telemetry, update_responses\n>>> import os\n>>> import base64\n>>> from pykubegrader.tokens.validate_token import validate_token\n>>> validate_token(assignment='week9-lecture')\n>>> question_id = 'segment-image-regions-4'\n>>> max_score = 3.0\n>>> score = 0\n>>> assert isinstance(regions, list), 'regions is not a list.'\n>>> condition = all((hasattr(region, 'bbox') for region in regions))\n>>> assert condition, 'Some regions do not have bbox attribute.'\n>>> if isinstance(regions, list) and condition:\n...     score = 3.0\n>>> earned_points = float(os.environ.get('EARNED_POINTS', 0))\n>>> earned_points += score\n>>> log_variable('4_clashroyal', f'{score}, {max_score}', question_id)\n>>> os.environ['EARNED_POINTS'] = str(earned_points)\n",
                  "failure_message": "Failed: Region properties are not computed correctly.",
                  "hidden": false,
                  "locked": false,
                  "points": 3,
                  "success_message": "Success: Region properties are computed correctly!"
                },
                {
                  "code": ">>> from pykubegrader.telemetry import ensure_responses, log_variable, score_question, submit_question, telemetry, update_responses\n>>> import os\n>>> import base64\n>>> from pykubegrader.tokens.validate_token import validate_token\n>>> validate_token(assignment='week9-lecture')\n>>> question_id = 'segment-image-regions-5'\n>>> max_score = 4.0\n>>> score = 0\n>>> computed_area_sum = sum((region.area for region in regions))\n>>> expected_area_sum = 370431.0\n>>> assert computed_area_sum == expected_area_sum\n>>> if computed_area_sum == expected_area_sum:\n...     score = 4.0\n>>> earned_points = float(os.environ.get('EARNED_POINTS', 0))\n>>> earned_points += score\n>>> log_variable('4_clashroyal', f'{score}, {max_score}', question_id)\n>>> os.environ['EARNED_POINTS'] = str(earned_points)\n",
                  "failure_message": "Failed: Sum of region areas is incorrect.",
                  "hidden": false,
                  "locked": false,
                  "points": 4,
                  "success_message": "Success: Sum of region areas is correct!"
                },
                {
                  "code": ">>> from pykubegrader.telemetry import ensure_responses, log_variable, score_question, submit_question, telemetry, update_responses\n>>> import os\n>>> import base64\n>>> from pykubegrader.tokens.validate_token import validate_token\n>>> validate_token(assignment='week9-lecture')\n>>> question_id = 'segment-image-regions-6'\n>>> max_score = 4.0\n>>> score = 0\n>>> computed_perimeter_sum = sum((region.perimeter for region in regions))\n>>> expected_perimeter_sum = 31773.5370747862\n>>> condition = np.isclose(computed_perimeter_sum, expected_perimeter_sum, atol=1e-06)\n>>> assert condition\n>>> if condition:\n...     score = 4.0\n>>> earned_points = float(os.environ.get('EARNED_POINTS', 0))\n>>> earned_points += score\n>>> log_variable('4_clashroyal', f'{score}, {max_score}', question_id)\n>>> os.environ['EARNED_POINTS'] = str(earned_points)\n",
                  "failure_message": "Failed: Sum of region perimeters is incorrect.",
                  "hidden": false,
                  "locked": false,
                  "points": 4,
                  "success_message": "Success: Sum of region perimeters is correct!"
                },
                {
                  "code": ">>> from pykubegrader.telemetry import ensure_responses, log_variable, score_question, submit_question, telemetry, update_responses\n>>> import os\n>>> import base64\n>>> from pykubegrader.tokens.validate_token import validate_token\n>>> validate_token(assignment='week9-lecture')\n>>> question_id = 'segment-image-regions-7'\n>>> max_score = 4.0\n>>> score = 0\n>>> computed_eccentricity_sum = sum((region.eccentricity for region in regions))\n>>> expected_eccentricity_sum = 13.643185559487907\n>>> condition = np.isclose(computed_eccentricity_sum, expected_eccentricity_sum, atol=1e-06)\n>>> assert condition\n>>> if condition:\n...     score = 4.0\n>>> earned_points = float(os.environ.get('EARNED_POINTS', 0))\n>>> earned_points += score\n>>> log_variable('4_clashroyal', f'{score}, {max_score}', question_id)\n>>> os.environ['EARNED_POINTS'] = str(earned_points)\n",
                  "failure_message": "Failed: Sum of region eccentricities is incorrect.",
                  "hidden": false,
                  "locked": false,
                  "points": 4,
                  "success_message": "Success: Sum of region eccentricities is correct!"
                }
              ],
              "scored": true,
              "setup": "",
              "teardown": "",
              "type": "doctest"
            }
          ]
        }
      }
    }
  },
  "nbformat": 4,
  "nbformat_minor": 2
}