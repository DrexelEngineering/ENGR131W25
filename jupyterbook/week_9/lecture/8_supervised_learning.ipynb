{
 "cells": [
  {
   "cell_type": "markdown",
   "id": "8b3c9f63",
   "metadata": {},
   "source": [
    "# 📝  Supervised Learning with Support Vector Machines (SVMs)\n"
   ]
  },
  {
   "cell_type": "markdown",
   "id": "8aad1d9f",
   "metadata": {},
   "source": [
    "## Introduction to Supervised Learning\n",
    "Supervised learning is a type of machine learning where the model learns from labeled data. The dataset consists of input features \\(X\\) and corresponding labels \\(y\\). The goal is to find a function \\(f(X)\\) that best maps the inputs to their correct labels.\n"
   ]
  },
  {
   "cell_type": "markdown",
   "id": "aaf3dedc",
   "metadata": {},
   "source": [
    "### Examples of Supervised Learning Applications\n",
    "- Email spam classification (Spam or Not Spam)\n",
    "- Handwritten digit recognition (0-9 digits)\n",
    "- Fraud detection in banking\n",
    "- Medical diagnosis based on patient data\n",
    "- Wine quality classification\n"
   ]
  },
  {
   "cell_type": "markdown",
   "id": "8f5c719e",
   "metadata": {},
   "source": [
    "## Support Vector Machines (SVMs)\n",
    "Support Vector Machines (SVMs) are powerful supervised learning models used for classification and regression tasks. They work by finding the optimal hyperplane that best separates the data into different classes.\n"
   ]
  },
  {
   "cell_type": "markdown",
   "id": "b2fa8525",
   "metadata": {},
   "source": [
    "### How SVM Works\n",
    "- Finds the hyperplane that maximizes the margin between two classes.\n",
    "- Uses support vectors (data points closest to the hyperplane) to define the decision boundary.\n",
    "- Can use kernel tricks to handle non-linearly separable data.\n"
   ]
  },
  {
   "cell_type": "markdown",
   "id": "c7f9bf19",
   "metadata": {},
   "source": [
    "### SVM Example: Wine Classification Using Scikit-learn\n",
    "\n",
    "In this example, we will classify different types of wine using an SVM model.\n"
   ]
  },
  {
   "cell_type": "code",
   "execution_count": 4,
   "id": "96e5f728",
   "metadata": {},
   "outputs": [
    {
     "name": "stdout",
     "output_type": "stream",
     "text": [
      "SVM Accuracy on Wine Dataset: 0.98\n",
      "Classification Report:\n",
      "               precision    recall  f1-score   support\n",
      "\n",
      "           0       1.00      1.00      1.00        19\n",
      "           1       0.95      1.00      0.98        21\n",
      "           2       1.00      0.93      0.96        14\n",
      "\n",
      "    accuracy                           0.98        54\n",
      "   macro avg       0.98      0.98      0.98        54\n",
      "weighted avg       0.98      0.98      0.98        54\n",
      "\n"
     ]
    },
    {
     "data": {
      "image/png": "[encoded data removed]",
      "text/plain": [
       "<Figure size 800x600 with 2 Axes>"
      ]
     },
     "metadata": {},
     "output_type": "display_data"
    }
   ],
   "source": [
    "import numpy as np\n",
    "import matplotlib.pyplot as plt\n",
    "from sklearn import datasets\n",
    "from sklearn.model_selection import train_test_split\n",
    "from sklearn.svm import SVC\n",
    "from sklearn.preprocessing import StandardScaler\n",
    "from sklearn.metrics import accuracy_score, classification_report, confusion_matrix\n",
    "\n",
    "# Load the wine dataset\n",
    "wine = datasets.load_wine()\n",
    "X = wine.data  # Features representing chemical properties\n",
    "y = wine.target  # Target wine class (0, 1, or 2)\n",
    "\n",
    "# Split dataset into training and testing sets\n",
    "X_train, X_test, y_train, y_test = train_test_split(\n",
    "    X, y, test_size=0.3, random_state=42\n",
    ")\n",
    "\n",
    "# Scale the data\n",
    "scaler = StandardScaler()\n",
    "X_train_scaled = scaler.fit_transform(X_train)\n",
    "X_test_scaled = scaler.transform(X_test)\n",
    "\n",
    "# Train SVM model with RBF kernel\n",
    "svm_model = SVC(kernel=\"rbf\", C=10, gamma=\"scale\")\n",
    "svm_model.fit(X_train_scaled, y_train)\n",
    "\n",
    "# Make predictions\n",
    "y_pred = svm_model.predict(X_test_scaled)\n",
    "\n",
    "# Evaluate performance\n",
    "accuracy = accuracy_score(y_test, y_pred)\n",
    "print(f\"SVM Accuracy on Wine Dataset: {accuracy:.2f}\")\n",
    "print(\"Classification Report:\\n\", classification_report(y_test, y_pred))\n",
    "import seaborn as sns\n",
    "\n",
    "conf_matrix = confusion_matrix(y_test, y_pred)\n",
    "plt.figure(figsize=(8, 6))\n",
    "sns.heatmap(\n",
    "    conf_matrix,\n",
    "    annot=True,\n",
    "    fmt=\"d\",\n",
    "    cmap=\"Blues\",\n",
    "    xticklabels=wine.target_names,\n",
    "    yticklabels=wine.target_names,\n",
    ")\n",
    "plt.xlabel(\"Predicted\")\n",
    "plt.ylabel(\"Actual\")\n",
    "plt.title(\"Confusion Matrix\")\n",
    "plt.show()"
   ]
  },
  {
   "cell_type": "markdown",
   "id": "0b34db03",
   "metadata": {},
   "source": [
    "## Importance of Feature Scaling in SVM\n",
    "Feature scaling is crucial for SVM because:\n",
    "- SVM is sensitive to feature magnitudes.\n",
    "- Features with larger scales can dominate the distance calculations, affecting the decision boundary.\n",
    "- Scaling ensures equal weightage for all features, improving convergence and accuracy.\n"
   ]
  },
  {
   "cell_type": "markdown",
   "id": "c6979adf",
   "metadata": {},
   "source": [
    "### Example: Effect of Scaling on SVM Performance\n",
    "Let's compare the results of SVM with and without scaling.\n"
   ]
  },
  {
   "cell_type": "code",
   "execution_count": 5,
   "id": "d8eb9239",
   "metadata": {},
   "outputs": [
    {
     "name": "stdout",
     "output_type": "stream",
     "text": [
      "SVM Accuracy without Scaling: 0.76\n"
     ]
    }
   ],
   "source": [
    "# Train SVM without scaling\n",
    "svm_no_scaling = SVC(kernel=\"rbf\", C=10, gamma=\"scale\")\n",
    "svm_no_scaling.fit(X_train, y_train)\n",
    "y_pred_no_scaling = svm_no_scaling.predict(X_test)\n",
    "accuracy_no_scaling = accuracy_score(y_test, y_pred_no_scaling)\n",
    "print(f\"SVM Accuracy without Scaling: {accuracy_no_scaling:.2f}\")"
   ]
  },
  {
   "cell_type": "markdown",
   "id": "86f37cee",
   "metadata": {},
   "source": [
    "### Comparison Results\n",
    "| Model               | Accuracy |\n",
    "|--------------------|----------|\n",
    "| SVM with Scaling  | Higher Accuracy |\n",
    "| SVM without Scaling | Lower Accuracy |\n",
    "\n",
    "From the comparison, it's evident that feature scaling improves the performance of SVM significantly.\n"
   ]
  },
  {
   "cell_type": "markdown",
   "id": "5c442c57",
   "metadata": {},
   "source": [
    "## Conclusion\n",
    "- SVMs with non-linear kernels (like RBF) are effective for more complex datasets.\n",
    "- Feature scaling is critical for SVM performance.\n",
    "- The Wine dataset provides a real-world example of classifying chemical properties of different wine types.\n",
    "\n",
    "By understanding these concepts, you can effectively use SVMs for various classification tasks, including food and beverage analysis, medical diagnostics, and customer segmentation!"
   ]
  }
 ],
 "metadata": {
  "kernelspec": {
   "display_name": "Python 3",
   "language": "python",
   "name": "python3"
  },
  "language_info": {
   "name": "python",
   "version": "3.12.9"
  }
 },
 "nbformat": 4,
 "nbformat_minor": 5
}
