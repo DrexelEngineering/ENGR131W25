{
  "cells": [
    {
      "cell_type": "markdown",
      "id": "dcb37db0",
      "metadata": {},
      "source": [
        "# 🎓 Supervised Learning with Scikit-learn: Teaching Machines Like an Engineer 🚀\n",
        "\n",
        "Imagine you're an engineer designing a system to automatically sort bolts, nuts, and washers. You don’t want to manually sort them every time (boring! 😴). What if you could teach a machine to do it for you? That’s exactly what Supervised Learning is all about! Let's dive into this world of teaching machines by example! 🌍🤖\n"
      ]
    },
    {
      "cell_type": "markdown",
      "id": "addc8ff5",
      "metadata": {},
      "source": [
        "## 🤔 What is Supervised Learning?\n",
        "\n",
        "Supervised Learning is like teaching a kid to recognize animals:\n",
        "- You show the kid many pictures of cats and dogs. 🐱🐶\n",
        "- You label each picture: “This is a cat”, “This is a dog”.\n",
        "- Eventually, the kid learns to recognize cats and dogs on their own! 🎉\n"
      ]
    },
    {
      "cell_type": "markdown",
      "id": "7867ae04",
      "metadata": {},
      "source": [
        "### 🧠 In Simple Words:\n",
        "Supervised Learning = Learning from Labeled Examples 📚\n",
        "\n",
        "In engineering terms:\n",
        "- Input: Measured data (like voltage, temperature, or size)\n",
        "- Output: The known result (like pass/fail, type of component, or product quality)\n",
        "- Goal: To create a model that can predict the output for new inputs.\n"
      ]
    },
    {
      "cell_type": "markdown",
      "id": "d3f2d690",
      "metadata": {},
      "source": [
        "## 🛠️ How Does It Work?"
      ]
    },
    {
      "cell_type": "markdown",
      "id": "0c3781c4",
      "metadata": {},
      "source": [
        "1. Collect Data: Gather lots of examples, each with input features and the corresponding output label."
      ]
    },
    {
      "cell_type": "markdown",
      "id": "f1b8c3e2",
      "metadata": {},
      "source": [
        "2. Train the Model: Feed this data to a machine learning model so it can learn the patterns."
      ]
    },
    {
      "cell_type": "markdown",
      "id": "acfba5ca",
      "metadata": {},
      "source": [
        "3. Predict: Give the trained model new data, and it predicts the output."
      ]
    },
    {
      "cell_type": "markdown",
      "id": "7550d922",
      "metadata": {},
      "source": [
        "4. Evaluate: Check how accurate the predictions are.\n"
      ]
    },
    {
      "cell_type": "markdown",
      "id": "afc4fc72",
      "metadata": {},
      "source": [
        "## 🔑 Key Types of Supervised Learning\n"
      ]
    },
    {
      "cell_type": "markdown",
      "id": "d316da08",
      "metadata": {},
      "source": [
        "### 1. Regression 📈\n",
        "\n",
        "Predicting a continuous value.\n",
        "- Example: Predicting house prices, temperature, or engine wear.\n",
        "- In Engineering:\n",
        "    - Predicting the stress on a bridge based on weight and material properties. 🌉\n",
        "    - Estimating battery life based on usage patterns. 🔋\n"
      ]
    },
    {
      "cell_type": "markdown",
      "id": "60a01505",
      "metadata": {},
      "source": [
        "### 2. Classification 📊\n",
        "\n",
        "Predicting a category or class.\n",
        "- Example: Classifying emails as spam or not spam.\n",
        "- In Engineering:\n",
        "    - Identifying defective parts on a production line (Pass/Fail). ⚙️\n",
        "    - Classifying material types from spectral data. 🌈\n"
      ]
    },
    {
      "cell_type": "markdown",
      "id": "362d66c9",
      "metadata": {},
      "source": [
        "## 🧑‍🔧 Engineering Examples\n"
      ]
    },
    {
      "cell_type": "markdown",
      "id": "d93af9b3",
      "metadata": {},
      "source": [
        "### 🔧 Example 1: Predicting Machine Failure (Regression)\n",
        "In a factory, you want to predict when a machine will fail so you can perform maintenance before it breaks down.\n",
        "- Inputs (Features): Temperature, vibration, operating hours\n",
        "- Output (Label): Time until failure (in hours)\n",
        "- Goal: Predict the remaining life of the machine.\n"
      ]
    },
    {
      "cell_type": "markdown",
      "id": "5791bbe6",
      "metadata": {},
      "source": [
        "### ⚙️ Example 2: Quality Control (Classification)\n",
        "You’re manufacturing gears and want to classify them as Pass or Fail based on their dimensions and surface finish.\n",
        "- Inputs (Features): Diameter, thickness, roughness\n",
        "- Output (Label): Pass or Fail\n",
        "- Goal: Automatically classify gears as good or defective.\n"
      ]
    },
    {
      "cell_type": "markdown",
      "id": "dec99e69",
      "metadata": {},
      "source": [
        "## 🚀 Hands-on with Scikit-learn\n",
        "\n",
        "Let’s get our hands dirty with some code!\n",
        "Here, we’ll classify gears as Pass or Fail using their dimensions.\n"
      ]
    },
    {
      "cell_type": "markdown",
      "id": "72d6ab75",
      "metadata": {},
      "source": [
        "### ⚙️ Step 1: Classification Example\n"
      ]
    },
    {
      "cell_type": "code",
      "execution_count": 1,
      "id": "4aadb854",
      "metadata": {},
      "outputs": [
        {
          "name": "stdout",
          "output_type": "stream",
          "text": [
            "Accuracy: 100.00%\n"
          ]
        }
      ],
      "source": [
        "# Import necessary libraries\n",
        "from sklearn.model_selection import train_test_split\n",
        "from sklearn.ensemble import RandomForestClassifier\n",
        "from sklearn.metrics import accuracy_score\n",
        "\n",
        "# Example data: [Diameter, Thickness, Roughness]\n",
        "X = [\n",
        "    [5.0, 0.5, 0.02],  # Pass\n",
        "    [5.1, 0.6, 0.03],  # Pass\n",
        "    [4.8, 0.4, 0.04],  # Fail\n",
        "    [5.2, 0.7, 0.05],  # Fail\n",
        "    [5.0, 0.5, 0.03],  # Pass\n",
        "    [4.9, 0.4, 0.02],  # Fail\n",
        "]\n",
        "\n",
        "# Labels: 1 = Pass, 0 = Fail\n",
        "y = [1, 1, 0, 0, 1, 0]\n",
        "\n",
        "# Split data into training and testing sets\n",
        "X_train, X_test, y_train, y_test = train_test_split(\n",
        "    X, y, test_size=0.3, random_state=42\n",
        ")\n",
        "\n",
        "# Choose a model\n",
        "model = RandomForestClassifier()\n",
        "\n",
        "# Train the model\n",
        "model.fit(X_train, y_train)\n",
        "\n",
        "# Make predictions\n",
        "predictions = model.predict(X_test)\n",
        "\n",
        "# Evaluate the model\n",
        "accuracy = accuracy_score(y_test, predictions)\n",
        "print(f\"Accuracy: {accuracy * 100:.2f}%\")"
      ]
    },
    {
      "cell_type": "markdown",
      "id": "70ffa13d",
      "metadata": {},
      "source": [
        "### 🔍 What's Happening Here?"
      ]
    },
    {
      "cell_type": "markdown",
      "id": "644ab66e",
      "metadata": {},
      "source": [
        "1. We used a Random Forest Classifier, great for classification tasks."
      ]
    },
    {
      "cell_type": "markdown",
      "id": "42a9a6ff",
      "metadata": {},
      "source": [
        "2. Training Data: We taught the model with labeled examples."
      ]
    },
    {
      "cell_type": "markdown",
      "id": "8254d342",
      "metadata": {},
      "source": [
        "3. Testing Data: We evaluated how well it learned by checking its accuracy."
      ]
    },
    {
      "cell_type": "markdown",
      "id": "123a662b",
      "metadata": {},
      "source": [
        "4. Result: The model predicts whether a gear Passes or Fails based on its dimensions.\n"
      ]
    },
    {
      "cell_type": "markdown",
      "id": "216f952b",
      "metadata": {},
      "source": [
        "### 📊 Understanding Train-Test Split\n",
        "\n",
        "The `train_test_split` function is a crucial step in machine learning workflows. It divides the dataset into two parts: a training set and a testing set. \n",
        "\n",
        "- Training Set: This portion of the data is used to train the model. The model learns patterns and relationships from this data.\n",
        "\n",
        "- Testing Set: This part is used to evaluate the model's performance. It helps in assessing how well the model generalizes to new, unseen data.\n",
        "\n",
        "The split is typically done randomly, but you can control the proportion of the split using the `test_size` parameter. For instance, `test_size=0.3` means 30% of the data will be used for testing, and 70% for training. \n",
        "\n",
        "The `random_state` parameter is used to ensure reproducibility by setting a seed for the random number generator, allowing you to get the same split every time you run the code.\n",
        "\n"
      ]
    },
    {
      "cell_type": "markdown",
      "id": "eacdcc74",
      "metadata": {},
      "source": [
        "### 🔢 Why Use Scalars in Machine Learning?\n",
        "\n",
        "Scalars, or scalar values, are like the unsung heroes of machine learning, quietly making everything run smoother. You don't want to compare apples to oranges, so you scale the data to be on the same scale. Here's why they're awesome:\n",
        "\n",
        "1. Normalization and Standardization: Think of scalars as the great equalizers. They ensure that each feature in your data gets an equal say in the model's learning process. No more letting features with larger ranges hog the spotlight!\n",
        "\n",
        "2. Improved Convergence: Training models can be like herding cats, but with scalars, it's more like a well-choreographed dance. They help optimization algorithms find their groove faster and more reliably.\n",
        "\n",
        "3. Enhanced Performance: Models on a scalar diet often perform better. Many algorithms assume data is centered around zero and on a similar scale. Scalars help meet these assumptions, leading to models that are sharp and on point.\n",
        "\n",
        "4. Reduced Sensitivity to Outliers: Outliers can be like that one friend who always causes drama. Scalars help keep them in check, minimizing their influence and making your models more robust.\n",
        "\n",
        "5. Compatibility with Algorithms: Some algorithms, like SVM and KNN, are a bit picky about data scale. Scalars ensure these algorithms work their magic correctly and efficiently.\n",
        "\n",
        "In short, scalars are the secret sauce in machine learning, making everything from data preprocessing to model performance just a little bit better. Cheers to scalars!\n"
      ]
    },
    {
      "cell_type": "markdown",
      "id": "39cb8e16",
      "metadata": {},
      "source": [
        "## 🛠️ More Engineering Applications\n",
        "\n",
        "- Fault Detection in Rotating Machinery: Predict bearing failures using vibration data.\n",
        "- Predictive Maintenance: Estimate remaining useful life of industrial equipment.\n",
        "- Quality Assurance: Classify products as good or defective using sensor data.\n",
        "- Energy Consumption Prediction: Estimate power usage for better energy management.\n"
      ]
    },
    {
      "cell_type": "markdown",
      "id": "039e1f5b",
      "metadata": {},
      "source": [
        "## 🌐 Where to Learn More?\n",
        "- [Scikit-learn Documentation](https://scikit-learn.org/stable/index.html)\n",
        "- [Hands-on Machine Learning with Scikit-learn](https://www.oreilly.com/library/view/hands-on-machine-learning/9781492032632/)\n",
        "- [Kaggle](https://www.kaggle.com) for practice datasets and competitions\n"
      ]
    }
  ],
  "metadata": {
    "kernelspec": {
      "display_name": "Python 3",
      "language": "python",
      "name": "python3"
    },
    "language_info": {
      "codemirror_mode": {
        "name": "ipython",
        "version": 3
      },
      "file_extension": ".py",
      "mimetype": "text/x-python",
      "name": "python",
      "nbconvert_exporter": "python",
      "pygments_lexer": "ipython3",
      "version": "3.12.7"
    }
  },
  "nbformat": 4,
  "nbformat_minor": 5
}