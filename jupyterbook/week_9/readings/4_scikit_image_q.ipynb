{
  "cells": [
    {
      "cell_type": "code",
      "execution_count": null,
      "metadata": {
        "deletable": false,
        "editable": false,
        "tags": [
          "skip-execution"
        ]
      },
      "outputs": [],
      "source": [
        "# You must make sure to run all cells in sequence using shift + enter or you might encounter errors\n",
        "from pykubegrader.initialize import initialize_assignment\n",
        "\n",
        "responses = initialize_assignment(\"4_scikit_image_q\", \"week_9\", \"readings\", assignment_points = 45.0, assignment_tag = 'week9-readings')\n",
        "\n",
        "# Initialize Otter\n",
        "import otter\n",
        "grader = otter.Notebook(\"4_scikit_image_q.ipynb\")"
      ]
    },
    {
      "cell_type": "markdown",
      "metadata": {
        "deletable": false,
        "editable": false,
        "vscode": {
          "languageId": "raw"
        }
      },
      "source": [
        "# ❓🧩 Survive in the World into Pixels of Interest"
      ]
    },
    {
      "cell_type": "code",
      "execution_count": null,
      "metadata": {
        "tags": [
          "skip-execution"
        ]
      },
      "outputs": [],
      "source": [
        "# Run this block of code by pressing Shift + Enter to display the question\n",
        "from questions._4_scikit_image_q import Question1\n",
        "Question1().show()\n"
      ]
    },
    {
      "cell_type": "code",
      "execution_count": null,
      "metadata": {
        "tags": [
          "skip-execution"
        ]
      },
      "outputs": [],
      "source": [
        "# Run this block of code by pressing Shift + Enter to display the question\n",
        "from questions._4_scikit_image_q import Question2\n",
        "Question2().show()\n"
      ]
    },
    {
      "cell_type": "code",
      "execution_count": null,
      "metadata": {
        "tags": [
          "skip-execution"
        ]
      },
      "outputs": [],
      "source": [
        "# Run this block of code by pressing Shift + Enter to display the question\n",
        "from questions._4_scikit_image_q import Question3\n",
        "Question3().show()\n"
      ]
    },
    {
      "cell_type": "markdown",
      "metadata": {
        "deletable": false,
        "editable": false
      },
      "source": [
        "## Question 1 (Points: 14.0): Tipu's Tiger Mask Analysis\n",
        "\n",
        "### Instructions:\n",
        "Tipu's Tiger is an 18th-century mechanical automaton and pipe organ created during the reign of Tipu Sultan, the ruler of Mysore, symbolizing his resistance against British colonial forces. It depicts a tiger mauling a European soldier, with a crank-operated mechanism that produces tiger growls, the soldier’s cries, and music from a hidden organ that can be played via a keyboard. Captured after Tipu’s death in 1799 during the fall of Seringapatam, it was taken to England as a war trophy and is now housed in the Victoria and Albert Museum in London. This artifact remains a powerful symbol of Tipu’s defiance, his kingdom's technological ingenuity, and cultural sophistication. \n",
        "\n",
        "<iframe width=\"560\" height=\"315\" src=\"https://www.youtube.com/embed/XNJRjV8K1yg?si=rv_vdBMtzfO7RQEn\" title=\"YouTube video player\" frameborder=\"0\" allow=\"accelerometer; autoplay; clipboard-write; encrypted-media; gyroscope; picture-in-picture; web-share\" referrerpolicy=\"strict-origin-when-cross-origin\" allowfullscreen></iframe>\n",
        "\n",
        "Suppose you are tasked with converting the background of an image of this artifact to match Drexel branding. For this you want to isolate the tiger from the background using masking techniques in `scikit-image`, and replace the black background with the Drexel blue color [0, 47, 108] Complete the following:\n",
        "\n",
        "Your job is to implement the process_tipu_tiger() function that takes the image as input and return the original image, the modified image, mask, and the modified image with the Drexel blue background. We have provided the scaffold for the function.\n",
        "\n",
        "1. Load the image \"tipu-tiger.jpg\" from the folder, and store it in a variable named `image`. You can use the `ski.io.imread` function to load the image. \n",
        "2. Create a mask: Isolate pixels with intensity in a specific range (example: RGB channel sum > 150). Store the mask in a variable named `mask`. Hint: you should use the `numpy.sum` function to sum the RGB channels, making sure to do this along the 3rd axis. You can use the logical operator `>` to create the mask. \n",
        "3. Create a disk of radius 28 using the `morphology.disk` function from the `skimage` module. Store the disk in a variable named `selem`. Note: selem stands for \"structuring element\" used in morphological operations of images. We have already imported the necessary modules for you. This should provide a good hint.\n",
        "4. Apply a dilation operation to the mask, and then an erosion operation to the dilated mask using the `morphology.dilation` and `morphology.erosion` functions from the `skimage` module. Store the dilated mask in a variable named `dilated_mask` and the eroded mask in a variable named `eroded_mask`. The process of dilation followed by erosion is known as closing in image processing.\n",
        "5. Remove small holes using the `remove_small_holes` function from the `skimage.morphology` module. Store the result in a variable named `final_mask`. Make sure to set the `area_threshold` parameter to 5000.\n",
        "6. Replace all pixels not in the masked region with the color black. This can be done by indexing the image with the inverse of the mask. Hint: you can use the ~ operator to invert the mask. A black image has RGB values of [0, 0, 0]. Store the modified image in a variable named `modified_image`.\n",
        "7. Replace the black background with the Drexel blue color `[0, 47, 108]`. Store the modified image with the Drexel blue background in a variable named `modified_image_drexel`. This should be done similarly to step 6, but using the Drexel blue color instead of black.\n",
        "\n",
        "When you run the code, you will see plots generated using the provided code.\n",
        "\n"
      ]
    },
    {
      "cell_type": "code",
      "execution_count": null,
      "metadata": {
        "tags": [
          "otter_answer_cell",
          "skip-execution"
        ]
      },
      "outputs": [],
      "source": [
        "import skimage as ski\n",
        "import numpy as np\n",
        "from skimage.morphology import dilation, erosion, disk, remove_small_holes\n",
        "import matplotlib.pyplot as plt\n",
        "\n",
        "\n",
        "def process_tipu_tiger(image_path=\"tipu-tiger.jpg\"):\n",
        "    # Load the image\n",
        "\n",
        "    # 1. Load the image \"tipu-tiger.jpg\" from the folder, and store it in a variable named `image`.\n",
        "    # You can use the `ski.io.imread` function to load the image.\n",
        "    ...\n",
        "\n",
        "    # 2. Create a mask: Isolate pixels with intensity in a specific range (example: RGB channel sum > 150)\n",
        "    ...\n",
        "\n",
        "    # 3. Create the disk-shaped structuring element\n",
        "    ...\n",
        "\n",
        "    # 4. Apply the dilation and erosion operations\n",
        "    ...\n",
        "\n",
        "    # 5. Fill holes in the mask\n",
        "    ...\n",
        "\n",
        "    # makes a copy of the image\n",
        "    # Do not modify this line\n",
        "    modified_image = image.copy()\n",
        "\n",
        "    # 6. Replace the background with black color\n",
        "    ...\n",
        "\n",
        "    # makes a copy of the resulting image\n",
        "    modified_image_drexel = modified_image.copy()\n",
        "\n",
        "    # 7. Replaces the background with the Drexel blue color\n",
        "    ...\n",
        "\n",
        "    return (\n",
        "        image,\n",
        "        modified_image,\n",
        "        mask,\n",
        "        final_mask,\n",
        "        modified_image_drexel,\n",
        "        dilated_mask,\n",
        "        eroded_mask,\n",
        "    )\n",
        "\n",
        "\n",
        "# Example usage\n",
        "(\n",
        "    image,\n",
        "    modified_image,\n",
        "    mask,\n",
        "    final_mask,\n",
        "    modified_image_drexel,\n",
        "    dilated_mask,\n",
        "    eroded_mask,\n",
        ") = process_tipu_tiger()\n",
        "\n",
        "\n",
        "# Plot results\n",
        "plt.figure(figsize=(12, 6))\n",
        "\n",
        "plt.subplot(1, 5, 1)\n",
        "plt.imshow(image)\n",
        "plt.title(\"Image\")\n",
        "plt.axis(\"off\")\n",
        "\n",
        "plt.subplot(1, 5, 2)\n",
        "plt.imshow(modified_image)\n",
        "plt.title(\"Masked Image\")\n",
        "plt.axis(\"off\")\n",
        "\n",
        "plt.subplot(1, 5, 3)\n",
        "plt.imshow(mask, cmap=\"gray\")\n",
        "plt.title(\"Mask\")\n",
        "plt.axis(\"off\")\n",
        "\n",
        "plt.subplot(1, 5, 4)\n",
        "plt.imshow(final_mask, cmap=\"gray\")\n",
        "plt.title(\"Final Mask\")\n",
        "plt.axis(\"off\")\n",
        "\n",
        "plt.subplot(1, 5, 5)\n",
        "plt.imshow(modified_image_drexel)\n",
        "plt.title(\"Recolored Image\")\n",
        "plt.axis(\"off\")\n",
        "\n",
        "plt.tight_layout()\n",
        "plt.show()"
      ]
    },
    {
      "cell_type": "code",
      "execution_count": null,
      "metadata": {
        "deletable": false,
        "editable": false,
        "tags": [
          "skip-execution"
        ]
      },
      "outputs": [],
      "source": [
        "grader.check(\"tipus-tiger-mask-calculation\")"
      ]
    },
    {
      "cell_type": "markdown",
      "id": "e3c8ba3f",
      "metadata": {},
      "source": [
        "## Submitting Assignment\n",
        "\n",
        "Please run the following block of code using `shift + enter` to submit your assignment, you should see your score."
      ]
    },
    {
      "cell_type": "code",
      "execution_count": null,
      "id": "bebf1703",
      "metadata": {
        "deletable": false,
        "editable": true,
        "tags": [
          "skip-execution"
        ]
      },
      "outputs": [],
      "source": [
        "from pykubegrader.submit.submit_assignment import submit_assignment\n",
        "\n",
        "submit_assignment(\"week9-readings\", \"4_scikit_image_q\")"
      ]
    }
  ],
  "metadata": {
    "kernelspec": {
      "display_name": "Python 3",
      "language": "python",
      "name": "python3"
    },
    "language_info": {
      "codemirror_mode": {
        "name": "ipython",
        "version": 3
      },
      "file_extension": ".py",
      "mimetype": "text/x-python",
      "name": "python",
      "nbconvert_exporter": "python",
      "pygments_lexer": "ipython3",
      "version": "3.12.9"
    },
    "otter": {
      "OK_FORMAT": true,
      "tests": {
        "tipus-tiger-mask-calculation": {
          "name": "tipus-tiger-mask-calculation",
          "points": null,
          "suites": [
            {
              "cases": [
                {
                  "code": ">>> from pykubegrader.telemetry import ensure_responses, log_variable, score_question, submit_question, telemetry, update_responses\n>>> import os\n>>> import base64\n>>> import re\n>>> import inspect\n>>> max_question_points = str(14.0)\n>>> earned_points = 0\n>>> os.environ['EARNED_POINTS'] = str(earned_points)\n>>> os.environ['TOTAL_POINTS_FREE_RESPONSE'] = str(14.0)\n>>> log_variable('total-points', f'week9-readings, 4_scikit_image_q', 14.0)\n>>> question_id = 'tipus-tiger-mask-calculation-1'\n>>> max_score = 1.0\n>>> score = 0\n>>> def get_process_tipu_tiger_code(process_tipu_tiger):\n...     \"\"\"\n...     Returns the entire source code of process_tipu_tiger as a string.\n...     \"\"\"\n...     return inspect.getsource(process_tipu_tiger)\n>>> code = get_process_tipu_tiger_code(process_tipu_tiger)\n>>> load_pattern = '.*imread\\\\(.*\\\\).*'\n>>> load_pattern_found = bool(re.search(load_pattern, code))\n>>> assert load_pattern_found, 'You must call `ski.io.imread` to load the image.'\n>>> if load_pattern_found:\n...     score = 1.0\n>>> earned_points = float(os.environ.get('EARNED_POINTS', 0))\n>>> earned_points += score\n>>> log_variable('4_scikit_image_q', f'{score}, {max_score}', question_id)\n>>> os.environ['EARNED_POINTS'] = str(earned_points)\n>>> responses = update_responses(question_id, str(load_pattern_found))\n",
                  "failure_message": "Failed: Must load the image from 'tipu-tiger.jpg'.",
                  "hidden": false,
                  "locked": false,
                  "points": 1,
                  "success_message": "Success: Used ski.io.imread with the correct path."
                },
                {
                  "code": ">>> from pykubegrader.telemetry import ensure_responses, log_variable, score_question, submit_question, telemetry, update_responses\n>>> import os\n>>> import base64\n>>> import re\n>>> import inspect\n>>> question_id = 'tipus-tiger-mask-calculation-2'\n>>> max_score = 1.0\n>>> score = 0\n>>> def get_process_tipu_tiger_code(process_tipu_tiger):\n...     \"\"\"\n...     Returns the entire source code of process_tipu_tiger as a string.\n...     \"\"\"\n...     return inspect.getsource(process_tipu_tiger)\n>>> code = get_process_tipu_tiger_code(process_tipu_tiger)\n>>> mask_pattern = 'mask\\\\s*=\\\\s*np\\\\.sum\\\\s*\\\\(\\\\s*image\\\\s*,\\\\s*axis\\\\s*=\\\\s*2\\\\s*\\\\)\\\\s*>\\\\s*150'\n>>> mask_pattern_found = bool(re.search(mask_pattern, code))\n>>> assert mask_pattern_found, 'You must define `mask = np.sum(image, axis=2) > 150`.'\n>>> if mask_pattern_found:\n...     score = 1.0\n>>> earned_points = float(os.environ.get('EARNED_POINTS', 0))\n>>> earned_points += score\n>>> log_variable('4_scikit_image_q', f'{score}, {max_score}', question_id)\n>>> os.environ['EARNED_POINTS'] = str(earned_points)\n>>> responses = update_responses(question_id, str(mask_pattern_found))\n",
                  "failure_message": "Failed: Must define mask = np.sum(image, axis=2) > 150.",
                  "hidden": false,
                  "locked": false,
                  "points": 1,
                  "success_message": "Success: The mask uses np.sum(image, axis=2) > 150."
                },
                {
                  "code": ">>> from pykubegrader.telemetry import ensure_responses, log_variable, score_question, submit_question, telemetry, update_responses\n>>> import os\n>>> import base64\n>>> import re\n>>> import inspect\n>>> question_id = 'tipus-tiger-mask-calculation-3'\n>>> max_score = 1.0\n>>> score = 0\n>>> def get_process_tipu_tiger_code(process_tipu_tiger):\n...     \"\"\"\n...     Returns the entire source code of process_tipu_tiger as a string.\n...     \"\"\"\n...     return inspect.getsource(process_tipu_tiger)\n>>> code = get_process_tipu_tiger_code(process_tipu_tiger)\n>>> disk_pattern = 'selem\\\\s*=\\\\s*disk\\\\s*\\\\(\\\\s*28\\\\s*\\\\)'\n>>> disk_pattern_found = bool(re.search(disk_pattern, code))\n>>> assert disk_pattern_found, 'You must define `selem = disk(28)`.'\n>>> if disk_pattern_found:\n...     score = 1.0\n>>> earned_points = float(os.environ.get('EARNED_POINTS', 0))\n>>> earned_points += score\n>>> log_variable('4_scikit_image_q', f'{score}, {max_score}', question_id)\n>>> os.environ['EARNED_POINTS'] = str(earned_points)\n>>> responses = update_responses(question_id, str(disk_pattern_found))\n",
                  "failure_message": "Failed: Must define selem = disk(28).",
                  "hidden": false,
                  "locked": false,
                  "points": 1,
                  "success_message": "Success: The code uses selem = disk(28)."
                },
                {
                  "code": ">>> from pykubegrader.telemetry import ensure_responses, log_variable, score_question, submit_question, telemetry, update_responses\n>>> import os\n>>> import base64\n>>> import re\n>>> import inspect\n>>> question_id = 'tipus-tiger-mask-calculation-4'\n>>> max_score = 1.0\n>>> score = 0\n>>> def get_process_tipu_tiger_code(process_tipu_tiger):\n...     \"\"\"\n...     Returns the entire source code of process_tipu_tiger as a string.\n...     \"\"\"\n...     return inspect.getsource(process_tipu_tiger)\n>>> code = get_process_tipu_tiger_code(process_tipu_tiger)\n>>> dilation_pattern = 'dilated_mask\\\\s*=\\\\s*dilation\\\\s*\\\\(\\\\s*mask\\\\s*,\\\\s*selem\\\\s*\\\\)'\n>>> erosion_pattern = 'eroded_mask\\\\s*=\\\\s*erosion\\\\s*\\\\(\\\\s*dilated_mask\\\\s*,\\\\s*selem\\\\s*\\\\)'\n>>> dilation_pattern_found = bool(re.search(dilation_pattern, code))\n>>> erosion_pattern_found = bool(re.search(erosion_pattern, code))\n>>> assert dilation_pattern_found and erosion_pattern_found, 'You must define `dilated_mask = dilation(mask, selem)` then `eroded_mask = erosion(dilated_mask, selem)`.'\n>>> if dilation_pattern_found and erosion_pattern_found:\n...     score = 1.0\n>>> earned_points = float(os.environ.get('EARNED_POINTS', 0))\n>>> earned_points += score\n>>> log_variable('4_scikit_image_q', f'{score}, {max_score}', question_id)\n>>> os.environ['EARNED_POINTS'] = str(earned_points)\n>>> responses = update_responses(question_id, str(dilation_pattern_found))\n>>> responses = update_responses(question_id, str(erosion_pattern_found))\n",
                  "failure_message": "Failed: Must do dilated_mask = dilation(mask, selem) then eroded_mask = erosion(dilated_mask, selem).",
                  "hidden": false,
                  "locked": false,
                  "points": 1,
                  "success_message": "Success: Dilation and erosion are applied in the correct order."
                },
                {
                  "code": ">>> from pykubegrader.telemetry import ensure_responses, log_variable, score_question, submit_question, telemetry, update_responses\n>>> import os\n>>> import base64\n>>> import re\n>>> import inspect\n>>> question_id = 'tipus-tiger-mask-calculation-5'\n>>> max_score = 1.0\n>>> score = 0\n>>> def get_process_tipu_tiger_code(process_tipu_tiger):\n...     \"\"\"\n...     Returns the entire source code of process_tipu_tiger as a string.\n...     \"\"\"\n...     return inspect.getsource(process_tipu_tiger)\n>>> code = get_process_tipu_tiger_code(process_tipu_tiger)\n>>> remove_holes_pattern = 'final_mask\\\\s*=\\\\s*remove_small_holes\\\\s*\\\\(\\\\s*eroded_mask\\\\s*,\\\\s*area_threshold\\\\s*=\\\\s*\\\\d+\\\\s*\\\\)'\n>>> remove_holes_pattern_found = bool(re.search(remove_holes_pattern, code))\n>>> assert remove_holes_pattern_found, 'You must define `final_mask = remove_small_holes(eroded_mask, area_threshold=5000)` (or 50000).'\n>>> if remove_holes_pattern_found:\n...     score = 1.0\n>>> earned_points = float(os.environ.get('EARNED_POINTS', 0))\n>>> earned_points += score\n>>> log_variable('4_scikit_image_q', f'{score}, {max_score}', question_id)\n>>> os.environ['EARNED_POINTS'] = str(earned_points)\n>>> responses = update_responses(question_id, str(remove_holes_pattern_found))\n",
                  "failure_message": "Failed: Must define final_mask = remove_small_holes(eroded_mask, area_threshold=...).",
                  "hidden": false,
                  "locked": false,
                  "points": 1,
                  "success_message": "Success: remove_small_holes is called on eroded_mask with area_threshold."
                },
                {
                  "code": ">>> from pykubegrader.telemetry import ensure_responses, log_variable, score_question, submit_question, telemetry, update_responses\n>>> import os\n>>> import base64\n>>> import re\n>>> import inspect\n>>> question_id = 'tipus-tiger-mask-calculation-6'\n>>> max_score = 1.0\n>>> score = 0\n>>> def get_process_tipu_tiger_code(process_tipu_tiger):\n...     \"\"\"\n...     Returns the entire source code of process_tipu_tiger as a string.\n...     \"\"\"\n...     return inspect.getsource(process_tipu_tiger)\n>>> code = get_process_tipu_tiger_code(process_tipu_tiger)\n>>> black_pattern = 'modified_image\\\\s*\\\\[\\\\s*~final_mask\\\\s*\\\\]\\\\s*=\\\\s*(?:0|\\\\[\\\\s*0\\\\s*,\\\\s*0\\\\s*,\\\\s*0\\\\s*\\\\])'\n>>> black_pattern_found = bool(re.search(black_pattern, code))\n>>> assert black_pattern_found, 'You must define either:\\n  modified_image[~final_mask] = [0, 0, 0]\\nor\\n  modified_image[~final_mask] = 0\\nto set the background to black.'\n>>> if (black_pattern_found, 'You must define either:\\n  modified_image[~final_mask] = [0, 0, 0]\\nor\\n  modified_image[~final_mask] = 0\\nto set the background to black.'):\n...     score = 1.0\n>>> earned_points = float(os.environ.get('EARNED_POINTS', 0))\n>>> earned_points += score\n>>> log_variable('4_scikit_image_q', f'{score}, {max_score}', question_id)\n>>> os.environ['EARNED_POINTS'] = str(earned_points)\n>>> responses = update_responses(question_id, str(black_pattern_found))\n",
                  "failure_message": "Failed: Must replace the background with black using modified_image[~final_mask] = [0,0,0] or 0.",
                  "hidden": false,
                  "locked": false,
                  "points": 1,
                  "success_message": "Success: The code sets modified_image[~final_mask] = [0, 0, 0] or 0."
                },
                {
                  "code": ">>> from pykubegrader.telemetry import ensure_responses, log_variable, score_question, submit_question, telemetry, update_responses\n>>> import os\n>>> import base64\n>>> import re\n>>> import inspect\n>>> question_id = 'tipus-tiger-mask-calculation-7'\n>>> max_score = 2.0\n>>> score = 0\n>>> image_path = './tipu-tiger.jpg'\n>>> _, _, mask, _, _, _, _ = process_tipu_tiger(image_path)\n>>> sum_mask = np.sum(mask)\n>>> assert sum_mask == 159187, 'The mask does not appear to be computed correctly.'\n>>> if sum_mask == 159187:\n...     score = 2.0\n>>> earned_points = float(os.environ.get('EARNED_POINTS', 0))\n>>> earned_points += score\n>>> log_variable('4_scikit_image_q', f'{score}, {max_score}', question_id)\n>>> os.environ['EARNED_POINTS'] = str(earned_points)\n>>> responses = update_responses(question_id, str(sum_mask))\n",
                  "failure_message": "Mask does not appear to be computed correctly.",
                  "hidden": false,
                  "locked": false,
                  "points": 2,
                  "success_message": "Success: Mask appears to be computed correctly."
                },
                {
                  "code": ">>> from pykubegrader.telemetry import ensure_responses, log_variable, score_question, submit_question, telemetry, update_responses\n>>> import os\n>>> import base64\n>>> import re\n>>> import inspect\n>>> question_id = 'tipus-tiger-mask-calculation-8'\n>>> max_score = 6.0\n>>> score = 0\n>>> image_path = './tipu-tiger.jpg'\n>>> _, _, _, _, modified_image_drexel_sum, _, _ = process_tipu_tiger()\n>>> modified_image_drexel_sum = np.sum(modified_image_drexel.reshape(-1, 3), axis=0)\n>>> condition1 = all(modified_image_drexel_sum == [22885055, 30374692, 41060560])\n>>> assert condition1, 'The mask does not appear to be computed correctly.'\n>>> if condition1:\n...     score = 6.0\n>>> earned_points = float(os.environ.get('EARNED_POINTS', 0))\n>>> earned_points += score\n>>> log_variable('4_scikit_image_q', f'{score}, {max_score}', question_id)\n>>> os.environ['EARNED_POINTS'] = str(earned_points)\n>>> responses = update_responses(question_id, str(modified_image_drexel_sum))\n",
                  "failure_message": "The final does not appear to be computed correctly.",
                  "hidden": false,
                  "locked": false,
                  "points": 6,
                  "success_message": "Success: final image appears to be computed correctly."
                }
              ],
              "scored": true,
              "setup": "",
              "teardown": "",
              "type": "doctest"
            }
          ]
        }
      }
    }
  },
  "nbformat": 4,
  "nbformat_minor": 2
}