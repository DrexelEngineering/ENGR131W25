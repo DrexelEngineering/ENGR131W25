{
 "cells": [
  {
   "cell_type": "code",
   "execution_count": null,
   "id": "6ed796e1",
   "metadata": {
    "deletable": false,
    "editable": false,
    "tags": [
     "skip-execution"
    ]
   },
   "outputs": [],
   "source": [
    "# You must make sure to run all cells in sequence using shift + enter or you might encounter errors\n",
    "from pykubegrader.initialize import initialize_assignment\n",
    "\n",
    "responses = initialize_assignment(\n",
    "    \"10_scikit_learn_q\",\n",
    "    \"week_9\",\n",
    "    \"readings\",\n",
    "    assignment_points=43.0,\n",
    "    assignment_tag=\"week9-readings\",\n",
    ")\n",
    "\n",
    "# Initialize Otter\n",
    "import otter\n",
    "\n",
    "grader = otter.Notebook(\"10_scikit_learn_q.ipynb\")"
   ]
  },
  {
   "cell_type": "markdown",
   "id": "d23879c2",
   "metadata": {
    "deletable": false,
    "editable": false
   },
   "source": [
    "# ❓ Machine Learning with scikit-learn\n",
    "\n",
    "Note: we expect you use the sklearn documentation to answer these questions. Searching and reading documentation is a crucial skill for coding and machine learning. College is not about the material you learn but your ability to learn how to learn."
   ]
  },
  {
   "cell_type": "code",
   "execution_count": null,
   "id": "5b1ed6b4",
   "metadata": {
    "tags": [
     "skip-execution"
    ]
   },
   "outputs": [],
   "source": [
    "# Run this block of code by pressing Shift + Enter to display the question\n",
    "from questions._10_scikit_learn_q import Question1\n",
    "\n",
    "Question1().show()"
   ]
  },
  {
   "cell_type": "code",
   "execution_count": null,
   "id": "a2a857b0",
   "metadata": {
    "tags": [
     "skip-execution"
    ]
   },
   "outputs": [],
   "source": [
    "# Run this block of code by pressing Shift + Enter to display the question\n",
    "from questions._10_scikit_learn_q import Question1\n",
    "\n",
    "Question1().show()"
   ]
  },
  {
   "cell_type": "code",
   "execution_count": null,
   "id": "0504e929",
   "metadata": {
    "tags": [
     "skip-execution"
    ]
   },
   "outputs": [],
   "source": [
    "# Run this block of code by pressing Shift + Enter to display the question\n",
    "from questions._10_scikit_learn_q import Question2\n",
    "\n",
    "Question2().show()"
   ]
  },
  {
   "cell_type": "markdown",
   "id": "27c24842",
   "metadata": {
    "deletable": false,
    "editable": false
   },
   "source": [
    "# Hello World of Machine Learning\n",
    "\n",
    "The MNIST dataset is a collection of handwritten digits. Each image is 28x28 pixels, and each pixel is a grayscale value between 0 and 255. The dataset is split into a training set and a test set, with 60,000 images in the training set and 10,000 images in the test set.\n",
    "\n",
    "The goal of this example is to build a classifier that can correctly identify the digit in an image. We will walk through the steps of loading the data, training a model, and evaluating the model.\n"
   ]
  },
  {
   "cell_type": "code",
   "execution_count": null,
   "id": "53be79db",
   "metadata": {
    "tags": [
     "otter_answer_cell",
     "skip-execution"
    ]
   },
   "outputs": [],
   "source": [
    "# We need to import the necessary libraries\n",
    "# numpy as np\n",
    "...\n",
    "# matplotlib.pyplot as plt\n",
    "...\n",
    "# sklearn.datasets import fetch_openml\n",
    "...\n",
    "# sklearn.model_selection import train_test_split\n",
    "...\n",
    "# sklearn.linear_model import LogisticRegression\n",
    "...\n",
    "# sklearn.preprocessing import StandardScaler\n",
    "...\n",
    "# Load the MNIST dataset\n",
    "# sklearn.datasets.fetch_openml is used to load the MNIST dataset, use the key 'mnist_784', and version 1, version is an optional parameter so set is as (version=1)\n",
    "# assign the result to the variable mnist\n",
    "...\n",
    "# mnist.data is the data, mnist.target is the labels, assign these to X and y respectively\n",
    "...\n",
    "# Split the data into training and test sets\n",
    "# sklearn.model_selection.train_test_split is used to split the data into training and test sets, test_size\n",
    "# make the the proportion of the dataset to include in the test split to be 20% of the data, random_state is the seed used by the random number generator, set to 42 for reproducibility and testing - Note 42 is the answer to the universe\n",
    "# random_state is the seed used by the random number generator, set to 42 for reproducibility and testing - Note 42 is the answer to the universe\n",
    "...\n",
    "\n",
    "# Standardize the data\n",
    "# sklearn.preprocessing.StandardScaler is used to standardize the data, fit the scaler to the training data and then transform the training and test data\n",
    "# save the scaler as an object scaler\n",
    "...\n",
    "# fit the scaler to the training data and then transform the training and test data, assign the transformed data to X_train_scaled and X_test_scaled respectively\n",
    "# you can use the fit_transform method to fit the scaler to the training data and then transform the training and test data\n",
    "# fit the scaler to the training data and then transform the training and test data, assign the transformed data to X_train_scaled and X_test_scaled respectively\n",
    "...\n",
    "# Train a Logistic Regression model\n",
    "# use the LogisticRegression class to train a model. and save the object to the variable clf which stands for classifier\n",
    "# set the max_iter to 1000, solver to 'lbfgs', and random_state to 42 for reproducibility and testing\n",
    "...\n",
    "# fit the model to the training data, use the fit method to fit the model to the training data - since this is an object we use the dot notation to call the fit method, and we do not need to assign the result to a variable\n",
    "...\n",
    "# Predict on the test set\n",
    "# use the predict method to predict the labels of the test data, assign the result to the variable y_pred\n",
    "...\n",
    "# Note, we are actually going to train an machine learning model. It might take a minute or two to train - on my computer it takes about 30 seconds."
   ]
  },
  {
   "cell_type": "code",
   "execution_count": null,
   "id": "aa032a8a",
   "metadata": {
    "tags": [
     "otter_answer_cell",
     "skip-execution"
    ]
   },
   "outputs": [],
   "source": [
    "# We have provided some code to plot and display a random image from the test set, and print the true and predicted labels.\n",
    "# Did this do a good job?\n",
    "\n",
    "# Choose a random test sample\n",
    "random_index = np.random.randint(0, len(X_test))\n",
    "random_image = X_test.iloc[random_index].values.reshape(28, 28)\n",
    "true_label = y_test.iloc[random_index]\n",
    "predicted_label = y_pred[random_index]\n",
    "\n",
    "# Plot the image with prediction and true label\n",
    "plt.figure(figsize=(4, 4))\n",
    "plt.imshow(random_image, cmap=\"gray\")\n",
    "plt.title(f\"True Label: {true_label}\\nPredicted: {predicted_label}\", fontsize=14)\n",
    "plt.axis(\"off\")\n",
    "plt.show()"
   ]
  },
  {
   "cell_type": "markdown",
   "id": "9d8cd0d2",
   "metadata": {},
   "source": [
    "## Submitting Assignment\n",
    "\n",
    "Please run the following block of code using `shift + enter` to submit your assignment, you should see your score."
   ]
  },
  {
   "cell_type": "code",
   "execution_count": null,
   "id": "6cd995a2",
   "metadata": {
    "deletable": false,
    "editable": true,
    "tags": [
     "skip-execution"
    ]
   },
   "outputs": [],
   "source": [
    "from pykubegrader.submit.submit_assignment import submit_assignment\n",
    "\n",
    "submit_assignment(\"week9-readings\", \"10_scikit_learn_q\")"
   ]
  }
 ],
 "metadata": {
  "kernelspec": {
   "display_name": "Python 3",
   "language": "python",
   "name": "python3"
  },
  "language_info": {
   "codemirror_mode": {
    "name": "ipython",
    "version": 3
   },
   "file_extension": ".py",
   "mimetype": "text/x-python",
   "name": "python",
   "nbconvert_exporter": "python",
   "pygments_lexer": "ipython3",
   "version": "3.12.9"
  },
  "otter": {
   "OK_FORMAT": true,
   "tests": {
    "mnist-classifier": {
     "name": "mnist-classifier",
     "points": null,
     "suites": [
      {
       "cases": [
        {
         "code": ">>> from pykubegrader.telemetry import ensure_responses, log_variable, score_question, submit_question, telemetry, update_responses\n>>> import os\n>>> import base64\n>>> import numpy as np\n>>> import matplotlib.pyplot as plt\n>>> from sklearn.datasets import fetch_openml\n>>> from sklearn.model_selection import train_test_split\n>>> from sklearn.linear_model import LogisticRegression\n>>> from sklearn.preprocessing import StandardScaler\n>>> from sklearn.metrics import accuracy_score\n>>> max_question_points = str(18.0)\n>>> earned_points = 0\n>>> os.environ['EARNED_POINTS'] = str(earned_points)\n>>> os.environ['TOTAL_POINTS_FREE_RESPONSE'] = str(18.0)\n>>> log_variable('total-points', f'week9-readings, 10_scikit_learn_q', 18.0)\n>>> question_id = 'mnist-classifier-1'\n>>> max_score = 2.0\n>>> score = 0\n>>> condition1 = hasattr(mnist, 'data') and hasattr(mnist, 'target')\n>>> condition2 = mnist is not None\n>>> assert condition1 and condition2, 'MNIST dataset does not have expected attributes'\n>>> if condition1 and condition2:\n...     score = 2.0\n>>> earned_points = float(os.environ.get('EARNED_POINTS', 0))\n>>> earned_points += score\n>>> log_variable('10_scikit_learn_q', f'{score}, {max_score}', question_id)\n>>> os.environ['EARNED_POINTS'] = str(earned_points)\n",
         "failure_message": "MNIST dataset failed to load.",
         "hidden": false,
         "locked": false,
         "points": 2,
         "success_message": "Success: MNIST dataset loaded successfully."
        },
        {
         "code": ">>> from pykubegrader.telemetry import ensure_responses, log_variable, score_question, submit_question, telemetry, update_responses\n>>> import os\n>>> import base64\n>>> import numpy as np\n>>> import matplotlib.pyplot as plt\n>>> from sklearn.datasets import fetch_openml\n>>> from sklearn.model_selection import train_test_split\n>>> from sklearn.linear_model import LogisticRegression\n>>> from sklearn.preprocessing import StandardScaler\n>>> from sklearn.metrics import accuracy_score\n>>> question_id = 'mnist-classifier-2'\n>>> max_score = 2.0\n>>> score = 0\n>>> X, y = (mnist.data, mnist.target)\n>>> condition1 = isinstance(X, np.ndarray) or hasattr(X, 'shape')\n>>> condition2 = isinstance(y, np.ndarray) or hasattr(y, 'shape')\n>>> assert condition1 and condition2, 'X and y are not valid numpy arrays or dataframes'\n>>> assert len(X) == len(y), 'Mismatch in data and target length'\n>>> if (condition1 and condition2) and len(X) == len(y):\n...     score = 2.0\n>>> earned_points = float(os.environ.get('EARNED_POINTS', 0))\n>>> earned_points += score\n>>> log_variable('10_scikit_learn_q', f'{score}, {max_score}', question_id)\n>>> os.environ['EARNED_POINTS'] = str(earned_points)\n",
         "failure_message": "Data and labels assignment failed.",
         "hidden": false,
         "locked": false,
         "points": 2,
         "success_message": "Success: Data and labels assigned correctly."
        },
        {
         "code": ">>> from pykubegrader.telemetry import ensure_responses, log_variable, score_question, submit_question, telemetry, update_responses\n>>> import os\n>>> import base64\n>>> import numpy as np\n>>> import matplotlib.pyplot as plt\n>>> from sklearn.datasets import fetch_openml\n>>> from sklearn.model_selection import train_test_split\n>>> from sklearn.linear_model import LogisticRegression\n>>> from sklearn.preprocessing import StandardScaler\n>>> from sklearn.metrics import accuracy_score\n>>> question_id = 'mnist-classifier-3'\n>>> max_score = 2.0\n>>> score = 0\n>>> X_train, X_test, y_train, y_test = train_test_split(X, y, test_size=0.2, random_state=42)\n>>> assert len(X_train) == 56000 and len(X_test) == 14000, 'Incorrect train-test split sizes'\n>>> assert len(y_train) == 56000 and len(y_test) == 14000, 'Mismatch in train-test target sizes'\n>>> if (len(X_train) == 56000 and len(X_test) == 14000) and (len(y_train) == 56000 and len(y_test) == 14000):\n...     score = 2.0\n>>> earned_points = float(os.environ.get('EARNED_POINTS', 0))\n>>> earned_points += score\n>>> log_variable('10_scikit_learn_q', f'{score}, {max_score}', question_id)\n>>> os.environ['EARNED_POINTS'] = str(earned_points)\n>>> responses = update_responses(question_id, str(len(X_train)))\n>>> responses = update_responses(question_id, str(len(X_test)))\n",
         "failure_message": "Train-test split failed.",
         "hidden": false,
         "locked": false,
         "points": 2,
         "success_message": "Success: Train-test split performed correctly."
        },
        {
         "code": ">>> from pykubegrader.telemetry import ensure_responses, log_variable, score_question, submit_question, telemetry, update_responses\n>>> import os\n>>> import base64\n>>> import numpy as np\n>>> import matplotlib.pyplot as plt\n>>> from sklearn.datasets import fetch_openml\n>>> from sklearn.model_selection import train_test_split\n>>> from sklearn.linear_model import LogisticRegression\n>>> from sklearn.preprocessing import StandardScaler\n>>> from sklearn.metrics import accuracy_score\n>>> question_id = 'mnist-classifier-4'\n>>> max_score = 2.0\n>>> score = 0\n>>> scaler = StandardScaler()\n>>> X_train_scaled = scaler.fit_transform(X_train)\n>>> X_test_scaled = scaler.transform(X_test)\n>>> assert np.isclose(np.mean(X_train_scaled), 0, atol=0.1), 'Training data is not standardized correctly'\n>>> assert np.isclose(np.std(X_train_scaled), 1, atol=0.1), 'Training data scaling is incorrect'\n>>> assert np.isclose(np.mean(X_test_scaled), 0, atol=0.1), 'Test data is not standardized correctly'\n>>> if np.isclose(np.mean(X_train_scaled), 0, atol=0.1) and np.isclose(np.std(X_train_scaled), 1, atol=0.1) and np.isclose(np.mean(X_test_scaled), 0, atol=0.1):\n...     score = 2.0\n>>> earned_points = float(os.environ.get('EARNED_POINTS', 0))\n>>> earned_points += score\n>>> log_variable('10_scikit_learn_q', f'{score}, {max_score}', question_id)\n>>> os.environ['EARNED_POINTS'] = str(earned_points)\n>>> responses = update_responses(question_id, str(np.mean(X_train_scaled)))\n>>> responses = update_responses(question_id, str(np.std(X_train_scaled)))\n",
         "failure_message": "StandardScaler transformation failed.",
         "hidden": false,
         "locked": false,
         "points": 2,
         "success_message": "Success: StandardScaler initialized and transformed correctly."
        },
        {
         "code": ">>> from pykubegrader.telemetry import ensure_responses, log_variable, score_question, submit_question, telemetry, update_responses\n>>> import os\n>>> import base64\n>>> import numpy as np\n>>> import matplotlib.pyplot as plt\n>>> from sklearn.datasets import fetch_openml\n>>> from sklearn.model_selection import train_test_split\n>>> from sklearn.linear_model import LogisticRegression\n>>> from sklearn.preprocessing import StandardScaler\n>>> from sklearn.metrics import accuracy_score\n>>> question_id = 'mnist-classifier-5'\n>>> max_score = 2.0\n>>> score = 0\n>>> clf = LogisticRegression(max_iter=1000, solver='lbfgs', random_state=42)\n>>> out = clf.fit(X_train_scaled, y_train)\n>>> condition1 = hasattr(clf, 'coef_')\n>>> assert condition1, 'Model coefficients are missing, model may not have been trained properly'\n>>> if condition1:\n...     score = 2.0\n>>> earned_points = float(os.environ.get('EARNED_POINTS', 0))\n>>> earned_points += score\n>>> log_variable('10_scikit_learn_q', f'{score}, {max_score}', question_id)\n>>> os.environ['EARNED_POINTS'] = str(earned_points)\n",
         "failure_message": "LogisticRegression model training failed.",
         "hidden": false,
         "locked": false,
         "points": 2,
         "success_message": "Success: LogisticRegression model trained successfully."
        },
        {
         "code": ">>> from pykubegrader.telemetry import ensure_responses, log_variable, score_question, submit_question, telemetry, update_responses\n>>> import os\n>>> import base64\n>>> import numpy as np\n>>> import matplotlib.pyplot as plt\n>>> from sklearn.datasets import fetch_openml\n>>> from sklearn.model_selection import train_test_split\n>>> from sklearn.linear_model import LogisticRegression\n>>> from sklearn.preprocessing import StandardScaler\n>>> from sklearn.metrics import accuracy_score\n>>> question_id = 'mnist-classifier-6'\n>>> max_score = 2.0\n>>> score = 0\n>>> y_pred = clf.predict(X_test_scaled)\n>>> assert len(y_pred) == len(y_test), 'Mismatch in predicted and actual test labels'\n>>> if len(y_pred) == len(y_test):\n...     score = 2.0\n>>> earned_points = float(os.environ.get('EARNED_POINTS', 0))\n>>> earned_points += score\n>>> log_variable('10_scikit_learn_q', f'{score}, {max_score}', question_id)\n>>> os.environ['EARNED_POINTS'] = str(earned_points)\n>>> responses = update_responses(question_id, str(len(y_pred)))\n",
         "failure_message": "Prediction generation failed.",
         "hidden": false,
         "locked": false,
         "points": 2,
         "success_message": "Success: Predictions generated successfully."
        },
        {
         "code": ">>> from pykubegrader.telemetry import ensure_responses, log_variable, score_question, submit_question, telemetry, update_responses\n>>> import os\n>>> import base64\n>>> import numpy as np\n>>> import matplotlib.pyplot as plt\n>>> from sklearn.datasets import fetch_openml\n>>> from sklearn.model_selection import train_test_split\n>>> from sklearn.linear_model import LogisticRegression\n>>> from sklearn.preprocessing import StandardScaler\n>>> from sklearn.metrics import accuracy_score\n>>> question_id = 'mnist-classifier-7'\n>>> max_score = 6.0\n>>> score = 0\n>>> accuracy = accuracy_score(y_test, y_pred)\n>>> assert accuracy > 0.85, f'Model accuracy too low: {accuracy:.2f}'\n>>> if accuracy > 0.85:\n...     score = 6.0\n>>> earned_points = float(os.environ.get('EARNED_POINTS', 0))\n>>> earned_points += score\n>>> log_variable('10_scikit_learn_q', f'{score}, {max_score}', question_id)\n>>> os.environ['EARNED_POINTS'] = str(earned_points)\n",
         "failure_message": "Model accuracy too low.",
         "hidden": false,
         "locked": false,
         "points": 6,
         "success_message": "Success: Model accuracy is sufficient."
        }
       ],
       "scored": true,
       "setup": "",
       "teardown": "",
       "type": "doctest"
      }
     ]
    }
   }
  }
 },
 "nbformat": 4,
 "nbformat_minor": 5
}