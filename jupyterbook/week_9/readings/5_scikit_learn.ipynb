{
  "cells": [
    {
      "cell_type": "markdown",
      "id": "d4958a84",
      "metadata": {},
      "source": [
        "# 🤖 Welcome to the World of Machine Learning with Scikit-learn! 🎉\n",
        "\n",
        "Imagine if your computer could learn how to recognize cats in photos, predict tomorrow's weather, or even recommend your next favorite song—all on its own! Sounds magical, right? ✨ Well, that's what Machine Learning (ML) is all about!\n"
      ]
    },
    {
      "cell_type": "markdown",
      "id": "2948fd37",
      "metadata": {},
      "source": [
        "## 🌟 What is Machine Learning?\n",
        "\n",
        "Machine Learning is like teaching a computer how to learn from experience, just like how humans learn! Instead of giving the computer strict instructions, we show it lots of examples, and it figures out the patterns by itself.\n"
      ]
    },
    {
      "cell_type": "markdown",
      "id": "2333f85e",
      "metadata": {},
      "source": [
        "### 🎓 In Simple Words:\n",
        "Machine Learning = Learning from Experience (Data) + Making Predictions or Decisions\n",
        "\n",
        "Think of it as training a puppy 🐾:\n",
        "- You show the puppy a treat 🍪 every time it sits on command.\n",
        "- The puppy learns the pattern: \"If I sit, I get a treat!\"\n",
        "- Next time, it sits without hesitation, hoping for another snack! 🎉\n",
        "\n",
        "Similarly, we train machines by feeding them lots of data, and they learn to recognize patterns to make decisions or predictions.\n"
      ]
    },
    {
      "cell_type": "markdown",
      "id": "2f77752b",
      "metadata": {},
      "source": [
        "## 🤔 Why is Machine Learning Important?\n",
        "ML is everywhere! Here are some fun examples:\n",
        "- 🎵 Music Recommendations: Spotify or Apple Music suggesting songs you’ll love.\n",
        "- 📸 Image Recognition: Instagram recognizing your friends in photos.\n",
        "- 🛒 Online Shopping: Amazon recommending products based on your previous purchases.\n",
        "- 🦺 Self-driving Cars: Learning how to navigate roads safely.\n",
        "- ChatGPT: Learning how to generate text that sounds like it's written by a human (or code which you likely have used in this course)\n"
      ]
    },
    {
      "cell_type": "markdown",
      "id": "69a7007f",
      "metadata": {},
      "source": [
        "## 🛠️ Meet Scikit-learn: Your ML Toolkit!\n",
        "\n",
        "Scikit-learn (also written as `sklearn`) is like a magic toolbox 🔧 that has all the tools you need to create machine learning models!\n",
        "- It’s open-source (free for everyone!)\n",
        "- Built on Python (the most-loved programming language for ML) 🐍\n",
        "- Easy to use, even if you’re just getting started!\n"
      ]
    },
    {
      "cell_type": "markdown",
      "id": "ac2a2106",
      "metadata": {},
      "source": [
        "### 🎁 What’s Inside the Toolbox?"
      ]
    },
    {
      "cell_type": "markdown",
      "id": "12d2d8be",
      "metadata": {},
      "source": [
        "1. Supervised Learning 📚: The machine learns from labeled data (like a student learning from a textbook).\n",
        "    - Examples:\n",
        "        - Predicting house prices 🏠\n",
        "        - Classifying emails as spam or not spam 📧\n"
      ]
    },
    {
      "cell_type": "markdown",
      "id": "de07c080",
      "metadata": {},
      "source": [
        "2. Unsupervised Learning 🔍: The machine explores the data and finds patterns on its own (like a detective solving a mystery).\n",
        "    - Examples:\n",
        "        - Grouping customers with similar buying habits 🛒\n",
        "        - Organizing news articles by topic 📰\n"
      ]
    },
    {
      "cell_type": "markdown",
      "id": "9a7db3a6",
      "metadata": {},
      "source": [
        "3. Model Evaluation & Selection \n",
        "        - 🏆: Helps you pick the best model for your problem by testing and comparing different ones.\n"
      ]
    },
    {
      "cell_type": "markdown",
      "id": "b947797a",
      "metadata": {},
      "source": [
        "## 🚗 Example: Predicting Car Prices\n",
        "\n",
        "We'll use the Automobile Dataset from the UCI Machine Learning Repository, which is also available through a URL. The dataset contains information on car features like horsepower, engine size, weight, and price.\n"
      ]
    },
    {
      "cell_type": "markdown",
      "id": "53d70c7f",
      "metadata": {},
      "source": [
        "### 📊 Step 1: Load the Dataset\n",
        "We'll load the dataset directly from a URL using Pandas.\n"
      ]
    },
    {
      "cell_type": "code",
      "execution_count": 4,
      "id": "7f0d6f40",
      "metadata": {},
      "outputs": [
        {
          "name": "stdout",
          "output_type": "stream",
          "text": [
            "   symboling normalized_losses         make fuel_type aspiration num_doors  \\\n",
            "0          3                 ?  alfa-romero       gas        std       two   \n",
            "1          3                 ?  alfa-romero       gas        std       two   \n",
            "2          1                 ?  alfa-romero       gas        std       two   \n",
            "3          2               164         audi       gas        std      four   \n",
            "4          2               164         audi       gas        std      four   \n",
            "\n",
            "    body_style drive_wheels engine_location  wheel_base  ...  engine_size  \\\n",
            "0  convertible          rwd           front        88.6  ...          130   \n",
            "1  convertible          rwd           front        88.6  ...          130   \n",
            "2    hatchback          rwd           front        94.5  ...          152   \n",
            "3        sedan          fwd           front        99.8  ...          109   \n",
            "4        sedan          4wd           front        99.4  ...          136   \n",
            "\n",
            "   fuel_system  bore  stroke compression_ratio horsepower  peak_rpm city_mpg  \\\n",
            "0         mpfi  3.47    2.68               9.0        111      5000       21   \n",
            "1         mpfi  3.47    2.68               9.0        111      5000       21   \n",
            "2         mpfi  2.68    3.47               9.0        154      5000       19   \n",
            "3         mpfi  3.19    3.40              10.0        102      5500       24   \n",
            "4         mpfi  3.19    3.40               8.0        115      5500       18   \n",
            "\n",
            "  highway_mpg  price  \n",
            "0          27  13495  \n",
            "1          27  16500  \n",
            "2          26  16500  \n",
            "3          30  13950  \n",
            "4          22  17450  \n",
            "\n",
            "[5 rows x 26 columns]\n"
          ]
        }
      ],
      "source": [
        "# Import necessary libraries\n",
        "import pandas as pd\n",
        "import numpy as np\n",
        "from sklearn.model_selection import train_test_split\n",
        "from sklearn.linear_model import LinearRegression\n",
        "from sklearn.metrics import mean_squared_error, r2_score\n",
        "\n",
        "# Load dataset from UCI repository\n",
        "data_url = (\n",
        "    \"https://archive.ics.uci.edu/ml/machine-learning-databases/autos/imports-85.data\"\n",
        ")\n",
        "column_names = [\n",
        "    \"symboling\",\n",
        "    \"normalized_losses\",\n",
        "    \"make\",\n",
        "    \"fuel_type\",\n",
        "    \"aspiration\",\n",
        "    \"num_doors\",\n",
        "    \"body_style\",\n",
        "    \"drive_wheels\",\n",
        "    \"engine_location\",\n",
        "    \"wheel_base\",\n",
        "    \"length\",\n",
        "    \"width\",\n",
        "    \"height\",\n",
        "    \"curb_weight\",\n",
        "    \"engine_type\",\n",
        "    \"num_cylinders\",\n",
        "    \"engine_size\",\n",
        "    \"fuel_system\",\n",
        "    \"bore\",\n",
        "    \"stroke\",\n",
        "    \"compression_ratio\",\n",
        "    \"horsepower\",\n",
        "    \"peak_rpm\",\n",
        "    \"city_mpg\",\n",
        "    \"highway_mpg\",\n",
        "    \"price\",\n",
        "]\n",
        "\n",
        "# Load the dataset\n",
        "df = pd.read_csv(data_url, names=column_names)\n",
        "\n",
        "# Display the first few rows of the dataset\n",
        "print(df.head())"
      ]
    },
    {
      "cell_type": "markdown",
      "id": "1b0c97b6",
      "metadata": {},
      "source": [
        "### 🔧 Step 3: Data Preprocessing\n",
        "- Convert missing values (`?`) to NaN and then drop them for simplicity.\n",
        "- Convert relevant columns to numeric data types.\n"
      ]
    },
    {
      "cell_type": "code",
      "execution_count": 5,
      "id": "ab8cd326",
      "metadata": {},
      "outputs": [],
      "source": [
        "# Replace '?' with NaN and drop rows with missing values\n",
        "df.replace(\"?\", np.nan, inplace=True)\n",
        "df.dropna(inplace=True)\n",
        "\n",
        "# Convert relevant columns to numeric data types\n",
        "df[\"price\"] = pd.to_numeric(df[\"price\"])\n",
        "df[\"horsepower\"] = pd.to_numeric(df[\"horsepower\"])\n",
        "df[\"engine_size\"] = pd.to_numeric(df[\"engine_size\"])\n",
        "df[\"curb_weight\"] = pd.to_numeric(df[\"curb_weight\"])\n",
        "df[\"highway_mpg\"] = pd.to_numeric(df[\"highway_mpg\"])\n",
        "\n",
        "# Choose features and target variable\n",
        "X = df[[\"horsepower\", \"engine_size\", \"curb_weight\", \"highway_mpg\"]]\n",
        "y = df[\"price\"]"
      ]
    },
    {
      "cell_type": "markdown",
      "id": "35b8fc6f",
      "metadata": {},
      "source": [
        "### 🔄 Step 4: Split Data into Training and Testing Sets\n"
      ]
    },
    {
      "cell_type": "code",
      "execution_count": 6,
      "id": "f54fb24f",
      "metadata": {},
      "outputs": [],
      "source": [
        "# Split data into training and testing sets\n",
        "X_train, X_test, y_train, y_test = train_test_split(\n",
        "    X, y, test_size=0.2, random_state=42\n",
        ")"
      ]
    },
    {
      "cell_type": "markdown",
      "id": "10daca19",
      "metadata": {},
      "source": [
        "### ⚙️ Step 5: Train the Model\n",
        "We'll use Linear Regression from Scikit-learn to train the model.\n"
      ]
    },
    {
      "cell_type": "code",
      "execution_count": 7,
      "id": "e78601b7",
      "metadata": {},
      "outputs": [
        {
          "name": "stdout",
          "output_type": "stream",
          "text": [
            "Predicted Car Prices: [18899.66601909 17249.56177096 13809.79414382 10948.22842835\n",
            " 13873.56362342 10230.61132624  9175.39186654  6275.61360388\n",
            "  8338.45295561  8934.12708317  3624.59104788  6686.72349821\n",
            "  6041.30535528  6792.17064464  6433.49006725 11048.94263004\n",
            " 13728.52798586  8771.07420939 14489.6550427   6041.30535528\n",
            " 17198.0765038  16482.11715294  5206.48027809  5024.15027934\n",
            "  9682.3993741   9032.86604074 14201.52957358 11243.74173001\n",
            "  8780.87995517 16634.51252543 11301.69305671 20384.28190924]\n"
          ]
        }
      ],
      "source": [
        "# Choose a model\n",
        "model = LinearRegression()\n",
        "\n",
        "# Train the model\n",
        "model.fit(X_train, y_train)\n",
        "\n",
        "# Make predictions\n",
        "predictions = model.predict(X_test)\n",
        "\n",
        "print(\"Predicted Car Prices:\", predictions)"
      ]
    },
    {
      "cell_type": "markdown",
      "id": "155f247f",
      "metadata": {},
      "source": [
        "### 📊 Step 6: Evaluate the Model\n",
        "Let's evaluate the model using Mean Squared Error (MSE) and R² Score.\n"
      ]
    },
    {
      "cell_type": "code",
      "execution_count": 8,
      "id": "03d186ce",
      "metadata": {},
      "outputs": [
        {
          "name": "stdout",
          "output_type": "stream",
          "text": [
            "Mean Squared Error: 5742577.12\n",
            "R² Score: 0.68\n"
          ]
        }
      ],
      "source": [
        "# Evaluate the model\n",
        "mse = mean_squared_error(y_test, predictions)\n",
        "r2 = r2_score(y_test, predictions)\n",
        "\n",
        "print(f\"Mean Squared Error: {mse:.2f}\")\n",
        "print(f\"R² Score: {r2:.2f}\")"
      ]
    },
    {
      "cell_type": "markdown",
      "id": "5c59e35e",
      "metadata": {},
      "source": [
        "## 🎉 Why Scikit-learn is Awesome!\n",
        "- User-friendly: Intuitive and easy-to-understand syntax\n",
        "- Comprehensive: It has all the basic algorithms and tools you’ll need\n",
        "- Community Support: Tons of tutorials, forums, and community help available\n"
      ]
    },
    {
      "cell_type": "markdown",
      "id": "fc112b69",
      "metadata": {},
      "source": [
        "## 🎈 Ready to Play?\n",
        "\n",
        "With Scikit-learn, the possibilities are endless! You can:\n",
        "- Predict movie ratings 🍿\n",
        "- Classify images of cute puppies and kittens 🐕🐈\n",
        "- Build your own digital assistant 🤖\n",
        "\n",
        "So, what are you waiting for? Grab your laptop, open your Python editor, and let’s start your ML adventure with Scikit-learn! 🚀🎉\n"
      ]
    },
    {
      "cell_type": "markdown",
      "id": "6a17c1d4",
      "metadata": {},
      "source": [
        "## 🌐 Where to Learn More?\n",
        "- [Scikit-learn Documentation](https://scikit-learn.org/stable/index.html)\n",
        "- [Machine Learning Crash Course by Google](https://developers.google.com/machine-learning/crash-course)\n",
        "- [Kaggle](https://www.kaggle.com) for hands-on ML competitions and datasets"
      ]
    }
  ],
  "metadata": {
    "kernelspec": {
      "display_name": "Python 3",
      "language": "python",
      "name": "python3"
    },
    "language_info": {
      "codemirror_mode": {
        "name": "ipython",
        "version": 3
      },
      "file_extension": ".py",
      "mimetype": "text/x-python",
      "name": "python",
      "nbconvert_exporter": "python",
      "pygments_lexer": "ipython3",
      "version": "3.12.7"
    }
  },
  "nbformat": 4,
  "nbformat_minor": 5
}