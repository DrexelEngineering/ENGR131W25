{
  "cells": [
    {
      "cell_type": "code",
      "execution_count": null,
      "id": "9b53d87e",
      "metadata": {
        "tags": [
          "skip-execution"
        ]
      },
      "outputs": [],
      "source": [
        "from pykubegrader.tokens.validate_token import validate_token\n",
        "validate_token('type the key provided by your instructor here', assignment = 'week9-attend')\n"
      ]
    },
    {
      "cell_type": "code",
      "execution_count": null,
      "id": "ca4f7a62",
      "metadata": {
        "deletable": false,
        "editable": false,
        "tags": [
          "skip-execution"
        ]
      },
      "outputs": [],
      "source": [
        "validate_token(assignment = 'week9-attend')\n",
        "\n",
        "# You must make sure to run all cells in sequence using shift + enter or you might encounter errors\n",
        "from pykubegrader.initialize import initialize_assignment\n",
        "\n",
        "responses = initialize_assignment(\"1_attendance\", \"week_9\", \"attend\", assignment_points = 1.0, assignment_tag = 'week9-attend')\n",
        "\n",
        "# Initialize Otter\n",
        "import otter\n",
        "grader = otter.Notebook(\"1_attendance.ipynb\")"
      ]
    },
    {
      "cell_type": "markdown",
      "id": "2",
      "metadata": {
        "deletable": false,
        "editable": false
      },
      "source": [
        "# \ud83d\uddd3\ufe0f\ud83d\udcda Week 9: Attendance \u2705\n",
        "\n",
        "To get credit for attendance make sure you run all blocks of code. "
      ]
    },
    {
      "cell_type": "code",
      "execution_count": null,
      "id": "4",
      "metadata": {
        "tags": [
          "otter_answer_cell",
          "skip-execution"
        ]
      },
      "outputs": [],
      "source": [
        "I_attended_lab = True"
      ]
    },
    {
      "cell_type": "code",
      "execution_count": null,
      "id": "53296fc7",
      "metadata": {
        "deletable": false,
        "editable": false,
        "tags": [
          "skip-execution"
        ]
      },
      "outputs": [],
      "source": [
        "grader.check(\"week-9-lab-attendance\")"
      ]
    },
    {
      "cell_type": "markdown",
      "id": "10",
      "metadata": {
        "deletable": false,
        "editable": false
      },
      "source": [
        "## \ud83c\udf89 Well Done!\n",
        "\n",
        "Keep up the good work."
      ]
    },
    {
      "cell_type": "markdown",
      "id": "9fc6b6a6",
      "metadata": {},
      "source": [
        "## Submitting Assignment\n",
        "\n",
        "Please run the following block of code using `shift + enter` to submit your assignment, you should see your score."
      ]
    },
    {
      "cell_type": "code",
      "execution_count": null,
      "id": "bfcc24f3",
      "metadata": {
        "deletable": false,
        "editable": true,
        "tags": [
          "skip-execution"
        ]
      },
      "outputs": [],
      "source": [
        "from pykubegrader.tokens.validate_token import validate_token\n",
        "validate_token(assignment = 'week9-attend')\n",
        "\n",
        "\n",
        "from pykubegrader.submit.submit_assignment import submit_assignment\n",
        "\n",
        "submit_assignment(\"week9-attend\", \"1_attendance\")"
      ]
    }
  ],
  "metadata": {
    "kernelspec": {
      "display_name": "engr131_dev",
      "language": "python",
      "name": "python3"
    },
    "language_info": {
      "codemirror_mode": {
        "name": "ipython",
        "version": 3
      },
      "file_extension": ".py",
      "mimetype": "text/x-python",
      "name": "python",
      "nbconvert_exporter": "python",
      "pygments_lexer": "ipython3",
      "version": "3.12.7"
    },
    "otter": {
      "OK_FORMAT": true,
      "tests": {
        "week-9-lab-attendance": {
          "name": "week-9-lab-attendance",
          "points": null,
          "suites": [
            {
              "cases": [
                {
                  "code": ">>> from pykubegrader.telemetry import ensure_responses, log_variable, score_question, submit_question, telemetry, update_responses\n>>> import os\n>>> import base64\n>>> from pykubegrader.tokens.validate_token import validate_token\n>>> validate_token(assignment='week9-attend')\n>>> max_question_points = str(1.0)\n>>> earned_points = 0\n>>> os.environ['EARNED_POINTS'] = str(earned_points)\n>>> os.environ['TOTAL_POINTS_FREE_RESPONSE'] = str(1.0)\n>>> from pykubegrader.tokens.validate_token import validate_token\n>>> validate_token(assignment='week9-attend')\n>>> log_variable('total-points', f'week9-attend, 1_attendance', 1.0)\n>>> question_id = 'week-9-lab-attendance-1'\n>>> max_score = 1.0\n>>> score = 0\n>>> assert I_attended_lab, 'You must attend the lab to get credit for this assignment.'\n>>> if I_attended_lab:\n...     score = 1.0\n>>> earned_points = float(os.environ.get('EARNED_POINTS', 0))\n>>> earned_points += score\n>>> log_variable('1_attendance', f'{score}, {max_score}', question_id)\n>>> os.environ['EARNED_POINTS'] = str(earned_points)\n",
                  "failure_message": "Output does not include 'Each friend gets'.",
                  "hidden": false,
                  "locked": false,
                  "points": 1,
                  "success_message": "Correctly included the phrase 'Each friend gets'."
                }
              ],
              "scored": true,
              "setup": "",
              "teardown": "",
              "type": "doctest"
            }
          ]
        }
      }
    }
  },
  "nbformat": 4,
  "nbformat_minor": 5
}