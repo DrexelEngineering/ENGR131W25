{
 "cells": [
  {
   "cell_type": "code",
   "execution_count": null,
   "metadata": {
    "deletable": false,
    "editable": false,
    "tags": [
     "skip-execution"
    ]
   },
   "outputs": [],
   "source": [
    "from pykubegrader.initialize import initialize_assignment\n",
    "\n",
    "responses = initialize_assignment(\"15_variables_q\", \"week_1\", \"readings\", assignment_points = 18.0, assignment_tag = 'week1-readings')\n",
    "\n",
    "# Initialize Otter\n",
    "import otter\n",
    "grader = otter.Notebook(\"15_variables_q.ipynb\")"
   ]
  },
  {
   "cell_type": "markdown",
   "metadata": {
    "deletable": false,
    "editable": false
   },
   "source": [
    "# ❓ Variables\n",
    "\n",
    "![](./assets/figures/dining.webp)"
   ]
  },
  {
   "cell_type": "code",
   "execution_count": null,
   "metadata": {
    "tags": [
     "skip-execution"
    ]
   },
   "outputs": [],
   "source": [
    "# Run this block of code by pressing Shift + Enter to display the question\n",
    "from questions._15_variables_q import Question1\n",
    "Question1().show()\n"
   ]
  },
  {
   "cell_type": "code",
   "execution_count": null,
   "metadata": {
    "tags": [
     "skip-execution"
    ]
   },
   "outputs": [],
   "source": [
    "# Run this block of code by pressing Shift + Enter to display the question\n",
    "from questions._15_variables_q import Question3\n",
    "Question3().show()\n"
   ]
  },
  {
   "cell_type": "code",
   "execution_count": null,
   "metadata": {
    "tags": [
     "skip-execution"
    ]
   },
   "outputs": [],
   "source": [
    "# Run this block of code by pressing Shift + Enter to display the question\n",
    "from questions._15_variables_q import Question3\n",
    "Question3().show()\n"
   ]
  },
  {
   "cell_type": "markdown",
   "metadata": {
    "deletable": false,
    "editable": false
   },
   "source": [
    "# Mario’s Dining Center Routine 🍽️🐉\n",
    "\n",
    "## Instructions:\n",
    "\n",
    "1. Create the following variables:\n",
    "\n",
    "   - `dining_center`: A string storing the name of the dining center (\"Handschumacher Dining Center\").\n",
    "   - `mascot`: A string storing the name of the mascot (\"Mario the Dragon\").\n",
    "   - `meals_per_day`: An integer representing the number of meals Mario eats per day (3).\n",
    "   - `total_days`: An integer representing the number of days Mario eats at the dining center in a week (7).\n",
    "   - `total_meals`: Use an arithmetic operator to calculate the total number of meals Mario eats in a week.\n",
    "   - `dragons`: An integer representing the number of dragons Mario wants to share his meals with (6).\n",
    "   - `meals_per_dragon`: Use a floor division operator (`//`) to determine how many meals each dragon gets if Mario shares equally.\n",
    "   - `leftover_meals`: Use a modulus operator (`%`) to calculate how many meals are left after sharing.\n",
    "\n",
    "2. Print a descriptive message that incorporates all the above variables, formatted like this:\n",
    "\n",
    "   ```\n",
    "   Mario the Dragon eats 3 meals per day at the Handschumacher Dining Center for 7 days a week, totaling 21 meals.\n",
    "   When sharing with 6 dragons, each dragon gets 3 meals, with 3 meals left over.\n",
    "   ```\n",
    "\n",
    "   we provide the code to do this for you.\n"
   ]
  },
  {
   "cell_type": "code",
   "execution_count": null,
   "metadata": {
    "tags": [
     "skip-execution"
    ]
   },
   "outputs": [],
   "source": [
    "def mario_dining_center():\n",
    "\n",
    "    # Define the variables\n",
    "    ...\n",
    "\n",
    "    return (\n",
    "        dining_center,\n",
    "        mascot,\n",
    "        meals_per_day,\n",
    "        total_days,\n",
    "        total_meals,\n",
    "        dragons,\n",
    "        meals_per_dragon,\n",
    "        leftover_meals,\n",
    "    )\n",
    "\n",
    "\n",
    "(\n",
    "    dining_center,\n",
    "    mascot,\n",
    "    meals_per_day,\n",
    "    total_days,\n",
    "    total_meals,\n",
    "    dragons,\n",
    "    meals_per_dragon,\n",
    "    leftover_meals,\n",
    ") = mario_dining_center()\n",
    "\n",
    "# Do not modify the code below this line\n",
    "# Print the descriptive message\n",
    "print(\n",
    "    f\"{mascot} eats {meals_per_day} meals per day at the {dining_center} for {total_days} days a week, totaling {total_meals} meals.\"\n",
    ")\n",
    "print(\n",
    "    f\"When sharing with {dragons} dragons, each dragon gets {meals_per_dragon} meals, with {leftover_meals} meals left over.\"\n",
    ")"
   ]
  },
  {
   "cell_type": "markdown",
   "metadata": {
    "deletable": false,
    "editable": false
   },
   "source": [
    " "
   ]
  }
 ],
 "metadata": {
  "kernelspec": {
   "display_name": "engr131_dev",
   "language": "python",
   "name": "python3"
  },
  "language_info": {
   "codemirror_mode": {
    "name": "ipython",
    "version": 3
   },
   "file_extension": ".py",
   "mimetype": "text/x-python",
   "name": "python",
   "nbconvert_exporter": "python",
   "pygments_lexer": "ipython3",
   "version": "3.12.7"
  },
  "otter": {
   "OK_FORMAT": true,
   "tests": {
    "question-Mario-Dining-room": {
     "name": "question-Mario-Dining-room",
     "points": null,
     "suites": [
      {
       "cases": [
        {
         "code": ">>> from pykubegrader.telemetry import ensure_responses, log_variable, score_question, submit_question, telemetry, update_responses\n>>> import os\n>>> max_question_points = str(5.0)\n>>> earned_points = 0\n>>> os.environ['EARNED_POINTS'] = str(earned_points)\n>>> os.environ['TOTAL_POINTS_FREE_RESPONSE'] = str(5.0)\n>>> log_variable('total-points', f'Reading-Week-X, 15_variables_q', 5.0)\n>>> question_id = 'question-Mario-Dining-room-1'\n>>> max_score = 1.0\n>>> score = 0\n>>> dining_center, _, _, _, _, _, _, _ = mario_dining_center()\n>>> assert dining_center == 'Handschumacher Dining Center', 'Variable `dining_center` is incorrect.'\n>>> if dining_center == 'Handschumacher Dining Center':\n...     score = 1.0\n>>> earned_points = float(os.environ.get('EARNED_POINTS', 0))\n>>> earned_points += score\n>>> log_variable('15_variables_q', f'{score}, {max_score}', question_id)\n>>> os.environ['EARNED_POINTS'] = str(earned_points)\n",
         "failure_message": "The `dining_center` variable is incorrect.",
         "hidden": false,
         "locked": false,
         "points": 1,
         "success_message": "Correctly assigned the `dining_center` variable."
        },
        {
         "code": ">>> from pykubegrader.telemetry import ensure_responses, log_variable, score_question, submit_question, telemetry, update_responses\n>>> import os\n>>> question_id = 'question-Mario-Dining-room-2'\n>>> max_score = 1.0\n>>> score = 0\n>>> _, mascot, _, _, _, _, _, _ = mario_dining_center()\n>>> assert mascot == 'Mario the Dragon', 'Variable `mascot` is incorrect.'\n>>> if mascot == 'Mario the Dragon':\n...     score = 1.0\n>>> earned_points = float(os.environ.get('EARNED_POINTS', 0))\n>>> earned_points += score\n>>> log_variable('15_variables_q', f'{score}, {max_score}', question_id)\n>>> os.environ['EARNED_POINTS'] = str(earned_points)\n",
         "failure_message": "The `mascot` variable is incorrect.",
         "hidden": false,
         "locked": false,
         "points": 1,
         "success_message": "Correctly assigned the `mascot` variable."
        },
        {
         "code": ">>> from pykubegrader.telemetry import ensure_responses, log_variable, score_question, submit_question, telemetry, update_responses\n>>> import os\n>>> question_id = 'question-Mario-Dining-room-3'\n>>> max_score = 1.0\n>>> score = 0\n>>> _, _, meals_per_day, total_days, total_meals, _, _, _ = mario_dining_center()\n>>> assert total_meals == meals_per_day * total_days, 'Variable `total_meals` is incorrect.'\n>>> if total_meals == meals_per_day * total_days:\n...     score = 1.0\n>>> earned_points = float(os.environ.get('EARNED_POINTS', 0))\n>>> earned_points += score\n>>> log_variable('15_variables_q', f'{score}, {max_score}', question_id)\n>>> os.environ['EARNED_POINTS'] = str(earned_points)\n",
         "failure_message": "The `total_meals` variable is incorrect.",
         "hidden": false,
         "locked": false,
         "points": 1,
         "success_message": "Correctly calculated the `total_meals` variable."
        },
        {
         "code": ">>> from pykubegrader.telemetry import ensure_responses, log_variable, score_question, submit_question, telemetry, update_responses\n>>> import os\n>>> question_id = 'question-Mario-Dining-room-4'\n>>> max_score = 1.0\n>>> score = 0\n>>> _, _, _, _, total_meals, dragons, meals_per_dragon, _ = mario_dining_center()\n>>> assert meals_per_dragon == total_meals // dragons, 'Variable `meals_per_dragon` is incorrect.'\n>>> if meals_per_dragon == total_meals // dragons:\n...     score = 1.0\n>>> earned_points = float(os.environ.get('EARNED_POINTS', 0))\n>>> earned_points += score\n>>> log_variable('15_variables_q', f'{score}, {max_score}', question_id)\n>>> os.environ['EARNED_POINTS'] = str(earned_points)\n",
         "failure_message": "The `meals_per_dragon` variable is incorrect.",
         "hidden": false,
         "locked": false,
         "points": 1,
         "success_message": "Correctly calculated the `meals_per_dragon` variable."
        },
        {
         "code": ">>> from pykubegrader.telemetry import ensure_responses, log_variable, score_question, submit_question, telemetry, update_responses\n>>> import os\n>>> question_id = 'question-Mario-Dining-room-5'\n>>> max_score = 1.0\n>>> score = 0\n>>> _, _, _, _, total_meals, dragons, _, leftover_meals = mario_dining_center()\n>>> assert leftover_meals == total_meals % dragons, 'Variable `leftover_meals` is incorrect.'\n>>> if leftover_meals == total_meals % dragons:\n...     score = 1.0\n>>> earned_points = float(os.environ.get('EARNED_POINTS', 0))\n>>> earned_points += score\n>>> log_variable('15_variables_q', f'{score}, {max_score}', question_id)\n>>> os.environ['EARNED_POINTS'] = str(earned_points)\n",
         "failure_message": "The `leftover_meals` variable is incorrect.",
         "hidden": false,
         "locked": false,
         "points": 1,
         "success_message": "Correctly calculated the `leftover_meals` variable."
        }
       ],
       "scored": true,
       "setup": "",
       "teardown": "",
       "type": "doctest"
      }
     ]
    }
   }
  }
 },
 "nbformat": 4,
 "nbformat_minor": 2
}
